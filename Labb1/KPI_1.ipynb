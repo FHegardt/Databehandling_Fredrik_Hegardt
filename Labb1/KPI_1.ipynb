{
 "cells": [
  {
   "cell_type": "markdown",
   "metadata": {},
   "source": [
    "## KPI 1 - Top10 högsta vs lägsta andelen vaccinerade kommuner"
   ]
  },
  {
   "cell_type": "code",
   "execution_count": 3,
   "metadata": {},
   "outputs": [
    {
     "data": {
      "text/html": [
       "<div>\n",
       "<style scoped>\n",
       "    .dataframe tbody tr th:only-of-type {\n",
       "        vertical-align: middle;\n",
       "    }\n",
       "\n",
       "    .dataframe tbody tr th {\n",
       "        vertical-align: top;\n",
       "    }\n",
       "\n",
       "    .dataframe thead th {\n",
       "        text-align: right;\n",
       "    }\n",
       "</style>\n",
       "<table border=\"1\" class=\"dataframe\">\n",
       "  <thead>\n",
       "    <tr style=\"text-align: right;\">\n",
       "      <th></th>\n",
       "      <th>KnKod</th>\n",
       "      <th>KnNamn</th>\n",
       "      <th>Antal_dos1</th>\n",
       "      <th>Antal_färdigvaccinerade</th>\n",
       "      <th>Andel_dos1</th>\n",
       "      <th>Andel_färdigvaccinerade</th>\n",
       "    </tr>\n",
       "  </thead>\n",
       "  <tbody>\n",
       "    <tr>\n",
       "      <th>0</th>\n",
       "      <td>114</td>\n",
       "      <td>Upplands Väsby</td>\n",
       "      <td>30030</td>\n",
       "      <td>27537</td>\n",
       "      <td>0.789183</td>\n",
       "      <td>0.723668</td>\n",
       "    </tr>\n",
       "    <tr>\n",
       "      <th>1</th>\n",
       "      <td>115</td>\n",
       "      <td>Vallentuna</td>\n",
       "      <td>23165</td>\n",
       "      <td>21681</td>\n",
       "      <td>0.858344</td>\n",
       "      <td>0.803357</td>\n",
       "    </tr>\n",
       "    <tr>\n",
       "      <th>2</th>\n",
       "      <td>117</td>\n",
       "      <td>Österåker</td>\n",
       "      <td>32922</td>\n",
       "      <td>30615</td>\n",
       "      <td>0.876751</td>\n",
       "      <td>0.815313</td>\n",
       "    </tr>\n",
       "    <tr>\n",
       "      <th>3</th>\n",
       "      <td>120</td>\n",
       "      <td>Värmdö</td>\n",
       "      <td>31618</td>\n",
       "      <td>28831</td>\n",
       "      <td>0.865180</td>\n",
       "      <td>0.788918</td>\n",
       "    </tr>\n",
       "    <tr>\n",
       "      <th>4</th>\n",
       "      <td>123</td>\n",
       "      <td>Järfälla</td>\n",
       "      <td>51550</td>\n",
       "      <td>47186</td>\n",
       "      <td>0.786459</td>\n",
       "      <td>0.719880</td>\n",
       "    </tr>\n",
       "    <tr>\n",
       "      <th>5</th>\n",
       "      <td>125</td>\n",
       "      <td>Ekerö</td>\n",
       "      <td>19257</td>\n",
       "      <td>17841</td>\n",
       "      <td>0.854462</td>\n",
       "      <td>0.791632</td>\n",
       "    </tr>\n",
       "    <tr>\n",
       "      <th>6</th>\n",
       "      <td>126</td>\n",
       "      <td>Huddinge</td>\n",
       "      <td>69323</td>\n",
       "      <td>63285</td>\n",
       "      <td>0.770530</td>\n",
       "      <td>0.703417</td>\n",
       "    </tr>\n",
       "    <tr>\n",
       "      <th>7</th>\n",
       "      <td>127</td>\n",
       "      <td>Botkyrka</td>\n",
       "      <td>50694</td>\n",
       "      <td>45261</td>\n",
       "      <td>0.669237</td>\n",
       "      <td>0.597513</td>\n",
       "    </tr>\n",
       "    <tr>\n",
       "      <th>8</th>\n",
       "      <td>128</td>\n",
       "      <td>Salem</td>\n",
       "      <td>10835</td>\n",
       "      <td>9872</td>\n",
       "      <td>0.813133</td>\n",
       "      <td>0.740863</td>\n",
       "    </tr>\n",
       "    <tr>\n",
       "      <th>9</th>\n",
       "      <td>136</td>\n",
       "      <td>Haninge</td>\n",
       "      <td>56747</td>\n",
       "      <td>51427</td>\n",
       "      <td>0.758832</td>\n",
       "      <td>0.687692</td>\n",
       "    </tr>\n",
       "    <tr>\n",
       "      <th>10</th>\n",
       "      <td>138</td>\n",
       "      <td>Tyresö</td>\n",
       "      <td>32768</td>\n",
       "      <td>30158</td>\n",
       "      <td>0.839022</td>\n",
       "      <td>0.772193</td>\n",
       "    </tr>\n",
       "    <tr>\n",
       "      <th>11</th>\n",
       "      <td>139</td>\n",
       "      <td>Upplands-Bro</td>\n",
       "      <td>18671</td>\n",
       "      <td>17041</td>\n",
       "      <td>0.784430</td>\n",
       "      <td>0.715948</td>\n",
       "    </tr>\n",
       "    <tr>\n",
       "      <th>12</th>\n",
       "      <td>140</td>\n",
       "      <td>Nykvarn</td>\n",
       "      <td>7645</td>\n",
       "      <td>7108</td>\n",
       "      <td>0.865211</td>\n",
       "      <td>0.804436</td>\n",
       "    </tr>\n",
       "    <tr>\n",
       "      <th>13</th>\n",
       "      <td>160</td>\n",
       "      <td>Täby</td>\n",
       "      <td>52462</td>\n",
       "      <td>49279</td>\n",
       "      <td>0.897830</td>\n",
       "      <td>0.843356</td>\n",
       "    </tr>\n",
       "    <tr>\n",
       "      <th>14</th>\n",
       "      <td>162</td>\n",
       "      <td>Danderyd</td>\n",
       "      <td>23313</td>\n",
       "      <td>21730</td>\n",
       "      <td>0.888216</td>\n",
       "      <td>0.827904</td>\n",
       "    </tr>\n",
       "    <tr>\n",
       "      <th>15</th>\n",
       "      <td>163</td>\n",
       "      <td>Sollentuna</td>\n",
       "      <td>49614</td>\n",
       "      <td>46089</td>\n",
       "      <td>0.840602</td>\n",
       "      <td>0.780878</td>\n",
       "    </tr>\n",
       "    <tr>\n",
       "      <th>16</th>\n",
       "      <td>180</td>\n",
       "      <td>Stockholm</td>\n",
       "      <td>664127</td>\n",
       "      <td>612547</td>\n",
       "      <td>0.820258</td>\n",
       "      <td>0.756552</td>\n",
       "    </tr>\n",
       "    <tr>\n",
       "      <th>17</th>\n",
       "      <td>181</td>\n",
       "      <td>Södertälje</td>\n",
       "      <td>56102</td>\n",
       "      <td>50702</td>\n",
       "      <td>0.687238</td>\n",
       "      <td>0.621089</td>\n",
       "    </tr>\n",
       "    <tr>\n",
       "      <th>18</th>\n",
       "      <td>182</td>\n",
       "      <td>Nacka</td>\n",
       "      <td>72947</td>\n",
       "      <td>67402</td>\n",
       "      <td>0.864455</td>\n",
       "      <td>0.798744</td>\n",
       "    </tr>\n",
       "  </tbody>\n",
       "</table>\n",
       "</div>"
      ],
      "text/plain": [
       "    KnKod          KnNamn  Antal_dos1  Antal_färdigvaccinerade  Andel_dos1  \\\n",
       "0     114  Upplands Väsby       30030                    27537    0.789183   \n",
       "1     115      Vallentuna       23165                    21681    0.858344   \n",
       "2     117       Österåker       32922                    30615    0.876751   \n",
       "3     120          Värmdö       31618                    28831    0.865180   \n",
       "4     123        Järfälla       51550                    47186    0.786459   \n",
       "5     125           Ekerö       19257                    17841    0.854462   \n",
       "6     126        Huddinge       69323                    63285    0.770530   \n",
       "7     127        Botkyrka       50694                    45261    0.669237   \n",
       "8     128           Salem       10835                     9872    0.813133   \n",
       "9     136         Haninge       56747                    51427    0.758832   \n",
       "10    138          Tyresö       32768                    30158    0.839022   \n",
       "11    139    Upplands-Bro       18671                    17041    0.784430   \n",
       "12    140         Nykvarn        7645                     7108    0.865211   \n",
       "13    160            Täby       52462                    49279    0.897830   \n",
       "14    162        Danderyd       23313                    21730    0.888216   \n",
       "15    163      Sollentuna       49614                    46089    0.840602   \n",
       "16    180       Stockholm      664127                   612547    0.820258   \n",
       "17    181      Södertälje       56102                    50702    0.687238   \n",
       "18    182           Nacka       72947                    67402    0.864455   \n",
       "\n",
       "    Andel_färdigvaccinerade  \n",
       "0                  0.723668  \n",
       "1                  0.803357  \n",
       "2                  0.815313  \n",
       "3                  0.788918  \n",
       "4                  0.719880  \n",
       "5                  0.791632  \n",
       "6                  0.703417  \n",
       "7                  0.597513  \n",
       "8                  0.740863  \n",
       "9                  0.687692  \n",
       "10                 0.772193  \n",
       "11                 0.715948  \n",
       "12                 0.804436  \n",
       "13                 0.843356  \n",
       "14                 0.827904  \n",
       "15                 0.780878  \n",
       "16                 0.756552  \n",
       "17                 0.621089  \n",
       "18                 0.798744  "
      ]
     },
     "execution_count": 3,
     "metadata": {},
     "output_type": "execute_result"
    }
   ],
   "source": [
    "import pandas as pd\n",
    "import seaborn as sns\n",
    "import numpy as np\n",
    "import plotly_express as px\n",
    "\n",
    "vaccin = pd.ExcelFile(\"Folkhalsomyndigheten_Covid19_Vaccine.xlsx\")\n",
    "vaccin_kommun = pd.read_excel(vaccin, 'Vaccinerade kommun')\n",
    "vaccin_kommun.head(19)"
   ]
  },
  {
   "cell_type": "code",
   "execution_count": 4,
   "metadata": {},
   "outputs": [
    {
     "data": {
      "text/html": [
       "<div>\n",
       "<style scoped>\n",
       "    .dataframe tbody tr th:only-of-type {\n",
       "        vertical-align: middle;\n",
       "    }\n",
       "\n",
       "    .dataframe tbody tr th {\n",
       "        vertical-align: top;\n",
       "    }\n",
       "\n",
       "    .dataframe thead th {\n",
       "        text-align: right;\n",
       "    }\n",
       "</style>\n",
       "<table border=\"1\" class=\"dataframe\">\n",
       "  <thead>\n",
       "    <tr style=\"text-align: right;\">\n",
       "      <th></th>\n",
       "      <th>KnKod</th>\n",
       "      <th>KnNamn</th>\n",
       "      <th>Antal_dos1</th>\n",
       "      <th>Antal_färdigvaccinerade</th>\n",
       "      <th>Andel_dos1</th>\n",
       "      <th>Andel_färdigvaccinerade</th>\n",
       "    </tr>\n",
       "  </thead>\n",
       "  <tbody>\n",
       "    <tr>\n",
       "      <th>7</th>\n",
       "      <td>127</td>\n",
       "      <td>Botkyrka</td>\n",
       "      <td>50694</td>\n",
       "      <td>45261</td>\n",
       "      <td>0.669237</td>\n",
       "      <td>0.597513</td>\n",
       "    </tr>\n",
       "    <tr>\n",
       "      <th>17</th>\n",
       "      <td>181</td>\n",
       "      <td>Södertälje</td>\n",
       "      <td>56102</td>\n",
       "      <td>50702</td>\n",
       "      <td>0.687238</td>\n",
       "      <td>0.621089</td>\n",
       "    </tr>\n",
       "    <tr>\n",
       "      <th>24</th>\n",
       "      <td>191</td>\n",
       "      <td>Sigtuna</td>\n",
       "      <td>29540</td>\n",
       "      <td>26861</td>\n",
       "      <td>0.750451</td>\n",
       "      <td>0.682392</td>\n",
       "    </tr>\n",
       "    <tr>\n",
       "      <th>9</th>\n",
       "      <td>136</td>\n",
       "      <td>Haninge</td>\n",
       "      <td>56747</td>\n",
       "      <td>51427</td>\n",
       "      <td>0.758832</td>\n",
       "      <td>0.687692</td>\n",
       "    </tr>\n",
       "    <tr>\n",
       "      <th>101</th>\n",
       "      <td>1260</td>\n",
       "      <td>Bjuv</td>\n",
       "      <td>9337</td>\n",
       "      <td>8725</td>\n",
       "      <td>0.738862</td>\n",
       "      <td>0.690433</td>\n",
       "    </tr>\n",
       "    <tr>\n",
       "      <th>6</th>\n",
       "      <td>126</td>\n",
       "      <td>Huddinge</td>\n",
       "      <td>69323</td>\n",
       "      <td>63285</td>\n",
       "      <td>0.770530</td>\n",
       "      <td>0.703417</td>\n",
       "    </tr>\n",
       "    <tr>\n",
       "      <th>116</th>\n",
       "      <td>1280</td>\n",
       "      <td>Malmö</td>\n",
       "      <td>213185</td>\n",
       "      <td>200031</td>\n",
       "      <td>0.751954</td>\n",
       "      <td>0.705557</td>\n",
       "    </tr>\n",
       "    <tr>\n",
       "      <th>114</th>\n",
       "      <td>1277</td>\n",
       "      <td>Åstorp</td>\n",
       "      <td>9507</td>\n",
       "      <td>8987</td>\n",
       "      <td>0.748288</td>\n",
       "      <td>0.707359</td>\n",
       "    </tr>\n",
       "    <tr>\n",
       "      <th>97</th>\n",
       "      <td>1231</td>\n",
       "      <td>Burlöv</td>\n",
       "      <td>11715</td>\n",
       "      <td>10995</td>\n",
       "      <td>0.762497</td>\n",
       "      <td>0.715634</td>\n",
       "    </tr>\n",
       "    <tr>\n",
       "      <th>11</th>\n",
       "      <td>139</td>\n",
       "      <td>Upplands-Bro</td>\n",
       "      <td>18671</td>\n",
       "      <td>17041</td>\n",
       "      <td>0.784430</td>\n",
       "      <td>0.715948</td>\n",
       "    </tr>\n",
       "  </tbody>\n",
       "</table>\n",
       "</div>"
      ],
      "text/plain": [
       "     KnKod        KnNamn  Antal_dos1  Antal_färdigvaccinerade  Andel_dos1  \\\n",
       "7      127      Botkyrka       50694                    45261    0.669237   \n",
       "17     181    Södertälje       56102                    50702    0.687238   \n",
       "24     191       Sigtuna       29540                    26861    0.750451   \n",
       "9      136       Haninge       56747                    51427    0.758832   \n",
       "101   1260          Bjuv        9337                     8725    0.738862   \n",
       "6      126      Huddinge       69323                    63285    0.770530   \n",
       "116   1280         Malmö      213185                   200031    0.751954   \n",
       "114   1277        Åstorp        9507                     8987    0.748288   \n",
       "97    1231        Burlöv       11715                    10995    0.762497   \n",
       "11     139  Upplands-Bro       18671                    17041    0.784430   \n",
       "\n",
       "     Andel_färdigvaccinerade  \n",
       "7                   0.597513  \n",
       "17                  0.621089  \n",
       "24                  0.682392  \n",
       "9                   0.687692  \n",
       "101                 0.690433  \n",
       "6                   0.703417  \n",
       "116                 0.705557  \n",
       "114                 0.707359  \n",
       "97                  0.715634  \n",
       "11                  0.715948  "
      ]
     },
     "execution_count": 4,
     "metadata": {},
     "output_type": "execute_result"
    }
   ],
   "source": [
    "Top10_toppen_kommun = vaccin_kommun.sort_values(\"Andel_färdigvaccinerade\", ascending=False).head(10)\n",
    "Top10_botten_kommun = vaccin_kommun.sort_values(\"Andel_färdigvaccinerade\", ascending=True).head(10)\n",
    "Top10_botten_kommun\n"
   ]
  },
  {
   "cell_type": "code",
   "execution_count": 27,
   "metadata": {},
   "outputs": [
    {
     "data": {
      "application/vnd.plotly.v1+json": {
       "config": {
        "plotlyServerURL": "https://plot.ly"
       },
       "data": [
        {
         "name": "Top 10 högst vaccinerade kommuner",
         "type": "bar",
         "x": [
          "Hammarö",
          "Östhammar",
          "Mörbylånga",
          "Torsby",
          "Arvika",
          "Lomma",
          "Karlstad",
          "Umeå",
          "Kil",
          "Robertsfors"
         ],
         "y": [
          0.9169294669640797,
          0.8860603462136235,
          0.8839229311433986,
          0.8832997987927566,
          0.8826070968928111,
          0.8815945541746171,
          0.8813245965966973,
          0.880399595581074,
          0.8785800726099233,
          0.8785013380909902
         ]
        },
        {
         "name": "Top 10 lägst vaccinerade kommuner",
         "type": "bar",
         "x": [
          "Upplands-Bro",
          "Burlöv",
          "Åstorp",
          "Malmö",
          "Huddinge",
          "Bjuv",
          "Haninge",
          "Sigtuna",
          "Södertälje",
          "Botkyrka"
         ],
         "y": [
          0.7159482396437274,
          0.7156339494923197,
          0.7073593073593074,
          0.7055568096843828,
          0.7034167704072559,
          0.6904328558993432,
          0.6876922254018346,
          0.6823920940985189,
          0.6210892520273416,
          0.5975128384533129
         ]
        }
       ],
       "layout": {
        "barmode": "relative",
        "legend": {
         "tracegroupgap": 0
        },
        "template": {
         "data": {
          "bar": [
           {
            "error_x": {
             "color": "#2a3f5f"
            },
            "error_y": {
             "color": "#2a3f5f"
            },
            "marker": {
             "line": {
              "color": "#E5ECF6",
              "width": 0.5
             },
             "pattern": {
              "fillmode": "overlay",
              "size": 10,
              "solidity": 0.2
             }
            },
            "type": "bar"
           }
          ],
          "barpolar": [
           {
            "marker": {
             "line": {
              "color": "#E5ECF6",
              "width": 0.5
             },
             "pattern": {
              "fillmode": "overlay",
              "size": 10,
              "solidity": 0.2
             }
            },
            "type": "barpolar"
           }
          ],
          "carpet": [
           {
            "aaxis": {
             "endlinecolor": "#2a3f5f",
             "gridcolor": "white",
             "linecolor": "white",
             "minorgridcolor": "white",
             "startlinecolor": "#2a3f5f"
            },
            "baxis": {
             "endlinecolor": "#2a3f5f",
             "gridcolor": "white",
             "linecolor": "white",
             "minorgridcolor": "white",
             "startlinecolor": "#2a3f5f"
            },
            "type": "carpet"
           }
          ],
          "choropleth": [
           {
            "colorbar": {
             "outlinewidth": 0,
             "ticks": ""
            },
            "type": "choropleth"
           }
          ],
          "contour": [
           {
            "colorbar": {
             "outlinewidth": 0,
             "ticks": ""
            },
            "colorscale": [
             [
              0,
              "#0d0887"
             ],
             [
              0.1111111111111111,
              "#46039f"
             ],
             [
              0.2222222222222222,
              "#7201a8"
             ],
             [
              0.3333333333333333,
              "#9c179e"
             ],
             [
              0.4444444444444444,
              "#bd3786"
             ],
             [
              0.5555555555555556,
              "#d8576b"
             ],
             [
              0.6666666666666666,
              "#ed7953"
             ],
             [
              0.7777777777777778,
              "#fb9f3a"
             ],
             [
              0.8888888888888888,
              "#fdca26"
             ],
             [
              1,
              "#f0f921"
             ]
            ],
            "type": "contour"
           }
          ],
          "contourcarpet": [
           {
            "colorbar": {
             "outlinewidth": 0,
             "ticks": ""
            },
            "type": "contourcarpet"
           }
          ],
          "heatmap": [
           {
            "colorbar": {
             "outlinewidth": 0,
             "ticks": ""
            },
            "colorscale": [
             [
              0,
              "#0d0887"
             ],
             [
              0.1111111111111111,
              "#46039f"
             ],
             [
              0.2222222222222222,
              "#7201a8"
             ],
             [
              0.3333333333333333,
              "#9c179e"
             ],
             [
              0.4444444444444444,
              "#bd3786"
             ],
             [
              0.5555555555555556,
              "#d8576b"
             ],
             [
              0.6666666666666666,
              "#ed7953"
             ],
             [
              0.7777777777777778,
              "#fb9f3a"
             ],
             [
              0.8888888888888888,
              "#fdca26"
             ],
             [
              1,
              "#f0f921"
             ]
            ],
            "type": "heatmap"
           }
          ],
          "heatmapgl": [
           {
            "colorbar": {
             "outlinewidth": 0,
             "ticks": ""
            },
            "colorscale": [
             [
              0,
              "#0d0887"
             ],
             [
              0.1111111111111111,
              "#46039f"
             ],
             [
              0.2222222222222222,
              "#7201a8"
             ],
             [
              0.3333333333333333,
              "#9c179e"
             ],
             [
              0.4444444444444444,
              "#bd3786"
             ],
             [
              0.5555555555555556,
              "#d8576b"
             ],
             [
              0.6666666666666666,
              "#ed7953"
             ],
             [
              0.7777777777777778,
              "#fb9f3a"
             ],
             [
              0.8888888888888888,
              "#fdca26"
             ],
             [
              1,
              "#f0f921"
             ]
            ],
            "type": "heatmapgl"
           }
          ],
          "histogram": [
           {
            "marker": {
             "pattern": {
              "fillmode": "overlay",
              "size": 10,
              "solidity": 0.2
             }
            },
            "type": "histogram"
           }
          ],
          "histogram2d": [
           {
            "colorbar": {
             "outlinewidth": 0,
             "ticks": ""
            },
            "colorscale": [
             [
              0,
              "#0d0887"
             ],
             [
              0.1111111111111111,
              "#46039f"
             ],
             [
              0.2222222222222222,
              "#7201a8"
             ],
             [
              0.3333333333333333,
              "#9c179e"
             ],
             [
              0.4444444444444444,
              "#bd3786"
             ],
             [
              0.5555555555555556,
              "#d8576b"
             ],
             [
              0.6666666666666666,
              "#ed7953"
             ],
             [
              0.7777777777777778,
              "#fb9f3a"
             ],
             [
              0.8888888888888888,
              "#fdca26"
             ],
             [
              1,
              "#f0f921"
             ]
            ],
            "type": "histogram2d"
           }
          ],
          "histogram2dcontour": [
           {
            "colorbar": {
             "outlinewidth": 0,
             "ticks": ""
            },
            "colorscale": [
             [
              0,
              "#0d0887"
             ],
             [
              0.1111111111111111,
              "#46039f"
             ],
             [
              0.2222222222222222,
              "#7201a8"
             ],
             [
              0.3333333333333333,
              "#9c179e"
             ],
             [
              0.4444444444444444,
              "#bd3786"
             ],
             [
              0.5555555555555556,
              "#d8576b"
             ],
             [
              0.6666666666666666,
              "#ed7953"
             ],
             [
              0.7777777777777778,
              "#fb9f3a"
             ],
             [
              0.8888888888888888,
              "#fdca26"
             ],
             [
              1,
              "#f0f921"
             ]
            ],
            "type": "histogram2dcontour"
           }
          ],
          "mesh3d": [
           {
            "colorbar": {
             "outlinewidth": 0,
             "ticks": ""
            },
            "type": "mesh3d"
           }
          ],
          "parcoords": [
           {
            "line": {
             "colorbar": {
              "outlinewidth": 0,
              "ticks": ""
             }
            },
            "type": "parcoords"
           }
          ],
          "pie": [
           {
            "automargin": true,
            "type": "pie"
           }
          ],
          "scatter": [
           {
            "marker": {
             "colorbar": {
              "outlinewidth": 0,
              "ticks": ""
             }
            },
            "type": "scatter"
           }
          ],
          "scatter3d": [
           {
            "line": {
             "colorbar": {
              "outlinewidth": 0,
              "ticks": ""
             }
            },
            "marker": {
             "colorbar": {
              "outlinewidth": 0,
              "ticks": ""
             }
            },
            "type": "scatter3d"
           }
          ],
          "scattercarpet": [
           {
            "marker": {
             "colorbar": {
              "outlinewidth": 0,
              "ticks": ""
             }
            },
            "type": "scattercarpet"
           }
          ],
          "scattergeo": [
           {
            "marker": {
             "colorbar": {
              "outlinewidth": 0,
              "ticks": ""
             }
            },
            "type": "scattergeo"
           }
          ],
          "scattergl": [
           {
            "marker": {
             "colorbar": {
              "outlinewidth": 0,
              "ticks": ""
             }
            },
            "type": "scattergl"
           }
          ],
          "scattermapbox": [
           {
            "marker": {
             "colorbar": {
              "outlinewidth": 0,
              "ticks": ""
             }
            },
            "type": "scattermapbox"
           }
          ],
          "scatterpolar": [
           {
            "marker": {
             "colorbar": {
              "outlinewidth": 0,
              "ticks": ""
             }
            },
            "type": "scatterpolar"
           }
          ],
          "scatterpolargl": [
           {
            "marker": {
             "colorbar": {
              "outlinewidth": 0,
              "ticks": ""
             }
            },
            "type": "scatterpolargl"
           }
          ],
          "scatterternary": [
           {
            "marker": {
             "colorbar": {
              "outlinewidth": 0,
              "ticks": ""
             }
            },
            "type": "scatterternary"
           }
          ],
          "surface": [
           {
            "colorbar": {
             "outlinewidth": 0,
             "ticks": ""
            },
            "colorscale": [
             [
              0,
              "#0d0887"
             ],
             [
              0.1111111111111111,
              "#46039f"
             ],
             [
              0.2222222222222222,
              "#7201a8"
             ],
             [
              0.3333333333333333,
              "#9c179e"
             ],
             [
              0.4444444444444444,
              "#bd3786"
             ],
             [
              0.5555555555555556,
              "#d8576b"
             ],
             [
              0.6666666666666666,
              "#ed7953"
             ],
             [
              0.7777777777777778,
              "#fb9f3a"
             ],
             [
              0.8888888888888888,
              "#fdca26"
             ],
             [
              1,
              "#f0f921"
             ]
            ],
            "type": "surface"
           }
          ],
          "table": [
           {
            "cells": {
             "fill": {
              "color": "#EBF0F8"
             },
             "line": {
              "color": "white"
             }
            },
            "header": {
             "fill": {
              "color": "#C8D4E3"
             },
             "line": {
              "color": "white"
             }
            },
            "type": "table"
           }
          ]
         },
         "layout": {
          "annotationdefaults": {
           "arrowcolor": "#2a3f5f",
           "arrowhead": 0,
           "arrowwidth": 1
          },
          "autotypenumbers": "strict",
          "coloraxis": {
           "colorbar": {
            "outlinewidth": 0,
            "ticks": ""
           }
          },
          "colorscale": {
           "diverging": [
            [
             0,
             "#8e0152"
            ],
            [
             0.1,
             "#c51b7d"
            ],
            [
             0.2,
             "#de77ae"
            ],
            [
             0.3,
             "#f1b6da"
            ],
            [
             0.4,
             "#fde0ef"
            ],
            [
             0.5,
             "#f7f7f7"
            ],
            [
             0.6,
             "#e6f5d0"
            ],
            [
             0.7,
             "#b8e186"
            ],
            [
             0.8,
             "#7fbc41"
            ],
            [
             0.9,
             "#4d9221"
            ],
            [
             1,
             "#276419"
            ]
           ],
           "sequential": [
            [
             0,
             "#0d0887"
            ],
            [
             0.1111111111111111,
             "#46039f"
            ],
            [
             0.2222222222222222,
             "#7201a8"
            ],
            [
             0.3333333333333333,
             "#9c179e"
            ],
            [
             0.4444444444444444,
             "#bd3786"
            ],
            [
             0.5555555555555556,
             "#d8576b"
            ],
            [
             0.6666666666666666,
             "#ed7953"
            ],
            [
             0.7777777777777778,
             "#fb9f3a"
            ],
            [
             0.8888888888888888,
             "#fdca26"
            ],
            [
             1,
             "#f0f921"
            ]
           ],
           "sequentialminus": [
            [
             0,
             "#0d0887"
            ],
            [
             0.1111111111111111,
             "#46039f"
            ],
            [
             0.2222222222222222,
             "#7201a8"
            ],
            [
             0.3333333333333333,
             "#9c179e"
            ],
            [
             0.4444444444444444,
             "#bd3786"
            ],
            [
             0.5555555555555556,
             "#d8576b"
            ],
            [
             0.6666666666666666,
             "#ed7953"
            ],
            [
             0.7777777777777778,
             "#fb9f3a"
            ],
            [
             0.8888888888888888,
             "#fdca26"
            ],
            [
             1,
             "#f0f921"
            ]
           ]
          },
          "colorway": [
           "#636efa",
           "#EF553B",
           "#00cc96",
           "#ab63fa",
           "#FFA15A",
           "#19d3f3",
           "#FF6692",
           "#B6E880",
           "#FF97FF",
           "#FECB52"
          ],
          "font": {
           "color": "#2a3f5f"
          },
          "geo": {
           "bgcolor": "white",
           "lakecolor": "white",
           "landcolor": "#E5ECF6",
           "showlakes": true,
           "showland": true,
           "subunitcolor": "white"
          },
          "hoverlabel": {
           "align": "left"
          },
          "hovermode": "closest",
          "mapbox": {
           "style": "light"
          },
          "paper_bgcolor": "white",
          "plot_bgcolor": "#E5ECF6",
          "polar": {
           "angularaxis": {
            "gridcolor": "white",
            "linecolor": "white",
            "ticks": ""
           },
           "bgcolor": "#E5ECF6",
           "radialaxis": {
            "gridcolor": "white",
            "linecolor": "white",
            "ticks": ""
           }
          },
          "scene": {
           "xaxis": {
            "backgroundcolor": "#E5ECF6",
            "gridcolor": "white",
            "gridwidth": 2,
            "linecolor": "white",
            "showbackground": true,
            "ticks": "",
            "zerolinecolor": "white"
           },
           "yaxis": {
            "backgroundcolor": "#E5ECF6",
            "gridcolor": "white",
            "gridwidth": 2,
            "linecolor": "white",
            "showbackground": true,
            "ticks": "",
            "zerolinecolor": "white"
           },
           "zaxis": {
            "backgroundcolor": "#E5ECF6",
            "gridcolor": "white",
            "gridwidth": 2,
            "linecolor": "white",
            "showbackground": true,
            "ticks": "",
            "zerolinecolor": "white"
           }
          },
          "shapedefaults": {
           "line": {
            "color": "#2a3f5f"
           }
          },
          "ternary": {
           "aaxis": {
            "gridcolor": "white",
            "linecolor": "white",
            "ticks": ""
           },
           "baxis": {
            "gridcolor": "white",
            "linecolor": "white",
            "ticks": ""
           },
           "bgcolor": "#E5ECF6",
           "caxis": {
            "gridcolor": "white",
            "linecolor": "white",
            "ticks": ""
           }
          },
          "title": {
           "x": 0.05
          },
          "xaxis": {
           "automargin": true,
           "gridcolor": "white",
           "linecolor": "white",
           "ticks": "",
           "title": {
            "standoff": 15
           },
           "zerolinecolor": "white",
           "zerolinewidth": 2
          },
          "yaxis": {
           "automargin": true,
           "gridcolor": "white",
           "linecolor": "white",
           "ticks": "",
           "title": {
            "standoff": 15
           },
           "zerolinecolor": "white",
           "zerolinewidth": 2
          }
         }
        },
        "title": {
         "text": "Andel färdigvaccinerade"
        },
        "xaxis": {
         "anchor": "y",
         "domain": [
          0,
          1
         ]
        },
        "yaxis": {
         "anchor": "x",
         "domain": [
          0,
          1
         ]
        }
       }
      }
     },
     "metadata": {},
     "output_type": "display_data"
    }
   ],
   "source": [
    "Top10_botten_kommun = Top10_botten_kommun.sort_values(\"Andel_färdigvaccinerade\", ascending= False)\n",
    "fig = px.bar(title= \"Andel färdigvaccinerade\")\n",
    "fig.add_bar(name = \"Top 10 högst vaccinerade kommuner\",x=Top10_toppen_kommun[\"KnNamn\"],y=Top10_toppen_kommun[\"Andel_färdigvaccinerade\"])\n",
    "fig.add_bar(name = \"Top 10 lägst vaccinerade kommuner\",x=Top10_botten_kommun[\"KnNamn\"],y=Top10_botten_kommun[\"Andel_färdigvaccinerade\"])\n",
    "fig.show()\n",
    "fig.write_html(\"Visualiseringar/KPI_1.html\")"
   ]
  },
  {
   "cell_type": "markdown",
   "metadata": {},
   "source": [
    "## Slutsats\n",
    "\n",
    "- Stor skillnad mellan högst och lägst vaccinerade kommuner.\n",
    "- Skiljer cirka 32 procentenheter mellan högsta och lägsta (59% - 91%).\n"
   ]
  }
 ],
 "metadata": {
  "interpreter": {
   "hash": "b5a6c0b83a5f9320ddb316d9b8aa3c715c2d6a6be85ef1b450fc66453222da78"
  },
  "kernelspec": {
   "display_name": "Python 3.9.6 64-bit ('Databehandling_Fredrik_Hegardt-XTtkVxax': pipenv)",
   "name": "python3"
  },
  "language_info": {
   "codemirror_mode": {
    "name": "ipython",
    "version": 3
   },
   "file_extension": ".py",
   "mimetype": "text/x-python",
   "name": "python",
   "nbconvert_exporter": "python",
   "pygments_lexer": "ipython3",
   "version": "3.9.6"
  },
  "orig_nbformat": 4
 },
 "nbformat": 4,
 "nbformat_minor": 2
}
