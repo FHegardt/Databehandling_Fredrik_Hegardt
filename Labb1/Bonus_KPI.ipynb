{
 "cells": [
  {
   "cell_type": "code",
   "execution_count": 10,
   "metadata": {},
   "outputs": [
    {
     "data": {
      "text/html": [
       "<div>\n",
       "<style scoped>\n",
       "    .dataframe tbody tr th:only-of-type {\n",
       "        vertical-align: middle;\n",
       "    }\n",
       "\n",
       "    .dataframe tbody tr th {\n",
       "        vertical-align: top;\n",
       "    }\n",
       "\n",
       "    .dataframe thead th {\n",
       "        text-align: right;\n",
       "    }\n",
       "</style>\n",
       "<table border=\"1\" class=\"dataframe\">\n",
       "  <thead>\n",
       "    <tr style=\"text-align: right;\">\n",
       "      <th></th>\n",
       "      <th>Vecka</th>\n",
       "      <th>År</th>\n",
       "      <th>Region</th>\n",
       "      <th>Antal vaccinerade</th>\n",
       "      <th>Andel vaccinerade</th>\n",
       "      <th>Vaccinationsstatus</th>\n",
       "    </tr>\n",
       "  </thead>\n",
       "  <tbody>\n",
       "    <tr>\n",
       "      <th>0</th>\n",
       "      <td>52</td>\n",
       "      <td>2020</td>\n",
       "      <td>| Sverige |</td>\n",
       "      <td>2472</td>\n",
       "      <td>0.000289</td>\n",
       "      <td>Minst 1 dos</td>\n",
       "    </tr>\n",
       "    <tr>\n",
       "      <th>1</th>\n",
       "      <td>52</td>\n",
       "      <td>2020</td>\n",
       "      <td>| Sverige |</td>\n",
       "      <td>0</td>\n",
       "      <td>0.000000</td>\n",
       "      <td>Färdigvaccinerade</td>\n",
       "    </tr>\n",
       "    <tr>\n",
       "      <th>2</th>\n",
       "      <td>52</td>\n",
       "      <td>2020</td>\n",
       "      <td>Stockholm</td>\n",
       "      <td>288</td>\n",
       "      <td>0.000148</td>\n",
       "      <td>Minst 1 dos</td>\n",
       "    </tr>\n",
       "    <tr>\n",
       "      <th>3</th>\n",
       "      <td>52</td>\n",
       "      <td>2020</td>\n",
       "      <td>Stockholm</td>\n",
       "      <td>0</td>\n",
       "      <td>0.000000</td>\n",
       "      <td>Färdigvaccinerade</td>\n",
       "    </tr>\n",
       "    <tr>\n",
       "      <th>4</th>\n",
       "      <td>52</td>\n",
       "      <td>2020</td>\n",
       "      <td>Uppsala</td>\n",
       "      <td>8</td>\n",
       "      <td>0.000025</td>\n",
       "      <td>Minst 1 dos</td>\n",
       "    </tr>\n",
       "    <tr>\n",
       "      <th>5</th>\n",
       "      <td>52</td>\n",
       "      <td>2020</td>\n",
       "      <td>Uppsala</td>\n",
       "      <td>0</td>\n",
       "      <td>0.000000</td>\n",
       "      <td>Färdigvaccinerade</td>\n",
       "    </tr>\n",
       "    <tr>\n",
       "      <th>6</th>\n",
       "      <td>52</td>\n",
       "      <td>2020</td>\n",
       "      <td>Södermanland</td>\n",
       "      <td>116</td>\n",
       "      <td>0.000474</td>\n",
       "      <td>Minst 1 dos</td>\n",
       "    </tr>\n",
       "    <tr>\n",
       "      <th>7</th>\n",
       "      <td>52</td>\n",
       "      <td>2020</td>\n",
       "      <td>Södermanland</td>\n",
       "      <td>0</td>\n",
       "      <td>0.000000</td>\n",
       "      <td>Färdigvaccinerade</td>\n",
       "    </tr>\n",
       "    <tr>\n",
       "      <th>8</th>\n",
       "      <td>52</td>\n",
       "      <td>2020</td>\n",
       "      <td>Östergötland</td>\n",
       "      <td>214</td>\n",
       "      <td>0.000554</td>\n",
       "      <td>Minst 1 dos</td>\n",
       "    </tr>\n",
       "    <tr>\n",
       "      <th>9</th>\n",
       "      <td>52</td>\n",
       "      <td>2020</td>\n",
       "      <td>Östergötland</td>\n",
       "      <td>0</td>\n",
       "      <td>0.000000</td>\n",
       "      <td>Färdigvaccinerade</td>\n",
       "    </tr>\n",
       "    <tr>\n",
       "      <th>10</th>\n",
       "      <td>52</td>\n",
       "      <td>2020</td>\n",
       "      <td>Jönköping</td>\n",
       "      <td>43</td>\n",
       "      <td>0.000144</td>\n",
       "      <td>Minst 1 dos</td>\n",
       "    </tr>\n",
       "    <tr>\n",
       "      <th>11</th>\n",
       "      <td>52</td>\n",
       "      <td>2020</td>\n",
       "      <td>Jönköping</td>\n",
       "      <td>0</td>\n",
       "      <td>0.000000</td>\n",
       "      <td>Färdigvaccinerade</td>\n",
       "    </tr>\n",
       "    <tr>\n",
       "      <th>12</th>\n",
       "      <td>52</td>\n",
       "      <td>2020</td>\n",
       "      <td>Kronoberg</td>\n",
       "      <td>29</td>\n",
       "      <td>0.000175</td>\n",
       "      <td>Minst 1 dos</td>\n",
       "    </tr>\n",
       "    <tr>\n",
       "      <th>13</th>\n",
       "      <td>52</td>\n",
       "      <td>2020</td>\n",
       "      <td>Kronoberg</td>\n",
       "      <td>0</td>\n",
       "      <td>0.000000</td>\n",
       "      <td>Färdigvaccinerade</td>\n",
       "    </tr>\n",
       "    <tr>\n",
       "      <th>14</th>\n",
       "      <td>52</td>\n",
       "      <td>2020</td>\n",
       "      <td>Kalmar</td>\n",
       "      <td>0</td>\n",
       "      <td>0.000000</td>\n",
       "      <td>Minst 1 dos</td>\n",
       "    </tr>\n",
       "    <tr>\n",
       "      <th>15</th>\n",
       "      <td>52</td>\n",
       "      <td>2020</td>\n",
       "      <td>Kalmar</td>\n",
       "      <td>0</td>\n",
       "      <td>0.000000</td>\n",
       "      <td>Färdigvaccinerade</td>\n",
       "    </tr>\n",
       "    <tr>\n",
       "      <th>16</th>\n",
       "      <td>52</td>\n",
       "      <td>2020</td>\n",
       "      <td>Gotland</td>\n",
       "      <td>0</td>\n",
       "      <td>0.000000</td>\n",
       "      <td>Minst 1 dos</td>\n",
       "    </tr>\n",
       "    <tr>\n",
       "      <th>17</th>\n",
       "      <td>52</td>\n",
       "      <td>2020</td>\n",
       "      <td>Gotland</td>\n",
       "      <td>0</td>\n",
       "      <td>0.000000</td>\n",
       "      <td>Färdigvaccinerade</td>\n",
       "    </tr>\n",
       "    <tr>\n",
       "      <th>18</th>\n",
       "      <td>52</td>\n",
       "      <td>2020</td>\n",
       "      <td>Blekinge</td>\n",
       "      <td>179</td>\n",
       "      <td>0.001351</td>\n",
       "      <td>Minst 1 dos</td>\n",
       "    </tr>\n",
       "  </tbody>\n",
       "</table>\n",
       "</div>"
      ],
      "text/plain": [
       "    Vecka    År        Region  Antal vaccinerade  Andel vaccinerade  \\\n",
       "0      52  2020   | Sverige |               2472           0.000289   \n",
       "1      52  2020   | Sverige |                  0           0.000000   \n",
       "2      52  2020     Stockholm                288           0.000148   \n",
       "3      52  2020     Stockholm                  0           0.000000   \n",
       "4      52  2020       Uppsala                  8           0.000025   \n",
       "5      52  2020       Uppsala                  0           0.000000   \n",
       "6      52  2020  Södermanland                116           0.000474   \n",
       "7      52  2020  Södermanland                  0           0.000000   \n",
       "8      52  2020  Östergötland                214           0.000554   \n",
       "9      52  2020  Östergötland                  0           0.000000   \n",
       "10     52  2020     Jönköping                 43           0.000144   \n",
       "11     52  2020     Jönköping                  0           0.000000   \n",
       "12     52  2020     Kronoberg                 29           0.000175   \n",
       "13     52  2020     Kronoberg                  0           0.000000   \n",
       "14     52  2020        Kalmar                  0           0.000000   \n",
       "15     52  2020        Kalmar                  0           0.000000   \n",
       "16     52  2020       Gotland                  0           0.000000   \n",
       "17     52  2020       Gotland                  0           0.000000   \n",
       "18     52  2020      Blekinge                179           0.001351   \n",
       "\n",
       "   Vaccinationsstatus  \n",
       "0         Minst 1 dos  \n",
       "1   Färdigvaccinerade  \n",
       "2         Minst 1 dos  \n",
       "3   Färdigvaccinerade  \n",
       "4         Minst 1 dos  \n",
       "5   Färdigvaccinerade  \n",
       "6         Minst 1 dos  \n",
       "7   Färdigvaccinerade  \n",
       "8         Minst 1 dos  \n",
       "9   Färdigvaccinerade  \n",
       "10        Minst 1 dos  \n",
       "11  Färdigvaccinerade  \n",
       "12        Minst 1 dos  \n",
       "13  Färdigvaccinerade  \n",
       "14        Minst 1 dos  \n",
       "15  Färdigvaccinerade  \n",
       "16        Minst 1 dos  \n",
       "17  Färdigvaccinerade  \n",
       "18        Minst 1 dos  "
      ]
     },
     "execution_count": 10,
     "metadata": {},
     "output_type": "execute_result"
    }
   ],
   "source": [
    "import pandas as pd\n",
    "import seaborn as sns\n",
    "import numpy as np\n",
    "import plotly_express as px\n",
    "\n",
    "vaccin = pd.ExcelFile(\"Folkhalsomyndigheten_Covid19_Vaccine.xlsx\")\n",
    "vaccin_kommun = pd.read_excel(vaccin, 'Vaccinerade tidsserie')\n",
    "vaccin_kommun.head(19)\n"
   ]
  },
  {
   "cell_type": "code",
   "execution_count": 8,
   "metadata": {},
   "outputs": [
    {
     "data": {
      "application/vnd.plotly.v1+json": {
       "config": {
        "plotlyServerURL": "https://plot.ly"
       },
       "data": [
        {
         "hovertemplate": "Region=| Sverige |<br>Vecka=%{x}<br>Andel vaccinerade=%{y}<extra></extra>",
         "legendgroup": "| Sverige |",
         "marker": {
          "color": "#636efa",
          "symbol": "circle"
         },
         "mode": "markers",
         "name": "| Sverige |",
         "orientation": "v",
         "showlegend": true,
         "type": "scatter",
         "x": [
          52,
          52
         ],
         "xaxis": "x",
         "y": [
          0.0002894106267320588,
          0
         ],
         "yaxis": "y"
        },
        {
         "hovertemplate": "Region=Stockholm<br>Vecka=%{x}<br>Andel vaccinerade=%{y}<extra></extra>",
         "legendgroup": "Stockholm",
         "marker": {
          "color": "#EF553B",
          "symbol": "circle"
         },
         "mode": "markers",
         "name": "Stockholm",
         "orientation": "v",
         "showlegend": true,
         "type": "scatter",
         "x": [
          52,
          52
         ],
         "xaxis": "x",
         "y": [
          0.00014759648351378028,
          0
         ],
         "yaxis": "y"
        },
        {
         "hovertemplate": "Region=Uppsala<br>Vecka=%{x}<br>Andel vaccinerade=%{y}<extra></extra>",
         "legendgroup": "Uppsala",
         "marker": {
          "color": "#00cc96",
          "symbol": "circle"
         },
         "mode": "markers",
         "name": "Uppsala",
         "orientation": "v",
         "showlegend": true,
         "type": "scatter",
         "x": [
          52,
          52
         ],
         "xaxis": "x",
         "y": [
          0.000025047668844770204,
          0
         ],
         "yaxis": "y"
        },
        {
         "hovertemplate": "Region=Södermanland<br>Vecka=%{x}<br>Andel vaccinerade=%{y}<extra></extra>",
         "legendgroup": "Södermanland",
         "marker": {
          "color": "#ab63fa",
          "symbol": "circle"
         },
         "mode": "markers",
         "name": "Södermanland",
         "orientation": "v",
         "showlegend": true,
         "type": "scatter",
         "x": [
          52,
          52
         ],
         "xaxis": "x",
         "y": [
          0.0004735428352152579,
          0
         ],
         "yaxis": "y"
        },
        {
         "hovertemplate": "Region=Östergötland<br>Vecka=%{x}<br>Andel vaccinerade=%{y}<extra></extra>",
         "legendgroup": "Östergötland",
         "marker": {
          "color": "#FFA15A",
          "symbol": "circle"
         },
         "mode": "markers",
         "name": "Östergötland",
         "orientation": "v",
         "showlegend": true,
         "type": "scatter",
         "x": [
          52,
          52
         ],
         "xaxis": "x",
         "y": [
          0.0005544357450424635,
          0
         ],
         "yaxis": "y"
        },
        {
         "hovertemplate": "Region=Jönköping<br>Vecka=%{x}<br>Andel vaccinerade=%{y}<extra></extra>",
         "legendgroup": "Jönköping",
         "marker": {
          "color": "#19d3f3",
          "symbol": "circle"
         },
         "mode": "markers",
         "name": "Jönköping",
         "orientation": "v",
         "showlegend": true,
         "type": "scatter",
         "x": [
          52,
          52
         ],
         "xaxis": "x",
         "y": [
          0.00014421932069346016,
          0
         ],
         "yaxis": "y"
        },
        {
         "hovertemplate": "Region=Kronoberg<br>Vecka=%{x}<br>Andel vaccinerade=%{y}<extra></extra>",
         "legendgroup": "Kronoberg",
         "marker": {
          "color": "#FF6692",
          "symbol": "circle"
         },
         "mode": "markers",
         "name": "Kronoberg",
         "orientation": "v",
         "showlegend": true,
         "type": "scatter",
         "x": [
          52,
          52
         ],
         "xaxis": "x",
         "y": [
          0.00017544814902202782,
          0
         ],
         "yaxis": "y"
        },
        {
         "hovertemplate": "Region=Kalmar<br>Vecka=%{x}<br>Andel vaccinerade=%{y}<extra></extra>",
         "legendgroup": "Kalmar",
         "marker": {
          "color": "#B6E880",
          "symbol": "circle"
         },
         "mode": "markers",
         "name": "Kalmar",
         "orientation": "v",
         "showlegend": true,
         "type": "scatter",
         "x": [
          52,
          52
         ],
         "xaxis": "x",
         "y": [
          0,
          0
         ],
         "yaxis": "y"
        },
        {
         "hovertemplate": "Region=Gotland<br>Vecka=%{x}<br>Andel vaccinerade=%{y}<extra></extra>",
         "legendgroup": "Gotland",
         "marker": {
          "color": "#FF97FF",
          "symbol": "circle"
         },
         "mode": "markers",
         "name": "Gotland",
         "orientation": "v",
         "showlegend": true,
         "type": "scatter",
         "x": [
          52,
          52
         ],
         "xaxis": "x",
         "y": [
          0,
          0
         ],
         "yaxis": "y"
        },
        {
         "hovertemplate": "Region=Blekinge<br>Vecka=%{x}<br>Andel vaccinerade=%{y}<extra></extra>",
         "legendgroup": "Blekinge",
         "marker": {
          "color": "#FECB52",
          "symbol": "circle"
         },
         "mode": "markers",
         "name": "Blekinge",
         "orientation": "v",
         "showlegend": true,
         "type": "scatter",
         "x": [
          52,
          52
         ],
         "xaxis": "x",
         "y": [
          0.0013513207461706288,
          0
         ],
         "yaxis": "y"
        },
        {
         "hovertemplate": "Region=Skåne<br>Vecka=%{x}<br>Andel vaccinerade=%{y}<extra></extra>",
         "legendgroup": "Skåne",
         "marker": {
          "color": "#636efa",
          "symbol": "circle"
         },
         "mode": "markers",
         "name": "Skåne",
         "orientation": "v",
         "showlegend": true,
         "type": "scatter",
         "x": [
          52,
          52
         ],
         "xaxis": "x",
         "y": [
          0.00025954532937182113,
          0
         ],
         "yaxis": "y"
        },
        {
         "hovertemplate": "Region=Halland<br>Vecka=%{x}<br>Andel vaccinerade=%{y}<extra></extra>",
         "legendgroup": "Halland",
         "marker": {
          "color": "#EF553B",
          "symbol": "circle"
         },
         "mode": "markers",
         "name": "Halland",
         "orientation": "v",
         "showlegend": true,
         "type": "scatter",
         "x": [
          52,
          52
         ],
         "xaxis": "x",
         "y": [
          0.0001667633410672854,
          0
         ],
         "yaxis": "y"
        },
        {
         "hovertemplate": "Region=Västra Götaland<br>Vecka=%{x}<br>Andel vaccinerade=%{y}<extra></extra>",
         "legendgroup": "Västra Götaland",
         "marker": {
          "color": "#00cc96",
          "symbol": "circle"
         },
         "mode": "markers",
         "name": "Västra Götaland",
         "orientation": "v",
         "showlegend": true,
         "type": "scatter",
         "x": [
          52,
          52
         ],
         "xaxis": "x",
         "y": [
          0.00021839135170247258,
          0
         ],
         "yaxis": "y"
        },
        {
         "hovertemplate": "Region=Värmland<br>Vecka=%{x}<br>Andel vaccinerade=%{y}<extra></extra>",
         "legendgroup": "Värmland",
         "marker": {
          "color": "#ab63fa",
          "symbol": "circle"
         },
         "mode": "markers",
         "name": "Värmland",
         "orientation": "v",
         "showlegend": true,
         "type": "scatter",
         "x": [
          52,
          52
         ],
         "xaxis": "x",
         "y": [
          0.0001816837435301574,
          0
         ],
         "yaxis": "y"
        },
        {
         "hovertemplate": "Region=Örebro<br>Vecka=%{x}<br>Andel vaccinerade=%{y}<extra></extra>",
         "legendgroup": "Örebro",
         "marker": {
          "color": "#FFA15A",
          "symbol": "circle"
         },
         "mode": "markers",
         "name": "Örebro",
         "orientation": "v",
         "showlegend": true,
         "type": "scatter",
         "x": [
          52,
          52
         ],
         "xaxis": "x",
         "y": [
          0.0009734931716407532,
          0
         ],
         "yaxis": "y"
        },
        {
         "hovertemplate": "Region=Västmanland<br>Vecka=%{x}<br>Andel vaccinerade=%{y}<extra></extra>",
         "legendgroup": "Västmanland",
         "marker": {
          "color": "#19d3f3",
          "symbol": "circle"
         },
         "mode": "markers",
         "name": "Västmanland",
         "orientation": "v",
         "showlegend": true,
         "type": "scatter",
         "x": [
          52,
          52
         ],
         "xaxis": "x",
         "y": [
          0.0008757410959024074,
          0
         ],
         "yaxis": "y"
        },
        {
         "hovertemplate": "Region=Dalarna<br>Vecka=%{x}<br>Andel vaccinerade=%{y}<extra></extra>",
         "legendgroup": "Dalarna",
         "marker": {
          "color": "#FF6692",
          "symbol": "circle"
         },
         "mode": "markers",
         "name": "Dalarna",
         "orientation": "v",
         "showlegend": true,
         "type": "scatter",
         "x": [
          52,
          52
         ],
         "xaxis": "x",
         "y": [
          0.000795245270383392,
          0
         ],
         "yaxis": "y"
        },
        {
         "hovertemplate": "Region=Gävleborg<br>Vecka=%{x}<br>Andel vaccinerade=%{y}<extra></extra>",
         "legendgroup": "Gävleborg",
         "marker": {
          "color": "#B6E880",
          "symbol": "circle"
         },
         "mode": "markers",
         "name": "Gävleborg",
         "orientation": "v",
         "showlegend": true,
         "type": "scatter",
         "x": [
          52,
          52
         ],
         "xaxis": "x",
         "y": [
          0.0008339866228545695,
          0
         ],
         "yaxis": "y"
        },
        {
         "hovertemplate": "Region=Västernorrland<br>Vecka=%{x}<br>Andel vaccinerade=%{y}<extra></extra>",
         "legendgroup": "Västernorrland",
         "marker": {
          "color": "#FF97FF",
          "symbol": "circle"
         },
         "mode": "markers",
         "name": "Västernorrland",
         "orientation": "v",
         "showlegend": true,
         "type": "scatter",
         "x": [
          52,
          52
         ],
         "xaxis": "x",
         "y": [
          0,
          0
         ],
         "yaxis": "y"
        },
        {
         "hovertemplate": "Region=Jämtland<br>Vecka=%{x}<br>Andel vaccinerade=%{y}<extra></extra>",
         "legendgroup": "Jämtland",
         "marker": {
          "color": "#FECB52",
          "symbol": "circle"
         },
         "mode": "markers",
         "name": "Jämtland",
         "orientation": "v",
         "showlegend": true,
         "type": "scatter",
         "x": [
          52,
          52
         ],
         "xaxis": "x",
         "y": [
          0.0005782309803309684,
          0
         ],
         "yaxis": "y"
        },
        {
         "hovertemplate": "Region=Västerbotten<br>Vecka=%{x}<br>Andel vaccinerade=%{y}<extra></extra>",
         "legendgroup": "Västerbotten",
         "marker": {
          "color": "#636efa",
          "symbol": "circle"
         },
         "mode": "markers",
         "name": "Västerbotten",
         "orientation": "v",
         "showlegend": true,
         "type": "scatter",
         "x": [
          52,
          52
         ],
         "xaxis": "x",
         "y": [
          0,
          0
         ],
         "yaxis": "y"
        },
        {
         "hovertemplate": "Region=Norrbotten<br>Vecka=%{x}<br>Andel vaccinerade=%{y}<extra></extra>",
         "legendgroup": "Norrbotten",
         "marker": {
          "color": "#EF553B",
          "symbol": "circle"
         },
         "mode": "markers",
         "name": "Norrbotten",
         "orientation": "v",
         "showlegend": true,
         "type": "scatter",
         "x": [
          52,
          52
         ],
         "xaxis": "x",
         "y": [
          0,
          0
         ],
         "yaxis": "y"
        }
       ],
       "frames": [
        {
         "data": [
          {
           "hovertemplate": "Region=| Sverige |<br>Vecka=%{x}<br>Andel vaccinerade=%{y}<extra></extra>",
           "legendgroup": "| Sverige |",
           "marker": {
            "color": "#636efa",
            "symbol": "circle"
           },
           "mode": "markers",
           "name": "| Sverige |",
           "orientation": "v",
           "showlegend": true,
           "type": "scatter",
           "x": [
            52,
            52
           ],
           "xaxis": "x",
           "y": [
            0.0002894106267320588,
            0
           ],
           "yaxis": "y"
          },
          {
           "hovertemplate": "Region=Stockholm<br>Vecka=%{x}<br>Andel vaccinerade=%{y}<extra></extra>",
           "legendgroup": "Stockholm",
           "marker": {
            "color": "#EF553B",
            "symbol": "circle"
           },
           "mode": "markers",
           "name": "Stockholm",
           "orientation": "v",
           "showlegend": true,
           "type": "scatter",
           "x": [
            52,
            52
           ],
           "xaxis": "x",
           "y": [
            0.00014759648351378028,
            0
           ],
           "yaxis": "y"
          },
          {
           "hovertemplate": "Region=Uppsala<br>Vecka=%{x}<br>Andel vaccinerade=%{y}<extra></extra>",
           "legendgroup": "Uppsala",
           "marker": {
            "color": "#00cc96",
            "symbol": "circle"
           },
           "mode": "markers",
           "name": "Uppsala",
           "orientation": "v",
           "showlegend": true,
           "type": "scatter",
           "x": [
            52,
            52
           ],
           "xaxis": "x",
           "y": [
            0.000025047668844770204,
            0
           ],
           "yaxis": "y"
          },
          {
           "hovertemplate": "Region=Södermanland<br>Vecka=%{x}<br>Andel vaccinerade=%{y}<extra></extra>",
           "legendgroup": "Södermanland",
           "marker": {
            "color": "#ab63fa",
            "symbol": "circle"
           },
           "mode": "markers",
           "name": "Södermanland",
           "orientation": "v",
           "showlegend": true,
           "type": "scatter",
           "x": [
            52,
            52
           ],
           "xaxis": "x",
           "y": [
            0.0004735428352152579,
            0
           ],
           "yaxis": "y"
          },
          {
           "hovertemplate": "Region=Östergötland<br>Vecka=%{x}<br>Andel vaccinerade=%{y}<extra></extra>",
           "legendgroup": "Östergötland",
           "marker": {
            "color": "#FFA15A",
            "symbol": "circle"
           },
           "mode": "markers",
           "name": "Östergötland",
           "orientation": "v",
           "showlegend": true,
           "type": "scatter",
           "x": [
            52,
            52
           ],
           "xaxis": "x",
           "y": [
            0.0005544357450424635,
            0
           ],
           "yaxis": "y"
          },
          {
           "hovertemplate": "Region=Jönköping<br>Vecka=%{x}<br>Andel vaccinerade=%{y}<extra></extra>",
           "legendgroup": "Jönköping",
           "marker": {
            "color": "#19d3f3",
            "symbol": "circle"
           },
           "mode": "markers",
           "name": "Jönköping",
           "orientation": "v",
           "showlegend": true,
           "type": "scatter",
           "x": [
            52,
            52
           ],
           "xaxis": "x",
           "y": [
            0.00014421932069346016,
            0
           ],
           "yaxis": "y"
          },
          {
           "hovertemplate": "Region=Kronoberg<br>Vecka=%{x}<br>Andel vaccinerade=%{y}<extra></extra>",
           "legendgroup": "Kronoberg",
           "marker": {
            "color": "#FF6692",
            "symbol": "circle"
           },
           "mode": "markers",
           "name": "Kronoberg",
           "orientation": "v",
           "showlegend": true,
           "type": "scatter",
           "x": [
            52,
            52
           ],
           "xaxis": "x",
           "y": [
            0.00017544814902202782,
            0
           ],
           "yaxis": "y"
          },
          {
           "hovertemplate": "Region=Kalmar<br>Vecka=%{x}<br>Andel vaccinerade=%{y}<extra></extra>",
           "legendgroup": "Kalmar",
           "marker": {
            "color": "#B6E880",
            "symbol": "circle"
           },
           "mode": "markers",
           "name": "Kalmar",
           "orientation": "v",
           "showlegend": true,
           "type": "scatter",
           "x": [
            52,
            52
           ],
           "xaxis": "x",
           "y": [
            0,
            0
           ],
           "yaxis": "y"
          },
          {
           "hovertemplate": "Region=Gotland<br>Vecka=%{x}<br>Andel vaccinerade=%{y}<extra></extra>",
           "legendgroup": "Gotland",
           "marker": {
            "color": "#FF97FF",
            "symbol": "circle"
           },
           "mode": "markers",
           "name": "Gotland",
           "orientation": "v",
           "showlegend": true,
           "type": "scatter",
           "x": [
            52,
            52
           ],
           "xaxis": "x",
           "y": [
            0,
            0
           ],
           "yaxis": "y"
          },
          {
           "hovertemplate": "Region=Blekinge<br>Vecka=%{x}<br>Andel vaccinerade=%{y}<extra></extra>",
           "legendgroup": "Blekinge",
           "marker": {
            "color": "#FECB52",
            "symbol": "circle"
           },
           "mode": "markers",
           "name": "Blekinge",
           "orientation": "v",
           "showlegend": true,
           "type": "scatter",
           "x": [
            52,
            52
           ],
           "xaxis": "x",
           "y": [
            0.0013513207461706288,
            0
           ],
           "yaxis": "y"
          },
          {
           "hovertemplate": "Region=Skåne<br>Vecka=%{x}<br>Andel vaccinerade=%{y}<extra></extra>",
           "legendgroup": "Skåne",
           "marker": {
            "color": "#636efa",
            "symbol": "circle"
           },
           "mode": "markers",
           "name": "Skåne",
           "orientation": "v",
           "showlegend": true,
           "type": "scatter",
           "x": [
            52,
            52
           ],
           "xaxis": "x",
           "y": [
            0.00025954532937182113,
            0
           ],
           "yaxis": "y"
          },
          {
           "hovertemplate": "Region=Halland<br>Vecka=%{x}<br>Andel vaccinerade=%{y}<extra></extra>",
           "legendgroup": "Halland",
           "marker": {
            "color": "#EF553B",
            "symbol": "circle"
           },
           "mode": "markers",
           "name": "Halland",
           "orientation": "v",
           "showlegend": true,
           "type": "scatter",
           "x": [
            52,
            52
           ],
           "xaxis": "x",
           "y": [
            0.0001667633410672854,
            0
           ],
           "yaxis": "y"
          },
          {
           "hovertemplate": "Region=Västra Götaland<br>Vecka=%{x}<br>Andel vaccinerade=%{y}<extra></extra>",
           "legendgroup": "Västra Götaland",
           "marker": {
            "color": "#00cc96",
            "symbol": "circle"
           },
           "mode": "markers",
           "name": "Västra Götaland",
           "orientation": "v",
           "showlegend": true,
           "type": "scatter",
           "x": [
            52,
            52
           ],
           "xaxis": "x",
           "y": [
            0.00021839135170247258,
            0
           ],
           "yaxis": "y"
          },
          {
           "hovertemplate": "Region=Värmland<br>Vecka=%{x}<br>Andel vaccinerade=%{y}<extra></extra>",
           "legendgroup": "Värmland",
           "marker": {
            "color": "#ab63fa",
            "symbol": "circle"
           },
           "mode": "markers",
           "name": "Värmland",
           "orientation": "v",
           "showlegend": true,
           "type": "scatter",
           "x": [
            52,
            52
           ],
           "xaxis": "x",
           "y": [
            0.0001816837435301574,
            0
           ],
           "yaxis": "y"
          },
          {
           "hovertemplate": "Region=Örebro<br>Vecka=%{x}<br>Andel vaccinerade=%{y}<extra></extra>",
           "legendgroup": "Örebro",
           "marker": {
            "color": "#FFA15A",
            "symbol": "circle"
           },
           "mode": "markers",
           "name": "Örebro",
           "orientation": "v",
           "showlegend": true,
           "type": "scatter",
           "x": [
            52,
            52
           ],
           "xaxis": "x",
           "y": [
            0.0009734931716407532,
            0
           ],
           "yaxis": "y"
          },
          {
           "hovertemplate": "Region=Västmanland<br>Vecka=%{x}<br>Andel vaccinerade=%{y}<extra></extra>",
           "legendgroup": "Västmanland",
           "marker": {
            "color": "#19d3f3",
            "symbol": "circle"
           },
           "mode": "markers",
           "name": "Västmanland",
           "orientation": "v",
           "showlegend": true,
           "type": "scatter",
           "x": [
            52,
            52
           ],
           "xaxis": "x",
           "y": [
            0.0008757410959024074,
            0
           ],
           "yaxis": "y"
          },
          {
           "hovertemplate": "Region=Dalarna<br>Vecka=%{x}<br>Andel vaccinerade=%{y}<extra></extra>",
           "legendgroup": "Dalarna",
           "marker": {
            "color": "#FF6692",
            "symbol": "circle"
           },
           "mode": "markers",
           "name": "Dalarna",
           "orientation": "v",
           "showlegend": true,
           "type": "scatter",
           "x": [
            52,
            52
           ],
           "xaxis": "x",
           "y": [
            0.000795245270383392,
            0
           ],
           "yaxis": "y"
          },
          {
           "hovertemplate": "Region=Gävleborg<br>Vecka=%{x}<br>Andel vaccinerade=%{y}<extra></extra>",
           "legendgroup": "Gävleborg",
           "marker": {
            "color": "#B6E880",
            "symbol": "circle"
           },
           "mode": "markers",
           "name": "Gävleborg",
           "orientation": "v",
           "showlegend": true,
           "type": "scatter",
           "x": [
            52,
            52
           ],
           "xaxis": "x",
           "y": [
            0.0008339866228545695,
            0
           ],
           "yaxis": "y"
          },
          {
           "hovertemplate": "Region=Västernorrland<br>Vecka=%{x}<br>Andel vaccinerade=%{y}<extra></extra>",
           "legendgroup": "Västernorrland",
           "marker": {
            "color": "#FF97FF",
            "symbol": "circle"
           },
           "mode": "markers",
           "name": "Västernorrland",
           "orientation": "v",
           "showlegend": true,
           "type": "scatter",
           "x": [
            52,
            52
           ],
           "xaxis": "x",
           "y": [
            0,
            0
           ],
           "yaxis": "y"
          },
          {
           "hovertemplate": "Region=Jämtland<br>Vecka=%{x}<br>Andel vaccinerade=%{y}<extra></extra>",
           "legendgroup": "Jämtland",
           "marker": {
            "color": "#FECB52",
            "symbol": "circle"
           },
           "mode": "markers",
           "name": "Jämtland",
           "orientation": "v",
           "showlegend": true,
           "type": "scatter",
           "x": [
            52,
            52
           ],
           "xaxis": "x",
           "y": [
            0.0005782309803309684,
            0
           ],
           "yaxis": "y"
          },
          {
           "hovertemplate": "Region=Västerbotten<br>Vecka=%{x}<br>Andel vaccinerade=%{y}<extra></extra>",
           "legendgroup": "Västerbotten",
           "marker": {
            "color": "#636efa",
            "symbol": "circle"
           },
           "mode": "markers",
           "name": "Västerbotten",
           "orientation": "v",
           "showlegend": true,
           "type": "scatter",
           "x": [
            52,
            52
           ],
           "xaxis": "x",
           "y": [
            0,
            0
           ],
           "yaxis": "y"
          },
          {
           "hovertemplate": "Region=Norrbotten<br>Vecka=%{x}<br>Andel vaccinerade=%{y}<extra></extra>",
           "legendgroup": "Norrbotten",
           "marker": {
            "color": "#EF553B",
            "symbol": "circle"
           },
           "mode": "markers",
           "name": "Norrbotten",
           "orientation": "v",
           "showlegend": true,
           "type": "scatter",
           "x": [
            52,
            52
           ],
           "xaxis": "x",
           "y": [
            0,
            0
           ],
           "yaxis": "y"
          }
         ],
         "name": "52"
        },
        {
         "data": [
          {
           "hovertemplate": "Region=| Sverige |<br>Vecka=%{x}<br>Andel vaccinerade=%{y}<extra></extra>",
           "legendgroup": "| Sverige |",
           "marker": {
            "color": "#636efa",
            "symbol": "circle"
           },
           "mode": "markers",
           "name": "| Sverige |",
           "orientation": "v",
           "showlegend": true,
           "type": "scatter",
           "x": [
            53,
            53
           ],
           "xaxis": "x",
           "y": [
            0.0019345555000487619,
            5.853774812541642e-7
           ],
           "yaxis": "y"
          },
          {
           "hovertemplate": "Region=Stockholm<br>Vecka=%{x}<br>Andel vaccinerade=%{y}<extra></extra>",
           "legendgroup": "Stockholm",
           "marker": {
            "color": "#EF553B",
            "symbol": "circle"
           },
           "mode": "markers",
           "name": "Stockholm",
           "orientation": "v",
           "showlegend": true,
           "type": "scatter",
           "x": [
            53,
            53
           ],
           "xaxis": "x",
           "y": [
            0.0011730845512605663,
            0
           ],
           "yaxis": "y"
          },
          {
           "hovertemplate": "Region=Uppsala<br>Vecka=%{x}<br>Andel vaccinerade=%{y}<extra></extra>",
           "legendgroup": "Uppsala",
           "marker": {
            "color": "#00cc96",
            "symbol": "circle"
           },
           "mode": "markers",
           "name": "Uppsala",
           "orientation": "v",
           "showlegend": true,
           "type": "scatter",
           "x": [
            53,
            53
           ],
           "xaxis": "x",
           "y": [
            0.00077334677558228,
            0
           ],
           "yaxis": "y"
          },
          {
           "hovertemplate": "Region=Södermanland<br>Vecka=%{x}<br>Andel vaccinerade=%{y}<extra></extra>",
           "legendgroup": "Södermanland",
           "marker": {
            "color": "#ab63fa",
            "symbol": "circle"
           },
           "mode": "markers",
           "name": "Södermanland",
           "orientation": "v",
           "showlegend": true,
           "type": "scatter",
           "x": [
            53,
            53
           ],
           "xaxis": "x",
           "y": [
            0.005123243605130592,
            0
           ],
           "yaxis": "y"
          },
          {
           "hovertemplate": "Region=Östergötland<br>Vecka=%{x}<br>Andel vaccinerade=%{y}<extra></extra>",
           "legendgroup": "Östergötland",
           "marker": {
            "color": "#FFA15A",
            "symbol": "circle"
           },
           "mode": "markers",
           "name": "Östergötland",
           "orientation": "v",
           "showlegend": true,
           "type": "scatter",
           "x": [
            53,
            53
           ],
           "xaxis": "x",
           "y": [
            0.006223152614915876,
            0
           ],
           "yaxis": "y"
          },
          {
           "hovertemplate": "Region=Jönköping<br>Vecka=%{x}<br>Andel vaccinerade=%{y}<extra></extra>",
           "legendgroup": "Jönköping",
           "marker": {
            "color": "#19d3f3",
            "symbol": "circle"
           },
           "mode": "markers",
           "name": "Jönköping",
           "orientation": "v",
           "showlegend": true,
           "type": "scatter",
           "x": [
            53,
            53
           ],
           "xaxis": "x",
           "y": [
            0.003977770100987064,
            0
           ],
           "yaxis": "y"
          },
          {
           "hovertemplate": "Region=Kronoberg<br>Vecka=%{x}<br>Andel vaccinerade=%{y}<extra></extra>",
           "legendgroup": "Kronoberg",
           "marker": {
            "color": "#FF6692",
            "symbol": "circle"
           },
           "mode": "markers",
           "name": "Kronoberg",
           "orientation": "v",
           "showlegend": true,
           "type": "scatter",
           "x": [
            53,
            53
           ],
           "xaxis": "x",
           "y": [
            0.0013370358942713155,
            0
           ],
           "yaxis": "y"
          },
          {
           "hovertemplate": "Region=Kalmar<br>Vecka=%{x}<br>Andel vaccinerade=%{y}<extra></extra>",
           "legendgroup": "Kalmar",
           "marker": {
            "color": "#B6E880",
            "symbol": "circle"
           },
           "mode": "markers",
           "name": "Kalmar",
           "orientation": "v",
           "showlegend": true,
           "type": "scatter",
           "x": [
            53,
            53
           ],
           "xaxis": "x",
           "y": [
            0.0014273118310998095,
            0
           ],
           "yaxis": "y"
          },
          {
           "hovertemplate": "Region=Gotland<br>Vecka=%{x}<br>Andel vaccinerade=%{y}<extra></extra>",
           "legendgroup": "Gotland",
           "marker": {
            "color": "#FF97FF",
            "symbol": "circle"
           },
           "mode": "markers",
           "name": "Gotland",
           "orientation": "v",
           "showlegend": true,
           "type": "scatter",
           "x": [
            53,
            53
           ],
           "xaxis": "x",
           "y": [
            0.004069756011245896,
            0
           ],
           "yaxis": "y"
          },
          {
           "hovertemplate": "Region=Blekinge<br>Vecka=%{x}<br>Andel vaccinerade=%{y}<extra></extra>",
           "legendgroup": "Blekinge",
           "marker": {
            "color": "#FECB52",
            "symbol": "circle"
           },
           "mode": "markers",
           "name": "Blekinge",
           "orientation": "v",
           "showlegend": true,
           "type": "scatter",
           "x": [
            53,
            53
           ],
           "xaxis": "x",
           "y": [
            0.005148607535689211,
            0
           ],
           "yaxis": "y"
          },
          {
           "hovertemplate": "Region=Skåne<br>Vecka=%{x}<br>Andel vaccinerade=%{y}<extra></extra>",
           "legendgroup": "Skåne",
           "marker": {
            "color": "#636efa",
            "symbol": "circle"
           },
           "mode": "markers",
           "name": "Skåne",
           "orientation": "v",
           "showlegend": true,
           "type": "scatter",
           "x": [
            53,
            53
           ],
           "xaxis": "x",
           "y": [
            0.0012739716506115152,
            0
           ],
           "yaxis": "y"
          },
          {
           "hovertemplate": "Region=Halland<br>Vecka=%{x}<br>Andel vaccinerade=%{y}<extra></extra>",
           "legendgroup": "Halland",
           "marker": {
            "color": "#EF553B",
            "symbol": "circle"
           },
           "mode": "markers",
           "name": "Halland",
           "orientation": "v",
           "showlegend": true,
           "type": "scatter",
           "x": [
            53,
            53
           ],
           "xaxis": "x",
           "y": [
            0.0008410672853828307,
            0
           ],
           "yaxis": "y"
          },
          {
           "hovertemplate": "Region=Västra Götaland<br>Vecka=%{x}<br>Andel vaccinerade=%{y}<extra></extra>",
           "legendgroup": "Västra Götaland",
           "marker": {
            "color": "#00cc96",
            "symbol": "circle"
           },
           "mode": "markers",
           "name": "Västra Götaland",
           "orientation": "v",
           "showlegend": true,
           "type": "scatter",
           "x": [
            53,
            53
           ],
           "xaxis": "x",
           "y": [
            0.001721231839219167,
            0
           ],
           "yaxis": "y"
          },
          {
           "hovertemplate": "Region=Värmland<br>Vecka=%{x}<br>Andel vaccinerade=%{y}<extra></extra>",
           "legendgroup": "Värmland",
           "marker": {
            "color": "#ab63fa",
            "symbol": "circle"
           },
           "mode": "markers",
           "name": "Värmland",
           "orientation": "v",
           "showlegend": true,
           "type": "scatter",
           "x": [
            53,
            53
           ],
           "xaxis": "x",
           "y": [
            0.0009379951410161614,
            0
           ],
           "yaxis": "y"
          },
          {
           "hovertemplate": "Region=Örebro<br>Vecka=%{x}<br>Andel vaccinerade=%{y}<extra></extra>",
           "legendgroup": "Örebro",
           "marker": {
            "color": "#FFA15A",
            "symbol": "circle"
           },
           "mode": "markers",
           "name": "Örebro",
           "orientation": "v",
           "showlegend": true,
           "type": "scatter",
           "x": [
            53,
            53
           ],
           "xaxis": "x",
           "y": [
            0.005320438191130484,
            0
           ],
           "yaxis": "y"
          },
          {
           "hovertemplate": "Region=Västmanland<br>Vecka=%{x}<br>Andel vaccinerade=%{y}<extra></extra>",
           "legendgroup": "Västmanland",
           "marker": {
            "color": "#19d3f3",
            "symbol": "circle"
           },
           "mode": "markers",
           "name": "Västmanland",
           "orientation": "v",
           "showlegend": true,
           "type": "scatter",
           "x": [
            53,
            53
           ],
           "xaxis": "x",
           "y": [
            0.0012129014178248344,
            0
           ],
           "yaxis": "y"
          },
          {
           "hovertemplate": "Region=Dalarna<br>Vecka=%{x}<br>Andel vaccinerade=%{y}<extra></extra>",
           "legendgroup": "Dalarna",
           "marker": {
            "color": "#FF6692",
            "symbol": "circle"
           },
           "mode": "markers",
           "name": "Dalarna",
           "orientation": "v",
           "showlegend": true,
           "type": "scatter",
           "x": [
            53,
            53
           ],
           "xaxis": "x",
           "y": [
            0.0008119872760756738,
            0
           ],
           "yaxis": "y"
          },
          {
           "hovertemplate": "Region=Gävleborg<br>Vecka=%{x}<br>Andel vaccinerade=%{y}<extra></extra>",
           "legendgroup": "Gävleborg",
           "marker": {
            "color": "#B6E880",
            "symbol": "circle"
           },
           "mode": "markers",
           "name": "Gävleborg",
           "orientation": "v",
           "showlegend": true,
           "type": "scatter",
           "x": [
            53,
            53
           ],
           "xaxis": "x",
           "y": [
            0.0030232015078478142,
            0
           ],
           "yaxis": "y"
          },
          {
           "hovertemplate": "Region=Västernorrland<br>Vecka=%{x}<br>Andel vaccinerade=%{y}<extra></extra>",
           "legendgroup": "Västernorrland",
           "marker": {
            "color": "#FF97FF",
            "symbol": "circle"
           },
           "mode": "markers",
           "name": "Västernorrland",
           "orientation": "v",
           "showlegend": true,
           "type": "scatter",
           "x": [
            53,
            53
           ],
           "xaxis": "x",
           "y": [
            0.0010877500722716827,
            0
           ],
           "yaxis": "y"
          },
          {
           "hovertemplate": "Region=Jämtland<br>Vecka=%{x}<br>Andel vaccinerade=%{y}<extra></extra>",
           "legendgroup": "Jämtland",
           "marker": {
            "color": "#FECB52",
            "symbol": "circle"
           },
           "mode": "markers",
           "name": "Jämtland",
           "orientation": "v",
           "showlegend": true,
           "type": "scatter",
           "x": [
            53,
            53
           ],
           "xaxis": "x",
           "y": [
            0.0018356539058125981,
            0
           ],
           "yaxis": "y"
          },
          {
           "hovertemplate": "Region=Västerbotten<br>Vecka=%{x}<br>Andel vaccinerade=%{y}<extra></extra>",
           "legendgroup": "Västerbotten",
           "marker": {
            "color": "#636efa",
            "symbol": "circle"
           },
           "mode": "markers",
           "name": "Västerbotten",
           "orientation": "v",
           "showlegend": true,
           "type": "scatter",
           "x": [
            53,
            53
           ],
           "xaxis": "x",
           "y": [
            0.0009245195800039622,
            0
           ],
           "yaxis": "y"
          },
          {
           "hovertemplate": "Region=Norrbotten<br>Vecka=%{x}<br>Andel vaccinerade=%{y}<extra></extra>",
           "legendgroup": "Norrbotten",
           "marker": {
            "color": "#EF553B",
            "symbol": "circle"
           },
           "mode": "markers",
           "name": "Norrbotten",
           "orientation": "v",
           "showlegend": true,
           "type": "scatter",
           "x": [
            53,
            53
           ],
           "xaxis": "x",
           "y": [
            0.0010135983214053968,
            0
           ],
           "yaxis": "y"
          }
         ],
         "name": "53"
        },
        {
         "data": [
          {
           "hovertemplate": "Region=| Sverige |<br>Vecka=%{x}<br>Andel vaccinerade=%{y}<extra></extra>",
           "legendgroup": "| Sverige |",
           "marker": {
            "color": "#636efa",
            "symbol": "circle"
           },
           "mode": "markers",
           "name": "| Sverige |",
           "orientation": "v",
           "showlegend": true,
           "type": "scatter",
           "x": [
            1,
            1
           ],
           "xaxis": "x",
           "y": [
            0.0061959864880828264,
            0.0000011707549625083284
           ],
           "yaxis": "y"
          },
          {
           "hovertemplate": "Region=Stockholm<br>Vecka=%{x}<br>Andel vaccinerade=%{y}<extra></extra>",
           "legendgroup": "Stockholm",
           "marker": {
            "color": "#EF553B",
            "symbol": "circle"
           },
           "mode": "markers",
           "name": "Stockholm",
           "orientation": "v",
           "showlegend": true,
           "type": "scatter",
           "x": [
            1,
            1
           ],
           "xaxis": "x",
           "y": [
            0.0037575604761216565,
            0
           ],
           "yaxis": "y"
          },
          {
           "hovertemplate": "Region=Uppsala<br>Vecka=%{x}<br>Andel vaccinerade=%{y}<extra></extra>",
           "legendgroup": "Uppsala",
           "marker": {
            "color": "#00cc96",
            "symbol": "circle"
           },
           "mode": "markers",
           "name": "Uppsala",
           "orientation": "v",
           "showlegend": true,
           "type": "scatter",
           "x": [
            1,
            1
           ],
           "xaxis": "x",
           "y": [
            0.004505449433453041,
            0
           ],
           "yaxis": "y"
          },
          {
           "hovertemplate": "Region=Södermanland<br>Vecka=%{x}<br>Andel vaccinerade=%{y}<extra></extra>",
           "legendgroup": "Södermanland",
           "marker": {
            "color": "#ab63fa",
            "symbol": "circle"
           },
           "mode": "markers",
           "name": "Södermanland",
           "orientation": "v",
           "showlegend": true,
           "type": "scatter",
           "x": [
            1,
            1
           ],
           "xaxis": "x",
           "y": [
            0.016953649953870397,
            0
           ],
           "yaxis": "y"
          },
          {
           "hovertemplate": "Region=Östergötland<br>Vecka=%{x}<br>Andel vaccinerade=%{y}<extra></extra>",
           "legendgroup": "Östergötland",
           "marker": {
            "color": "#FFA15A",
            "symbol": "circle"
           },
           "mode": "markers",
           "name": "Östergötland",
           "orientation": "v",
           "showlegend": true,
           "type": "scatter",
           "x": [
            1,
            1
           ],
           "xaxis": "x",
           "y": [
            0.012122452575017229,
            0
           ],
           "yaxis": "y"
          },
          {
           "hovertemplate": "Region=Jönköping<br>Vecka=%{x}<br>Andel vaccinerade=%{y}<extra></extra>",
           "legendgroup": "Jönköping",
           "marker": {
            "color": "#19d3f3",
            "symbol": "circle"
           },
           "mode": "markers",
           "name": "Jönköping",
           "orientation": "v",
           "showlegend": true,
           "type": "scatter",
           "x": [
            1,
            1
           ],
           "xaxis": "x",
           "y": [
            0.005691632260855858,
            0
           ],
           "yaxis": "y"
          },
          {
           "hovertemplate": "Region=Kronoberg<br>Vecka=%{x}<br>Andel vaccinerade=%{y}<extra></extra>",
           "legendgroup": "Kronoberg",
           "marker": {
            "color": "#FF6692",
            "symbol": "circle"
           },
           "mode": "markers",
           "name": "Kronoberg",
           "orientation": "v",
           "showlegend": true,
           "type": "scatter",
           "x": [
            1,
            1
           ],
           "xaxis": "x",
           "y": [
            0.007501920854734983,
            0
           ],
           "yaxis": "y"
          },
          {
           "hovertemplate": "Region=Kalmar<br>Vecka=%{x}<br>Andel vaccinerade=%{y}<extra></extra>",
           "legendgroup": "Kalmar",
           "marker": {
            "color": "#B6E880",
            "symbol": "circle"
           },
           "mode": "markers",
           "name": "Kalmar",
           "orientation": "v",
           "showlegend": true,
           "type": "scatter",
           "x": [
            1,
            1
           ],
           "xaxis": "x",
           "y": [
            0.009070493616067732,
            0
           ],
           "yaxis": "y"
          },
          {
           "hovertemplate": "Region=Gotland<br>Vecka=%{x}<br>Andel vaccinerade=%{y}<extra></extra>",
           "legendgroup": "Gotland",
           "marker": {
            "color": "#FF97FF",
            "symbol": "circle"
           },
           "mode": "markers",
           "name": "Gotland",
           "orientation": "v",
           "showlegend": true,
           "type": "scatter",
           "x": [
            1,
            1
           ],
           "xaxis": "x",
           "y": [
            0.009908971157816094,
            0
           ],
           "yaxis": "y"
          },
          {
           "hovertemplate": "Region=Blekinge<br>Vecka=%{x}<br>Andel vaccinerade=%{y}<extra></extra>",
           "legendgroup": "Blekinge",
           "marker": {
            "color": "#FECB52",
            "symbol": "circle"
           },
           "mode": "markers",
           "name": "Blekinge",
           "orientation": "v",
           "showlegend": true,
           "type": "scatter",
           "x": [
            1,
            1
           ],
           "xaxis": "x",
           "y": [
            0.012728082558903241,
            0
           ],
           "yaxis": "y"
          },
          {
           "hovertemplate": "Region=Skåne<br>Vecka=%{x}<br>Andel vaccinerade=%{y}<extra></extra>",
           "legendgroup": "Skåne",
           "marker": {
            "color": "#636efa",
            "symbol": "circle"
           },
           "mode": "markers",
           "name": "Skåne",
           "orientation": "v",
           "showlegend": true,
           "type": "scatter",
           "x": [
            1,
            1
           ],
           "xaxis": "x",
           "y": [
            0.003979401778809312,
            0
           ],
           "yaxis": "y"
          },
          {
           "hovertemplate": "Region=Halland<br>Vecka=%{x}<br>Andel vaccinerade=%{y}<extra></extra>",
           "legendgroup": "Halland",
           "marker": {
            "color": "#EF553B",
            "symbol": "circle"
           },
           "mode": "markers",
           "name": "Halland",
           "orientation": "v",
           "showlegend": true,
           "type": "scatter",
           "x": [
            1,
            1
           ],
           "xaxis": "x",
           "y": [
            0.0013776102088167053,
            0
           ],
           "yaxis": "y"
          },
          {
           "hovertemplate": "Region=Västra Götaland<br>Vecka=%{x}<br>Andel vaccinerade=%{y}<extra></extra>",
           "legendgroup": "Västra Götaland",
           "marker": {
            "color": "#00cc96",
            "symbol": "circle"
           },
           "mode": "markers",
           "name": "Västra Götaland",
           "orientation": "v",
           "showlegend": true,
           "type": "scatter",
           "x": [
            1,
            1
           ],
           "xaxis": "x",
           "y": [
            0.00518189479696604,
            0.0000034998614054883427
           ],
           "yaxis": "y"
          },
          {
           "hovertemplate": "Region=Värmland<br>Vecka=%{x}<br>Andel vaccinerade=%{y}<extra></extra>",
           "legendgroup": "Värmland",
           "marker": {
            "color": "#ab63fa",
            "symbol": "circle"
           },
           "mode": "markers",
           "name": "Värmland",
           "orientation": "v",
           "showlegend": true,
           "type": "scatter",
           "x": [
            1,
            1
           ],
           "xaxis": "x",
           "y": [
            0.004892785465300518,
            0
           ],
           "yaxis": "y"
          },
          {
           "hovertemplate": "Region=Örebro<br>Vecka=%{x}<br>Andel vaccinerade=%{y}<extra></extra>",
           "legendgroup": "Örebro",
           "marker": {
            "color": "#FFA15A",
            "symbol": "circle"
           },
           "mode": "markers",
           "name": "Örebro",
           "orientation": "v",
           "showlegend": true,
           "type": "scatter",
           "x": [
            1,
            1
           ],
           "xaxis": "x",
           "y": [
            0.012405084415765027,
            0
           ],
           "yaxis": "y"
          },
          {
           "hovertemplate": "Region=Västmanland<br>Vecka=%{x}<br>Andel vaccinerade=%{y}<extra></extra>",
           "legendgroup": "Västmanland",
           "marker": {
            "color": "#19d3f3",
            "symbol": "circle"
           },
           "mode": "markers",
           "name": "Västmanland",
           "orientation": "v",
           "showlegend": true,
           "type": "scatter",
           "x": [
            1,
            1
           ],
           "xaxis": "x",
           "y": [
            0.0030037919589452574,
            0
           ],
           "yaxis": "y"
          },
          {
           "hovertemplate": "Region=Dalarna<br>Vecka=%{x}<br>Andel vaccinerade=%{y}<extra></extra>",
           "legendgroup": "Dalarna",
           "marker": {
            "color": "#FF6692",
            "symbol": "circle"
           },
           "mode": "markers",
           "name": "Dalarna",
           "orientation": "v",
           "showlegend": true,
           "type": "scatter",
           "x": [
            1,
            1
           ],
           "xaxis": "x",
           "y": [
            0.01315084547128746,
            0
           ],
           "yaxis": "y"
          },
          {
           "hovertemplate": "Region=Gävleborg<br>Vecka=%{x}<br>Andel vaccinerade=%{y}<extra></extra>",
           "legendgroup": "Gävleborg",
           "marker": {
            "color": "#B6E880",
            "symbol": "circle"
           },
           "mode": "markers",
           "name": "Gävleborg",
           "orientation": "v",
           "showlegend": true,
           "type": "scatter",
           "x": [
            1,
            1
           ],
           "xaxis": "x",
           "y": [
            0.009098794055343352,
            0
           ],
           "yaxis": "y"
          },
          {
           "hovertemplate": "Region=Västernorrland<br>Vecka=%{x}<br>Andel vaccinerade=%{y}<extra></extra>",
           "legendgroup": "Västernorrland",
           "marker": {
            "color": "#FF97FF",
            "symbol": "circle"
           },
           "mode": "markers",
           "name": "Västernorrland",
           "orientation": "v",
           "showlegend": true,
           "type": "scatter",
           "x": [
            1,
            1
           ],
           "xaxis": "x",
           "y": [
            0.009936743903454831,
            0
           ],
           "yaxis": "y"
          },
          {
           "hovertemplate": "Region=Jämtland<br>Vecka=%{x}<br>Andel vaccinerade=%{y}<extra></extra>",
           "legendgroup": "Jämtland",
           "marker": {
            "color": "#FECB52",
            "symbol": "circle"
           },
           "mode": "markers",
           "name": "Jämtland",
           "orientation": "v",
           "showlegend": true,
           "type": "scatter",
           "x": [
            1,
            1
           ],
           "xaxis": "x",
           "y": [
            0.010316374950666802,
            0
           ],
           "yaxis": "y"
          },
          {
           "hovertemplate": "Region=Västerbotten<br>Vecka=%{x}<br>Andel vaccinerade=%{y}<extra></extra>",
           "legendgroup": "Västerbotten",
           "marker": {
            "color": "#636efa",
            "symbol": "circle"
           },
           "mode": "markers",
           "name": "Västerbotten",
           "orientation": "v",
           "showlegend": true,
           "type": "scatter",
           "x": [
            1,
            1
           ],
           "xaxis": "x",
           "y": [
            0.005613154592881199,
            0
           ],
           "yaxis": "y"
          },
          {
           "hovertemplate": "Region=Norrbotten<br>Vecka=%{x}<br>Andel vaccinerade=%{y}<extra></extra>",
           "legendgroup": "Norrbotten",
           "marker": {
            "color": "#EF553B",
            "symbol": "circle"
           },
           "mode": "markers",
           "name": "Norrbotten",
           "orientation": "v",
           "showlegend": true,
           "type": "scatter",
           "x": [
            1,
            1
           ],
           "xaxis": "x",
           "y": [
            0.00619526450653392,
            0
           ],
           "yaxis": "y"
          }
         ],
         "name": "1"
        },
        {
         "data": [
          {
           "hovertemplate": "Region=| Sverige |<br>Vecka=%{x}<br>Andel vaccinerade=%{y}<extra></extra>",
           "legendgroup": "| Sverige |",
           "marker": {
            "color": "#636efa",
            "symbol": "circle"
           },
           "mode": "markers",
           "name": "| Sverige |",
           "orientation": "v",
           "showlegend": true,
           "type": "scatter",
           "x": [
            2,
            2
           ],
           "xaxis": "x",
           "y": [
            0.01547574154741259,
            0.000005502548323789144
           ],
           "yaxis": "y"
          },
          {
           "hovertemplate": "Region=Stockholm<br>Vecka=%{x}<br>Andel vaccinerade=%{y}<extra></extra>",
           "legendgroup": "Stockholm",
           "marker": {
            "color": "#EF553B",
            "symbol": "circle"
           },
           "mode": "markers",
           "name": "Stockholm",
           "orientation": "v",
           "showlegend": true,
           "type": "scatter",
           "x": [
            2,
            2
           ],
           "xaxis": "x",
           "y": [
            0.011793881510773006,
            0.00001229970695948169
           ],
           "yaxis": "y"
          },
          {
           "hovertemplate": "Region=Uppsala<br>Vecka=%{x}<br>Andel vaccinerade=%{y}<extra></extra>",
           "legendgroup": "Uppsala",
           "marker": {
            "color": "#00cc96",
            "symbol": "circle"
           },
           "mode": "markers",
           "name": "Uppsala",
           "orientation": "v",
           "showlegend": true,
           "type": "scatter",
           "x": [
            2,
            2
           ],
           "xaxis": "x",
           "y": [
            0.016800723877629615,
            0
           ],
           "yaxis": "y"
          },
          {
           "hovertemplate": "Region=Södermanland<br>Vecka=%{x}<br>Andel vaccinerade=%{y}<extra></extra>",
           "legendgroup": "Södermanland",
           "marker": {
            "color": "#ab63fa",
            "symbol": "circle"
           },
           "mode": "markers",
           "name": "Södermanland",
           "orientation": "v",
           "showlegend": true,
           "type": "scatter",
           "x": [
            2,
            2
           ],
           "xaxis": "x",
           "y": [
            0.02991892620079849,
            0
           ],
           "yaxis": "y"
          },
          {
           "hovertemplate": "Region=Östergötland<br>Vecka=%{x}<br>Andel vaccinerade=%{y}<extra></extra>",
           "legendgroup": "Östergötland",
           "marker": {
            "color": "#FFA15A",
            "symbol": "circle"
           },
           "mode": "markers",
           "name": "Östergötland",
           "orientation": "v",
           "showlegend": true,
           "type": "scatter",
           "x": [
            2,
            2
           ],
           "xaxis": "x",
           "y": [
            0.018112431278466647,
            0
           ],
           "yaxis": "y"
          },
          {
           "hovertemplate": "Region=Jönköping<br>Vecka=%{x}<br>Andel vaccinerade=%{y}<extra></extra>",
           "legendgroup": "Jönköping",
           "marker": {
            "color": "#19d3f3",
            "symbol": "circle"
           },
           "mode": "markers",
           "name": "Jönköping",
           "orientation": "v",
           "showlegend": true,
           "type": "scatter",
           "x": [
            2,
            2
           ],
           "xaxis": "x",
           "y": [
            0.02349768745996237,
            0
           ],
           "yaxis": "y"
          },
          {
           "hovertemplate": "Region=Kronoberg<br>Vecka=%{x}<br>Andel vaccinerade=%{y}<extra></extra>",
           "legendgroup": "Kronoberg",
           "marker": {
            "color": "#FF6692",
            "symbol": "circle"
           },
           "mode": "markers",
           "name": "Kronoberg",
           "orientation": "v",
           "showlegend": true,
           "type": "scatter",
           "x": [
            2,
            2
           ],
           "xaxis": "x",
           "y": [
            0.01377570466631577,
            0
           ],
           "yaxis": "y"
          },
          {
           "hovertemplate": "Region=Kalmar<br>Vecka=%{x}<br>Andel vaccinerade=%{y}<extra></extra>",
           "legendgroup": "Kalmar",
           "marker": {
            "color": "#B6E880",
            "symbol": "circle"
           },
           "mode": "markers",
           "name": "Kalmar",
           "orientation": "v",
           "showlegend": true,
           "type": "scatter",
           "x": [
            2,
            2
           ],
           "xaxis": "x",
           "y": [
            0.022023470267584434,
            0
           ],
           "yaxis": "y"
          },
          {
           "hovertemplate": "Region=Gotland<br>Vecka=%{x}<br>Andel vaccinerade=%{y}<extra></extra>",
           "legendgroup": "Gotland",
           "marker": {
            "color": "#FF97FF",
            "symbol": "circle"
           },
           "mode": "markers",
           "name": "Gotland",
           "orientation": "v",
           "showlegend": true,
           "type": "scatter",
           "x": [
            2,
            2
           ],
           "xaxis": "x",
           "y": [
            0.023376521243339953,
            0
           ],
           "yaxis": "y"
          },
          {
           "hovertemplate": "Region=Blekinge<br>Vecka=%{x}<br>Andel vaccinerade=%{y}<extra></extra>",
           "legendgroup": "Blekinge",
           "marker": {
            "color": "#FECB52",
            "symbol": "circle"
           },
           "mode": "markers",
           "name": "Blekinge",
           "orientation": "v",
           "showlegend": true,
           "type": "scatter",
           "x": [
            2,
            2
           ],
           "xaxis": "x",
           "y": [
            0.021439949268852433,
            0
           ],
           "yaxis": "y"
          },
          {
           "hovertemplate": "Region=Skåne<br>Vecka=%{x}<br>Andel vaccinerade=%{y}<extra></extra>",
           "legendgroup": "Skåne",
           "marker": {
            "color": "#636efa",
            "symbol": "circle"
           },
           "mode": "markers",
           "name": "Skåne",
           "orientation": "v",
           "showlegend": true,
           "type": "scatter",
           "x": [
            2,
            2
           ],
           "xaxis": "x",
           "y": [
            0.013207777913660266,
            0
           ],
           "yaxis": "y"
          },
          {
           "hovertemplate": "Region=Halland<br>Vecka=%{x}<br>Andel vaccinerade=%{y}<extra></extra>",
           "legendgroup": "Halland",
           "marker": {
            "color": "#EF553B",
            "symbol": "circle"
           },
           "mode": "markers",
           "name": "Halland",
           "orientation": "v",
           "showlegend": true,
           "type": "scatter",
           "x": [
            2,
            2
           ],
           "xaxis": "x",
           "y": [
            0.010959251740139212,
            0
           ],
           "yaxis": "y"
          },
          {
           "hovertemplate": "Region=Västra Götaland<br>Vecka=%{x}<br>Andel vaccinerade=%{y}<extra></extra>",
           "legendgroup": "Västra Götaland",
           "marker": {
            "color": "#00cc96",
            "symbol": "circle"
           },
           "mode": "markers",
           "name": "Västra Götaland",
           "orientation": "v",
           "showlegend": true,
           "type": "scatter",
           "x": [
            2,
            2
           ],
           "xaxis": "x",
           "y": [
            0.012124219880892717,
            0.000007699695092074353
           ],
           "yaxis": "y"
          },
          {
           "hovertemplate": "Region=Värmland<br>Vecka=%{x}<br>Andel vaccinerade=%{y}<extra></extra>",
           "legendgroup": "Värmland",
           "marker": {
            "color": "#ab63fa",
            "symbol": "circle"
           },
           "mode": "markers",
           "name": "Värmland",
           "orientation": "v",
           "showlegend": true,
           "type": "scatter",
           "x": [
            2,
            2
           ],
           "xaxis": "x",
           "y": [
            0.011285518115559312,
            0
           ],
           "yaxis": "y"
          },
          {
           "hovertemplate": "Region=Örebro<br>Vecka=%{x}<br>Andel vaccinerade=%{y}<extra></extra>",
           "legendgroup": "Örebro",
           "marker": {
            "color": "#FFA15A",
            "symbol": "circle"
           },
           "mode": "markers",
           "name": "Örebro",
           "orientation": "v",
           "showlegend": true,
           "type": "scatter",
           "x": [
            2,
            2
           ],
           "xaxis": "x",
           "y": [
            0.022525439959311958,
            0
           ],
           "yaxis": "y"
          },
          {
           "hovertemplate": "Region=Västmanland<br>Vecka=%{x}<br>Andel vaccinerade=%{y}<extra></extra>",
           "legendgroup": "Västmanland",
           "marker": {
            "color": "#19d3f3",
            "symbol": "circle"
           },
           "mode": "markers",
           "name": "Västmanland",
           "orientation": "v",
           "showlegend": true,
           "type": "scatter",
           "x": [
            2,
            2
           ],
           "xaxis": "x",
           "y": [
            0.025571640000350296,
            0
           ],
           "yaxis": "y"
          },
          {
           "hovertemplate": "Region=Dalarna<br>Vecka=%{x}<br>Andel vaccinerade=%{y}<extra></extra>",
           "legendgroup": "Dalarna",
           "marker": {
            "color": "#FF6692",
            "symbol": "circle"
           },
           "mode": "markers",
           "name": "Dalarna",
           "orientation": "v",
           "showlegend": true,
           "type": "scatter",
           "x": [
            2,
            2
           ],
           "xaxis": "x",
           "y": [
            0.013439645069479323,
            0
           ],
           "yaxis": "y"
          },
          {
           "hovertemplate": "Region=Gävleborg<br>Vecka=%{x}<br>Andel vaccinerade=%{y}<extra></extra>",
           "legendgroup": "Gävleborg",
           "marker": {
            "color": "#B6E880",
            "symbol": "circle"
           },
           "mode": "markers",
           "name": "Gävleborg",
           "orientation": "v",
           "showlegend": true,
           "type": "scatter",
           "x": [
            2,
            2
           ],
           "xaxis": "x",
           "y": [
            0.020232515470451854,
            0
           ],
           "yaxis": "y"
          },
          {
           "hovertemplate": "Region=Västernorrland<br>Vecka=%{x}<br>Andel vaccinerade=%{y}<extra></extra>",
           "legendgroup": "Västernorrland",
           "marker": {
            "color": "#FF97FF",
            "symbol": "circle"
           },
           "mode": "markers",
           "name": "Västernorrland",
           "orientation": "v",
           "showlegend": true,
           "type": "scatter",
           "x": [
            2,
            2
           ],
           "xaxis": "x",
           "y": [
            0.02402849709198348,
            0
           ],
           "yaxis": "y"
          },
          {
           "hovertemplate": "Region=Jämtland<br>Vecka=%{x}<br>Andel vaccinerade=%{y}<extra></extra>",
           "legendgroup": "Jämtland",
           "marker": {
            "color": "#FECB52",
            "symbol": "circle"
           },
           "mode": "markers",
           "name": "Jämtland",
           "orientation": "v",
           "showlegend": true,
           "type": "scatter",
           "x": [
            2,
            2
           ],
           "xaxis": "x",
           "y": [
            0.019834240452305123,
            0
           ],
           "yaxis": "y"
          },
          {
           "hovertemplate": "Region=Västerbotten<br>Vecka=%{x}<br>Andel vaccinerade=%{y}<extra></extra>",
           "legendgroup": "Västerbotten",
           "marker": {
            "color": "#636efa",
            "symbol": "circle"
           },
           "mode": "markers",
           "name": "Västerbotten",
           "orientation": "v",
           "showlegend": true,
           "type": "scatter",
           "x": [
            2,
            2
           ],
           "xaxis": "x",
           "y": [
            0.015184133483017457,
            0
           ],
           "yaxis": "y"
          },
          {
           "hovertemplate": "Region=Norrbotten<br>Vecka=%{x}<br>Andel vaccinerade=%{y}<extra></extra>",
           "legendgroup": "Norrbotten",
           "marker": {
            "color": "#EF553B",
            "symbol": "circle"
           },
           "mode": "markers",
           "name": "Norrbotten",
           "orientation": "v",
           "showlegend": true,
           "type": "scatter",
           "x": [
            2,
            2
           ],
           "xaxis": "x",
           "y": [
            0.016771736710731355,
            0
           ],
           "yaxis": "y"
          }
         ],
         "name": "2"
        },
        {
         "data": [
          {
           "hovertemplate": "Region=| Sverige |<br>Vecka=%{x}<br>Andel vaccinerade=%{y}<extra></extra>",
           "legendgroup": "| Sverige |",
           "marker": {
            "color": "#636efa",
            "symbol": "circle"
           },
           "mode": "markers",
           "name": "| Sverige |",
           "orientation": "v",
           "showlegend": true,
           "type": "scatter",
           "x": [
            3,
            3
           ],
           "xaxis": "x",
           "y": [
            0.027793722809947716,
            0.0008882517900550688
           ],
           "yaxis": "y"
          },
          {
           "hovertemplate": "Region=Stockholm<br>Vecka=%{x}<br>Andel vaccinerade=%{y}<extra></extra>",
           "legendgroup": "Stockholm",
           "marker": {
            "color": "#EF553B",
            "symbol": "circle"
           },
           "mode": "markers",
           "name": "Stockholm",
           "orientation": "v",
           "showlegend": true,
           "type": "scatter",
           "x": [
            3,
            3
           ],
           "xaxis": "x",
           "y": [
            0.01790837333300534,
            0.000766681733807692
           ],
           "yaxis": "y"
          },
          {
           "hovertemplate": "Region=Uppsala<br>Vecka=%{x}<br>Andel vaccinerade=%{y}<extra></extra>",
           "legendgroup": "Uppsala",
           "marker": {
            "color": "#00cc96",
            "symbol": "circle"
           },
           "mode": "markers",
           "name": "Uppsala",
           "orientation": "v",
           "showlegend": true,
           "type": "scatter",
           "x": [
            3,
            3
           ],
           "xaxis": "x",
           "y": [
            0.025357633746724235,
            0.0003224887363764164
           ],
           "yaxis": "y"
          },
          {
           "hovertemplate": "Region=Södermanland<br>Vecka=%{x}<br>Andel vaccinerade=%{y}<extra></extra>",
           "legendgroup": "Södermanland",
           "marker": {
            "color": "#ab63fa",
            "symbol": "circle"
           },
           "mode": "markers",
           "name": "Södermanland",
           "orientation": "v",
           "showlegend": true,
           "type": "scatter",
           "x": [
            3,
            3
           ],
           "xaxis": "x",
           "y": [
            0.04412112899143541,
            0.0018451841510111772
           ],
           "yaxis": "y"
          },
          {
           "hovertemplate": "Region=Östergötland<br>Vecka=%{x}<br>Andel vaccinerade=%{y}<extra></extra>",
           "legendgroup": "Östergötland",
           "marker": {
            "color": "#FFA15A",
            "symbol": "circle"
           },
           "mode": "markers",
           "name": "Östergötland",
           "orientation": "v",
           "showlegend": true,
           "type": "scatter",
           "x": [
            3,
            3
           ],
           "xaxis": "x",
           "y": [
            0.029752991103119866,
            0.004795610112493458
           ],
           "yaxis": "y"
          },
          {
           "hovertemplate": "Region=Jönköping<br>Vecka=%{x}<br>Andel vaccinerade=%{y}<extra></extra>",
           "legendgroup": "Jönköping",
           "marker": {
            "color": "#19d3f3",
            "symbol": "circle"
           },
           "mode": "markers",
           "name": "Jönköping",
           "orientation": "v",
           "showlegend": true,
           "type": "scatter",
           "x": [
            3,
            3
           ],
           "xaxis": "x",
           "y": [
            0.034874244106292994,
            0.0013449290139087796
           ],
           "yaxis": "y"
          },
          {
           "hovertemplate": "Region=Kronoberg<br>Vecka=%{x}<br>Andel vaccinerade=%{y}<extra></extra>",
           "legendgroup": "Kronoberg",
           "marker": {
            "color": "#FF6692",
            "symbol": "circle"
           },
           "mode": "markers",
           "name": "Kronoberg",
           "orientation": "v",
           "showlegend": true,
           "type": "scatter",
           "x": [
            3,
            3
           ],
           "xaxis": "x",
           "y": [
            0.026643918906655534,
            0.0007925416386857119
           ],
           "yaxis": "y"
          },
          {
           "hovertemplate": "Region=Kalmar<br>Vecka=%{x}<br>Andel vaccinerade=%{y}<extra></extra>",
           "legendgroup": "Kalmar",
           "marker": {
            "color": "#B6E880",
            "symbol": "circle"
           },
           "mode": "markers",
           "name": "Kalmar",
           "orientation": "v",
           "showlegend": true,
           "type": "scatter",
           "x": [
            3,
            3
           ],
           "xaxis": "x",
           "y": [
            0.03980397601336704,
            0.0010278593732493508
           ],
           "yaxis": "y"
          },
          {
           "hovertemplate": "Region=Gotland<br>Vecka=%{x}<br>Andel vaccinerade=%{y}<extra></extra>",
           "legendgroup": "Gotland",
           "marker": {
            "color": "#FF97FF",
            "symbol": "circle"
           },
           "mode": "markers",
           "name": "Gotland",
           "orientation": "v",
           "showlegend": true,
           "type": "scatter",
           "x": [
            3,
            3
           ],
           "xaxis": "x",
           "y": [
            0.043351748815445415,
            0.002319957532980752
           ],
           "yaxis": "y"
          },
          {
           "hovertemplate": "Region=Blekinge<br>Vecka=%{x}<br>Andel vaccinerade=%{y}<extra></extra>",
           "legendgroup": "Blekinge",
           "marker": {
            "color": "#FECB52",
            "symbol": "circle"
           },
           "mode": "markers",
           "name": "Blekinge",
           "orientation": "v",
           "showlegend": true,
           "type": "scatter",
           "x": [
            3,
            3
           ],
           "xaxis": "x",
           "y": [
            0.03194099484384318,
            0.0017967281429531266
           ],
           "yaxis": "y"
          },
          {
           "hovertemplate": "Region=Skåne<br>Vecka=%{x}<br>Andel vaccinerade=%{y}<extra></extra>",
           "legendgroup": "Skåne",
           "marker": {
            "color": "#636efa",
            "symbol": "circle"
           },
           "mode": "markers",
           "name": "Skåne",
           "orientation": "v",
           "showlegend": true,
           "type": "scatter",
           "x": [
            3,
            3
           ],
           "xaxis": "x",
           "y": [
            0.02527707563678787,
            0.00028242051094357485
           ],
           "yaxis": "y"
          },
          {
           "hovertemplate": "Region=Halland<br>Vecka=%{x}<br>Andel vaccinerade=%{y}<extra></extra>",
           "legendgroup": "Halland",
           "marker": {
            "color": "#EF553B",
            "symbol": "circle"
           },
           "mode": "markers",
           "name": "Halland",
           "orientation": "v",
           "showlegend": true,
           "type": "scatter",
           "x": [
            3,
            3
           ],
           "xaxis": "x",
           "y": [
            0.0261709686774942,
            0.000554669373549884
           ],
           "yaxis": "y"
          },
          {
           "hovertemplate": "Region=Västra Götaland<br>Vecka=%{x}<br>Andel vaccinerade=%{y}<extra></extra>",
           "legendgroup": "Västra Götaland",
           "marker": {
            "color": "#00cc96",
            "symbol": "circle"
           },
           "mode": "markers",
           "name": "Västra Götaland",
           "orientation": "v",
           "showlegend": true,
           "type": "scatter",
           "x": [
            3,
            3
           ],
           "xaxis": "x",
           "y": [
            0.02814308553381286,
            0.00027718902331467675
           ],
           "yaxis": "y"
          },
          {
           "hovertemplate": "Region=Värmland<br>Vecka=%{x}<br>Andel vaccinerade=%{y}<extra></extra>",
           "legendgroup": "Värmland",
           "marker": {
            "color": "#ab63fa",
            "symbol": "circle"
           },
           "mode": "markers",
           "name": "Värmland",
           "orientation": "v",
           "showlegend": true,
           "type": "scatter",
           "x": [
            3,
            3
           ],
           "xaxis": "x",
           "y": [
            0.027721559100031688,
            0.0002070349635576212
           ],
           "yaxis": "y"
          },
          {
           "hovertemplate": "Region=Örebro<br>Vecka=%{x}<br>Andel vaccinerade=%{y}<extra></extra>",
           "legendgroup": "Örebro",
           "marker": {
            "color": "#FFA15A",
            "symbol": "circle"
           },
           "mode": "markers",
           "name": "Örebro",
           "orientation": "v",
           "showlegend": true,
           "type": "scatter",
           "x": [
            3,
            3
           ],
           "xaxis": "x",
           "y": [
            0.037854977331516146,
            0.00319067353807153
           ],
           "yaxis": "y"
          },
          {
           "hovertemplate": "Region=Västmanland<br>Vecka=%{x}<br>Andel vaccinerade=%{y}<extra></extra>",
           "legendgroup": "Västmanland",
           "marker": {
            "color": "#19d3f3",
            "symbol": "circle"
           },
           "mode": "markers",
           "name": "Västmanland",
           "orientation": "v",
           "showlegend": true,
           "type": "scatter",
           "x": [
            3,
            3
           ],
           "xaxis": "x",
           "y": [
            0.039539710479993696,
            0.000595503945213637
           ],
           "yaxis": "y"
          },
          {
           "hovertemplate": "Region=Dalarna<br>Vecka=%{x}<br>Andel vaccinerade=%{y}<extra></extra>",
           "legendgroup": "Dalarna",
           "marker": {
            "color": "#FF6692",
            "symbol": "circle"
           },
           "mode": "markers",
           "name": "Dalarna",
           "orientation": "v",
           "showlegend": true,
           "type": "scatter",
           "x": [
            3,
            3
           ],
           "xaxis": "x",
           "y": [
            0.041926167754897034,
            0.00042692114515318936
           ],
           "yaxis": "y"
          },
          {
           "hovertemplate": "Region=Gävleborg<br>Vecka=%{x}<br>Andel vaccinerade=%{y}<extra></extra>",
           "legendgroup": "Gävleborg",
           "marker": {
            "color": "#B6E880",
            "symbol": "circle"
           },
           "mode": "markers",
           "name": "Gävleborg",
           "orientation": "v",
           "showlegend": true,
           "type": "scatter",
           "x": [
            3,
            3
           ],
           "xaxis": "x",
           "y": [
            0.030344603272563508,
            0.0014594765899954964
           ],
           "yaxis": "y"
          },
          {
           "hovertemplate": "Region=Västernorrland<br>Vecka=%{x}<br>Andel vaccinerade=%{y}<extra></extra>",
           "legendgroup": "Västernorrland",
           "marker": {
            "color": "#FF97FF",
            "symbol": "circle"
           },
           "mode": "markers",
           "name": "Västernorrland",
           "orientation": "v",
           "showlegend": true,
           "type": "scatter",
           "x": [
            3,
            3
           ],
           "xaxis": "x",
           "y": [
            0.03907570642507509,
            0.0002645878554174363
           ],
           "yaxis": "y"
          },
          {
           "hovertemplate": "Region=Jämtland<br>Vecka=%{x}<br>Andel vaccinerade=%{y}<extra></extra>",
           "legendgroup": "Jämtland",
           "marker": {
            "color": "#FECB52",
            "symbol": "circle"
           },
           "mode": "markers",
           "name": "Jämtland",
           "orientation": "v",
           "showlegend": true,
           "type": "scatter",
           "x": [
            3,
            3
           ],
           "xaxis": "x",
           "y": [
            0.032362578359476105,
            0.00089029214431911
           ],
           "yaxis": "y"
          },
          {
           "hovertemplate": "Region=Västerbotten<br>Vecka=%{x}<br>Andel vaccinerade=%{y}<extra></extra>",
           "legendgroup": "Västerbotten",
           "marker": {
            "color": "#636efa",
            "symbol": "circle"
           },
           "mode": "markers",
           "name": "Västerbotten",
           "orientation": "v",
           "showlegend": true,
           "type": "scatter",
           "x": [
            3,
            3
           ],
           "xaxis": "x",
           "y": [
            0.02510731030839332,
            0.0003081731933346541
           ],
           "yaxis": "y"
          },
          {
           "hovertemplate": "Region=Norrbotten<br>Vecka=%{x}<br>Andel vaccinerade=%{y}<extra></extra>",
           "legendgroup": "Norrbotten",
           "marker": {
            "color": "#EF553B",
            "symbol": "circle"
           },
           "mode": "markers",
           "name": "Norrbotten",
           "orientation": "v",
           "showlegend": true,
           "type": "scatter",
           "x": [
            3,
            3
           ],
           "xaxis": "x",
           "y": [
            0.03261039459287923,
            0.00026050424148269544
           ],
           "yaxis": "y"
          }
         ],
         "name": "3"
        },
        {
         "data": [
          {
           "hovertemplate": "Region=| Sverige |<br>Vecka=%{x}<br>Andel vaccinerade=%{y}<extra></extra>",
           "legendgroup": "| Sverige |",
           "marker": {
            "color": "#636efa",
            "symbol": "circle"
           },
           "mode": "markers",
           "name": "| Sverige |",
           "orientation": "v",
           "showlegend": true,
           "type": "scatter",
           "x": [
            4,
            4
           ],
           "xaxis": "x",
           "y": [
            0.035369912323331615,
            0.003018908746323976
           ],
           "yaxis": "y"
          },
          {
           "hovertemplate": "Region=Stockholm<br>Vecka=%{x}<br>Andel vaccinerade=%{y}<extra></extra>",
           "legendgroup": "Stockholm",
           "marker": {
            "color": "#EF553B",
            "symbol": "circle"
           },
           "mode": "markers",
           "name": "Stockholm",
           "orientation": "v",
           "showlegend": true,
           "type": "scatter",
           "x": [
            4,
            4
           ],
           "xaxis": "x",
           "y": [
            0.022985589868321388,
            0.002418942368698066
           ],
           "yaxis": "y"
          },
          {
           "hovertemplate": "Region=Uppsala<br>Vecka=%{x}<br>Andel vaccinerade=%{y}<extra></extra>",
           "legendgroup": "Uppsala",
           "marker": {
            "color": "#00cc96",
            "symbol": "circle"
           },
           "mode": "markers",
           "name": "Uppsala",
           "orientation": "v",
           "showlegend": true,
           "type": "scatter",
           "x": [
            4,
            4
           ],
           "xaxis": "x",
           "y": [
            0.033995948539564357,
            0.0022229806099733555
           ],
           "yaxis": "y"
          },
          {
           "hovertemplate": "Region=Södermanland<br>Vecka=%{x}<br>Andel vaccinerade=%{y}<extra></extra>",
           "legendgroup": "Södermanland",
           "marker": {
            "color": "#ab63fa",
            "symbol": "circle"
           },
           "mode": "markers",
           "name": "Södermanland",
           "orientation": "v",
           "showlegend": true,
           "type": "scatter",
           "x": [
            4,
            4
           ],
           "xaxis": "x",
           "y": [
            0.04797887019211143,
            0.005886627313624154
           ],
           "yaxis": "y"
          },
          {
           "hovertemplate": "Region=Östergötland<br>Vecka=%{x}<br>Andel vaccinerade=%{y}<extra></extra>",
           "legendgroup": "Östergötland",
           "marker": {
            "color": "#FFA15A",
            "symbol": "circle"
           },
           "mode": "markers",
           "name": "Östergötland",
           "orientation": "v",
           "showlegend": true,
           "type": "scatter",
           "x": [
            4,
            4
           ],
           "xaxis": "x",
           "y": [
            0.03758245288591578,
            0.00876733907113877
           ],
           "yaxis": "y"
          },
          {
           "hovertemplate": "Region=Jönköping<br>Vecka=%{x}<br>Andel vaccinerade=%{y}<extra></extra>",
           "legendgroup": "Jönköping",
           "marker": {
            "color": "#19d3f3",
            "symbol": "circle"
           },
           "mode": "markers",
           "name": "Jönköping",
           "orientation": "v",
           "showlegend": true,
           "type": "scatter",
           "x": [
            4,
            4
           ],
           "xaxis": "x",
           "y": [
            0.044305516892107176,
            0.0023477563833819094
           ],
           "yaxis": "y"
          },
          {
           "hovertemplate": "Region=Kronoberg<br>Vecka=%{x}<br>Andel vaccinerade=%{y}<extra></extra>",
           "legendgroup": "Kronoberg",
           "marker": {
            "color": "#FF6692",
            "symbol": "circle"
           },
           "mode": "markers",
           "name": "Kronoberg",
           "orientation": "v",
           "showlegend": true,
           "type": "scatter",
           "x": [
            4,
            4
           ],
           "xaxis": "x",
           "y": [
            0.03335329812270481,
            0.0041381563424505875
           ],
           "yaxis": "y"
          },
          {
           "hovertemplate": "Region=Kalmar<br>Vecka=%{x}<br>Andel vaccinerade=%{y}<extra></extra>",
           "legendgroup": "Kalmar",
           "marker": {
            "color": "#B6E880",
            "symbol": "circle"
           },
           "mode": "markers",
           "name": "Kalmar",
           "orientation": "v",
           "showlegend": true,
           "type": "scatter",
           "x": [
            4,
            4
           ],
           "xaxis": "x",
           "y": [
            0.05623511187104505,
            0.007229115212805861
           ],
           "yaxis": "y"
          },
          {
           "hovertemplate": "Region=Gotland<br>Vecka=%{x}<br>Andel vaccinerade=%{y}<extra></extra>",
           "legendgroup": "Gotland",
           "marker": {
            "color": "#FF97FF",
            "symbol": "circle"
           },
           "mode": "markers",
           "name": "Gotland",
           "orientation": "v",
           "showlegend": true,
           "type": "scatter",
           "x": [
            4,
            4
           ],
           "xaxis": "x",
           "y": [
            0.08108054971197137,
            0.005347698720091225
           ],
           "yaxis": "y"
          },
          {
           "hovertemplate": "Region=Blekinge<br>Vecka=%{x}<br>Andel vaccinerade=%{y}<extra></extra>",
           "legendgroup": "Blekinge",
           "marker": {
            "color": "#FECB52",
            "symbol": "circle"
           },
           "mode": "markers",
           "name": "Blekinge",
           "orientation": "v",
           "showlegend": true,
           "type": "scatter",
           "x": [
            4,
            4
           ],
           "xaxis": "x",
           "y": [
            0.04200418229996301,
            0.007088771958962126
           ],
           "yaxis": "y"
          },
          {
           "hovertemplate": "Region=Skåne<br>Vecka=%{x}<br>Andel vaccinerade=%{y}<extra></extra>",
           "legendgroup": "Skåne",
           "marker": {
            "color": "#636efa",
            "symbol": "circle"
           },
           "mode": "markers",
           "name": "Skåne",
           "orientation": "v",
           "showlegend": true,
           "type": "scatter",
           "x": [
            4,
            4
           ],
           "xaxis": "x",
           "y": [
            0.034417470304055155,
            0.0010812922366032819
           ],
           "yaxis": "y"
          },
          {
           "hovertemplate": "Region=Halland<br>Vecka=%{x}<br>Andel vaccinerade=%{y}<extra></extra>",
           "legendgroup": "Halland",
           "marker": {
            "color": "#EF553B",
            "symbol": "circle"
           },
           "mode": "markers",
           "name": "Halland",
           "orientation": "v",
           "showlegend": true,
           "type": "scatter",
           "x": [
            4,
            4
           ],
           "xaxis": "x",
           "y": [
            0.03862383990719258,
            0.0010259570765661253
           ],
           "yaxis": "y"
          },
          {
           "hovertemplate": "Region=Västra Götaland<br>Vecka=%{x}<br>Andel vaccinerade=%{y}<extra></extra>",
           "legendgroup": "Västra Götaland",
           "marker": {
            "color": "#00cc96",
            "symbol": "circle"
           },
           "mode": "markers",
           "name": "Västra Götaland",
           "orientation": "v",
           "showlegend": true,
           "type": "scatter",
           "x": [
            4,
            4
           ],
           "xaxis": "x",
           "y": [
            0.03425384354779551,
            0.0011787533213684738
           ],
           "yaxis": "y"
          },
          {
           "hovertemplate": "Region=Värmland<br>Vecka=%{x}<br>Andel vaccinerade=%{y}<extra></extra>",
           "legendgroup": "Värmland",
           "marker": {
            "color": "#ab63fa",
            "symbol": "circle"
           },
           "mode": "markers",
           "name": "Värmland",
           "orientation": "v",
           "showlegend": true,
           "type": "scatter",
           "x": [
            4,
            4
           ],
           "xaxis": "x",
           "y": [
            0.04263230167951833,
            0.002104151262279497
           ],
           "yaxis": "y"
          },
          {
           "hovertemplate": "Region=Örebro<br>Vecka=%{x}<br>Andel vaccinerade=%{y}<extra></extra>",
           "legendgroup": "Örebro",
           "marker": {
            "color": "#FFA15A",
            "symbol": "circle"
           },
           "mode": "markers",
           "name": "Örebro",
           "orientation": "v",
           "showlegend": true,
           "type": "scatter",
           "x": [
            4,
            4
           ],
           "xaxis": "x",
           "y": [
            0.04333037974180577,
            0.007632981153966886
           ],
           "yaxis": "y"
          },
          {
           "hovertemplate": "Region=Västmanland<br>Vecka=%{x}<br>Andel vaccinerade=%{y}<extra></extra>",
           "legendgroup": "Västmanland",
           "marker": {
            "color": "#19d3f3",
            "symbol": "circle"
           },
           "mode": "markers",
           "name": "Västmanland",
           "orientation": "v",
           "showlegend": true,
           "type": "scatter",
           "x": [
            4,
            4
           ],
           "xaxis": "x",
           "y": [
            0.04538090358966275,
            0.0011691143630297139
           ],
           "yaxis": "y"
          },
          {
           "hovertemplate": "Region=Dalarna<br>Vecka=%{x}<br>Andel vaccinerade=%{y}<extra></extra>",
           "legendgroup": "Dalarna",
           "marker": {
            "color": "#FF6692",
            "symbol": "circle"
           },
           "mode": "markers",
           "name": "Dalarna",
           "orientation": "v",
           "showlegend": true,
           "type": "scatter",
           "x": [
            4,
            4
           ],
           "xaxis": "x",
           "y": [
            0.0437887158881634,
            0.008412857860371672
           ],
           "yaxis": "y"
          },
          {
           "hovertemplate": "Region=Gävleborg<br>Vecka=%{x}<br>Andel vaccinerade=%{y}<extra></extra>",
           "legendgroup": "Gävleborg",
           "marker": {
            "color": "#B6E880",
            "symbol": "circle"
           },
           "mode": "markers",
           "name": "Gävleborg",
           "orientation": "v",
           "showlegend": true,
           "type": "scatter",
           "x": [
            4,
            4
           ],
           "xaxis": "x",
           "y": [
            0.040081397094390604,
            0.005366703918069154
           ],
           "yaxis": "y"
          },
          {
           "hovertemplate": "Region=Västernorrland<br>Vecka=%{x}<br>Andel vaccinerade=%{y}<extra></extra>",
           "legendgroup": "Västernorrland",
           "marker": {
            "color": "#FF97FF",
            "symbol": "circle"
           },
           "mode": "markers",
           "name": "Västernorrland",
           "orientation": "v",
           "showlegend": true,
           "type": "scatter",
           "x": [
            4,
            4
           ],
           "xaxis": "x",
           "y": [
            0.04187347800735946,
            0.003513138746931516
           ],
           "yaxis": "y"
          },
          {
           "hovertemplate": "Region=Jämtland<br>Vecka=%{x}<br>Andel vaccinerade=%{y}<extra></extra>",
           "legendgroup": "Jämtland",
           "marker": {
            "color": "#FECB52",
            "symbol": "circle"
           },
           "mode": "markers",
           "name": "Jämtland",
           "orientation": "v",
           "showlegend": true,
           "type": "scatter",
           "x": [
            4,
            4
           ],
           "xaxis": "x",
           "y": [
            0.03599717309298505,
            0.0068561673382100535
           ],
           "yaxis": "y"
          },
          {
           "hovertemplate": "Region=Västerbotten<br>Vecka=%{x}<br>Andel vaccinerade=%{y}<extra></extra>",
           "legendgroup": "Västerbotten",
           "marker": {
            "color": "#636efa",
            "symbol": "circle"
           },
           "mode": "markers",
           "name": "Västerbotten",
           "orientation": "v",
           "showlegend": true,
           "type": "scatter",
           "x": [
            4,
            4
           ],
           "xaxis": "x",
           "y": [
            0.03573928547843888,
            0.00035660040943009974
           ],
           "yaxis": "y"
          },
          {
           "hovertemplate": "Region=Norrbotten<br>Vecka=%{x}<br>Andel vaccinerade=%{y}<extra></extra>",
           "legendgroup": "Norrbotten",
           "marker": {
            "color": "#EF553B",
            "symbol": "circle"
           },
           "mode": "markers",
           "name": "Norrbotten",
           "orientation": "v",
           "showlegend": true,
           "type": "scatter",
           "x": [
            4,
            4
           ],
           "xaxis": "x",
           "y": [
            0.04481146597577784,
            0.00344339242832581
           ],
           "yaxis": "y"
          }
         ],
         "name": "4"
        },
        {
         "data": [
          {
           "hovertemplate": "Region=| Sverige |<br>Vecka=%{x}<br>Andel vaccinerade=%{y}<extra></extra>",
           "legendgroup": "| Sverige |",
           "marker": {
            "color": "#636efa",
            "symbol": "circle"
           },
           "mode": "markers",
           "name": "| Sverige |",
           "orientation": "v",
           "showlegend": true,
           "type": "scatter",
           "x": [
            5,
            5
           ],
           "xaxis": "x",
           "y": [
            0.04044443263282771,
            0.008315287121215403
           ],
           "yaxis": "y"
          },
          {
           "hovertemplate": "Region=Stockholm<br>Vecka=%{x}<br>Andel vaccinerade=%{y}<extra></extra>",
           "legendgroup": "Stockholm",
           "marker": {
            "color": "#EF553B",
            "symbol": "circle"
           },
           "mode": "markers",
           "name": "Stockholm",
           "orientation": "v",
           "showlegend": true,
           "type": "scatter",
           "x": [
            5,
            5
           ],
           "xaxis": "x",
           "y": [
            0.027281775011710346,
            0.006885785946149833
           ],
           "yaxis": "y"
          },
          {
           "hovertemplate": "Region=Uppsala<br>Vecka=%{x}<br>Andel vaccinerade=%{y}<extra></extra>",
           "legendgroup": "Uppsala",
           "marker": {
            "color": "#00cc96",
            "symbol": "circle"
           },
           "mode": "markers",
           "name": "Uppsala",
           "orientation": "v",
           "showlegend": true,
           "type": "scatter",
           "x": [
            5,
            5
           ],
           "xaxis": "x",
           "y": [
            0.04084335501000341,
            0.007752253507456378
           ],
           "yaxis": "y"
          },
          {
           "hovertemplate": "Region=Södermanland<br>Vecka=%{x}<br>Andel vaccinerade=%{y}<extra></extra>",
           "legendgroup": "Södermanland",
           "marker": {
            "color": "#ab63fa",
            "symbol": "circle"
           },
           "mode": "markers",
           "name": "Södermanland",
           "orientation": "v",
           "showlegend": true,
           "type": "scatter",
           "x": [
            5,
            5
           ],
           "xaxis": "x",
           "y": [
            0.0495138021407402,
            0.016398461802238716
           ],
           "yaxis": "y"
          },
          {
           "hovertemplate": "Region=Östergötland<br>Vecka=%{x}<br>Andel vaccinerade=%{y}<extra></extra>",
           "legendgroup": "Östergötland",
           "marker": {
            "color": "#FFA15A",
            "symbol": "circle"
           },
           "mode": "markers",
           "name": "Östergötland",
           "orientation": "v",
           "showlegend": true,
           "type": "scatter",
           "x": [
            5,
            5
           ],
           "xaxis": "x",
           "y": [
            0.043831513713216814,
            0.013557767541155195
           ],
           "yaxis": "y"
          },
          {
           "hovertemplate": "Region=Jönköping<br>Vecka=%{x}<br>Andel vaccinerade=%{y}<extra></extra>",
           "legendgroup": "Jönköping",
           "marker": {
            "color": "#19d3f3",
            "symbol": "circle"
           },
           "mode": "markers",
           "name": "Jönköping",
           "orientation": "v",
           "showlegend": true,
           "type": "scatter",
           "x": [
            5,
            5
           ],
           "xaxis": "x",
           "y": [
            0.045700754971374144,
            0.01521681530200532
           ],
           "yaxis": "y"
          },
          {
           "hovertemplate": "Region=Kronoberg<br>Vecka=%{x}<br>Andel vaccinerade=%{y}<extra></extra>",
           "legendgroup": "Kronoberg",
           "marker": {
            "color": "#FF6692",
            "symbol": "circle"
           },
           "mode": "markers",
           "name": "Kronoberg",
           "orientation": "v",
           "showlegend": true,
           "type": "scatter",
           "x": [
            5,
            5
           ],
           "xaxis": "x",
           "y": [
            0.04216200519084524,
            0.008863156493698992
           ],
           "yaxis": "y"
          },
          {
           "hovertemplate": "Region=Kalmar<br>Vecka=%{x}<br>Andel vaccinerade=%{y}<extra></extra>",
           "legendgroup": "Kalmar",
           "marker": {
            "color": "#B6E880",
            "symbol": "circle"
           },
           "mode": "markers",
           "name": "Kalmar",
           "orientation": "v",
           "showlegend": true,
           "type": "scatter",
           "x": [
            5,
            5
           ],
           "xaxis": "x",
           "y": [
            0.06657216206078498,
            0.007784451556646743
           ],
           "yaxis": "y"
          },
          {
           "hovertemplate": "Region=Gotland<br>Vecka=%{x}<br>Andel vaccinerade=%{y}<extra></extra>",
           "legendgroup": "Gotland",
           "marker": {
            "color": "#FF97FF",
            "symbol": "circle"
           },
           "mode": "markers",
           "name": "Gotland",
           "orientation": "v",
           "showlegend": true,
           "type": "scatter",
           "x": [
            5,
            5
           ],
           "xaxis": "x",
           "y": [
            0.09635688024693785,
            0.017733912667361344
           ],
           "yaxis": "y"
          },
          {
           "hovertemplate": "Region=Blekinge<br>Vecka=%{x}<br>Andel vaccinerade=%{y}<extra></extra>",
           "legendgroup": "Blekinge",
           "marker": {
            "color": "#FECB52",
            "symbol": "circle"
           },
           "mode": "markers",
           "name": "Blekinge",
           "orientation": "v",
           "showlegend": true,
           "type": "scatter",
           "x": [
            5,
            5
           ],
           "xaxis": "x",
           "y": [
            0.05315446577534859,
            0.015408076217509795
           ],
           "yaxis": "y"
          },
          {
           "hovertemplate": "Region=Skåne<br>Vecka=%{x}<br>Andel vaccinerade=%{y}<extra></extra>",
           "legendgroup": "Skåne",
           "marker": {
            "color": "#636efa",
            "symbol": "circle"
           },
           "mode": "markers",
           "name": "Skåne",
           "orientation": "v",
           "showlegend": true,
           "type": "scatter",
           "x": [
            5,
            5
           ],
           "xaxis": "x",
           "y": [
            0.04036501751271112,
            0.006846717807361058
           ],
           "yaxis": "y"
          },
          {
           "hovertemplate": "Region=Halland<br>Vecka=%{x}<br>Andel vaccinerade=%{y}<extra></extra>",
           "legendgroup": "Halland",
           "marker": {
            "color": "#EF553B",
            "symbol": "circle"
           },
           "mode": "markers",
           "name": "Halland",
           "orientation": "v",
           "showlegend": true,
           "type": "scatter",
           "x": [
            5,
            5
           ],
           "xaxis": "x",
           "y": [
            0.04667198375870069,
            0.007272331786542924
           ],
           "yaxis": "y"
          },
          {
           "hovertemplate": "Region=Västra Götaland<br>Vecka=%{x}<br>Andel vaccinerade=%{y}<extra></extra>",
           "legendgroup": "Västra Götaland",
           "marker": {
            "color": "#00cc96",
            "symbol": "circle"
           },
           "mode": "markers",
           "name": "Västra Götaland",
           "orientation": "v",
           "showlegend": true,
           "type": "scatter",
           "x": [
            5,
            5
           ],
           "xaxis": "x",
           "y": [
            0.03796369663761315,
            0.003626556388367021
           ],
           "yaxis": "y"
          },
          {
           "hovertemplate": "Region=Värmland<br>Vecka=%{x}<br>Andel vaccinerade=%{y}<extra></extra>",
           "legendgroup": "Värmland",
           "marker": {
            "color": "#ab63fa",
            "symbol": "circle"
           },
           "mode": "markers",
           "name": "Värmland",
           "orientation": "v",
           "showlegend": true,
           "type": "scatter",
           "x": [
            5,
            5
           ],
           "xaxis": "x",
           "y": [
            0.051771416499419035,
            0.005142072462237245
           ],
           "yaxis": "y"
          },
          {
           "hovertemplate": "Region=Örebro<br>Vecka=%{x}<br>Andel vaccinerade=%{y}<extra></extra>",
           "legendgroup": "Örebro",
           "marker": {
            "color": "#FFA15A",
            "symbol": "circle"
           },
           "mode": "markers",
           "name": "Örebro",
           "orientation": "v",
           "showlegend": true,
           "type": "scatter",
           "x": [
            5,
            5
           ],
           "xaxis": "x",
           "y": [
            0.0484640661816419,
            0.014117637709549371
           ],
           "yaxis": "y"
          },
          {
           "hovertemplate": "Region=Västmanland<br>Vecka=%{x}<br>Andel vaccinerade=%{y}<extra></extra>",
           "legendgroup": "Västmanland",
           "marker": {
            "color": "#19d3f3",
            "symbol": "circle"
           },
           "mode": "markers",
           "name": "Västmanland",
           "orientation": "v",
           "showlegend": true,
           "type": "scatter",
           "x": [
            5,
            5
           ],
           "xaxis": "x",
           "y": [
            0.04738635069927927,
            0.017208312534482306
           ],
           "yaxis": "y"
          },
          {
           "hovertemplate": "Region=Dalarna<br>Vecka=%{x}<br>Andel vaccinerade=%{y}<extra></extra>",
           "legendgroup": "Dalarna",
           "marker": {
            "color": "#FF6692",
            "symbol": "circle"
           },
           "mode": "markers",
           "name": "Dalarna",
           "orientation": "v",
           "showlegend": true,
           "type": "scatter",
           "x": [
            5,
            5
           ],
           "xaxis": "x",
           "y": [
            0.044110999497739826,
            0.008663987945755902
           ],
           "yaxis": "y"
          },
          {
           "hovertemplate": "Region=Gävleborg<br>Vecka=%{x}<br>Andel vaccinerade=%{y}<extra></extra>",
           "legendgroup": "Gävleborg",
           "marker": {
            "color": "#B6E880",
            "symbol": "circle"
           },
           "mode": "markers",
           "name": "Gävleborg",
           "orientation": "v",
           "showlegend": true,
           "type": "scatter",
           "x": [
            5,
            5
           ],
           "xaxis": "x",
           "y": [
            0.052341000450352775,
            0.013998465464613948
           ],
           "yaxis": "y"
          },
          {
           "hovertemplate": "Region=Västernorrland<br>Vecka=%{x}<br>Andel vaccinerade=%{y}<extra></extra>",
           "legendgroup": "Västernorrland",
           "marker": {
            "color": "#FF97FF",
            "symbol": "circle"
           },
           "mode": "markers",
           "name": "Västernorrland",
           "orientation": "v",
           "showlegend": true,
           "type": "scatter",
           "x": [
            5,
            5
           ],
           "xaxis": "x",
           "y": [
            0.04529842080248517,
            0.00793763566252309
           ],
           "yaxis": "y"
          },
          {
           "hovertemplate": "Region=Jämtland<br>Vecka=%{x}<br>Andel vaccinerade=%{y}<extra></extra>",
           "legendgroup": "Jämtland",
           "marker": {
            "color": "#FECB52",
            "symbol": "circle"
           },
           "mode": "markers",
           "name": "Jämtland",
           "orientation": "v",
           "showlegend": true,
           "type": "scatter",
           "x": [
            5,
            5
           ],
           "xaxis": "x",
           "y": [
            0.03684157388965884,
            0.014198782961460446
           ],
           "yaxis": "y"
          },
          {
           "hovertemplate": "Region=Västerbotten<br>Vecka=%{x}<br>Andel vaccinerade=%{y}<extra></extra>",
           "legendgroup": "Västerbotten",
           "marker": {
            "color": "#636efa",
            "symbol": "circle"
           },
           "mode": "markers",
           "name": "Västerbotten",
           "orientation": "v",
           "showlegend": true,
           "type": "scatter",
           "x": [
            5,
            5
           ],
           "xaxis": "x",
           "y": [
            0.042127275528847215,
            0.004684232538686742
           ],
           "yaxis": "y"
          },
          {
           "hovertemplate": "Region=Norrbotten<br>Vecka=%{x}<br>Andel vaccinerade=%{y}<extra></extra>",
           "legendgroup": "Norrbotten",
           "marker": {
            "color": "#EF553B",
            "symbol": "circle"
           },
           "mode": "markers",
           "name": "Norrbotten",
           "orientation": "v",
           "showlegend": true,
           "type": "scatter",
           "x": [
            5,
            5
           ],
           "xaxis": "x",
           "y": [
            0.046166088031487855,
            0.009439726423182035
           ],
           "yaxis": "y"
          }
         ],
         "name": "5"
        },
        {
         "data": [
          {
           "hovertemplate": "Region=| Sverige |<br>Vecka=%{x}<br>Andel vaccinerade=%{y}<extra></extra>",
           "legendgroup": "| Sverige |",
           "marker": {
            "color": "#636efa",
            "symbol": "circle"
           },
           "mode": "markers",
           "name": "| Sverige |",
           "orientation": "v",
           "showlegend": true,
           "type": "scatter",
           "x": [
            6,
            6
           ],
           "xaxis": "x",
           "y": [
            0.04588434556612266,
            0.0156316861084187
           ],
           "yaxis": "y"
          },
          {
           "hovertemplate": "Region=Stockholm<br>Vecka=%{x}<br>Andel vaccinerade=%{y}<extra></extra>",
           "legendgroup": "Stockholm",
           "marker": {
            "color": "#EF553B",
            "symbol": "circle"
           },
           "mode": "markers",
           "name": "Stockholm",
           "orientation": "v",
           "showlegend": true,
           "type": "scatter",
           "x": [
            6,
            6
           ],
           "xaxis": "x",
           "y": [
            0.029731979135597095,
            0.012068062478411452
           ],
           "yaxis": "y"
          },
          {
           "hovertemplate": "Region=Uppsala<br>Vecka=%{x}<br>Andel vaccinerade=%{y}<extra></extra>",
           "legendgroup": "Uppsala",
           "marker": {
            "color": "#00cc96",
            "symbol": "circle"
           },
           "mode": "markers",
           "name": "Uppsala",
           "orientation": "v",
           "showlegend": true,
           "type": "scatter",
           "x": [
            6,
            6
           ],
           "xaxis": "x",
           "y": [
            0.04743402287478357,
            0.014414933420165253
           ],
           "yaxis": "y"
          },
          {
           "hovertemplate": "Region=Södermanland<br>Vecka=%{x}<br>Andel vaccinerade=%{y}<extra></extra>",
           "legendgroup": "Södermanland",
           "marker": {
            "color": "#ab63fa",
            "symbol": "circle"
           },
           "mode": "markers",
           "name": "Södermanland",
           "orientation": "v",
           "showlegend": true,
           "type": "scatter",
           "x": [
            6,
            6
           ],
           "xaxis": "x",
           "y": [
            0.05251426751904377,
            0.027836970632179686
           ],
           "yaxis": "y"
          },
          {
           "hovertemplate": "Region=Östergötland<br>Vecka=%{x}<br>Andel vaccinerade=%{y}<extra></extra>",
           "legendgroup": "Östergötland",
           "marker": {
            "color": "#FFA15A",
            "symbol": "circle"
           },
           "mode": "markers",
           "name": "Östergötland",
           "orientation": "v",
           "showlegend": true,
           "type": "scatter",
           "x": [
            6,
            6
           ],
           "xaxis": "x",
           "y": [
            0.048619351361994724,
            0.021335412899180783
           ],
           "yaxis": "y"
          },
          {
           "hovertemplate": "Region=Jönköping<br>Vecka=%{x}<br>Andel vaccinerade=%{y}<extra></extra>",
           "legendgroup": "Jönköping",
           "marker": {
            "color": "#19d3f3",
            "symbol": "circle"
           },
           "mode": "markers",
           "name": "Jönköping",
           "orientation": "v",
           "showlegend": true,
           "type": "scatter",
           "x": [
            6,
            6
           ],
           "xaxis": "x",
           "y": [
            0.05208329839648239,
            0.023735817035991105
           ],
           "yaxis": "y"
          },
          {
           "hovertemplate": "Region=Kronoberg<br>Vecka=%{x}<br>Andel vaccinerade=%{y}<extra></extra>",
           "legendgroup": "Kronoberg",
           "marker": {
            "color": "#FF6692",
            "symbol": "circle"
           },
           "mode": "markers",
           "name": "Kronoberg",
           "orientation": "v",
           "showlegend": true,
           "type": "scatter",
           "x": [
            6,
            6
           ],
           "xaxis": "x",
           "y": [
            0.046191262682178706,
            0.01707291988069526
           ],
           "yaxis": "y"
          },
          {
           "hovertemplate": "Region=Kalmar<br>Vecka=%{x}<br>Andel vaccinerade=%{y}<extra></extra>",
           "legendgroup": "Kalmar",
           "marker": {
            "color": "#B6E880",
            "symbol": "circle"
           },
           "mode": "markers",
           "name": "Kalmar",
           "orientation": "v",
           "showlegend": true,
           "type": "scatter",
           "x": [
            6,
            6
           ],
           "xaxis": "x",
           "y": [
            0.07196964161320336,
            0.021429162952245947
           ],
           "yaxis": "y"
          },
          {
           "hovertemplate": "Region=Gotland<br>Vecka=%{x}<br>Andel vaccinerade=%{y}<extra></extra>",
           "legendgroup": "Gotland",
           "marker": {
            "color": "#FF97FF",
            "symbol": "circle"
           },
           "mode": "markers",
           "name": "Gotland",
           "orientation": "v",
           "showlegend": true,
           "type": "scatter",
           "x": [
            6,
            6
           ],
           "xaxis": "x",
           "y": [
            0.10178322159526572,
            0.02251145233273696
           ],
           "yaxis": "y"
          },
          {
           "hovertemplate": "Region=Blekinge<br>Vecka=%{x}<br>Andel vaccinerade=%{y}<extra></extra>",
           "legendgroup": "Blekinge",
           "marker": {
            "color": "#FECB52",
            "symbol": "circle"
           },
           "mode": "markers",
           "name": "Blekinge",
           "orientation": "v",
           "showlegend": true,
           "type": "scatter",
           "x": [
            6,
            6
           ],
           "xaxis": "x",
           "y": [
            0.06274959800095121,
            0.025312728837486694
           ],
           "yaxis": "y"
          },
          {
           "hovertemplate": "Region=Skåne<br>Vecka=%{x}<br>Andel vaccinerade=%{y}<extra></extra>",
           "legendgroup": "Skåne",
           "marker": {
            "color": "#636efa",
            "symbol": "circle"
           },
           "mode": "markers",
           "name": "Skåne",
           "orientation": "v",
           "showlegend": true,
           "type": "scatter",
           "x": [
            6,
            6
           ],
           "xaxis": "x",
           "y": [
            0.04327104538699968,
            0.011646106864050156
           ],
           "yaxis": "y"
          },
          {
           "hovertemplate": "Region=Halland<br>Vecka=%{x}<br>Andel vaccinerade=%{y}<extra></extra>",
           "legendgroup": "Halland",
           "marker": {
            "color": "#EF553B",
            "symbol": "circle"
           },
           "mode": "markers",
           "name": "Halland",
           "orientation": "v",
           "showlegend": true,
           "type": "scatter",
           "x": [
            6,
            6
           ],
           "xaxis": "x",
           "y": [
            0.05842517401392111,
            0.018536107888631092
           ],
           "yaxis": "y"
          },
          {
           "hovertemplate": "Region=Västra Götaland<br>Vecka=%{x}<br>Andel vaccinerade=%{y}<extra></extra>",
           "legendgroup": "Västra Götaland",
           "marker": {
            "color": "#00cc96",
            "symbol": "circle"
           },
           "mode": "markers",
           "name": "Västra Götaland",
           "orientation": "v",
           "showlegend": true,
           "type": "scatter",
           "x": [
            6,
            6
           ],
           "xaxis": "x",
           "y": [
            0.04579288660169057,
            0.00901004320228919
           ],
           "yaxis": "y"
          },
          {
           "hovertemplate": "Region=Värmland<br>Vecka=%{x}<br>Andel vaccinerade=%{y}<extra></extra>",
           "legendgroup": "Värmland",
           "marker": {
            "color": "#ab63fa",
            "symbol": "circle"
           },
           "mode": "markers",
           "name": "Värmland",
           "orientation": "v",
           "showlegend": true,
           "type": "scatter",
           "x": [
            6,
            6
           ],
           "xaxis": "x",
           "y": [
            0.05979507763811134,
            0.012726312453786838
           ],
           "yaxis": "y"
          },
          {
           "hovertemplate": "Region=Örebro<br>Vecka=%{x}<br>Andel vaccinerade=%{y}<extra></extra>",
           "legendgroup": "Örebro",
           "marker": {
            "color": "#FFA15A",
            "symbol": "circle"
           },
           "mode": "markers",
           "name": "Örebro",
           "orientation": "v",
           "showlegend": true,
           "type": "scatter",
           "x": [
            6,
            6
           ],
           "xaxis": "x",
           "y": [
            0.058775146918000086,
            0.02276781989184292
           ],
           "yaxis": "y"
          },
          {
           "hovertemplate": "Region=Västmanland<br>Vecka=%{x}<br>Andel vaccinerade=%{y}<extra></extra>",
           "legendgroup": "Västmanland",
           "marker": {
            "color": "#19d3f3",
            "symbol": "circle"
           },
           "mode": "markers",
           "name": "Västmanland",
           "orientation": "v",
           "showlegend": true,
           "type": "scatter",
           "x": [
            6,
            6
           ],
           "xaxis": "x",
           "y": [
            0.05130967080892205,
            0.025155662979796652
           ],
           "yaxis": "y"
          },
          {
           "hovertemplate": "Region=Dalarna<br>Vecka=%{x}<br>Andel vaccinerade=%{y}<extra></extra>",
           "legendgroup": "Dalarna",
           "marker": {
            "color": "#FF6692",
            "symbol": "circle"
           },
           "mode": "markers",
           "name": "Dalarna",
           "orientation": "v",
           "showlegend": true,
           "type": "scatter",
           "x": [
            6,
            6
           ],
           "xaxis": "x",
           "y": [
            0.047082705508119875,
            0.03392767453540934
           ],
           "yaxis": "y"
          },
          {
           "hovertemplate": "Region=Gävleborg<br>Vecka=%{x}<br>Andel vaccinerade=%{y}<extra></extra>",
           "legendgroup": "Gävleborg",
           "marker": {
            "color": "#B6E880",
            "symbol": "circle"
           },
           "mode": "markers",
           "name": "Gävleborg",
           "orientation": "v",
           "showlegend": true,
           "type": "scatter",
           "x": [
            6,
            6
           ],
           "xaxis": "x",
           "y": [
            0.0629493102930629,
            0.020215835737994764
           ],
           "yaxis": "y"
          },
          {
           "hovertemplate": "Region=Västernorrland<br>Vecka=%{x}<br>Andel vaccinerade=%{y}<extra></extra>",
           "legendgroup": "Västernorrland",
           "marker": {
            "color": "#FF97FF",
            "symbol": "circle"
           },
           "mode": "markers",
           "name": "Västernorrland",
           "orientation": "v",
           "showlegend": true,
           "type": "scatter",
           "x": [
            6,
            6
           ],
           "xaxis": "x",
           "y": [
            0.04966412041687287,
            0.015919369300949088
           ],
           "yaxis": "y"
          },
          {
           "hovertemplate": "Region=Jämtland<br>Vecka=%{x}<br>Andel vaccinerade=%{y}<extra></extra>",
           "legendgroup": "Jämtland",
           "marker": {
            "color": "#FECB52",
            "symbol": "circle"
           },
           "mode": "markers",
           "name": "Jämtland",
           "orientation": "v",
           "showlegend": true,
           "type": "scatter",
           "x": [
            6,
            6
           ],
           "xaxis": "x",
           "y": [
            0.04597395207107652,
            0.02154139858471084
           ],
           "yaxis": "y"
          },
          {
           "hovertemplate": "Region=Västerbotten<br>Vecka=%{x}<br>Andel vaccinerade=%{y}<extra></extra>",
           "legendgroup": "Västerbotten",
           "marker": {
            "color": "#636efa",
            "symbol": "circle"
           },
           "mode": "markers",
           "name": "Västerbotten",
           "orientation": "v",
           "showlegend": true,
           "type": "scatter",
           "x": [
            6,
            6
           ],
           "xaxis": "x",
           "y": [
            0.0483699839309692,
            0.012538246494529925
           ],
           "yaxis": "y"
          },
          {
           "hovertemplate": "Region=Norrbotten<br>Vecka=%{x}<br>Andel vaccinerade=%{y}<extra></extra>",
           "legendgroup": "Norrbotten",
           "marker": {
            "color": "#EF553B",
            "symbol": "circle"
           },
           "mode": "markers",
           "name": "Norrbotten",
           "orientation": "v",
           "showlegend": true,
           "type": "scatter",
           "x": [
            6,
            6
           ],
           "xaxis": "x",
           "y": [
            0.056084194970847205,
            0.02088296728540371
           ],
           "yaxis": "y"
          }
         ],
         "name": "6"
        },
        {
         "data": [
          {
           "hovertemplate": "Region=| Sverige |<br>Vecka=%{x}<br>Andel vaccinerade=%{y}<extra></extra>",
           "legendgroup": "| Sverige |",
           "marker": {
            "color": "#636efa",
            "symbol": "circle"
           },
           "mode": "markers",
           "name": "| Sverige |",
           "orientation": "v",
           "showlegend": true,
           "type": "scatter",
           "x": [
            7,
            7
           ],
           "xaxis": "x",
           "y": [
            0.05410831380026241,
            0.024755145380253602
           ],
           "yaxis": "y"
          },
          {
           "hovertemplate": "Region=Stockholm<br>Vecka=%{x}<br>Andel vaccinerade=%{y}<extra></extra>",
           "legendgroup": "Stockholm",
           "marker": {
            "color": "#EF553B",
            "symbol": "circle"
           },
           "mode": "markers",
           "name": "Stockholm",
           "orientation": "v",
           "showlegend": true,
           "type": "scatter",
           "x": [
            7,
            7
           ],
           "xaxis": "x",
           "y": [
            0.03381548184614502,
            0.017282113253651733
           ],
           "yaxis": "y"
          },
          {
           "hovertemplate": "Region=Uppsala<br>Vecka=%{x}<br>Andel vaccinerade=%{y}<extra></extra>",
           "legendgroup": "Uppsala",
           "marker": {
            "color": "#00cc96",
            "symbol": "circle"
           },
           "mode": "markers",
           "name": "Uppsala",
           "orientation": "v",
           "showlegend": true,
           "type": "scatter",
           "x": [
            7,
            7
           ],
           "xaxis": "x",
           "y": [
            0.05537726485718132,
            0.021061958539846146
           ],
           "yaxis": "y"
          },
          {
           "hovertemplate": "Region=Södermanland<br>Vecka=%{x}<br>Andel vaccinerade=%{y}<extra></extra>",
           "legendgroup": "Södermanland",
           "marker": {
            "color": "#ab63fa",
            "symbol": "circle"
           },
           "mode": "markers",
           "name": "Södermanland",
           "orientation": "v",
           "showlegend": true,
           "type": "scatter",
           "x": [
            7,
            7
           ],
           "xaxis": "x",
           "y": [
            0.0663327373225235,
            0.034523722046684795
           ],
           "yaxis": "y"
          },
          {
           "hovertemplate": "Region=Östergötland<br>Vecka=%{x}<br>Andel vaccinerade=%{y}<extra></extra>",
           "legendgroup": "Östergötland",
           "marker": {
            "color": "#FFA15A",
            "symbol": "circle"
           },
           "mode": "markers",
           "name": "Östergötland",
           "orientation": "v",
           "showlegend": true,
           "type": "scatter",
           "x": [
            7,
            7
           ],
           "xaxis": "x",
           "y": [
            0.06123665079356855,
            0.028571576618356485
           ],
           "yaxis": "y"
          },
          {
           "hovertemplate": "Region=Jönköping<br>Vecka=%{x}<br>Andel vaccinerade=%{y}<extra></extra>",
           "legendgroup": "Jönköping",
           "marker": {
            "color": "#19d3f3",
            "symbol": "circle"
           },
           "mode": "markers",
           "name": "Jönköping",
           "orientation": "v",
           "showlegend": true,
           "type": "scatter",
           "x": [
            7,
            7
           ],
           "xaxis": "x",
           "y": [
            0.06315800065066392,
            0.03265058341746127
           ],
           "yaxis": "y"
          },
          {
           "hovertemplate": "Region=Kronoberg<br>Vecka=%{x}<br>Andel vaccinerade=%{y}<extra></extra>",
           "legendgroup": "Kronoberg",
           "marker": {
            "color": "#FF6692",
            "symbol": "circle"
           },
           "mode": "markers",
           "name": "Kronoberg",
           "orientation": "v",
           "showlegend": true,
           "type": "scatter",
           "x": [
            7,
            7
           ],
           "xaxis": "x",
           "y": [
            0.05640960487866853,
            0.02427234392677157
           ],
           "yaxis": "y"
          },
          {
           "hovertemplate": "Region=Kalmar<br>Vecka=%{x}<br>Andel vaccinerade=%{y}<extra></extra>",
           "legendgroup": "Kalmar",
           "marker": {
            "color": "#B6E880",
            "symbol": "circle"
           },
           "mode": "markers",
           "name": "Kalmar",
           "orientation": "v",
           "showlegend": true,
           "type": "scatter",
           "x": [
            7,
            7
           ],
           "xaxis": "x",
           "y": [
            0.08235053414587809,
            0.03511284531934276
           ],
           "yaxis": "y"
          },
          {
           "hovertemplate": "Region=Gotland<br>Vecka=%{x}<br>Andel vaccinerade=%{y}<extra></extra>",
           "legendgroup": "Gotland",
           "marker": {
            "color": "#FF97FF",
            "symbol": "circle"
           },
           "mode": "markers",
           "name": "Gotland",
           "orientation": "v",
           "showlegend": true,
           "type": "scatter",
           "x": [
            7,
            7
           ],
           "xaxis": "x",
           "y": [
            0.10606924483416236,
            0.039085386233607924
           ],
           "yaxis": "y"
          },
          {
           "hovertemplate": "Region=Blekinge<br>Vecka=%{x}<br>Andel vaccinerade=%{y}<extra></extra>",
           "legendgroup": "Blekinge",
           "marker": {
            "color": "#FECB52",
            "symbol": "circle"
           },
           "mode": "markers",
           "name": "Blekinge",
           "orientation": "v",
           "showlegend": true,
           "type": "scatter",
           "x": [
            7,
            7
           ],
           "xaxis": "x",
           "y": [
            0.08122268105055751,
            0.03454549572333406
           ],
           "yaxis": "y"
          },
          {
           "hovertemplate": "Region=Skåne<br>Vecka=%{x}<br>Andel vaccinerade=%{y}<extra></extra>",
           "legendgroup": "Skåne",
           "marker": {
            "color": "#636efa",
            "symbol": "circle"
           },
           "mode": "markers",
           "name": "Skåne",
           "orientation": "v",
           "showlegend": true,
           "type": "scatter",
           "x": [
            7,
            7
           ],
           "xaxis": "x",
           "y": [
            0.04909629835571435,
            0.022860224722264504
           ],
           "yaxis": "y"
          },
          {
           "hovertemplate": "Region=Halland<br>Vecka=%{x}<br>Andel vaccinerade=%{y}<extra></extra>",
           "legendgroup": "Halland",
           "marker": {
            "color": "#EF553B",
            "symbol": "circle"
           },
           "mode": "markers",
           "name": "Halland",
           "orientation": "v",
           "showlegend": true,
           "type": "scatter",
           "x": [
            7,
            7
           ],
           "xaxis": "x",
           "y": [
            0.07075841067285382,
            0.029720127610208816
           ],
           "yaxis": "y"
          },
          {
           "hovertemplate": "Region=Västra Götaland<br>Vecka=%{x}<br>Andel vaccinerade=%{y}<extra></extra>",
           "legendgroup": "Västra Götaland",
           "marker": {
            "color": "#00cc96",
            "symbol": "circle"
           },
           "mode": "markers",
           "name": "Västra Götaland",
           "orientation": "v",
           "showlegend": true,
           "type": "scatter",
           "x": [
            7,
            7
           ],
           "xaxis": "x",
           "y": [
            0.053283289981716726,
            0.022516008366068704
           ],
           "yaxis": "y"
          },
          {
           "hovertemplate": "Region=Värmland<br>Vecka=%{x}<br>Andel vaccinerade=%{y}<extra></extra>",
           "legendgroup": "Värmland",
           "marker": {
            "color": "#ab63fa",
            "symbol": "circle"
           },
           "mode": "markers",
           "name": "Värmland",
           "orientation": "v",
           "showlegend": true,
           "type": "scatter",
           "x": [
            7,
            7
           ],
           "xaxis": "x",
           "y": [
            0.07192986162459068,
            0.024480828139854232
           ],
           "yaxis": "y"
          },
          {
           "hovertemplate": "Region=Örebro<br>Vecka=%{x}<br>Andel vaccinerade=%{y}<extra></extra>",
           "legendgroup": "Örebro",
           "marker": {
            "color": "#FFA15A",
            "symbol": "circle"
           },
           "mode": "markers",
           "name": "Örebro",
           "orientation": "v",
           "showlegend": true,
           "type": "scatter",
           "x": [
            7,
            7
           ],
           "xaxis": "x",
           "y": [
            0.06872464447632028,
            0.03684174974470638
           ],
           "yaxis": "y"
          },
          {
           "hovertemplate": "Region=Västmanland<br>Vecka=%{x}<br>Andel vaccinerade=%{y}<extra></extra>",
           "legendgroup": "Västmanland",
           "marker": {
            "color": "#19d3f3",
            "symbol": "circle"
           },
           "mode": "markers",
           "name": "Västmanland",
           "orientation": "v",
           "showlegend": true,
           "type": "scatter",
           "x": [
            7,
            7
           ],
           "xaxis": "x",
           "y": [
            0.06325040065155138,
            0.03451733529499339
           ],
           "yaxis": "y"
          },
          {
           "hovertemplate": "Region=Dalarna<br>Vecka=%{x}<br>Andel vaccinerade=%{y}<extra></extra>",
           "legendgroup": "Dalarna",
           "marker": {
            "color": "#FF6692",
            "symbol": "circle"
           },
           "mode": "markers",
           "name": "Dalarna",
           "orientation": "v",
           "showlegend": true,
           "type": "scatter",
           "x": [
            7,
            7
           ],
           "xaxis": "x",
           "y": [
            0.05927088565210112,
            0.03643478988782856
           ],
           "yaxis": "y"
          },
          {
           "hovertemplate": "Region=Gävleborg<br>Vecka=%{x}<br>Andel vaccinerade=%{y}<extra></extra>",
           "legendgroup": "Gävleborg",
           "marker": {
            "color": "#B6E880",
            "symbol": "circle"
           },
           "mode": "markers",
           "name": "Gävleborg",
           "orientation": "v",
           "showlegend": true,
           "type": "scatter",
           "x": [
            7,
            7
           ],
           "xaxis": "x",
           "y": [
            0.07828632428735843,
            0.028659950294397277
           ],
           "yaxis": "y"
          },
          {
           "hovertemplate": "Region=Västernorrland<br>Vecka=%{x}<br>Andel vaccinerade=%{y}<extra></extra>",
           "legendgroup": "Västernorrland",
           "marker": {
            "color": "#FF97FF",
            "symbol": "circle"
           },
           "mode": "markers",
           "name": "Västernorrland",
           "orientation": "v",
           "showlegend": true,
           "type": "scatter",
           "x": [
            7,
            7
           ],
           "xaxis": "x",
           "y": [
            0.0560926253484965,
            0.0250819487385529
           ],
           "yaxis": "y"
          },
          {
           "hovertemplate": "Region=Jämtland<br>Vecka=%{x}<br>Andel vaccinerade=%{y}<extra></extra>",
           "legendgroup": "Jämtland",
           "marker": {
            "color": "#FECB52",
            "symbol": "circle"
           },
           "mode": "markers",
           "name": "Jämtland",
           "orientation": "v",
           "showlegend": true,
           "type": "scatter",
           "x": [
            7,
            7
           ],
           "xaxis": "x",
           "y": [
            0.0645048782502547,
            0.024662010224592256
           ],
           "yaxis": "y"
          },
          {
           "hovertemplate": "Region=Västerbotten<br>Vecka=%{x}<br>Andel vaccinerade=%{y}<extra></extra>",
           "legendgroup": "Västerbotten",
           "marker": {
            "color": "#636efa",
            "symbol": "circle"
           },
           "mode": "markers",
           "name": "Västerbotten",
           "orientation": "v",
           "showlegend": true,
           "type": "scatter",
           "x": [
            7,
            7
           ],
           "xaxis": "x",
           "y": [
            0.05325232780822822,
            0.02073125096304123
           ],
           "yaxis": "y"
          },
          {
           "hovertemplate": "Region=Norrbotten<br>Vecka=%{x}<br>Andel vaccinerade=%{y}<extra></extra>",
           "legendgroup": "Norrbotten",
           "marker": {
            "color": "#EF553B",
            "symbol": "circle"
           },
           "mode": "markers",
           "name": "Norrbotten",
           "orientation": "v",
           "showlegend": true,
           "type": "scatter",
           "x": [
            7,
            7
           ],
           "xaxis": "x",
           "y": [
            0.06480398239938616,
            0.03127471830018614
           ],
           "yaxis": "y"
          }
         ],
         "name": "7"
        },
        {
         "data": [
          {
           "hovertemplate": "Region=| Sverige |<br>Vecka=%{x}<br>Andel vaccinerade=%{y}<extra></extra>",
           "legendgroup": "| Sverige |",
           "marker": {
            "color": "#636efa",
            "symbol": "circle"
           },
           "mode": "markers",
           "name": "| Sverige |",
           "orientation": "v",
           "showlegend": true,
           "type": "scatter",
           "x": [
            8,
            8
           ],
           "xaxis": "x",
           "y": [
            0.06602964328149973,
            0.030707146534149694
           ],
           "yaxis": "y"
          },
          {
           "hovertemplate": "Region=Stockholm<br>Vecka=%{x}<br>Andel vaccinerade=%{y}<extra></extra>",
           "legendgroup": "Stockholm",
           "marker": {
            "color": "#EF553B",
            "symbol": "circle"
           },
           "mode": "markers",
           "name": "Stockholm",
           "orientation": "v",
           "showlegend": true,
           "type": "scatter",
           "x": [
            8,
            8
           ],
           "xaxis": "x",
           "y": [
            0.043572224391753865,
            0.021820192633910496
           ],
           "yaxis": "y"
          },
          {
           "hovertemplate": "Region=Uppsala<br>Vecka=%{x}<br>Andel vaccinerade=%{y}<extra></extra>",
           "legendgroup": "Uppsala",
           "marker": {
            "color": "#00cc96",
            "symbol": "circle"
           },
           "mode": "markers",
           "name": "Uppsala",
           "orientation": "v",
           "showlegend": true,
           "type": "scatter",
           "x": [
            8,
            8
           ],
           "xaxis": "x",
           "y": [
            0.0643004968831307,
            0.0269826012630287
           ],
           "yaxis": "y"
          },
          {
           "hovertemplate": "Region=Södermanland<br>Vecka=%{x}<br>Andel vaccinerade=%{y}<extra></extra>",
           "legendgroup": "Södermanland",
           "marker": {
            "color": "#ab63fa",
            "symbol": "circle"
           },
           "mode": "markers",
           "name": "Södermanland",
           "orientation": "v",
           "showlegend": true,
           "type": "scatter",
           "x": [
            8,
            8
           ],
           "xaxis": "x",
           "y": [
            0.0862174541357435,
            0.03580555351442265
           ],
           "yaxis": "y"
          },
          {
           "hovertemplate": "Region=Östergötland<br>Vecka=%{x}<br>Andel vaccinerade=%{y}<extra></extra>",
           "legendgroup": "Östergötland",
           "marker": {
            "color": "#FFA15A",
            "symbol": "circle"
           },
           "mode": "markers",
           "name": "Östergötland",
           "orientation": "v",
           "showlegend": true,
           "type": "scatter",
           "x": [
            8,
            8
           ],
           "xaxis": "x",
           "y": [
            0.07614164537875216,
            0.03404339107410267
           ],
           "yaxis": "y"
          },
          {
           "hovertemplate": "Region=Jönköping<br>Vecka=%{x}<br>Andel vaccinerade=%{y}<extra></extra>",
           "legendgroup": "Jönköping",
           "marker": {
            "color": "#19d3f3",
            "symbol": "circle"
           },
           "mode": "markers",
           "name": "Jönköping",
           "orientation": "v",
           "showlegend": true,
           "type": "scatter",
           "x": [
            8,
            8
           ],
           "xaxis": "x",
           "y": [
            0.08404967852507236,
            0.03461934484181153
           ],
           "yaxis": "y"
          },
          {
           "hovertemplate": "Region=Kronoberg<br>Vecka=%{x}<br>Andel vaccinerade=%{y}<extra></extra>",
           "legendgroup": "Kronoberg",
           "marker": {
            "color": "#FF6692",
            "symbol": "circle"
           },
           "mode": "markers",
           "name": "Kronoberg",
           "orientation": "v",
           "showlegend": true,
           "type": "scatter",
           "x": [
            8,
            8
           ],
           "xaxis": "x",
           "y": [
            0.06576885613856774,
            0.030497728248966974
           ],
           "yaxis": "y"
          },
          {
           "hovertemplate": "Region=Kalmar<br>Vecka=%{x}<br>Andel vaccinerade=%{y}<extra></extra>",
           "legendgroup": "Kalmar",
           "marker": {
            "color": "#B6E880",
            "symbol": "circle"
           },
           "mode": "markers",
           "name": "Kalmar",
           "orientation": "v",
           "showlegend": true,
           "type": "scatter",
           "x": [
            8,
            8
           ],
           "xaxis": "x",
           "y": [
            0.09377877153755097,
            0.04918136602997842
           ],
           "yaxis": "y"
          },
          {
           "hovertemplate": "Region=Gotland<br>Vecka=%{x}<br>Andel vaccinerade=%{y}<extra></extra>",
           "legendgroup": "Gotland",
           "marker": {
            "color": "#FF97FF",
            "symbol": "circle"
           },
           "mode": "markers",
           "name": "Gotland",
           "orientation": "v",
           "showlegend": true,
           "type": "scatter",
           "x": [
            8,
            8
           ],
           "xaxis": "x",
           "y": [
            0.1151917897096121,
            0.06836010459469556
           ],
           "yaxis": "y"
          },
          {
           "hovertemplate": "Region=Blekinge<br>Vecka=%{x}<br>Andel vaccinerade=%{y}<extra></extra>",
           "legendgroup": "Blekinge",
           "marker": {
            "color": "#FECB52",
            "symbol": "circle"
           },
           "mode": "markers",
           "name": "Blekinge",
           "orientation": "v",
           "showlegend": true,
           "type": "scatter",
           "x": [
            8,
            8
           ],
           "xaxis": "x",
           "y": [
            0.09277307625525619,
            0.043461192936895585
           ],
           "yaxis": "y"
          },
          {
           "hovertemplate": "Region=Skåne<br>Vecka=%{x}<br>Andel vaccinerade=%{y}<extra></extra>",
           "legendgroup": "Skåne",
           "marker": {
            "color": "#636efa",
            "symbol": "circle"
           },
           "mode": "markers",
           "name": "Skåne",
           "orientation": "v",
           "showlegend": true,
           "type": "scatter",
           "x": [
            8,
            8
           ],
           "xaxis": "x",
           "y": [
            0.05761026497378592,
            0.030861259384323287
           ],
           "yaxis": "y"
          },
          {
           "hovertemplate": "Region=Halland<br>Vecka=%{x}<br>Andel vaccinerade=%{y}<extra></extra>",
           "legendgroup": "Halland",
           "marker": {
            "color": "#EF553B",
            "symbol": "circle"
           },
           "mode": "markers",
           "name": "Halland",
           "orientation": "v",
           "showlegend": true,
           "type": "scatter",
           "x": [
            8,
            8
           ],
           "xaxis": "x",
           "y": [
            0.08060469837587007,
            0.037703016241299306
           ],
           "yaxis": "y"
          },
          {
           "hovertemplate": "Region=Västra Götaland<br>Vecka=%{x}<br>Andel vaccinerade=%{y}<extra></extra>",
           "legendgroup": "Västra Götaland",
           "marker": {
            "color": "#00cc96",
            "symbol": "circle"
           },
           "mode": "markers",
           "name": "Västra Götaland",
           "orientation": "v",
           "showlegend": true,
           "type": "scatter",
           "x": [
            8,
            8
           ],
           "xaxis": "x",
           "y": [
            0.06341748866744877,
            0.02823968170860434
           ],
           "yaxis": "y"
          },
          {
           "hovertemplate": "Region=Värmland<br>Vecka=%{x}<br>Andel vaccinerade=%{y}<extra></extra>",
           "legendgroup": "Värmland",
           "marker": {
            "color": "#ab63fa",
            "symbol": "circle"
           },
           "mode": "markers",
           "name": "Värmland",
           "orientation": "v",
           "showlegend": true,
           "type": "scatter",
           "x": [
            8,
            8
           ],
           "xaxis": "x",
           "y": [
            0.08478293017851483,
            0.038757790218654276
           ],
           "yaxis": "y"
          },
          {
           "hovertemplate": "Region=Örebro<br>Vecka=%{x}<br>Andel vaccinerade=%{y}<extra></extra>",
           "legendgroup": "Örebro",
           "marker": {
            "color": "#FFA15A",
            "symbol": "circle"
           },
           "mode": "markers",
           "name": "Örebro",
           "orientation": "v",
           "showlegend": true,
           "type": "scatter",
           "x": [
            8,
            8
           ],
           "xaxis": "x",
           "y": [
            0.08814682661093252,
            0.040163546852835644
           ],
           "yaxis": "y"
          },
          {
           "hovertemplate": "Region=Västmanland<br>Vecka=%{x}<br>Andel vaccinerade=%{y}<extra></extra>",
           "legendgroup": "Västmanland",
           "marker": {
            "color": "#19d3f3",
            "symbol": "circle"
           },
           "mode": "markers",
           "name": "Västmanland",
           "orientation": "v",
           "showlegend": true,
           "type": "scatter",
           "x": [
            8,
            8
           ],
           "xaxis": "x",
           "y": [
            0.07792344271339621,
            0.0357214793018592
           ],
           "yaxis": "y"
          },
          {
           "hovertemplate": "Region=Dalarna<br>Vecka=%{x}<br>Andel vaccinerade=%{y}<extra></extra>",
           "legendgroup": "Dalarna",
           "marker": {
            "color": "#FF6692",
            "symbol": "circle"
           },
           "mode": "markers",
           "name": "Dalarna",
           "orientation": "v",
           "showlegend": true,
           "type": "scatter",
           "x": [
            8,
            8
           ],
           "xaxis": "x",
           "y": [
            0.07520927507115352,
            0.037075171605558344
           ],
           "yaxis": "y"
          },
          {
           "hovertemplate": "Region=Gävleborg<br>Vecka=%{x}<br>Andel vaccinerade=%{y}<extra></extra>",
           "legendgroup": "Gävleborg",
           "marker": {
            "color": "#B6E880",
            "symbol": "circle"
           },
           "mode": "markers",
           "name": "Gävleborg",
           "orientation": "v",
           "showlegend": true,
           "type": "scatter",
           "x": [
            8,
            8
           ],
           "xaxis": "x",
           "y": [
            0.09518289326639201,
            0.03713742431571398
           ],
           "yaxis": "y"
          },
          {
           "hovertemplate": "Region=Västernorrland<br>Vecka=%{x}<br>Andel vaccinerade=%{y}<extra></extra>",
           "legendgroup": "Västernorrland",
           "marker": {
            "color": "#FF97FF",
            "symbol": "circle"
           },
           "mode": "markers",
           "name": "Västernorrland",
           "orientation": "v",
           "showlegend": true,
           "type": "scatter",
           "x": [
            8,
            8
           ],
           "xaxis": "x",
           "y": [
            0.07288415461730306,
            0.03356835921231215
           ],
           "yaxis": "y"
          },
          {
           "hovertemplate": "Region=Jämtland<br>Vecka=%{x}<br>Andel vaccinerade=%{y}<extra></extra>",
           "legendgroup": "Jämtland",
           "marker": {
            "color": "#FECB52",
            "symbol": "circle"
           },
           "mode": "markers",
           "name": "Jämtland",
           "orientation": "v",
           "showlegend": true,
           "type": "scatter",
           "x": [
            8,
            8
           ],
           "xaxis": "x",
           "y": [
            0.08433911870255982,
            0.026341633548410782
           ],
           "yaxis": "y"
          },
          {
           "hovertemplate": "Region=Västerbotten<br>Vecka=%{x}<br>Andel vaccinerade=%{y}<extra></extra>",
           "legendgroup": "Västerbotten",
           "marker": {
            "color": "#636efa",
            "symbol": "circle"
           },
           "mode": "markers",
           "name": "Västerbotten",
           "orientation": "v",
           "showlegend": true,
           "type": "scatter",
           "x": [
            8,
            8
           ],
           "xaxis": "x",
           "y": [
            0.06631006625723657,
            0.029721103260032137
           ],
           "yaxis": "y"
          },
          {
           "hovertemplate": "Region=Norrbotten<br>Vecka=%{x}<br>Andel vaccinerade=%{y}<extra></extra>",
           "legendgroup": "Norrbotten",
           "marker": {
            "color": "#EF553B",
            "symbol": "circle"
           },
           "mode": "markers",
           "name": "Norrbotten",
           "orientation": "v",
           "showlegend": true,
           "type": "scatter",
           "x": [
            8,
            8
           ],
           "xaxis": "x",
           "y": [
            0.07727029446452169,
            0.03310772087207347
           ],
           "yaxis": "y"
          }
         ],
         "name": "8"
        },
        {
         "data": [
          {
           "hovertemplate": "Region=| Sverige |<br>Vecka=%{x}<br>Andel vaccinerade=%{y}<extra></extra>",
           "legendgroup": "| Sverige |",
           "marker": {
            "color": "#636efa",
            "symbol": "circle"
           },
           "mode": "markers",
           "name": "| Sverige |",
           "orientation": "v",
           "showlegend": true,
           "type": "scatter",
           "x": [
            9,
            9
           ],
           "xaxis": "x",
           "y": [
            0.08384431909301145,
            0.034687128029196754
           ],
           "yaxis": "y"
          },
          {
           "hovertemplate": "Region=Stockholm<br>Vecka=%{x}<br>Andel vaccinerade=%{y}<extra></extra>",
           "legendgroup": "Stockholm",
           "marker": {
            "color": "#EF553B",
            "symbol": "circle"
           },
           "mode": "markers",
           "name": "Stockholm",
           "orientation": "v",
           "showlegend": true,
           "type": "scatter",
           "x": [
            9,
            9
           ],
           "xaxis": "x",
           "y": [
            0.056649375328632796,
            0.02432420797574498
           ],
           "yaxis": "y"
          },
          {
           "hovertemplate": "Region=Uppsala<br>Vecka=%{x}<br>Andel vaccinerade=%{y}<extra></extra>",
           "legendgroup": "Uppsala",
           "marker": {
            "color": "#00cc96",
            "symbol": "circle"
           },
           "mode": "markers",
           "name": "Uppsala",
           "orientation": "v",
           "showlegend": true,
           "type": "scatter",
           "x": [
            9,
            9
           ],
           "xaxis": "x",
           "y": [
            0.08083195832067905,
            0.03346681653521859
           ],
           "yaxis": "y"
          },
          {
           "hovertemplate": "Region=Södermanland<br>Vecka=%{x}<br>Andel vaccinerade=%{y}<extra></extra>",
           "legendgroup": "Södermanland",
           "marker": {
            "color": "#ab63fa",
            "symbol": "circle"
           },
           "mode": "markers",
           "name": "Södermanland",
           "orientation": "v",
           "showlegend": true,
           "type": "scatter",
           "x": [
            9,
            9
           ],
           "xaxis": "x",
           "y": [
            0.11310733909749267,
            0.036777132779778086
           ],
           "yaxis": "y"
          },
          {
           "hovertemplate": "Region=Östergötland<br>Vecka=%{x}<br>Andel vaccinerade=%{y}<extra></extra>",
           "legendgroup": "Östergötland",
           "marker": {
            "color": "#FFA15A",
            "symbol": "circle"
           },
           "mode": "markers",
           "name": "Östergötland",
           "orientation": "v",
           "showlegend": true,
           "type": "scatter",
           "x": [
            9,
            9
           ],
           "xaxis": "x",
           "y": [
            0.09887092010425465,
            0.035724834057899675
           ],
           "yaxis": "y"
          },
          {
           "hovertemplate": "Region=Jönköping<br>Vecka=%{x}<br>Andel vaccinerade=%{y}<extra></extra>",
           "legendgroup": "Jönköping",
           "marker": {
            "color": "#19d3f3",
            "symbol": "circle"
           },
           "mode": "markers",
           "name": "Jönköping",
           "orientation": "v",
           "showlegend": true,
           "type": "scatter",
           "x": [
            9,
            9
           ],
           "xaxis": "x",
           "y": [
            0.10504532846788772,
            0.036098431363342134
           ],
           "yaxis": "y"
          },
          {
           "hovertemplate": "Region=Kronoberg<br>Vecka=%{x}<br>Andel vaccinerade=%{y}<extra></extra>",
           "legendgroup": "Kronoberg",
           "marker": {
            "color": "#FF6692",
            "symbol": "circle"
           },
           "mode": "markers",
           "name": "Kronoberg",
           "orientation": "v",
           "showlegend": true,
           "type": "scatter",
           "x": [
            9,
            9
           ],
           "xaxis": "x",
           "y": [
            0.08752442661729919,
            0.033982491484714834
           ],
           "yaxis": "y"
          },
          {
           "hovertemplate": "Region=Kalmar<br>Vecka=%{x}<br>Andel vaccinerade=%{y}<extra></extra>",
           "legendgroup": "Kalmar",
           "marker": {
            "color": "#B6E880",
            "symbol": "circle"
           },
           "mode": "markers",
           "name": "Kalmar",
           "orientation": "v",
           "showlegend": true,
           "type": "scatter",
           "x": [
            9,
            9
           ],
           "xaxis": "x",
           "y": [
            0.11960678289758916,
            0.05883155284707304
           ],
           "yaxis": "y"
          },
          {
           "hovertemplate": "Region=Gotland<br>Vecka=%{x}<br>Andel vaccinerade=%{y}<extra></extra>",
           "legendgroup": "Gotland",
           "marker": {
            "color": "#FF97FF",
            "symbol": "circle"
           },
           "mode": "markers",
           "name": "Gotland",
           "orientation": "v",
           "showlegend": true,
           "type": "scatter",
           "x": [
            9,
            9
           ],
           "xaxis": "x",
           "y": [
            0.12977999724750802,
            0.07325560820242613
           ],
           "yaxis": "y"
          },
          {
           "hovertemplate": "Region=Blekinge<br>Vecka=%{x}<br>Andel vaccinerade=%{y}<extra></extra>",
           "legendgroup": "Blekinge",
           "marker": {
            "color": "#FECB52",
            "symbol": "circle"
           },
           "mode": "markers",
           "name": "Blekinge",
           "orientation": "v",
           "showlegend": true,
           "type": "scatter",
           "x": [
            9,
            9
           ],
           "xaxis": "x",
           "y": [
            0.11079320263016842,
            0.05068585189826593
           ],
           "yaxis": "y"
          },
          {
           "hovertemplate": "Region=Skåne<br>Vecka=%{x}<br>Andel vaccinerade=%{y}<extra></extra>",
           "legendgroup": "Skåne",
           "marker": {
            "color": "#636efa",
            "symbol": "circle"
           },
           "mode": "markers",
           "name": "Skåne",
           "orientation": "v",
           "showlegend": true,
           "type": "scatter",
           "x": [
            9,
            9
           ],
           "xaxis": "x",
           "y": [
            0.07166706404962858,
            0.03648151553356801
           ],
           "yaxis": "y"
          },
          {
           "hovertemplate": "Region=Halland<br>Vecka=%{x}<br>Andel vaccinerade=%{y}<extra></extra>",
           "legendgroup": "Halland",
           "marker": {
            "color": "#EF553B",
            "symbol": "circle"
           },
           "mode": "markers",
           "name": "Halland",
           "orientation": "v",
           "showlegend": true,
           "type": "scatter",
           "x": [
            9,
            9
           ],
           "xaxis": "x",
           "y": [
            0.09534512761020882,
            0.046066560324825985
           ],
           "yaxis": "y"
          },
          {
           "hovertemplate": "Region=Västra Götaland<br>Vecka=%{x}<br>Andel vaccinerade=%{y}<extra></extra>",
           "legendgroup": "Västra Götaland",
           "marker": {
            "color": "#00cc96",
            "symbol": "circle"
           },
           "mode": "markers",
           "name": "Västra Götaland",
           "orientation": "v",
           "showlegend": true,
           "type": "scatter",
           "x": [
            9,
            9
           ],
           "xaxis": "x",
           "y": [
            0.08335689906679696,
            0.03118446509518223
           ],
           "yaxis": "y"
          },
          {
           "hovertemplate": "Region=Värmland<br>Vecka=%{x}<br>Andel vaccinerade=%{y}<extra></extra>",
           "legendgroup": "Värmland",
           "marker": {
            "color": "#ab63fa",
            "symbol": "circle"
           },
           "mode": "markers",
           "name": "Värmland",
           "orientation": "v",
           "showlegend": true,
           "type": "scatter",
           "x": [
            9,
            9
           ],
           "xaxis": "x",
           "y": [
            0.11076370550332734,
            0.04573360092954473
           ],
           "yaxis": "y"
          },
          {
           "hovertemplate": "Region=Örebro<br>Vecka=%{x}<br>Andel vaccinerade=%{y}<extra></extra>",
           "legendgroup": "Örebro",
           "marker": {
            "color": "#FFA15A",
            "symbol": "circle"
           },
           "mode": "markers",
           "name": "Örebro",
           "orientation": "v",
           "showlegend": true,
           "type": "scatter",
           "x": [
            9,
            9
           ],
           "xaxis": "x",
           "y": [
            0.10729881472239551,
            0.04586146198807173
           ],
           "yaxis": "y"
          },
          {
           "hovertemplate": "Region=Västmanland<br>Vecka=%{x}<br>Andel vaccinerade=%{y}<extra></extra>",
           "legendgroup": "Västmanland",
           "marker": {
            "color": "#19d3f3",
            "symbol": "circle"
           },
           "mode": "markers",
           "name": "Västmanland",
           "orientation": "v",
           "showlegend": true,
           "type": "scatter",
           "x": [
            9,
            9
           ],
           "xaxis": "x",
           "y": [
            0.1025098739808563,
            0.03724526880872939
           ],
           "yaxis": "y"
          },
          {
           "hovertemplate": "Region=Dalarna<br>Vecka=%{x}<br>Andel vaccinerade=%{y}<extra></extra>",
           "legendgroup": "Dalarna",
           "marker": {
            "color": "#FF6692",
            "symbol": "circle"
           },
           "mode": "markers",
           "name": "Dalarna",
           "orientation": "v",
           "showlegend": true,
           "type": "scatter",
           "x": [
            9,
            9
           ],
           "xaxis": "x",
           "y": [
            0.08864054913778671,
            0.03900468776159384
           ],
           "yaxis": "y"
          },
          {
           "hovertemplate": "Region=Gävleborg<br>Vecka=%{x}<br>Andel vaccinerade=%{y}<extra></extra>",
           "legendgroup": "Gävleborg",
           "marker": {
            "color": "#B6E880",
            "symbol": "circle"
           },
           "mode": "markers",
           "name": "Gävleborg",
           "orientation": "v",
           "showlegend": true,
           "type": "scatter",
           "x": [
            9,
            9
           ],
           "xaxis": "x",
           "y": [
            0.11119126649208547,
            0.04229146164495522
           ],
           "yaxis": "y"
          },
          {
           "hovertemplate": "Region=Västernorrland<br>Vecka=%{x}<br>Andel vaccinerade=%{y}<extra></extra>",
           "legendgroup": "Västernorrland",
           "marker": {
            "color": "#FF97FF",
            "symbol": "circle"
           },
           "mode": "markers",
           "name": "Västernorrland",
           "orientation": "v",
           "showlegend": true,
           "type": "scatter",
           "x": [
            9,
            9
           ],
           "xaxis": "x",
           "y": [
            0.09781421032774595,
            0.036214237766486516
           ],
           "yaxis": "y"
          },
          {
           "hovertemplate": "Region=Jämtland<br>Vecka=%{x}<br>Andel vaccinerade=%{y}<extra></extra>",
           "legendgroup": "Jämtland",
           "marker": {
            "color": "#FECB52",
            "symbol": "circle"
           },
           "mode": "markers",
           "name": "Jämtland",
           "orientation": "v",
           "showlegend": true,
           "type": "scatter",
           "x": [
            9,
            9
           ],
           "xaxis": "x",
           "y": [
            0.11101116995401687,
            0.03216983469936578
           ],
           "yaxis": "y"
          },
          {
           "hovertemplate": "Region=Västerbotten<br>Vecka=%{x}<br>Andel vaccinerade=%{y}<extra></extra>",
           "legendgroup": "Västerbotten",
           "marker": {
            "color": "#636efa",
            "symbol": "circle"
           },
           "mode": "markers",
           "name": "Västerbotten",
           "orientation": "v",
           "showlegend": true,
           "type": "scatter",
           "x": [
            9,
            9
           ],
           "xaxis": "x",
           "y": [
            0.08646459310132294,
            0.03558960135596205
           ],
           "yaxis": "y"
          },
          {
           "hovertemplate": "Region=Norrbotten<br>Vecka=%{x}<br>Andel vaccinerade=%{y}<extra></extra>",
           "legendgroup": "Norrbotten",
           "marker": {
            "color": "#EF553B",
            "symbol": "circle"
           },
           "mode": "markers",
           "name": "Norrbotten",
           "orientation": "v",
           "showlegend": true,
           "type": "scatter",
           "x": [
            9,
            9
           ],
           "xaxis": "x",
           "y": [
            0.09141804299740916,
            0.039771893013276244
           ],
           "yaxis": "y"
          }
         ],
         "name": "9"
        },
        {
         "data": [
          {
           "hovertemplate": "Region=| Sverige |<br>Vecka=%{x}<br>Andel vaccinerade=%{y}<extra></extra>",
           "legendgroup": "| Sverige |",
           "marker": {
            "color": "#636efa",
            "symbol": "circle"
           },
           "mode": "markers",
           "name": "| Sverige |",
           "orientation": "v",
           "showlegend": true,
           "type": "scatter",
           "x": [
            10,
            10
           ],
           "xaxis": "x",
           "y": [
            0.10516013761990434,
            0.03855717563326429
           ],
           "yaxis": "y"
          },
          {
           "hovertemplate": "Region=Stockholm<br>Vecka=%{x}<br>Andel vaccinerade=%{y}<extra></extra>",
           "legendgroup": "Stockholm",
           "marker": {
            "color": "#EF553B",
            "symbol": "circle"
           },
           "mode": "markers",
           "name": "Stockholm",
           "orientation": "v",
           "showlegend": true,
           "type": "scatter",
           "x": [
            10,
            10
           ],
           "xaxis": "x",
           "y": [
            0.07276352890892375,
            0.02685436019486836
           ],
           "yaxis": "y"
          },
          {
           "hovertemplate": "Region=Uppsala<br>Vecka=%{x}<br>Andel vaccinerade=%{y}<extra></extra>",
           "legendgroup": "Uppsala",
           "marker": {
            "color": "#00cc96",
            "symbol": "circle"
           },
           "mode": "markers",
           "name": "Uppsala",
           "orientation": "v",
           "showlegend": true,
           "type": "scatter",
           "x": [
            10,
            10
           ],
           "xaxis": "x",
           "y": [
            0.09212219505245921,
            0.04056156873549975
           ],
           "yaxis": "y"
          },
          {
           "hovertemplate": "Region=Södermanland<br>Vecka=%{x}<br>Andel vaccinerade=%{y}<extra></extra>",
           "legendgroup": "Södermanland",
           "marker": {
            "color": "#ab63fa",
            "symbol": "circle"
           },
           "mode": "markers",
           "name": "Södermanland",
           "orientation": "v",
           "showlegend": true,
           "type": "scatter",
           "x": [
            10,
            10
           ],
           "xaxis": "x",
           "y": [
            0.13963798466700958,
            0.04248414039728611
           ],
           "yaxis": "y"
          },
          {
           "hovertemplate": "Region=Östergötland<br>Vecka=%{x}<br>Andel vaccinerade=%{y}<extra></extra>",
           "legendgroup": "Östergötland",
           "marker": {
            "color": "#FFA15A",
            "symbol": "circle"
           },
           "mode": "markers",
           "name": "Östergötland",
           "orientation": "v",
           "showlegend": true,
           "type": "scatter",
           "x": [
            10,
            10
           ],
           "xaxis": "x",
           "y": [
            0.1193047272124318,
            0.04180030986222013
           ],
           "yaxis": "y"
          },
          {
           "hovertemplate": "Region=Jönköping<br>Vecka=%{x}<br>Andel vaccinerade=%{y}<extra></extra>",
           "legendgroup": "Jönköping",
           "marker": {
            "color": "#19d3f3",
            "symbol": "circle"
           },
           "mode": "markers",
           "name": "Jönköping",
           "orientation": "v",
           "showlegend": true,
           "type": "scatter",
           "x": [
            10,
            10
           ],
           "xaxis": "x",
           "y": [
            0.12779844176054897,
            0.041632428552742344
           ],
           "yaxis": "y"
          },
          {
           "hovertemplate": "Region=Kronoberg<br>Vecka=%{x}<br>Andel vaccinerade=%{y}<extra></extra>",
           "legendgroup": "Kronoberg",
           "marker": {
            "color": "#FF6692",
            "symbol": "circle"
           },
           "mode": "markers",
           "name": "Kronoberg",
           "orientation": "v",
           "showlegend": true,
           "type": "scatter",
           "x": [
            10,
            10
           ],
           "xaxis": "x",
           "y": [
            0.10259481762467405,
            0.039760180530095404
           ],
           "yaxis": "y"
          },
          {
           "hovertemplate": "Region=Kalmar<br>Vecka=%{x}<br>Andel vaccinerade=%{y}<extra></extra>",
           "legendgroup": "Kalmar",
           "marker": {
            "color": "#B6E880",
            "symbol": "circle"
           },
           "mode": "markers",
           "name": "Kalmar",
           "orientation": "v",
           "showlegend": true,
           "type": "scatter",
           "x": [
            10,
            10
           ],
           "xaxis": "x",
           "y": [
            0.14617037134464467,
            0.06186154588101188
           ],
           "yaxis": "y"
          },
          {
           "hovertemplate": "Region=Gotland<br>Vecka=%{x}<br>Andel vaccinerade=%{y}<extra></extra>",
           "legendgroup": "Gotland",
           "marker": {
            "color": "#FF97FF",
            "symbol": "circle"
           },
           "mode": "markers",
           "name": "Gotland",
           "orientation": "v",
           "showlegend": true,
           "type": "scatter",
           "x": [
            10,
            10
           ],
           "xaxis": "x",
           "y": [
            0.1698877376481922,
            0.07673554450189725
           ],
           "yaxis": "y"
          },
          {
           "hovertemplate": "Region=Blekinge<br>Vecka=%{x}<br>Andel vaccinerade=%{y}<extra></extra>",
           "legendgroup": "Blekinge",
           "marker": {
            "color": "#FECB52",
            "symbol": "circle"
           },
           "mode": "markers",
           "name": "Blekinge",
           "orientation": "v",
           "showlegend": true,
           "type": "scatter",
           "x": [
            10,
            10
           ],
           "xaxis": "x",
           "y": [
            0.1348225542226886,
            0.06120954530699139
           ],
           "yaxis": "y"
          },
          {
           "hovertemplate": "Region=Skåne<br>Vecka=%{x}<br>Andel vaccinerade=%{y}<extra></extra>",
           "legendgroup": "Skåne",
           "marker": {
            "color": "#636efa",
            "symbol": "circle"
           },
           "mode": "markers",
           "name": "Skåne",
           "orientation": "v",
           "showlegend": true,
           "type": "scatter",
           "x": [
            10,
            10
           ],
           "xaxis": "x",
           "y": [
            0.0934671120875099,
            0.03931099953105878
           ],
           "yaxis": "y"
          },
          {
           "hovertemplate": "Region=Halland<br>Vecka=%{x}<br>Andel vaccinerade=%{y}<extra></extra>",
           "legendgroup": "Halland",
           "marker": {
            "color": "#EF553B",
            "symbol": "circle"
           },
           "mode": "markers",
           "name": "Halland",
           "orientation": "v",
           "showlegend": true,
           "type": "scatter",
           "x": [
            10,
            10
           ],
           "xaxis": "x",
           "y": [
            0.11802856728538283,
            0.050986078886310904
           ],
           "yaxis": "y"
          },
          {
           "hovertemplate": "Region=Västra Götaland<br>Vecka=%{x}<br>Andel vaccinerade=%{y}<extra></extra>",
           "legendgroup": "Västra Götaland",
           "marker": {
            "color": "#00cc96",
            "symbol": "circle"
           },
           "mode": "markers",
           "name": "Västra Götaland",
           "orientation": "v",
           "showlegend": true,
           "type": "scatter",
           "x": [
            10,
            10
           ],
           "xaxis": "x",
           "y": [
            0.10660507843889382,
            0.03377016270155702
           ],
           "yaxis": "y"
          },
          {
           "hovertemplate": "Region=Värmland<br>Vecka=%{x}<br>Andel vaccinerade=%{y}<extra></extra>",
           "legendgroup": "Värmland",
           "marker": {
            "color": "#ab63fa",
            "symbol": "circle"
           },
           "mode": "markers",
           "name": "Värmland",
           "orientation": "v",
           "showlegend": true,
           "type": "scatter",
           "x": [
            10,
            10
           ],
           "xaxis": "x",
           "y": [
            0.13447132143234394,
            0.050360198584556884
           ],
           "yaxis": "y"
          },
          {
           "hovertemplate": "Region=Örebro<br>Vecka=%{x}<br>Andel vaccinerade=%{y}<extra></extra>",
           "legendgroup": "Örebro",
           "marker": {
            "color": "#FFA15A",
            "symbol": "circle"
           },
           "mode": "markers",
           "name": "Örebro",
           "orientation": "v",
           "showlegend": true,
           "type": "scatter",
           "x": [
            10,
            10
           ],
           "xaxis": "x",
           "y": [
            0.12905340702742868,
            0.05069316687262339
           ],
           "yaxis": "y"
          },
          {
           "hovertemplate": "Region=Västmanland<br>Vecka=%{x}<br>Andel vaccinerade=%{y}<extra></extra>",
           "legendgroup": "Västmanland",
           "marker": {
            "color": "#19d3f3",
            "symbol": "circle"
           },
           "mode": "markers",
           "name": "Västmanland",
           "orientation": "v",
           "showlegend": true,
           "type": "scatter",
           "x": [
            10,
            10
           ],
           "xaxis": "x",
           "y": [
            0.12510837296061791,
            0.04332291201429209
           ],
           "yaxis": "y"
          },
          {
           "hovertemplate": "Region=Dalarna<br>Vecka=%{x}<br>Andel vaccinerade=%{y}<extra></extra>",
           "legendgroup": "Dalarna",
           "marker": {
            "color": "#FF6692",
            "symbol": "circle"
           },
           "mode": "markers",
           "name": "Dalarna",
           "orientation": "v",
           "showlegend": true,
           "type": "scatter",
           "x": [
            10,
            10
           ],
           "xaxis": "x",
           "y": [
            0.11414699480997824,
            0.04299765611920308
           ],
           "yaxis": "y"
          },
          {
           "hovertemplate": "Region=Gävleborg<br>Vecka=%{x}<br>Andel vaccinerade=%{y}<extra></extra>",
           "legendgroup": "Gävleborg",
           "marker": {
            "color": "#B6E880",
            "symbol": "circle"
           },
           "mode": "markers",
           "name": "Gävleborg",
           "orientation": "v",
           "showlegend": true,
           "type": "scatter",
           "x": [
            10,
            10
           ],
           "xaxis": "x",
           "y": [
            0.13156972962153687,
            0.046778309675912795
           ],
           "yaxis": "y"
          },
          {
           "hovertemplate": "Region=Västernorrland<br>Vecka=%{x}<br>Andel vaccinerade=%{y}<extra></extra>",
           "legendgroup": "Västernorrland",
           "marker": {
            "color": "#FF97FF",
            "symbol": "circle"
           },
           "mode": "markers",
           "name": "Västernorrland",
           "orientation": "v",
           "showlegend": true,
           "type": "scatter",
           "x": [
            10,
            10
           ],
           "xaxis": "x",
           "y": [
            0.12854559975697116,
            0.039051207549573475
           ],
           "yaxis": "y"
          },
          {
           "hovertemplate": "Region=Jämtland<br>Vecka=%{x}<br>Andel vaccinerade=%{y}<extra></extra>",
           "legendgroup": "Jämtland",
           "marker": {
            "color": "#FECB52",
            "symbol": "circle"
           },
           "mode": "markers",
           "name": "Jämtland",
           "orientation": "v",
           "showlegend": true,
           "type": "scatter",
           "x": [
            10,
            10
           ],
           "xaxis": "x",
           "y": [
            0.13606784576835884,
            0.03839270144007049
           ],
           "yaxis": "y"
          },
          {
           "hovertemplate": "Region=Västerbotten<br>Vecka=%{x}<br>Andel vaccinerade=%{y}<extra></extra>",
           "legendgroup": "Västerbotten",
           "marker": {
            "color": "#636efa",
            "symbol": "circle"
           },
           "mode": "markers",
           "name": "Västerbotten",
           "orientation": "v",
           "showlegend": true,
           "type": "scatter",
           "x": [
            10,
            10
           ],
           "xaxis": "x",
           "y": [
            0.1155429351295428,
            0.040146162143124435
           ],
           "yaxis": "y"
          },
          {
           "hovertemplate": "Region=Norrbotten<br>Vecka=%{x}<br>Andel vaccinerade=%{y}<extra></extra>",
           "legendgroup": "Norrbotten",
           "marker": {
            "color": "#EF553B",
            "symbol": "circle"
           },
           "mode": "markers",
           "name": "Norrbotten",
           "orientation": "v",
           "showlegend": true,
           "type": "scatter",
           "x": [
            10,
            10
           ],
           "xaxis": "x",
           "y": [
            0.11794211122110179,
            0.04462200834560861
           ],
           "yaxis": "y"
          }
         ],
         "name": "10"
        },
        {
         "data": [
          {
           "hovertemplate": "Region=| Sverige |<br>Vecka=%{x}<br>Andel vaccinerade=%{y}<extra></extra>",
           "legendgroup": "| Sverige |",
           "marker": {
            "color": "#636efa",
            "symbol": "circle"
           },
           "mode": "markers",
           "name": "| Sverige |",
           "orientation": "v",
           "showlegend": true,
           "type": "scatter",
           "x": [
            11,
            11
           ],
           "xaxis": "x",
           "y": [
            0.11908638497443715,
            0.043873222691525854
           ],
           "yaxis": "y"
          },
          {
           "hovertemplate": "Region=Stockholm<br>Vecka=%{x}<br>Andel vaccinerade=%{y}<extra></extra>",
           "legendgroup": "Stockholm",
           "marker": {
            "color": "#EF553B",
            "symbol": "circle"
           },
           "mode": "markers",
           "name": "Stockholm",
           "orientation": "v",
           "showlegend": true,
           "type": "scatter",
           "x": [
            11,
            11
           ],
           "xaxis": "x",
           "y": [
            0.08442057617977251,
            0.032772569193538964
           ],
           "yaxis": "y"
          },
          {
           "hovertemplate": "Region=Uppsala<br>Vecka=%{x}<br>Andel vaccinerade=%{y}<extra></extra>",
           "legendgroup": "Uppsala",
           "marker": {
            "color": "#00cc96",
            "symbol": "circle"
           },
           "mode": "markers",
           "name": "Uppsala",
           "orientation": "v",
           "showlegend": true,
           "type": "scatter",
           "x": [
            11,
            11
           ],
           "xaxis": "x",
           "y": [
            0.10432667169707349,
            0.046773390609002756
           ],
           "yaxis": "y"
          },
          {
           "hovertemplate": "Region=Södermanland<br>Vecka=%{x}<br>Andel vaccinerade=%{y}<extra></extra>",
           "legendgroup": "Södermanland",
           "marker": {
            "color": "#ab63fa",
            "symbol": "circle"
           },
           "mode": "markers",
           "name": "Södermanland",
           "orientation": "v",
           "showlegend": true,
           "type": "scatter",
           "x": [
            11,
            11
           ],
           "xaxis": "x",
           "y": [
            0.16192307378287243,
            0.04790538940733665
           ],
           "yaxis": "y"
          },
          {
           "hovertemplate": "Region=Östergötland<br>Vecka=%{x}<br>Andel vaccinerade=%{y}<extra></extra>",
           "legendgroup": "Östergötland",
           "marker": {
            "color": "#FFA15A",
            "symbol": "circle"
           },
           "mode": "markers",
           "name": "Östergötland",
           "orientation": "v",
           "showlegend": true,
           "type": "scatter",
           "x": [
            11,
            11
           ],
           "xaxis": "x",
           "y": [
            0.13802600148194974,
            0.04867634942924208
           ],
           "yaxis": "y"
          },
          {
           "hovertemplate": "Region=Jönköping<br>Vecka=%{x}<br>Andel vaccinerade=%{y}<extra></extra>",
           "legendgroup": "Jönköping",
           "marker": {
            "color": "#19d3f3",
            "symbol": "circle"
           },
           "mode": "markers",
           "name": "Jönköping",
           "orientation": "v",
           "showlegend": true,
           "type": "scatter",
           "x": [
            11,
            11
           ],
           "xaxis": "x",
           "y": [
            0.13869538531713158,
            0.050530425245759784
           ],
           "yaxis": "y"
          },
          {
           "hovertemplate": "Region=Kronoberg<br>Vecka=%{x}<br>Andel vaccinerade=%{y}<extra></extra>",
           "legendgroup": "Kronoberg",
           "marker": {
            "color": "#FF6692",
            "symbol": "circle"
           },
           "mode": "markers",
           "name": "Kronoberg",
           "orientation": "v",
           "showlegend": true,
           "type": "scatter",
           "x": [
            11,
            11
           ],
           "xaxis": "x",
           "y": [
            0.11691501654657543,
            0.04407378502156802
           ],
           "yaxis": "y"
          },
          {
           "hovertemplate": "Region=Kalmar<br>Vecka=%{x}<br>Andel vaccinerade=%{y}<extra></extra>",
           "legendgroup": "Kalmar",
           "marker": {
            "color": "#B6E880",
            "symbol": "circle"
           },
           "mode": "markers",
           "name": "Kalmar",
           "orientation": "v",
           "showlegend": true,
           "type": "scatter",
           "x": [
            11,
            11
           ],
           "xaxis": "x",
           "y": [
            0.1607211578275632,
            0.06730773914780228
           ],
           "yaxis": "y"
          },
          {
           "hovertemplate": "Region=Gotland<br>Vecka=%{x}<br>Andel vaccinerade=%{y}<extra></extra>",
           "legendgroup": "Gotland",
           "marker": {
            "color": "#FF97FF",
            "symbol": "circle"
           },
           "mode": "markers",
           "name": "Gotland",
           "orientation": "v",
           "showlegend": true,
           "type": "scatter",
           "x": [
            11,
            11
           ],
           "xaxis": "x",
           "y": [
            0.19756994278748796,
            0.08127715628256296
           ],
           "yaxis": "y"
          },
          {
           "hovertemplate": "Region=Blekinge<br>Vecka=%{x}<br>Andel vaccinerade=%{y}<extra></extra>",
           "legendgroup": "Blekinge",
           "marker": {
            "color": "#FECB52",
            "symbol": "circle"
           },
           "mode": "markers",
           "name": "Blekinge",
           "orientation": "v",
           "showlegend": true,
           "type": "scatter",
           "x": [
            11,
            11
           ],
           "xaxis": "x",
           "y": [
            0.14426670089005986,
            0.07115194431652612
           ],
           "yaxis": "y"
          },
          {
           "hovertemplate": "Region=Skåne<br>Vecka=%{x}<br>Andel vaccinerade=%{y}<extra></extra>",
           "legendgroup": "Skåne",
           "marker": {
            "color": "#636efa",
            "symbol": "circle"
           },
           "mode": "markers",
           "name": "Skåne",
           "orientation": "v",
           "showlegend": true,
           "type": "scatter",
           "x": [
            11,
            11
           ],
           "xaxis": "x",
           "y": [
            0.10904950981125336,
            0.04187477949644687
           ],
           "yaxis": "y"
          },
          {
           "hovertemplate": "Region=Halland<br>Vecka=%{x}<br>Andel vaccinerade=%{y}<extra></extra>",
           "legendgroup": "Halland",
           "marker": {
            "color": "#EF553B",
            "symbol": "circle"
           },
           "mode": "markers",
           "name": "Halland",
           "orientation": "v",
           "showlegend": true,
           "type": "scatter",
           "x": [
            11,
            11
           ],
           "xaxis": "x",
           "y": [
            0.13191342807424594,
            0.0576276102088167
           ],
           "yaxis": "y"
          },
          {
           "hovertemplate": "Region=Västra Götaland<br>Vecka=%{x}<br>Andel vaccinerade=%{y}<extra></extra>",
           "legendgroup": "Västra Götaland",
           "marker": {
            "color": "#00cc96",
            "symbol": "circle"
           },
           "mode": "markers",
           "name": "Västra Götaland",
           "orientation": "v",
           "showlegend": true,
           "type": "scatter",
           "x": [
            11,
            11
           ],
           "xaxis": "x",
           "y": [
            0.11857180455653957,
            0.0375283138787704
           ],
           "yaxis": "y"
          },
          {
           "hovertemplate": "Region=Värmland<br>Vecka=%{x}<br>Andel vaccinerade=%{y}<extra></extra>",
           "legendgroup": "Värmland",
           "marker": {
            "color": "#ab63fa",
            "symbol": "circle"
           },
           "mode": "markers",
           "name": "Värmland",
           "orientation": "v",
           "showlegend": true,
           "type": "scatter",
           "x": [
            11,
            11
           ],
           "xaxis": "x",
           "y": [
            0.15212422097813458,
            0.05819795077638111
           ],
           "yaxis": "y"
          },
          {
           "hovertemplate": "Region=Örebro<br>Vecka=%{x}<br>Andel vaccinerade=%{y}<extra></extra>",
           "legendgroup": "Örebro",
           "marker": {
            "color": "#FFA15A",
            "symbol": "circle"
           },
           "mode": "markers",
           "name": "Örebro",
           "orientation": "v",
           "showlegend": true,
           "type": "scatter",
           "x": [
            11,
            11
           ],
           "xaxis": "x",
           "y": [
            0.14207437487831334,
            0.05470634280469343
           ],
           "yaxis": "y"
          },
          {
           "hovertemplate": "Region=Västmanland<br>Vecka=%{x}<br>Andel vaccinerade=%{y}<extra></extra>",
           "legendgroup": "Västmanland",
           "marker": {
            "color": "#19d3f3",
            "symbol": "circle"
           },
           "mode": "markers",
           "name": "Västmanland",
           "orientation": "v",
           "showlegend": true,
           "type": "scatter",
           "x": [
            11,
            11
           ],
           "xaxis": "x",
           "y": [
            0.14367408419374897,
            0.05059594181576159
           ],
           "yaxis": "y"
          },
          {
           "hovertemplate": "Region=Dalarna<br>Vecka=%{x}<br>Andel vaccinerade=%{y}<extra></extra>",
           "legendgroup": "Dalarna",
           "marker": {
            "color": "#FF6692",
            "symbol": "circle"
           },
           "mode": "markers",
           "name": "Dalarna",
           "orientation": "v",
           "showlegend": true,
           "type": "scatter",
           "x": [
            11,
            11
           ],
           "xaxis": "x",
           "y": [
            0.12920642893018583,
            0.05140632847815168
           ],
           "yaxis": "y"
          },
          {
           "hovertemplate": "Region=Gävleborg<br>Vecka=%{x}<br>Andel vaccinerade=%{y}<extra></extra>",
           "legendgroup": "Gävleborg",
           "marker": {
            "color": "#B6E880",
            "symbol": "circle"
           },
           "mode": "markers",
           "name": "Gävleborg",
           "orientation": "v",
           "showlegend": true,
           "type": "scatter",
           "x": [
            11,
            11
           ],
           "xaxis": "x",
           "y": [
            0.15036778810067886,
            0.05188647774089704
           ],
           "yaxis": "y"
          },
          {
           "hovertemplate": "Region=Västernorrland<br>Vecka=%{x}<br>Andel vaccinerade=%{y}<extra></extra>",
           "legendgroup": "Västernorrland",
           "marker": {
            "color": "#FF97FF",
            "symbol": "circle"
           },
           "mode": "markers",
           "name": "Västernorrland",
           "orientation": "v",
           "showlegend": true,
           "type": "scatter",
           "x": [
            11,
            11
           ],
           "xaxis": "x",
           "y": [
            0.14441107153181668,
            0.04780710565385049
           ],
           "yaxis": "y"
          },
          {
           "hovertemplate": "Region=Jämtland<br>Vecka=%{x}<br>Andel vaccinerade=%{y}<extra></extra>",
           "legendgroup": "Jämtland",
           "marker": {
            "color": "#FECB52",
            "symbol": "circle"
           },
           "mode": "markers",
           "name": "Jämtland",
           "orientation": "v",
           "showlegend": true,
           "type": "scatter",
           "x": [
            11,
            11
           ],
           "xaxis": "x",
           "y": [
            0.1527631180417244,
            0.046249300156948406
           ],
           "yaxis": "y"
          },
          {
           "hovertemplate": "Region=Västerbotten<br>Vecka=%{x}<br>Andel vaccinerade=%{y}<extra></extra>",
           "legendgroup": "Västerbotten",
           "marker": {
            "color": "#636efa",
            "symbol": "circle"
           },
           "mode": "markers",
           "name": "Västerbotten",
           "orientation": "v",
           "showlegend": true,
           "type": "scatter",
           "x": [
            11,
            11
           ],
           "xaxis": "x",
           "y": [
            0.1319245415923749,
            0.0419599815096084
           ],
           "yaxis": "y"
          },
          {
           "hovertemplate": "Region=Norrbotten<br>Vecka=%{x}<br>Andel vaccinerade=%{y}<extra></extra>",
           "legendgroup": "Norrbotten",
           "marker": {
            "color": "#EF553B",
            "symbol": "circle"
           },
           "mode": "markers",
           "name": "Norrbotten",
           "orientation": "v",
           "showlegend": true,
           "type": "scatter",
           "x": [
            11,
            11
           ],
           "xaxis": "x",
           "y": [
            0.12336059944394186,
            0.04903163468779751
           ],
           "yaxis": "y"
          }
         ],
         "name": "11"
        },
        {
         "data": [
          {
           "hovertemplate": "Region=| Sverige |<br>Vecka=%{x}<br>Andel vaccinerade=%{y}<extra></extra>",
           "legendgroup": "| Sverige |",
           "marker": {
            "color": "#636efa",
            "symbol": "circle"
           },
           "mode": "markers",
           "name": "| Sverige |",
           "orientation": "v",
           "showlegend": true,
           "type": "scatter",
           "x": [
            12,
            12
           ],
           "xaxis": "x",
           "y": [
            0.13417320172330446,
            0.05050835936604555
           ],
           "yaxis": "y"
          },
          {
           "hovertemplate": "Region=Stockholm<br>Vecka=%{x}<br>Andel vaccinerade=%{y}<extra></extra>",
           "legendgroup": "Stockholm",
           "marker": {
            "color": "#EF553B",
            "symbol": "circle"
           },
           "mode": "markers",
           "name": "Stockholm",
           "orientation": "v",
           "showlegend": true,
           "type": "scatter",
           "x": [
            12,
            12
           ],
           "xaxis": "x",
           "y": [
            0.09799176534619063,
            0.03820288981615013
           ],
           "yaxis": "y"
          },
          {
           "hovertemplate": "Region=Uppsala<br>Vecka=%{x}<br>Andel vaccinerade=%{y}<extra></extra>",
           "legendgroup": "Uppsala",
           "marker": {
            "color": "#00cc96",
            "symbol": "circle"
           },
           "mode": "markers",
           "name": "Uppsala",
           "orientation": "v",
           "showlegend": true,
           "type": "scatter",
           "x": [
            12,
            12
           ],
           "xaxis": "x",
           "y": [
            0.11791816300396693,
            0.0527910930489588
           ],
           "yaxis": "y"
          },
          {
           "hovertemplate": "Region=Södermanland<br>Vecka=%{x}<br>Andel vaccinerade=%{y}<extra></extra>",
           "legendgroup": "Södermanland",
           "marker": {
            "color": "#ab63fa",
            "symbol": "circle"
           },
           "mode": "markers",
           "name": "Södermanland",
           "orientation": "v",
           "showlegend": true,
           "type": "scatter",
           "x": [
            12,
            12
           ],
           "xaxis": "x",
           "y": [
            0.17711318490214809,
            0.05986642826234273
           ],
           "yaxis": "y"
          },
          {
           "hovertemplate": "Region=Östergötland<br>Vecka=%{x}<br>Andel vaccinerade=%{y}<extra></extra>",
           "legendgroup": "Östergötland",
           "marker": {
            "color": "#FFA15A",
            "symbol": "circle"
           },
           "mode": "markers",
           "name": "Östergötland",
           "orientation": "v",
           "showlegend": true,
           "type": "scatter",
           "x": [
            12,
            12
           ],
           "xaxis": "x",
           "y": [
            0.15593634870381212,
            0.05582183440506972
           ],
           "yaxis": "y"
          },
          {
           "hovertemplate": "Region=Jönköping<br>Vecka=%{x}<br>Andel vaccinerade=%{y}<extra></extra>",
           "legendgroup": "Jönköping",
           "marker": {
            "color": "#19d3f3",
            "symbol": "circle"
           },
           "mode": "markers",
           "name": "Jönköping",
           "orientation": "v",
           "showlegend": true,
           "type": "scatter",
           "x": [
            12,
            12
           ],
           "xaxis": "x",
           "y": [
            0.14547033945203366,
            0.060209889420674345
           ],
           "yaxis": "y"
          },
          {
           "hovertemplate": "Region=Kronoberg<br>Vecka=%{x}<br>Andel vaccinerade=%{y}<extra></extra>",
           "legendgroup": "Kronoberg",
           "marker": {
            "color": "#FF6692",
            "symbol": "circle"
           },
           "mode": "markers",
           "name": "Kronoberg",
           "orientation": "v",
           "showlegend": true,
           "type": "scatter",
           "x": [
            12,
            12
           ],
           "xaxis": "x",
           "y": [
            0.13502247551288335,
            0.0531668390898476
           ],
           "yaxis": "y"
          },
          {
           "hovertemplate": "Region=Kalmar<br>Vecka=%{x}<br>Andel vaccinerade=%{y}<extra></extra>",
           "legendgroup": "Kalmar",
           "marker": {
            "color": "#B6E880",
            "symbol": "circle"
           },
           "mode": "markers",
           "name": "Kalmar",
           "orientation": "v",
           "showlegend": true,
           "type": "scatter",
           "x": [
            12,
            12
           ],
           "xaxis": "x",
           "y": [
            0.1860669034153185,
            0.07038157452467593
           ],
           "yaxis": "y"
          },
          {
           "hovertemplate": "Region=Gotland<br>Vecka=%{x}<br>Andel vaccinerade=%{y}<extra></extra>",
           "legendgroup": "Gotland",
           "marker": {
            "color": "#FF97FF",
            "symbol": "circle"
           },
           "mode": "markers",
           "name": "Gotland",
           "orientation": "v",
           "showlegend": true,
           "type": "scatter",
           "x": [
            12,
            12
           ],
           "xaxis": "x",
           "y": [
            0.20529658101173742,
            0.0826927235908224
           ],
           "yaxis": "y"
          },
          {
           "hovertemplate": "Region=Blekinge<br>Vecka=%{x}<br>Andel vaccinerade=%{y}<extra></extra>",
           "legendgroup": "Blekinge",
           "marker": {
            "color": "#FECB52",
            "symbol": "circle"
           },
           "mode": "markers",
           "name": "Blekinge",
           "orientation": "v",
           "showlegend": true,
           "type": "scatter",
           "x": [
            12,
            12
           ],
           "xaxis": "x",
           "y": [
            0.15423174773332932,
            0.07961468485539358
           ],
           "yaxis": "y"
          },
          {
           "hovertemplate": "Region=Skåne<br>Vecka=%{x}<br>Andel vaccinerade=%{y}<extra></extra>",
           "legendgroup": "Skåne",
           "marker": {
            "color": "#636efa",
            "symbol": "circle"
           },
           "mode": "markers",
           "name": "Skåne",
           "orientation": "v",
           "showlegend": true,
           "type": "scatter",
           "x": [
            12,
            12
           ],
           "xaxis": "x",
           "y": [
            0.12463542679370017,
            0.04687124704052338
           ],
           "yaxis": "y"
          },
          {
           "hovertemplate": "Region=Halland<br>Vecka=%{x}<br>Andel vaccinerade=%{y}<extra></extra>",
           "legendgroup": "Halland",
           "marker": {
            "color": "#EF553B",
            "symbol": "circle"
           },
           "mode": "markers",
           "name": "Halland",
           "orientation": "v",
           "showlegend": true,
           "type": "scatter",
           "x": [
            12,
            12
           ],
           "xaxis": "x",
           "y": [
            0.15754785382830627,
            0.06185107308584687
           ],
           "yaxis": "y"
          },
          {
           "hovertemplate": "Region=Västra Götaland<br>Vecka=%{x}<br>Andel vaccinerade=%{y}<extra></extra>",
           "legendgroup": "Västra Götaland",
           "marker": {
            "color": "#00cc96",
            "symbol": "circle"
           },
           "mode": "markers",
           "name": "Västra Götaland",
           "orientation": "v",
           "showlegend": true,
           "type": "scatter",
           "x": [
            12,
            12
           ],
           "xaxis": "x",
           "y": [
            0.1326426473511649,
            0.04312319232158406
           ],
           "yaxis": "y"
          },
          {
           "hovertemplate": "Region=Värmland<br>Vecka=%{x}<br>Andel vaccinerade=%{y}<extra></extra>",
           "legendgroup": "Värmland",
           "marker": {
            "color": "#ab63fa",
            "symbol": "circle"
           },
           "mode": "markers",
           "name": "Värmland",
           "orientation": "v",
           "showlegend": true,
           "type": "scatter",
           "x": [
            12,
            12
           ],
           "xaxis": "x",
           "y": [
            0.1734319214112179,
            0.06997781768247596
           ],
           "yaxis": "y"
          },
          {
           "hovertemplate": "Region=Örebro<br>Vecka=%{x}<br>Andel vaccinerade=%{y}<extra></extra>",
           "legendgroup": "Örebro",
           "marker": {
            "color": "#FFA15A",
            "symbol": "circle"
           },
           "mode": "markers",
           "name": "Örebro",
           "orientation": "v",
           "showlegend": true,
           "type": "scatter",
           "x": [
            12,
            12
           ],
           "xaxis": "x",
           "y": [
            0.1584131663958104,
            0.06048372677026753
           ],
           "yaxis": "y"
          },
          {
           "hovertemplate": "Region=Västmanland<br>Vecka=%{x}<br>Andel vaccinerade=%{y}<extra></extra>",
           "legendgroup": "Västmanland",
           "marker": {
            "color": "#19d3f3",
            "symbol": "circle"
           },
           "mode": "markers",
           "name": "Västmanland",
           "orientation": "v",
           "showlegend": true,
           "type": "scatter",
           "x": [
            12,
            12
           ],
           "xaxis": "x",
           "y": [
            0.15808002522134357,
            0.06178791302139436
           ],
           "yaxis": "y"
          },
          {
           "hovertemplate": "Region=Dalarna<br>Vecka=%{x}<br>Andel vaccinerade=%{y}<extra></extra>",
           "legendgroup": "Dalarna",
           "marker": {
            "color": "#FF6692",
            "symbol": "circle"
           },
           "mode": "markers",
           "name": "Dalarna",
           "orientation": "v",
           "showlegend": true,
           "type": "scatter",
           "x": [
            12,
            12
           ],
           "xaxis": "x",
           "y": [
            0.1440733299849322,
            0.06012054244098443
           ],
           "yaxis": "y"
          },
          {
           "hovertemplate": "Region=Gävleborg<br>Vecka=%{x}<br>Andel vaccinerade=%{y}<extra></extra>",
           "legendgroup": "Gävleborg",
           "marker": {
            "color": "#B6E880",
            "symbol": "circle"
           },
           "mode": "markers",
           "name": "Gävleborg",
           "orientation": "v",
           "showlegend": true,
           "type": "scatter",
           "x": [
            12,
            12
           ],
           "xaxis": "x",
           "y": [
            0.17293129618200925,
            0.058641769386019046
           ],
           "yaxis": "y"
          },
          {
           "hovertemplate": "Region=Västernorrland<br>Vecka=%{x}<br>Andel vaccinerade=%{y}<extra></extra>",
           "legendgroup": "Västernorrland",
           "marker": {
            "color": "#FF97FF",
            "symbol": "circle"
           },
           "mode": "markers",
           "name": "Västernorrland",
           "orientation": "v",
           "showlegend": true,
           "type": "scatter",
           "x": [
            12,
            12
           ],
           "xaxis": "x",
           "y": [
            0.1485023837405863,
            0.060458324962884204
           ],
           "yaxis": "y"
          },
          {
           "hovertemplate": "Region=Jämtland<br>Vecka=%{x}<br>Andel vaccinerade=%{y}<extra></extra>",
           "legendgroup": "Jämtland",
           "marker": {
            "color": "#FECB52",
            "symbol": "circle"
           },
           "mode": "markers",
           "name": "Jämtland",
           "orientation": "v",
           "showlegend": true,
           "type": "scatter",
           "x": [
            12,
            12
           ],
           "xaxis": "x",
           "y": [
            0.1656402301909998,
            0.05416096849100071
           ],
           "yaxis": "y"
          },
          {
           "hovertemplate": "Region=Västerbotten<br>Vecka=%{x}<br>Andel vaccinerade=%{y}<extra></extra>",
           "legendgroup": "Västerbotten",
           "marker": {
            "color": "#636efa",
            "symbol": "circle"
           },
           "mode": "markers",
           "name": "Västerbotten",
           "orientation": "v",
           "showlegend": true,
           "type": "scatter",
           "x": [
            12,
            12
           ],
           "xaxis": "x",
           "y": [
            0.14463888705452466,
            0.05403156573994585
           ],
           "yaxis": "y"
          },
          {
           "hovertemplate": "Region=Norrbotten<br>Vecka=%{x}<br>Andel vaccinerade=%{y}<extra></extra>",
           "legendgroup": "Norrbotten",
           "marker": {
            "color": "#EF553B",
            "symbol": "circle"
           },
           "mode": "markers",
           "name": "Norrbotten",
           "orientation": "v",
           "showlegend": true,
           "type": "scatter",
           "x": [
            12,
            12
           ],
           "xaxis": "x",
           "y": [
            0.14257633958385632,
            0.05249870931989447
           ],
           "yaxis": "y"
          }
         ],
         "name": "12"
        },
        {
         "data": [
          {
           "hovertemplate": "Region=| Sverige |<br>Vecka=%{x}<br>Andel vaccinerade=%{y}<extra></extra>",
           "legendgroup": "| Sverige |",
           "marker": {
            "color": "#636efa",
            "symbol": "circle"
           },
           "mode": "markers",
           "name": "| Sverige |",
           "orientation": "v",
           "showlegend": true,
           "type": "scatter",
           "x": [
            13,
            13
           ],
           "xaxis": "x",
           "y": [
            0.1572664604342775,
            0.057071728761363495
           ],
           "yaxis": "y"
          },
          {
           "hovertemplate": "Region=Stockholm<br>Vecka=%{x}<br>Andel vaccinerade=%{y}<extra></extra>",
           "legendgroup": "Stockholm",
           "marker": {
            "color": "#EF553B",
            "symbol": "circle"
           },
           "mode": "markers",
           "name": "Stockholm",
           "orientation": "v",
           "showlegend": true,
           "type": "scatter",
           "x": [
            13,
            13
           ],
           "xaxis": "x",
           "y": [
            0.12284332325782338,
            0.04492980454740666
           ],
           "yaxis": "y"
          },
          {
           "hovertemplate": "Region=Uppsala<br>Vecka=%{x}<br>Andel vaccinerade=%{y}<extra></extra>",
           "legendgroup": "Uppsala",
           "marker": {
            "color": "#00cc96",
            "symbol": "circle"
           },
           "mode": "markers",
           "name": "Uppsala",
           "orientation": "v",
           "showlegend": true,
           "type": "scatter",
           "x": [
            13,
            13
           ],
           "xaxis": "x",
           "y": [
            0.1293649476660269,
            0.05540544348463169
           ],
           "yaxis": "y"
          },
          {
           "hovertemplate": "Region=Södermanland<br>Vecka=%{x}<br>Andel vaccinerade=%{y}<extra></extra>",
           "legendgroup": "Södermanland",
           "marker": {
            "color": "#ab63fa",
            "symbol": "circle"
           },
           "mode": "markers",
           "name": "Södermanland",
           "orientation": "v",
           "showlegend": true,
           "type": "scatter",
           "x": [
            13,
            13
           ],
           "xaxis": "x",
           "y": [
            0.19742653962655432,
            0.06710836782847952
           ],
           "yaxis": "y"
          },
          {
           "hovertemplate": "Region=Östergötland<br>Vecka=%{x}<br>Andel vaccinerade=%{y}<extra></extra>",
           "legendgroup": "Östergötland",
           "marker": {
            "color": "#FFA15A",
            "symbol": "circle"
           },
           "mode": "markers",
           "name": "Östergötland",
           "orientation": "v",
           "showlegend": true,
           "type": "scatter",
           "x": [
            13,
            13
           ],
           "xaxis": "x",
           "y": [
            0.1794325065159154,
            0.05771313390918653
           ],
           "yaxis": "y"
          },
          {
           "hovertemplate": "Region=Jönköping<br>Vecka=%{x}<br>Andel vaccinerade=%{y}<extra></extra>",
           "legendgroup": "Jönköping",
           "marker": {
            "color": "#19d3f3",
            "symbol": "circle"
           },
           "mode": "markers",
           "name": "Jönköping",
           "orientation": "v",
           "showlegend": true,
           "type": "scatter",
           "x": [
            13,
            13
           ],
           "xaxis": "x",
           "y": [
            0.1775071522721251,
            0.0633256975351912
           ],
           "yaxis": "y"
          },
          {
           "hovertemplate": "Region=Kronoberg<br>Vecka=%{x}<br>Andel vaccinerade=%{y}<extra></extra>",
           "legendgroup": "Kronoberg",
           "marker": {
            "color": "#FF6692",
            "symbol": "circle"
           },
           "mode": "markers",
           "name": "Kronoberg",
           "orientation": "v",
           "showlegend": true,
           "type": "scatter",
           "x": [
            13,
            13
           ],
           "xaxis": "x",
           "y": [
            0.15679619580013432,
            0.05705694804919808
           ],
           "yaxis": "y"
          },
          {
           "hovertemplate": "Region=Kalmar<br>Vecka=%{x}<br>Andel vaccinerade=%{y}<extra></extra>",
           "legendgroup": "Kalmar",
           "marker": {
            "color": "#B6E880",
            "symbol": "circle"
           },
           "mode": "markers",
           "name": "Kalmar",
           "orientation": "v",
           "showlegend": true,
           "type": "scatter",
           "x": [
            13,
            13
           ],
           "xaxis": "x",
           "y": [
            0.20946410042819355,
            0.0762613198493772
           ],
           "yaxis": "y"
          },
          {
           "hovertemplate": "Region=Gotland<br>Vecka=%{x}<br>Andel vaccinerade=%{y}<extra></extra>",
           "legendgroup": "Gotland",
           "marker": {
            "color": "#FF97FF",
            "symbol": "circle"
           },
           "mode": "markers",
           "name": "Gotland",
           "orientation": "v",
           "showlegend": true,
           "type": "scatter",
           "x": [
            13,
            13
           ],
           "xaxis": "x",
           "y": [
            0.21437980457306882,
            0.08326288264553801
           ],
           "yaxis": "y"
          },
          {
           "hovertemplate": "Region=Blekinge<br>Vecka=%{x}<br>Andel vaccinerade=%{y}<extra></extra>",
           "legendgroup": "Blekinge",
           "marker": {
            "color": "#FECB52",
            "symbol": "circle"
           },
           "mode": "markers",
           "name": "Blekinge",
           "orientation": "v",
           "showlegend": true,
           "type": "scatter",
           "x": [
            13,
            13
           ],
           "xaxis": "x",
           "y": [
            0.17688713074594414,
            0.08683179453885236
           ],
           "yaxis": "y"
          },
          {
           "hovertemplate": "Region=Skåne<br>Vecka=%{x}<br>Andel vaccinerade=%{y}<extra></extra>",
           "legendgroup": "Skåne",
           "marker": {
            "color": "#636efa",
            "symbol": "circle"
           },
           "mode": "markers",
           "name": "Skåne",
           "orientation": "v",
           "showlegend": true,
           "type": "scatter",
           "x": [
            13,
            13
           ],
           "xaxis": "x",
           "y": [
            0.14352856714261708,
            0.05379978761273725
           ],
           "yaxis": "y"
          },
          {
           "hovertemplate": "Region=Halland<br>Vecka=%{x}<br>Andel vaccinerade=%{y}<extra></extra>",
           "legendgroup": "Halland",
           "marker": {
            "color": "#EF553B",
            "symbol": "circle"
           },
           "mode": "markers",
           "name": "Halland",
           "orientation": "v",
           "showlegend": true,
           "type": "scatter",
           "x": [
            13,
            13
           ],
           "xaxis": "x",
           "y": [
            0.17409005220417634,
            0.07043213457076566
           ],
           "yaxis": "y"
          },
          {
           "hovertemplate": "Region=Västra Götaland<br>Vecka=%{x}<br>Andel vaccinerade=%{y}<extra></extra>",
           "legendgroup": "Västra Götaland",
           "marker": {
            "color": "#00cc96",
            "symbol": "circle"
           },
           "mode": "markers",
           "name": "Västra Götaland",
           "orientation": "v",
           "showlegend": true,
           "type": "scatter",
           "x": [
            13,
            13
           ],
           "xaxis": "x",
           "y": [
            0.1502056518561865,
            0.050674493290065716
           ],
           "yaxis": "y"
          },
          {
           "hovertemplate": "Region=Värmland<br>Vecka=%{x}<br>Andel vaccinerade=%{y}<extra></extra>",
           "legendgroup": "Värmland",
           "marker": {
            "color": "#ab63fa",
            "symbol": "circle"
           },
           "mode": "markers",
           "name": "Värmland",
           "orientation": "v",
           "showlegend": true,
           "type": "scatter",
           "x": [
            13,
            13
           ],
           "xaxis": "x",
           "y": [
            0.2180373930495405,
            0.0811534805112496
           ],
           "yaxis": "y"
          },
          {
           "hovertemplate": "Region=Örebro<br>Vecka=%{x}<br>Andel vaccinerade=%{y}<extra></extra>",
           "legendgroup": "Örebro",
           "marker": {
            "color": "#FFA15A",
            "symbol": "circle"
           },
           "mode": "markers",
           "name": "Örebro",
           "orientation": "v",
           "showlegend": true,
           "type": "scatter",
           "x": [
            13,
            13
           ],
           "xaxis": "x",
           "y": [
            0.18852787965240334,
            0.06657501261567682
           ],
           "yaxis": "y"
          },
          {
           "hovertemplate": "Region=Västmanland<br>Vecka=%{x}<br>Andel vaccinerade=%{y}<extra></extra>",
           "legendgroup": "Västmanland",
           "marker": {
            "color": "#19d3f3",
            "symbol": "circle"
           },
           "mode": "markers",
           "name": "Västmanland",
           "orientation": "v",
           "showlegend": true,
           "type": "scatter",
           "x": [
            13,
            13
           ],
           "xaxis": "x",
           "y": [
            0.18430847104362066,
            0.07400888001471245
           ],
           "yaxis": "y"
          },
          {
           "hovertemplate": "Region=Dalarna<br>Vecka=%{x}<br>Andel vaccinerade=%{y}<extra></extra>",
           "legendgroup": "Dalarna",
           "marker": {
            "color": "#FF6692",
            "symbol": "circle"
           },
           "mode": "markers",
           "name": "Dalarna",
           "orientation": "v",
           "showlegend": true,
           "type": "scatter",
           "x": [
            13,
            13
           ],
           "xaxis": "x",
           "y": [
            0.181947932362297,
            0.06129248283944416
           ],
           "yaxis": "y"
          },
          {
           "hovertemplate": "Region=Gävleborg<br>Vecka=%{x}<br>Andel vaccinerade=%{y}<extra></extra>",
           "legendgroup": "Gävleborg",
           "marker": {
            "color": "#B6E880",
            "symbol": "circle"
           },
           "mode": "markers",
           "name": "Gävleborg",
           "orientation": "v",
           "showlegend": true,
           "type": "scatter",
           "x": [
            13,
            13
           ],
           "xaxis": "x",
           "y": [
            0.20134105048955014,
            0.06466732273614331
           ],
           "yaxis": "y"
          },
          {
           "hovertemplate": "Region=Västernorrland<br>Vecka=%{x}<br>Andel vaccinerade=%{y}<extra></extra>",
           "legendgroup": "Västernorrland",
           "marker": {
            "color": "#FF97FF",
            "symbol": "circle"
           },
           "mode": "markers",
           "name": "Västernorrland",
           "orientation": "v",
           "showlegend": true,
           "type": "scatter",
           "x": [
            13,
            13
           ],
           "xaxis": "x",
           "y": [
            0.16380928115399504,
            0.07606410865741263
           ],
           "yaxis": "y"
          },
          {
           "hovertemplate": "Region=Jämtland<br>Vecka=%{x}<br>Andel vaccinerade=%{y}<extra></extra>",
           "legendgroup": "Jämtland",
           "marker": {
            "color": "#FECB52",
            "symbol": "circle"
           },
           "mode": "markers",
           "name": "Jämtland",
           "orientation": "v",
           "showlegend": true,
           "type": "scatter",
           "x": [
            13,
            13
           ],
           "xaxis": "x",
           "y": [
            0.19462520536378072,
            0.05450056446357604
           ],
           "yaxis": "y"
          },
          {
           "hovertemplate": "Region=Västerbotten<br>Vecka=%{x}<br>Andel vaccinerade=%{y}<extra></extra>",
           "legendgroup": "Västerbotten",
           "marker": {
            "color": "#636efa",
            "symbol": "circle"
           },
           "mode": "markers",
           "name": "Västerbotten",
           "orientation": "v",
           "showlegend": true,
           "type": "scatter",
           "x": [
            13,
            13
           ],
           "xaxis": "x",
           "y": [
            0.16952167117920272,
            0.05554161438728566
           ],
           "yaxis": "y"
          },
          {
           "hovertemplate": "Region=Norrbotten<br>Vecka=%{x}<br>Andel vaccinerade=%{y}<extra></extra>",
           "legendgroup": "Norrbotten",
           "marker": {
            "color": "#EF553B",
            "symbol": "circle"
           },
           "mode": "markers",
           "name": "Norrbotten",
           "orientation": "v",
           "showlegend": true,
           "type": "scatter",
           "x": [
            13,
            13
           ],
           "xaxis": "x",
           "y": [
            0.1737942205949917,
            0.06454347815790346
           ],
           "yaxis": "y"
          }
         ],
         "name": "13"
        },
        {
         "data": [
          {
           "hovertemplate": "Region=| Sverige |<br>Vecka=%{x}<br>Andel vaccinerade=%{y}<extra></extra>",
           "legendgroup": "| Sverige |",
           "marker": {
            "color": "#636efa",
            "symbol": "circle"
           },
           "mode": "markers",
           "name": "| Sverige |",
           "orientation": "v",
           "showlegend": true,
           "type": "scatter",
           "x": [
            14,
            14
           ],
           "xaxis": "x",
           "y": [
            0.18679957389202384,
            0.06646668610900408
           ],
           "yaxis": "y"
          },
          {
           "hovertemplate": "Region=Stockholm<br>Vecka=%{x}<br>Andel vaccinerade=%{y}<extra></extra>",
           "legendgroup": "Stockholm",
           "marker": {
            "color": "#EF553B",
            "symbol": "circle"
           },
           "mode": "markers",
           "name": "Stockholm",
           "orientation": "v",
           "showlegend": true,
           "type": "scatter",
           "x": [
            14,
            14
           ],
           "xaxis": "x",
           "y": [
            0.14569720376412032,
            0.053332041864102585
           ],
           "yaxis": "y"
          },
          {
           "hovertemplate": "Region=Uppsala<br>Vecka=%{x}<br>Andel vaccinerade=%{y}<extra></extra>",
           "legendgroup": "Uppsala",
           "marker": {
            "color": "#00cc96",
            "symbol": "circle"
           },
           "mode": "markers",
           "name": "Uppsala",
           "orientation": "v",
           "showlegend": true,
           "type": "scatter",
           "x": [
            14,
            14
           ],
           "xaxis": "x",
           "y": [
            0.1653490549201449,
            0.05701475620790818
           ],
           "yaxis": "y"
          },
          {
           "hovertemplate": "Region=Södermanland<br>Vecka=%{x}<br>Andel vaccinerade=%{y}<extra></extra>",
           "legendgroup": "Södermanland",
           "marker": {
            "color": "#ab63fa",
            "symbol": "circle"
           },
           "mode": "markers",
           "name": "Södermanland",
           "orientation": "v",
           "showlegend": true,
           "type": "scatter",
           "x": [
            14,
            14
           ],
           "xaxis": "x",
           "y": [
            0.23853087417640287,
            0.07710991908949143
           ],
           "yaxis": "y"
          },
          {
           "hovertemplate": "Region=Östergötland<br>Vecka=%{x}<br>Andel vaccinerade=%{y}<extra></extra>",
           "legendgroup": "Östergötland",
           "marker": {
            "color": "#FFA15A",
            "symbol": "circle"
           },
           "mode": "markers",
           "name": "Östergötland",
           "orientation": "v",
           "showlegend": true,
           "type": "scatter",
           "x": [
            14,
            14
           ],
           "xaxis": "x",
           "y": [
            0.219623916389017,
            0.06131178460948551
           ],
           "yaxis": "y"
          },
          {
           "hovertemplate": "Region=Jönköping<br>Vecka=%{x}<br>Andel vaccinerade=%{y}<extra></extra>",
           "legendgroup": "Jönköping",
           "marker": {
            "color": "#19d3f3",
            "symbol": "circle"
           },
           "mode": "markers",
           "name": "Jönköping",
           "orientation": "v",
           "showlegend": true,
           "type": "scatter",
           "x": [
            14,
            14
           ],
           "xaxis": "x",
           "y": [
            0.22761833530656667,
            0.06494564943972471
           ],
           "yaxis": "y"
          },
          {
           "hovertemplate": "Region=Kronoberg<br>Vecka=%{x}<br>Andel vaccinerade=%{y}<extra></extra>",
           "legendgroup": "Kronoberg",
           "marker": {
            "color": "#FF6692",
            "symbol": "circle"
           },
           "mode": "markers",
           "name": "Kronoberg",
           "orientation": "v",
           "showlegend": true,
           "type": "scatter",
           "x": [
            14,
            14
           ],
           "xaxis": "x",
           "y": [
            0.19612078092576124,
            0.06672474605392913
           ],
           "yaxis": "y"
          },
          {
           "hovertemplate": "Region=Kalmar<br>Vecka=%{x}<br>Andel vaccinerade=%{y}<extra></extra>",
           "legendgroup": "Kalmar",
           "marker": {
            "color": "#B6E880",
            "symbol": "circle"
           },
           "mode": "markers",
           "name": "Kalmar",
           "orientation": "v",
           "showlegend": true,
           "type": "scatter",
           "x": [
            14,
            14
           ],
           "xaxis": "x",
           "y": [
            0.24161515191371827,
            0.09180099473404747
           ],
           "yaxis": "y"
          },
          {
           "hovertemplate": "Region=Gotland<br>Vecka=%{x}<br>Andel vaccinerade=%{y}<extra></extra>",
           "legendgroup": "Gotland",
           "marker": {
            "color": "#FF97FF",
            "symbol": "circle"
           },
           "mode": "markers",
           "name": "Gotland",
           "orientation": "v",
           "showlegend": true,
           "type": "scatter",
           "x": [
            14,
            14
           ],
           "xaxis": "x",
           "y": [
            0.2602874388062049,
            0.08471777126791577
           ],
           "yaxis": "y"
          },
          {
           "hovertemplate": "Region=Blekinge<br>Vecka=%{x}<br>Andel vaccinerade=%{y}<extra></extra>",
           "legendgroup": "Blekinge",
           "marker": {
            "color": "#FECB52",
            "symbol": "circle"
           },
           "mode": "markers",
           "name": "Blekinge",
           "orientation": "v",
           "showlegend": true,
           "type": "scatter",
           "x": [
            14,
            14
           ],
           "xaxis": "x",
           "y": [
            0.2124215818756936,
            0.0947811841797332
           ],
           "yaxis": "y"
          },
          {
           "hovertemplate": "Region=Skåne<br>Vecka=%{x}<br>Andel vaccinerade=%{y}<extra></extra>",
           "legendgroup": "Skåne",
           "marker": {
            "color": "#636efa",
            "symbol": "circle"
           },
           "mode": "markers",
           "name": "Skåne",
           "orientation": "v",
           "showlegend": true,
           "type": "scatter",
           "x": [
            14,
            14
           ],
           "xaxis": "x",
           "y": [
            0.1673152367185376,
            0.06613566918264337
           ],
           "yaxis": "y"
          },
          {
           "hovertemplate": "Region=Halland<br>Vecka=%{x}<br>Andel vaccinerade=%{y}<extra></extra>",
           "legendgroup": "Halland",
           "marker": {
            "color": "#EF553B",
            "symbol": "circle"
           },
           "mode": "markers",
           "name": "Halland",
           "orientation": "v",
           "showlegend": true,
           "type": "scatter",
           "x": [
            14,
            14
           ],
           "xaxis": "x",
           "y": [
            0.21069460556844546,
            0.08102885730858468
           ],
           "yaxis": "y"
          },
          {
           "hovertemplate": "Region=Västra Götaland<br>Vecka=%{x}<br>Andel vaccinerade=%{y}<extra></extra>",
           "legendgroup": "Västra Götaland",
           "marker": {
            "color": "#00cc96",
            "symbol": "circle"
           },
           "mode": "markers",
           "name": "Västra Götaland",
           "orientation": "v",
           "showlegend": true,
           "type": "scatter",
           "x": [
            14,
            14
           ],
           "xaxis": "x",
           "y": [
            0.17123561906948484,
            0.06323339595752009
           ],
           "yaxis": "y"
          },
          {
           "hovertemplate": "Region=Värmland<br>Vecka=%{x}<br>Andel vaccinerade=%{y}<extra></extra>",
           "legendgroup": "Värmland",
           "marker": {
            "color": "#ab63fa",
            "symbol": "circle"
           },
           "mode": "markers",
           "name": "Värmland",
           "orientation": "v",
           "showlegend": true,
           "type": "scatter",
           "x": [
            14,
            14
           ],
           "xaxis": "x",
           "y": [
            0.2674807225097708,
            0.09512200274638218
           ],
           "yaxis": "y"
          },
          {
           "hovertemplate": "Region=Örebro<br>Vecka=%{x}<br>Andel vaccinerade=%{y}<extra></extra>",
           "legendgroup": "Örebro",
           "marker": {
            "color": "#FFA15A",
            "symbol": "circle"
           },
           "mode": "markers",
           "name": "Örebro",
           "orientation": "v",
           "showlegend": true,
           "type": "scatter",
           "x": [
            14,
            14
           ],
           "xaxis": "x",
           "y": [
            0.22085579983391015,
            0.07440269240397185
           ],
           "yaxis": "y"
          },
          {
           "hovertemplate": "Region=Västmanland<br>Vecka=%{x}<br>Andel vaccinerade=%{y}<extra></extra>",
           "legendgroup": "Västmanland",
           "marker": {
            "color": "#19d3f3",
            "symbol": "circle"
           },
           "mode": "markers",
           "name": "Västmanland",
           "orientation": "v",
           "showlegend": true,
           "type": "scatter",
           "x": [
            14,
            14
           ],
           "xaxis": "x",
           "y": [
            0.1991610400301255,
            0.08737268913818319
           ],
           "yaxis": "y"
          },
          {
           "hovertemplate": "Region=Dalarna<br>Vecka=%{x}<br>Andel vaccinerade=%{y}<extra></extra>",
           "legendgroup": "Dalarna",
           "marker": {
            "color": "#FF6692",
            "symbol": "circle"
           },
           "mode": "markers",
           "name": "Dalarna",
           "orientation": "v",
           "showlegend": true,
           "type": "scatter",
           "x": [
            14,
            14
           ],
           "xaxis": "x",
           "y": [
            0.2352209944751381,
            0.062066800602712205
           ],
           "yaxis": "y"
          },
          {
           "hovertemplate": "Region=Gävleborg<br>Vecka=%{x}<br>Andel vaccinerade=%{y}<extra></extra>",
           "legendgroup": "Gävleborg",
           "marker": {
            "color": "#B6E880",
            "symbol": "circle"
           },
           "mode": "markers",
           "name": "Gävleborg",
           "orientation": "v",
           "showlegend": true,
           "type": "scatter",
           "x": [
            14,
            14
           ],
           "xaxis": "x",
           "y": [
            0.23415842409887747,
            0.07703951428619085
           ],
           "yaxis": "y"
          },
          {
           "hovertemplate": "Region=Västernorrland<br>Vecka=%{x}<br>Andel vaccinerade=%{y}<extra></extra>",
           "legendgroup": "Västernorrland",
           "marker": {
            "color": "#FF97FF",
            "symbol": "circle"
           },
           "mode": "markers",
           "name": "Västernorrland",
           "orientation": "v",
           "showlegend": true,
           "type": "scatter",
           "x": [
            14,
            14
           ],
           "xaxis": "x",
           "y": [
            0.20295358443047465,
            0.08847523898653052
           ],
           "yaxis": "y"
          },
          {
           "hovertemplate": "Region=Jämtland<br>Vecka=%{x}<br>Andel vaccinerade=%{y}<extra></extra>",
           "legendgroup": "Jämtland",
           "marker": {
            "color": "#FECB52",
            "symbol": "circle"
           },
           "mode": "markers",
           "name": "Jämtland",
           "orientation": "v",
           "showlegend": true,
           "type": "scatter",
           "x": [
            14,
            14
           ],
           "xaxis": "x",
           "y": [
            0.22493185134874671,
            0.055840591814819235
           ],
           "yaxis": "y"
          },
          {
           "hovertemplate": "Region=Västerbotten<br>Vecka=%{x}<br>Andel vaccinerade=%{y}<extra></extra>",
           "legendgroup": "Västerbotten",
           "marker": {
            "color": "#636efa",
            "symbol": "circle"
           },
           "mode": "markers",
           "name": "Västerbotten",
           "orientation": "v",
           "showlegend": true,
           "type": "scatter",
           "x": [
            14,
            14
           ],
           "xaxis": "x",
           "y": [
            0.19333465407559047,
            0.07138171652468688
           ],
           "yaxis": "y"
          },
          {
           "hovertemplate": "Region=Norrbotten<br>Vecka=%{x}<br>Andel vaccinerade=%{y}<extra></extra>",
           "legendgroup": "Norrbotten",
           "marker": {
            "color": "#EF553B",
            "symbol": "circle"
           },
           "mode": "markers",
           "name": "Norrbotten",
           "orientation": "v",
           "showlegend": true,
           "type": "scatter",
           "x": [
            14,
            14
           ],
           "xaxis": "x",
           "y": [
            0.21073845847799214,
            0.06671276802334118
           ],
           "yaxis": "y"
          }
         ],
         "name": "14"
        },
        {
         "data": [
          {
           "hovertemplate": "Region=| Sverige |<br>Vecka=%{x}<br>Andel vaccinerade=%{y}<extra></extra>",
           "legendgroup": "| Sverige |",
           "marker": {
            "color": "#636efa",
            "symbol": "circle"
           },
           "mode": "markers",
           "name": "| Sverige |",
           "orientation": "v",
           "showlegend": true,
           "type": "scatter",
           "x": [
            15,
            15
           ],
           "xaxis": "x",
           "y": [
            0.23466870034608686,
            0.07339755548705339
           ],
           "yaxis": "y"
          },
          {
           "hovertemplate": "Region=Stockholm<br>Vecka=%{x}<br>Andel vaccinerade=%{y}<extra></extra>",
           "legendgroup": "Stockholm",
           "marker": {
            "color": "#EF553B",
            "symbol": "circle"
           },
           "mode": "markers",
           "name": "Stockholm",
           "orientation": "v",
           "showlegend": true,
           "type": "scatter",
           "x": [
            15,
            15
           ],
           "xaxis": "x",
           "y": [
            0.1832840832567164,
            0.057135213753532324
           ],
           "yaxis": "y"
          },
          {
           "hovertemplate": "Region=Uppsala<br>Vecka=%{x}<br>Andel vaccinerade=%{y}<extra></extra>",
           "legendgroup": "Uppsala",
           "marker": {
            "color": "#00cc96",
            "symbol": "circle"
           },
           "mode": "markers",
           "name": "Uppsala",
           "orientation": "v",
           "showlegend": true,
           "type": "scatter",
           "x": [
            15,
            15
           ],
           "xaxis": "x",
           "y": [
            0.20188421088884784,
            0.06564680908353711
           ],
           "yaxis": "y"
          },
          {
           "hovertemplate": "Region=Södermanland<br>Vecka=%{x}<br>Andel vaccinerade=%{y}<extra></extra>",
           "legendgroup": "Södermanland",
           "marker": {
            "color": "#ab63fa",
            "symbol": "circle"
           },
           "mode": "markers",
           "name": "Södermanland",
           "orientation": "v",
           "showlegend": true,
           "type": "scatter",
           "x": [
            15,
            15
           ],
           "xaxis": "x",
           "y": [
            0.28352969031931485,
            0.08270262326401646
           ],
           "yaxis": "y"
          },
          {
           "hovertemplate": "Region=Östergötland<br>Vecka=%{x}<br>Andel vaccinerade=%{y}<extra></extra>",
           "legendgroup": "Östergötland",
           "marker": {
            "color": "#FFA15A",
            "symbol": "circle"
           },
           "mode": "markers",
           "name": "Östergötland",
           "orientation": "v",
           "showlegend": true,
           "type": "scatter",
           "x": [
            15,
            15
           ],
           "xaxis": "x",
           "y": [
            0.2764535802558695,
            0.06612034882817155
           ],
           "yaxis": "y"
          },
          {
           "hovertemplate": "Region=Jönköping<br>Vecka=%{x}<br>Andel vaccinerade=%{y}<extra></extra>",
           "legendgroup": "Jönköping",
           "marker": {
            "color": "#19d3f3",
            "symbol": "circle"
           },
           "mode": "markers",
           "name": "Jönköping",
           "orientation": "v",
           "showlegend": true,
           "type": "scatter",
           "x": [
            15,
            15
           ],
           "xaxis": "x",
           "y": [
            0.28245186260929644,
            0.0686081493978005
           ],
           "yaxis": "y"
          },
          {
           "hovertemplate": "Region=Kronoberg<br>Vecka=%{x}<br>Andel vaccinerade=%{y}<extra></extra>",
           "legendgroup": "Kronoberg",
           "marker": {
            "color": "#FF6692",
            "symbol": "circle"
           },
           "mode": "markers",
           "name": "Kronoberg",
           "orientation": "v",
           "showlegend": true,
           "type": "scatter",
           "x": [
            15,
            15
           ],
           "xaxis": "x",
           "y": [
            0.2644245603208886,
            0.07111094977947982
           ],
           "yaxis": "y"
          },
          {
           "hovertemplate": "Region=Kalmar<br>Vecka=%{x}<br>Andel vaccinerade=%{y}<extra></extra>",
           "legendgroup": "Kalmar",
           "marker": {
            "color": "#B6E880",
            "symbol": "circle"
           },
           "mode": "markers",
           "name": "Kalmar",
           "orientation": "v",
           "showlegend": true,
           "type": "scatter",
           "x": [
            15,
            15
           ],
           "xaxis": "x",
           "y": [
            0.3068866578007706,
            0.10372611201231483
           ],
           "yaxis": "y"
          },
          {
           "hovertemplate": "Region=Gotland<br>Vecka=%{x}<br>Andel vaccinerade=%{y}<extra></extra>",
           "legendgroup": "Gotland",
           "marker": {
            "color": "#FF97FF",
            "symbol": "circle"
           },
           "mode": "markers",
           "name": "Gotland",
           "orientation": "v",
           "showlegend": true,
           "type": "scatter",
           "x": [
            15,
            15
           ],
           "xaxis": "x",
           "y": [
            0.3038161335351827,
            0.08593673200558363
           ],
           "yaxis": "y"
          },
          {
           "hovertemplate": "Region=Blekinge<br>Vecka=%{x}<br>Andel vaccinerade=%{y}<extra></extra>",
           "legendgroup": "Blekinge",
           "marker": {
            "color": "#FECB52",
            "symbol": "circle"
           },
           "mode": "markers",
           "name": "Blekinge",
           "orientation": "v",
           "showlegend": true,
           "type": "scatter",
           "x": [
            15,
            15
           ],
           "xaxis": "x",
           "y": [
            0.26602145504782465,
            0.09599661792349562
           ],
           "yaxis": "y"
          },
          {
           "hovertemplate": "Region=Skåne<br>Vecka=%{x}<br>Andel vaccinerade=%{y}<extra></extra>",
           "legendgroup": "Skåne",
           "marker": {
            "color": "#636efa",
            "symbol": "circle"
           },
           "mode": "markers",
           "name": "Skåne",
           "orientation": "v",
           "showlegend": true,
           "type": "scatter",
           "x": [
            15,
            15
           ],
           "xaxis": "x",
           "y": [
            0.20924192528085883,
            0.07966194000895652
           ],
           "yaxis": "y"
          },
          {
           "hovertemplate": "Region=Halland<br>Vecka=%{x}<br>Andel vaccinerade=%{y}<extra></extra>",
           "legendgroup": "Halland",
           "marker": {
            "color": "#EF553B",
            "symbol": "circle"
           },
           "mode": "markers",
           "name": "Halland",
           "orientation": "v",
           "showlegend": true,
           "type": "scatter",
           "x": [
            15,
            15
           ],
           "xaxis": "x",
           "y": [
            0.2638522331786543,
            0.08238109048723898
           ],
           "yaxis": "y"
          },
          {
           "hovertemplate": "Region=Västra Götaland<br>Vecka=%{x}<br>Andel vaccinerade=%{y}<extra></extra>",
           "legendgroup": "Västra Götaland",
           "marker": {
            "color": "#00cc96",
            "symbol": "circle"
           },
           "mode": "markers",
           "name": "Västra Götaland",
           "orientation": "v",
           "showlegend": true,
           "type": "scatter",
           "x": [
            15,
            15
           ],
           "xaxis": "x",
           "y": [
            0.21419571784957317,
            0.07258852549439042
           ],
           "yaxis": "y"
          },
          {
           "hovertemplate": "Region=Värmland<br>Vecka=%{x}<br>Andel vaccinerade=%{y}<extra></extra>",
           "legendgroup": "Värmland",
           "marker": {
            "color": "#ab63fa",
            "symbol": "circle"
           },
           "mode": "markers",
           "name": "Värmland",
           "orientation": "v",
           "showlegend": true,
           "type": "scatter",
           "x": [
            15,
            15
           ],
           "xaxis": "x",
           "y": [
            0.33041935143128764,
            0.09674870603147777
           ],
           "yaxis": "y"
          },
          {
           "hovertemplate": "Region=Örebro<br>Vecka=%{x}<br>Andel vaccinerade=%{y}<extra></extra>",
           "legendgroup": "Örebro",
           "marker": {
            "color": "#FFA15A",
            "symbol": "circle"
           },
           "mode": "markers",
           "name": "Örebro",
           "orientation": "v",
           "showlegend": true,
           "type": "scatter",
           "x": [
            15,
            15
           ],
           "xaxis": "x",
           "y": [
            0.25855978638778404,
            0.0842170929507174
           ],
           "yaxis": "y"
          },
          {
           "hovertemplate": "Region=Västmanland<br>Vecka=%{x}<br>Andel vaccinerade=%{y}<extra></extra>",
           "legendgroup": "Västmanland",
           "marker": {
            "color": "#19d3f3",
            "symbol": "circle"
           },
           "mode": "markers",
           "name": "Västmanland",
           "orientation": "v",
           "showlegend": true,
           "type": "scatter",
           "x": [
            15,
            15
           ],
           "xaxis": "x",
           "y": [
            0.2655465938050075,
            0.08902783980943874
           ],
           "yaxis": "y"
          },
          {
           "hovertemplate": "Region=Dalarna<br>Vecka=%{x}<br>Andel vaccinerade=%{y}<extra></extra>",
           "legendgroup": "Dalarna",
           "marker": {
            "color": "#FF6692",
            "symbol": "circle"
           },
           "mode": "markers",
           "name": "Dalarna",
           "orientation": "v",
           "showlegend": true,
           "type": "scatter",
           "x": [
            15,
            15
           ],
           "xaxis": "x",
           "y": [
            0.3028921814833417,
            0.06325129750544115
           ],
           "yaxis": "y"
          },
          {
           "hovertemplate": "Region=Gävleborg<br>Vecka=%{x}<br>Andel vaccinerade=%{y}<extra></extra>",
           "legendgroup": "Gävleborg",
           "marker": {
            "color": "#B6E880",
            "symbol": "circle"
           },
           "mode": "markers",
           "name": "Gävleborg",
           "orientation": "v",
           "showlegend": true,
           "type": "scatter",
           "x": [
            15,
            15
           ],
           "xaxis": "x",
           "y": [
            0.2865619735459443,
            0.09101296015211915
           ],
           "yaxis": "y"
          },
          {
           "hovertemplate": "Region=Västernorrland<br>Vecka=%{x}<br>Andel vaccinerade=%{y}<extra></extra>",
           "legendgroup": "Västernorrland",
           "marker": {
            "color": "#FF97FF",
            "symbol": "circle"
           },
           "mode": "markers",
           "name": "Västernorrland",
           "orientation": "v",
           "showlegend": true,
           "type": "scatter",
           "x": [
            15,
            15
           ],
           "xaxis": "x",
           "y": [
            0.27991435193124636,
            0.0931153260065363
           ],
           "yaxis": "y"
          },
          {
           "hovertemplate": "Region=Jämtland<br>Vecka=%{x}<br>Andel vaccinerade=%{y}<extra></extra>",
           "legendgroup": "Jämtland",
           "marker": {
            "color": "#FECB52",
            "symbol": "circle"
           },
           "mode": "markers",
           "name": "Jämtland",
           "orientation": "v",
           "showlegend": true,
           "type": "scatter",
           "x": [
            15,
            15
           ],
           "xaxis": "x",
           "y": [
            0.29387901205106787,
            0.05682266665442898
           ],
           "yaxis": "y"
          },
          {
           "hovertemplate": "Region=Västerbotten<br>Vecka=%{x}<br>Andel vaccinerade=%{y}<extra></extra>",
           "legendgroup": "Västerbotten",
           "marker": {
            "color": "#636efa",
            "symbol": "circle"
           },
           "mode": "markers",
           "name": "Västerbotten",
           "orientation": "v",
           "showlegend": true,
           "type": "scatter",
           "x": [
            15,
            15
           ],
           "xaxis": "x",
           "y": [
            0.24568447467476723,
            0.08666270443989522
           ],
           "yaxis": "y"
          },
          {
           "hovertemplate": "Region=Norrbotten<br>Vecka=%{x}<br>Andel vaccinerade=%{y}<extra></extra>",
           "legendgroup": "Norrbotten",
           "marker": {
            "color": "#EF553B",
            "symbol": "circle"
           },
           "mode": "markers",
           "name": "Norrbotten",
           "orientation": "v",
           "showlegend": true,
           "type": "scatter",
           "x": [
            15,
            15
           ],
           "xaxis": "x",
           "y": [
            0.2745430518782356,
            0.07052086638974277
           ],
           "yaxis": "y"
          }
         ],
         "name": "15"
        },
        {
         "data": [
          {
           "hovertemplate": "Region=| Sverige |<br>Vecka=%{x}<br>Andel vaccinerade=%{y}<extra></extra>",
           "legendgroup": "| Sverige |",
           "marker": {
            "color": "#636efa",
            "symbol": "circle"
           },
           "mode": "markers",
           "name": "| Sverige |",
           "orientation": "v",
           "showlegend": true,
           "type": "scatter",
           "x": [
            16,
            16
           ],
           "xaxis": "x",
           "y": [
            0.28184801797624,
            0.07746803634070233
           ],
           "yaxis": "y"
          },
          {
           "hovertemplate": "Region=Stockholm<br>Vecka=%{x}<br>Andel vaccinerade=%{y}<extra></extra>",
           "legendgroup": "Stockholm",
           "marker": {
            "color": "#EF553B",
            "symbol": "circle"
           },
           "mode": "markers",
           "name": "Stockholm",
           "orientation": "v",
           "showlegend": true,
           "type": "scatter",
           "x": [
            16,
            16
           ],
           "xaxis": "x",
           "y": [
            0.22316229565830595,
            0.059632054266307105
           ],
           "yaxis": "y"
          },
          {
           "hovertemplate": "Region=Uppsala<br>Vecka=%{x}<br>Andel vaccinerade=%{y}<extra></extra>",
           "legendgroup": "Uppsala",
           "marker": {
            "color": "#00cc96",
            "symbol": "circle"
           },
           "mode": "markers",
           "name": "Uppsala",
           "orientation": "v",
           "showlegend": true,
           "type": "scatter",
           "x": [
            16,
            16
           ],
           "xaxis": "x",
           "y": [
            0.23673804208634558,
            0.07743173727500148
           ],
           "yaxis": "y"
          },
          {
           "hovertemplate": "Region=Södermanland<br>Vecka=%{x}<br>Andel vaccinerade=%{y}<extra></extra>",
           "legendgroup": "Södermanland",
           "marker": {
            "color": "#ab63fa",
            "symbol": "circle"
           },
           "mode": "markers",
           "name": "Södermanland",
           "orientation": "v",
           "showlegend": true,
           "type": "scatter",
           "x": [
            16,
            16
           ],
           "xaxis": "x",
           "y": [
            0.3261689568177921,
            0.08640932062932209
           ],
           "yaxis": "y"
          },
          {
           "hovertemplate": "Region=Östergötland<br>Vecka=%{x}<br>Andel vaccinerade=%{y}<extra></extra>",
           "legendgroup": "Östergötland",
           "marker": {
            "color": "#FFA15A",
            "symbol": "circle"
           },
           "mode": "markers",
           "name": "Östergötland",
           "orientation": "v",
           "showlegend": true,
           "type": "scatter",
           "x": [
            16,
            16
           ],
           "xaxis": "x",
           "y": [
            0.3233888978128287,
            0.07403789853307702
           ],
           "yaxis": "y"
          },
          {
           "hovertemplate": "Region=Jönköping<br>Vecka=%{x}<br>Andel vaccinerade=%{y}<extra></extra>",
           "legendgroup": "Jönköping",
           "marker": {
            "color": "#19d3f3",
            "symbol": "circle"
           },
           "mode": "markers",
           "name": "Jönköping",
           "orientation": "v",
           "showlegend": true,
           "type": "scatter",
           "x": [
            16,
            16
           ],
           "xaxis": "x",
           "y": [
            0.3192344972615099,
            0.07680852705118445
           ],
           "yaxis": "y"
          },
          {
           "hovertemplate": "Region=Kronoberg<br>Vecka=%{x}<br>Andel vaccinerade=%{y}<extra></extra>",
           "legendgroup": "Kronoberg",
           "marker": {
            "color": "#FF6692",
            "symbol": "circle"
           },
           "mode": "markers",
           "name": "Kronoberg",
           "orientation": "v",
           "showlegend": true,
           "type": "scatter",
           "x": [
            16,
            16
           ],
           "xaxis": "x",
           "y": [
            0.3108941200670333,
            0.07297433012081722
           ],
           "yaxis": "y"
          },
          {
           "hovertemplate": "Region=Kalmar<br>Vecka=%{x}<br>Andel vaccinerade=%{y}<extra></extra>",
           "legendgroup": "Kalmar",
           "marker": {
            "color": "#B6E880",
            "symbol": "circle"
           },
           "mode": "markers",
           "name": "Kalmar",
           "orientation": "v",
           "showlegend": true,
           "type": "scatter",
           "x": [
            16,
            16
           ],
           "xaxis": "x",
           "y": [
            0.37645958466687124,
            0.10539699241527467
           ],
           "yaxis": "y"
          },
          {
           "hovertemplate": "Region=Gotland<br>Vecka=%{x}<br>Andel vaccinerade=%{y}<extra></extra>",
           "legendgroup": "Gotland",
           "marker": {
            "color": "#FF97FF",
            "symbol": "circle"
           },
           "mode": "markers",
           "name": "Gotland",
           "orientation": "v",
           "showlegend": true,
           "type": "scatter",
           "x": [
            16,
            16
           ],
           "xaxis": "x",
           "y": [
            0.328588561429723,
            0.1122230304936791
           ],
           "yaxis": "y"
          },
          {
           "hovertemplate": "Region=Blekinge<br>Vecka=%{x}<br>Andel vaccinerade=%{y}<extra></extra>",
           "legendgroup": "Blekinge",
           "marker": {
            "color": "#FECB52",
            "symbol": "circle"
           },
           "mode": "markers",
           "name": "Blekinge",
           "orientation": "v",
           "showlegend": true,
           "type": "scatter",
           "x": [
            16,
            16
           ],
           "xaxis": "x",
           "y": [
            0.3180435291364381,
            0.09751402278372073
           ],
           "yaxis": "y"
          },
          {
           "hovertemplate": "Region=Skåne<br>Vecka=%{x}<br>Andel vaccinerade=%{y}<extra></extra>",
           "legendgroup": "Skåne",
           "marker": {
            "color": "#636efa",
            "symbol": "circle"
           },
           "mode": "markers",
           "name": "Skåne",
           "orientation": "v",
           "showlegend": true,
           "type": "scatter",
           "x": [
            16,
            16
           ],
           "xaxis": "x",
           "y": [
            0.2615213931337503,
            0.08187555373336161
           ],
           "yaxis": "y"
          },
          {
           "hovertemplate": "Region=Halland<br>Vecka=%{x}<br>Andel vaccinerade=%{y}<extra></extra>",
           "legendgroup": "Halland",
           "marker": {
            "color": "#EF553B",
            "symbol": "circle"
           },
           "mode": "markers",
           "name": "Halland",
           "orientation": "v",
           "showlegend": true,
           "type": "scatter",
           "x": [
            16,
            16
           ],
           "xaxis": "x",
           "y": [
            0.3111115139211137,
            0.0830010150812065
           ],
           "yaxis": "y"
          },
          {
           "hovertemplate": "Region=Västra Götaland<br>Vecka=%{x}<br>Andel vaccinerade=%{y}<extra></extra>",
           "legendgroup": "Västra Götaland",
           "marker": {
            "color": "#00cc96",
            "symbol": "circle"
           },
           "mode": "markers",
           "name": "Västra Götaland",
           "orientation": "v",
           "showlegend": true,
           "type": "scatter",
           "x": [
            16,
            16
           ],
           "xaxis": "x",
           "y": [
            0.2620465229576909,
            0.07452114896250109
           ],
           "yaxis": "y"
          },
          {
           "hovertemplate": "Region=Värmland<br>Vecka=%{x}<br>Andel vaccinerade=%{y}<extra></extra>",
           "legendgroup": "Värmland",
           "marker": {
            "color": "#ab63fa",
            "symbol": "circle"
           },
           "mode": "markers",
           "name": "Värmland",
           "orientation": "v",
           "showlegend": true,
           "type": "scatter",
           "x": [
            16,
            16
           ],
           "xaxis": "x",
           "y": [
            0.3813372768564487,
            0.0972810816520545
           ],
           "yaxis": "y"
          },
          {
           "hovertemplate": "Region=Örebro<br>Vecka=%{x}<br>Andel vaccinerade=%{y}<extra></extra>",
           "legendgroup": "Örebro",
           "marker": {
            "color": "#FFA15A",
            "symbol": "circle"
           },
           "mode": "markers",
           "name": "Örebro",
           "orientation": "v",
           "showlegend": true,
           "type": "scatter",
           "x": [
            16,
            16
           ],
           "xaxis": "x",
           "y": [
            0.30928474079254265,
            0.09682879632536129
           ],
           "yaxis": "y"
          },
          {
           "hovertemplate": "Region=Västmanland<br>Vecka=%{x}<br>Andel vaccinerade=%{y}<extra></extra>",
           "legendgroup": "Västmanland",
           "marker": {
            "color": "#19d3f3",
            "symbol": "circle"
           },
           "mode": "markers",
           "name": "Västmanland",
           "orientation": "v",
           "showlegend": true,
           "type": "scatter",
           "x": [
            16,
            16
           ],
           "xaxis": "x",
           "y": [
            0.3216815980523518,
            0.09073553494644843
           ],
           "yaxis": "y"
          },
          {
           "hovertemplate": "Region=Dalarna<br>Vecka=%{x}<br>Andel vaccinerade=%{y}<extra></extra>",
           "legendgroup": "Dalarna",
           "marker": {
            "color": "#FF6692",
            "symbol": "circle"
           },
           "mode": "markers",
           "name": "Dalarna",
           "orientation": "v",
           "showlegend": true,
           "type": "scatter",
           "x": [
            16,
            16
           ],
           "xaxis": "x",
           "y": [
            0.3562238406161058,
            0.07347647748200234
           ],
           "yaxis": "y"
          },
          {
           "hovertemplate": "Region=Gävleborg<br>Vecka=%{x}<br>Andel vaccinerade=%{y}<extra></extra>",
           "legendgroup": "Gävleborg",
           "marker": {
            "color": "#B6E880",
            "symbol": "circle"
           },
           "mode": "markers",
           "name": "Gävleborg",
           "orientation": "v",
           "showlegend": true,
           "type": "scatter",
           "x": [
            16,
            16
           ],
           "xaxis": "x",
           "y": [
            0.33417843977782596,
            0.10299317798942505
           ],
           "yaxis": "y"
          },
          {
           "hovertemplate": "Region=Västernorrland<br>Vecka=%{x}<br>Andel vaccinerade=%{y}<extra></extra>",
           "legendgroup": "Västernorrland",
           "marker": {
            "color": "#FF97FF",
            "symbol": "circle"
           },
           "mode": "markers",
           "name": "Västernorrland",
           "orientation": "v",
           "showlegend": true,
           "type": "scatter",
           "x": [
            16,
            16
           ],
           "xaxis": "x",
           "y": [
            0.3396720090547844,
            0.0942275749543096
           ],
           "yaxis": "y"
          },
          {
           "hovertemplate": "Region=Jämtland<br>Vecka=%{x}<br>Andel vaccinerade=%{y}<extra></extra>",
           "legendgroup": "Jämtland",
           "marker": {
            "color": "#FECB52",
            "symbol": "circle"
           },
           "mode": "markers",
           "name": "Jämtland",
           "orientation": "v",
           "showlegend": true,
           "type": "scatter",
           "x": [
            16,
            16
           ],
           "xaxis": "x",
           "y": [
            0.3330151533229925,
            0.07309573852945765
           ],
           "yaxis": "y"
          },
          {
           "hovertemplate": "Region=Västerbotten<br>Vecka=%{x}<br>Andel vaccinerade=%{y}<extra></extra>",
           "legendgroup": "Västerbotten",
           "marker": {
            "color": "#636efa",
            "symbol": "circle"
           },
           "mode": "markers",
           "name": "Västerbotten",
           "orientation": "v",
           "showlegend": true,
           "type": "scatter",
           "x": [
            16,
            16
           ],
           "xaxis": "x",
           "y": [
            0.2971714103326069,
            0.09094631182724691
           ],
           "yaxis": "y"
          },
          {
           "hovertemplate": "Region=Norrbotten<br>Vecka=%{x}<br>Andel vaccinerade=%{y}<extra></extra>",
           "legendgroup": "Norrbotten",
           "marker": {
            "color": "#EF553B",
            "symbol": "circle"
           },
           "mode": "markers",
           "name": "Norrbotten",
           "orientation": "v",
           "showlegend": true,
           "type": "scatter",
           "x": [
            16,
            16
           ],
           "xaxis": "x",
           "y": [
            0.33907232071387633,
            0.07102766555044546
           ],
           "yaxis": "y"
          }
         ],
         "name": "16"
        },
        {
         "data": [
          {
           "hovertemplate": "Region=| Sverige |<br>Vecka=%{x}<br>Andel vaccinerade=%{y}<extra></extra>",
           "legendgroup": "| Sverige |",
           "marker": {
            "color": "#636efa",
            "symbol": "circle"
           },
           "mode": "markers",
           "name": "| Sverige |",
           "orientation": "v",
           "showlegend": true,
           "type": "scatter",
           "x": [
            17,
            17
           ],
           "xaxis": "x",
           "y": [
            0.3255072266606193,
            0.08050239905253143
           ],
           "yaxis": "y"
          },
          {
           "hovertemplate": "Region=Stockholm<br>Vecka=%{x}<br>Andel vaccinerade=%{y}<extra></extra>",
           "legendgroup": "Stockholm",
           "marker": {
            "color": "#EF553B",
            "symbol": "circle"
           },
           "mode": "markers",
           "name": "Stockholm",
           "orientation": "v",
           "showlegend": true,
           "type": "scatter",
           "x": [
            17,
            17
           ],
           "xaxis": "x",
           "y": [
            0.26443908723874654,
            0.061089057053215705
           ],
           "yaxis": "y"
          },
          {
           "hovertemplate": "Region=Uppsala<br>Vecka=%{x}<br>Andel vaccinerade=%{y}<extra></extra>",
           "legendgroup": "Uppsala",
           "marker": {
            "color": "#00cc96",
            "symbol": "circle"
           },
           "mode": "markers",
           "name": "Uppsala",
           "orientation": "v",
           "showlegend": true,
           "type": "scatter",
           "x": [
            17,
            17
           ],
           "xaxis": "x",
           "y": [
            0.2937653221286761,
            0.07833032239480762
           ],
           "yaxis": "y"
          },
          {
           "hovertemplate": "Region=Södermanland<br>Vecka=%{x}<br>Andel vaccinerade=%{y}<extra></extra>",
           "legendgroup": "Södermanland",
           "marker": {
            "color": "#ab63fa",
            "symbol": "circle"
           },
           "mode": "markers",
           "name": "Södermanland",
           "orientation": "v",
           "showlegend": true,
           "type": "scatter",
           "x": [
            17,
            17
           ],
           "xaxis": "x",
           "y": [
            0.38116115969007436,
            0.09848466292731117
           ],
           "yaxis": "y"
          },
          {
           "hovertemplate": "Region=Östergötland<br>Vecka=%{x}<br>Andel vaccinerade=%{y}<extra></extra>",
           "legendgroup": "Östergötland",
           "marker": {
            "color": "#FFA15A",
            "symbol": "circle"
           },
           "mode": "markers",
           "name": "Östergötland",
           "orientation": "v",
           "showlegend": true,
           "type": "scatter",
           "x": [
            17,
            17
           ],
           "xaxis": "x",
           "y": [
            0.3696324660991041,
            0.08433382213494034
           ],
           "yaxis": "y"
          },
          {
           "hovertemplate": "Region=Jönköping<br>Vecka=%{x}<br>Andel vaccinerade=%{y}<extra></extra>",
           "legendgroup": "Jönköping",
           "marker": {
            "color": "#19d3f3",
            "symbol": "circle"
           },
           "mode": "markers",
           "name": "Jönköping",
           "orientation": "v",
           "showlegend": true,
           "type": "scatter",
           "x": [
            17,
            17
           ],
           "xaxis": "x",
           "y": [
            0.3639559024272447,
            0.08581384975029933
           ],
           "yaxis": "y"
          },
          {
           "hovertemplate": "Region=Kronoberg<br>Vecka=%{x}<br>Andel vaccinerade=%{y}<extra></extra>",
           "legendgroup": "Kronoberg",
           "marker": {
            "color": "#FF6692",
            "symbol": "circle"
           },
           "mode": "markers",
           "name": "Kronoberg",
           "orientation": "v",
           "showlegend": true,
           "type": "scatter",
           "x": [
            17,
            17
           ],
           "xaxis": "x",
           "y": [
            0.34695778959531975,
            0.07452916371732278
           ],
           "yaxis": "y"
          },
          {
           "hovertemplate": "Region=Kalmar<br>Vecka=%{x}<br>Andel vaccinerade=%{y}<extra></extra>",
           "legendgroup": "Kalmar",
           "marker": {
            "color": "#B6E880",
            "symbol": "circle"
           },
           "mode": "markers",
           "name": "Kalmar",
           "orientation": "v",
           "showlegend": true,
           "type": "scatter",
           "x": [
            17,
            17
           ],
           "xaxis": "x",
           "y": [
            0.4290606534457646,
            0.10671226270331886
           ],
           "yaxis": "y"
          },
          {
           "hovertemplate": "Region=Gotland<br>Vecka=%{x}<br>Andel vaccinerade=%{y}<extra></extra>",
           "legendgroup": "Gotland",
           "marker": {
            "color": "#FF97FF",
            "symbol": "circle"
           },
           "mode": "markers",
           "name": "Gotland",
           "orientation": "v",
           "showlegend": true,
           "type": "scatter",
           "x": [
            17,
            17
           ],
           "xaxis": "x",
           "y": [
            0.3514145842754065,
            0.13489176808288933
           ],
           "yaxis": "y"
          },
          {
           "hovertemplate": "Region=Blekinge<br>Vecka=%{x}<br>Andel vaccinerade=%{y}<extra></extra>",
           "legendgroup": "Blekinge",
           "marker": {
            "color": "#FECB52",
            "symbol": "circle"
           },
           "mode": "markers",
           "name": "Blekinge",
           "orientation": "v",
           "showlegend": true,
           "type": "scatter",
           "x": [
            17,
            17
           ],
           "xaxis": "x",
           "y": [
            0.35520862429508615,
            0.09853317530178239
           ],
           "yaxis": "y"
          },
          {
           "hovertemplate": "Region=Skåne<br>Vecka=%{x}<br>Andel vaccinerade=%{y}<extra></extra>",
           "legendgroup": "Skåne",
           "marker": {
            "color": "#636efa",
            "symbol": "circle"
           },
           "mode": "markers",
           "name": "Skåne",
           "orientation": "v",
           "showlegend": true,
           "type": "scatter",
           "x": [
            17,
            17
           ],
           "xaxis": "x",
           "y": [
            0.30217235041610835,
            0.0825230973347774
           ],
           "yaxis": "y"
          },
          {
           "hovertemplate": "Region=Halland<br>Vecka=%{x}<br>Andel vaccinerade=%{y}<extra></extra>",
           "legendgroup": "Halland",
           "marker": {
            "color": "#EF553B",
            "symbol": "circle"
           },
           "mode": "markers",
           "name": "Halland",
           "orientation": "v",
           "showlegend": true,
           "type": "scatter",
           "x": [
            17,
            17
           ],
           "xaxis": "x",
           "y": [
            0.34384788283062645,
            0.08345055104408353
           ],
           "yaxis": "y"
          },
          {
           "hovertemplate": "Region=Västra Götaland<br>Vecka=%{x}<br>Andel vaccinerade=%{y}<extra></extra>",
           "legendgroup": "Västra Götaland",
           "marker": {
            "color": "#00cc96",
            "symbol": "circle"
           },
           "mode": "markers",
           "name": "Västra Götaland",
           "orientation": "v",
           "showlegend": true,
           "type": "scatter",
           "x": [
            17,
            17
           ],
           "xaxis": "x",
           "y": [
            0.3059914827372836,
            0.07560540602592138
           ],
           "yaxis": "y"
          },
          {
           "hovertemplate": "Region=Värmland<br>Vecka=%{x}<br>Andel vaccinerade=%{y}<extra></extra>",
           "legendgroup": "Värmland",
           "marker": {
            "color": "#ab63fa",
            "symbol": "circle"
           },
           "mode": "markers",
           "name": "Värmland",
           "orientation": "v",
           "showlegend": true,
           "type": "scatter",
           "x": [
            17,
            17
           ],
           "xaxis": "x",
           "y": [
            0.42912855181155596,
            0.09857821907679307
           ],
           "yaxis": "y"
          },
          {
           "hovertemplate": "Region=Örebro<br>Vecka=%{x}<br>Andel vaccinerade=%{y}<extra></extra>",
           "legendgroup": "Örebro",
           "marker": {
            "color": "#FFA15A",
            "symbol": "circle"
           },
           "mode": "markers",
           "name": "Örebro",
           "orientation": "v",
           "showlegend": true,
           "type": "scatter",
           "x": [
            17,
            17
           ],
           "xaxis": "x",
           "y": [
            0.3426656229760282,
            0.1069094174537392
           ],
           "yaxis": "y"
          },
          {
           "hovertemplate": "Region=Västmanland<br>Vecka=%{x}<br>Andel vaccinerade=%{y}<extra></extra>",
           "legendgroup": "Västmanland",
           "marker": {
            "color": "#19d3f3",
            "symbol": "circle"
           },
           "mode": "markers",
           "name": "Västmanland",
           "orientation": "v",
           "showlegend": true,
           "type": "scatter",
           "x": [
            17,
            17
           ],
           "xaxis": "x",
           "y": [
            0.36942700260095107,
            0.09121719254919476
           ],
           "yaxis": "y"
          },
          {
           "hovertemplate": "Region=Dalarna<br>Vecka=%{x}<br>Andel vaccinerade=%{y}<extra></extra>",
           "legendgroup": "Dalarna",
           "marker": {
            "color": "#FF6692",
            "symbol": "circle"
           },
           "mode": "markers",
           "name": "Dalarna",
           "orientation": "v",
           "showlegend": true,
           "type": "scatter",
           "x": [
            17,
            17
           ],
           "xaxis": "x",
           "y": [
            0.3979449188012724,
            0.08635945086221329
           ],
           "yaxis": "y"
          },
          {
           "hovertemplate": "Region=Gävleborg<br>Vecka=%{x}<br>Andel vaccinerade=%{y}<extra></extra>",
           "legendgroup": "Gävleborg",
           "marker": {
            "color": "#B6E880",
            "symbol": "circle"
           },
           "mode": "markers",
           "name": "Gävleborg",
           "orientation": "v",
           "showlegend": true,
           "type": "scatter",
           "x": [
            17,
            17
           ],
           "xaxis": "x",
           "y": [
            0.389304955548513,
            0.10566193518255967
           ],
           "yaxis": "y"
          },
          {
           "hovertemplate": "Region=Västernorrland<br>Vecka=%{x}<br>Andel vaccinerade=%{y}<extra></extra>",
           "legendgroup": "Västernorrland",
           "marker": {
            "color": "#FF97FF",
            "symbol": "circle"
           },
           "mode": "markers",
           "name": "Västernorrland",
           "orientation": "v",
           "showlegend": true,
           "type": "scatter",
           "x": [
            17,
            17
           ],
           "xaxis": "x",
           "y": [
            0.38646486126286805,
            0.09515853222337095
           ],
           "yaxis": "y"
          },
          {
           "hovertemplate": "Region=Jämtland<br>Vecka=%{x}<br>Andel vaccinerade=%{y}<extra></extra>",
           "legendgroup": "Jämtland",
           "marker": {
            "color": "#FECB52",
            "symbol": "circle"
           },
           "mode": "markers",
           "name": "Jämtland",
           "orientation": "v",
           "showlegend": true,
           "type": "scatter",
           "x": [
            17,
            17
           ],
           "xaxis": "x",
           "y": [
            0.3729681605830037,
            0.08604627683496553
           ],
           "yaxis": "y"
          },
          {
           "hovertemplate": "Region=Västerbotten<br>Vecka=%{x}<br>Andel vaccinerade=%{y}<extra></extra>",
           "legendgroup": "Västerbotten",
           "marker": {
            "color": "#636efa",
            "symbol": "circle"
           },
           "mode": "markers",
           "name": "Västerbotten",
           "orientation": "v",
           "showlegend": true,
           "type": "scatter",
           "x": [
            17,
            17
           ],
           "xaxis": "x",
           "y": [
            0.3452816482863369,
            0.09301987717097009
           ],
           "yaxis": "y"
          },
          {
           "hovertemplate": "Region=Norrbotten<br>Vecka=%{x}<br>Andel vaccinerade=%{y}<extra></extra>",
           "legendgroup": "Norrbotten",
           "marker": {
            "color": "#EF553B",
            "symbol": "circle"
           },
           "mode": "markers",
           "name": "Norrbotten",
           "orientation": "v",
           "showlegend": true,
           "type": "scatter",
           "x": [
            17,
            17
           ],
           "xaxis": "x",
           "y": [
            0.3864935655452354,
            0.07198916302355432
           ],
           "yaxis": "y"
          }
         ],
         "name": "17"
        },
        {
         "data": [
          {
           "hovertemplate": "Region=| Sverige |<br>Vecka=%{x}<br>Andel vaccinerade=%{y}<extra></extra>",
           "legendgroup": "| Sverige |",
           "marker": {
            "color": "#636efa",
            "symbol": "circle"
           },
           "mode": "markers",
           "name": "| Sverige |",
           "orientation": "v",
           "showlegend": true,
           "type": "scatter",
           "x": [
            18,
            18
           ],
           "xaxis": "x",
           "y": [
            0.3656829710295514,
            0.0937753651379846
           ],
           "yaxis": "y"
          },
          {
           "hovertemplate": "Region=Stockholm<br>Vecka=%{x}<br>Andel vaccinerade=%{y}<extra></extra>",
           "legendgroup": "Stockholm",
           "marker": {
            "color": "#EF553B",
            "symbol": "circle"
           },
           "mode": "markers",
           "name": "Stockholm",
           "orientation": "v",
           "showlegend": true,
           "type": "scatter",
           "x": [
            18,
            18
           ],
           "xaxis": "x",
           "y": [
            0.30604233354140337,
            0.07182362630210336
           ],
           "yaxis": "y"
          },
          {
           "hovertemplate": "Region=Uppsala<br>Vecka=%{x}<br>Andel vaccinerade=%{y}<extra></extra>",
           "legendgroup": "Uppsala",
           "marker": {
            "color": "#00cc96",
            "symbol": "circle"
           },
           "mode": "markers",
           "name": "Uppsala",
           "orientation": "v",
           "showlegend": true,
           "type": "scatter",
           "x": [
            18,
            18
           ],
           "xaxis": "x",
           "y": [
            0.3393927818880307,
            0.07983005156688823
           ],
           "yaxis": "y"
          },
          {
           "hovertemplate": "Region=Södermanland<br>Vecka=%{x}<br>Andel vaccinerade=%{y}<extra></extra>",
           "legendgroup": "Södermanland",
           "marker": {
            "color": "#ab63fa",
            "symbol": "circle"
           },
           "mode": "markers",
           "name": "Södermanland",
           "orientation": "v",
           "showlegend": true,
           "type": "scatter",
           "x": [
            18,
            18
           ],
           "xaxis": "x",
           "y": [
            0.40899813032225407,
            0.10864950482115593
           ],
           "yaxis": "y"
          },
          {
           "hovertemplate": "Region=Östergötland<br>Vecka=%{x}<br>Andel vaccinerade=%{y}<extra></extra>",
           "legendgroup": "Östergötland",
           "marker": {
            "color": "#FFA15A",
            "symbol": "circle"
           },
           "mode": "markers",
           "name": "Östergötland",
           "orientation": "v",
           "showlegend": true,
           "type": "scatter",
           "x": [
            18,
            18
           ],
           "xaxis": "x",
           "y": [
            0.40868132380602,
            0.1039048857706916
           ],
           "yaxis": "y"
          },
          {
           "hovertemplate": "Region=Jönköping<br>Vecka=%{x}<br>Andel vaccinerade=%{y}<extra></extra>",
           "legendgroup": "Jönköping",
           "marker": {
            "color": "#19d3f3",
            "symbol": "circle"
           },
           "mode": "markers",
           "name": "Jönköping",
           "orientation": "v",
           "showlegend": true,
           "type": "scatter",
           "x": [
            18,
            18
           ],
           "xaxis": "x",
           "y": [
            0.39631133932793794,
            0.09587230888424556
           ],
           "yaxis": "y"
          },
          {
           "hovertemplate": "Region=Kronoberg<br>Vecka=%{x}<br>Andel vaccinerade=%{y}<extra></extra>",
           "legendgroup": "Kronoberg",
           "marker": {
            "color": "#FF6692",
            "symbol": "circle"
           },
           "mode": "markers",
           "name": "Kronoberg",
           "orientation": "v",
           "showlegend": true,
           "type": "scatter",
           "x": [
            18,
            18
           ],
           "xaxis": "x",
           "y": [
            0.37950644620699253,
            0.09258217325807212
           ],
           "yaxis": "y"
          },
          {
           "hovertemplate": "Region=Kalmar<br>Vecka=%{x}<br>Andel vaccinerade=%{y}<extra></extra>",
           "legendgroup": "Kalmar",
           "marker": {
            "color": "#B6E880",
            "symbol": "circle"
           },
           "mode": "markers",
           "name": "Kalmar",
           "orientation": "v",
           "showlegend": true,
           "type": "scatter",
           "x": [
            18,
            18
           ],
           "xaxis": "x",
           "y": [
            0.47012144328992944,
            0.1307768376030904
           ],
           "yaxis": "y"
          },
          {
           "hovertemplate": "Region=Gotland<br>Vecka=%{x}<br>Andel vaccinerade=%{y}<extra></extra>",
           "legendgroup": "Gotland",
           "marker": {
            "color": "#FF97FF",
            "symbol": "circle"
           },
           "mode": "markers",
           "name": "Gotland",
           "orientation": "v",
           "showlegend": true,
           "type": "scatter",
           "x": [
            18,
            18
           ],
           "xaxis": "x",
           "y": [
            0.38424788156420187,
            0.14588207537895917
           ],
           "yaxis": "y"
          },
          {
           "hovertemplate": "Region=Blekinge<br>Vecka=%{x}<br>Andel vaccinerade=%{y}<extra></extra>",
           "legendgroup": "Blekinge",
           "marker": {
            "color": "#FECB52",
            "symbol": "circle"
           },
           "mode": "markers",
           "name": "Blekinge",
           "orientation": "v",
           "showlegend": true,
           "type": "scatter",
           "x": [
            18,
            18
           ],
           "xaxis": "x",
           "y": [
            0.39132436982402635,
            0.1064674663868401
           ],
           "yaxis": "y"
          },
          {
           "hovertemplate": "Region=Skåne<br>Vecka=%{x}<br>Andel vaccinerade=%{y}<extra></extra>",
           "legendgroup": "Skåne",
           "marker": {
            "color": "#636efa",
            "symbol": "circle"
           },
           "mode": "markers",
           "name": "Skåne",
           "orientation": "v",
           "showlegend": true,
           "type": "scatter",
           "x": [
            18,
            18
           ],
           "xaxis": "x",
           "y": [
            0.33971140319003207,
            0.09681392711439263
           ],
           "yaxis": "y"
          },
          {
           "hovertemplate": "Region=Halland<br>Vecka=%{x}<br>Andel vaccinerade=%{y}<extra></extra>",
           "legendgroup": "Halland",
           "marker": {
            "color": "#EF553B",
            "symbol": "circle"
           },
           "mode": "markers",
           "name": "Halland",
           "orientation": "v",
           "showlegend": true,
           "type": "scatter",
           "x": [
            18,
            18
           ],
           "xaxis": "x",
           "y": [
            0.37270881670533645,
            0.10876595127610209
           ],
           "yaxis": "y"
          },
          {
           "hovertemplate": "Region=Västra Götaland<br>Vecka=%{x}<br>Andel vaccinerade=%{y}<extra></extra>",
           "legendgroup": "Västra Götaland",
           "marker": {
            "color": "#00cc96",
            "symbol": "circle"
           },
           "mode": "markers",
           "name": "Västra Götaland",
           "orientation": "v",
           "showlegend": true,
           "type": "scatter",
           "x": [
            18,
            18
           ],
           "xaxis": "x",
           "y": [
            0.34744034136248203,
            0.08759173136743785
           ],
           "yaxis": "y"
          },
          {
           "hovertemplate": "Region=Värmland<br>Vecka=%{x}<br>Andel vaccinerade=%{y}<extra></extra>",
           "legendgroup": "Värmland",
           "marker": {
            "color": "#ab63fa",
            "symbol": "circle"
           },
           "mode": "markers",
           "name": "Värmland",
           "orientation": "v",
           "showlegend": true,
           "type": "scatter",
           "x": [
            18,
            18
           ],
           "xaxis": "x",
           "y": [
            0.46344987852540404,
            0.1193662194993134
           ],
           "yaxis": "y"
          },
          {
           "hovertemplate": "Region=Örebro<br>Vecka=%{x}<br>Andel vaccinerade=%{y}<extra></extra>",
           "legendgroup": "Örebro",
           "marker": {
            "color": "#FFA15A",
            "symbol": "circle"
           },
           "mode": "markers",
           "name": "Örebro",
           "orientation": "v",
           "showlegend": true,
           "type": "scatter",
           "x": [
            18,
            18
           ],
           "xaxis": "x",
           "y": [
            0.3893734280071999,
            0.11891318427629723
           ],
           "yaxis": "y"
          },
          {
           "hovertemplate": "Region=Västmanland<br>Vecka=%{x}<br>Andel vaccinerade=%{y}<extra></extra>",
           "legendgroup": "Västmanland",
           "marker": {
            "color": "#19d3f3",
            "symbol": "circle"
           },
           "mode": "markers",
           "name": "Västmanland",
           "orientation": "v",
           "showlegend": true,
           "type": "scatter",
           "x": [
            18,
            18
           ],
           "xaxis": "x",
           "y": [
            0.4195412868139663,
            0.10652514690556884
           ],
           "yaxis": "y"
          },
          {
           "hovertemplate": "Region=Dalarna<br>Vecka=%{x}<br>Andel vaccinerade=%{y}<extra></extra>",
           "legendgroup": "Dalarna",
           "marker": {
            "color": "#FF6692",
            "symbol": "circle"
           },
           "mode": "markers",
           "name": "Dalarna",
           "orientation": "v",
           "showlegend": true,
           "type": "scatter",
           "x": [
            18,
            18
           ],
           "xaxis": "x",
           "y": [
            0.4414239075841286,
            0.10271639042357274
           ],
           "yaxis": "y"
          },
          {
           "hovertemplate": "Region=Gävleborg<br>Vecka=%{x}<br>Andel vaccinerade=%{y}<extra></extra>",
           "legendgroup": "Gävleborg",
           "marker": {
            "color": "#B6E880",
            "symbol": "circle"
           },
           "mode": "markers",
           "name": "Gävleborg",
           "orientation": "v",
           "showlegend": true,
           "type": "scatter",
           "x": [
            18,
            18
           ],
           "xaxis": "x",
           "y": [
            0.4404158257301553,
            0.11161242973662702
           ],
           "yaxis": "y"
          },
          {
           "hovertemplate": "Region=Västernorrland<br>Vecka=%{x}<br>Andel vaccinerade=%{y}<extra></extra>",
           "legendgroup": "Västernorrland",
           "marker": {
            "color": "#FF97FF",
            "symbol": "circle"
           },
           "mode": "markers",
           "name": "Västernorrland",
           "orientation": "v",
           "showlegend": true,
           "type": "scatter",
           "x": [
            18,
            18
           ],
           "xaxis": "x",
           "y": [
            0.43723143107731355,
            0.09946543453655478
           ],
           "yaxis": "y"
          },
          {
           "hovertemplate": "Region=Jämtland<br>Vecka=%{x}<br>Andel vaccinerade=%{y}<extra></extra>",
           "legendgroup": "Jämtland",
           "marker": {
            "color": "#FECB52",
            "symbol": "circle"
           },
           "mode": "markers",
           "name": "Jämtland",
           "orientation": "v",
           "showlegend": true,
           "type": "scatter",
           "x": [
            18,
            18
           ],
           "xaxis": "x",
           "y": [
            0.42478867034409334,
            0.10759685368920544
           ],
           "yaxis": "y"
          },
          {
           "hovertemplate": "Region=Västerbotten<br>Vecka=%{x}<br>Andel vaccinerade=%{y}<extra></extra>",
           "legendgroup": "Västerbotten",
           "marker": {
            "color": "#636efa",
            "symbol": "circle"
           },
           "mode": "markers",
           "name": "Västerbotten",
           "orientation": "v",
           "showlegend": true,
           "type": "scatter",
           "x": [
            18,
            18
           ],
           "xaxis": "x",
           "y": [
            0.3819102335512558,
            0.11357943164058201
           ],
           "yaxis": "y"
          },
          {
           "hovertemplate": "Region=Norrbotten<br>Vecka=%{x}<br>Andel vaccinerade=%{y}<extra></extra>",
           "legendgroup": "Norrbotten",
           "marker": {
            "color": "#EF553B",
            "symbol": "circle"
           },
           "mode": "markers",
           "name": "Norrbotten",
           "orientation": "v",
           "showlegend": true,
           "type": "scatter",
           "x": [
            18,
            18
           ],
           "xaxis": "x",
           "y": [
            0.42187477797933964,
            0.09259268030445841
           ],
           "yaxis": "y"
          }
         ],
         "name": "18"
        },
        {
         "data": [
          {
           "hovertemplate": "Region=| Sverige |<br>Vecka=%{x}<br>Andel vaccinerade=%{y}<extra></extra>",
           "legendgroup": "| Sverige |",
           "marker": {
            "color": "#636efa",
            "symbol": "circle"
           },
           "mode": "markers",
           "name": "| Sverige |",
           "orientation": "v",
           "showlegend": true,
           "type": "scatter",
           "x": [
            19,
            19
           ],
           "xaxis": "x",
           "y": [
            0.39831987296840354,
            0.11082062078813586
           ],
           "yaxis": "y"
          },
          {
           "hovertemplate": "Region=Stockholm<br>Vecka=%{x}<br>Andel vaccinerade=%{y}<extra></extra>",
           "legendgroup": "Stockholm",
           "marker": {
            "color": "#EF553B",
            "symbol": "circle"
           },
           "mode": "markers",
           "name": "Stockholm",
           "orientation": "v",
           "showlegend": true,
           "type": "scatter",
           "x": [
            19,
            19
           ],
           "xaxis": "x",
           "y": [
            0.34576731209378936,
            0.08419251911323213
           ],
           "yaxis": "y"
          },
          {
           "hovertemplate": "Region=Uppsala<br>Vecka=%{x}<br>Andel vaccinerade=%{y}<extra></extra>",
           "legendgroup": "Uppsala",
           "marker": {
            "color": "#00cc96",
            "symbol": "circle"
           },
           "mode": "markers",
           "name": "Uppsala",
           "orientation": "v",
           "showlegend": true,
           "type": "scatter",
           "x": [
            19,
            19
           ],
           "xaxis": "x",
           "y": [
            0.3811879483141353,
            0.0927202081461281
           ],
           "yaxis": "y"
          },
          {
           "hovertemplate": "Region=Södermanland<br>Vecka=%{x}<br>Andel vaccinerade=%{y}<extra></extra>",
           "legendgroup": "Södermanland",
           "marker": {
            "color": "#ab63fa",
            "symbol": "circle"
           },
           "mode": "markers",
           "name": "Södermanland",
           "orientation": "v",
           "showlegend": true,
           "type": "scatter",
           "x": [
            19,
            19
           ],
           "xaxis": "x",
           "y": [
            0.4431462839134233,
            0.11818159551277341
           ],
           "yaxis": "y"
          },
          {
           "hovertemplate": "Region=Östergötland<br>Vecka=%{x}<br>Andel vaccinerade=%{y}<extra></extra>",
           "legendgroup": "Östergötland",
           "marker": {
            "color": "#FFA15A",
            "symbol": "circle"
           },
           "mode": "markers",
           "name": "Östergötland",
           "orientation": "v",
           "showlegend": true,
           "type": "scatter",
           "x": [
            19,
            19
           ],
           "xaxis": "x",
           "y": [
            0.4336957028638938,
            0.13116291602112037
           ],
           "yaxis": "y"
          },
          {
           "hovertemplate": "Region=Jönköping<br>Vecka=%{x}<br>Andel vaccinerade=%{y}<extra></extra>",
           "legendgroup": "Jönköping",
           "marker": {
            "color": "#19d3f3",
            "symbol": "circle"
           },
           "mode": "markers",
           "name": "Jönköping",
           "orientation": "v",
           "showlegend": true,
           "type": "scatter",
           "x": [
            19,
            19
           ],
           "xaxis": "x",
           "y": [
            0.41635782490432893,
            0.12726181173006168
           ],
           "yaxis": "y"
          },
          {
           "hovertemplate": "Region=Kronoberg<br>Vecka=%{x}<br>Andel vaccinerade=%{y}<extra></extra>",
           "legendgroup": "Kronoberg",
           "marker": {
            "color": "#FF6692",
            "symbol": "circle"
           },
           "mode": "markers",
           "name": "Kronoberg",
           "orientation": "v",
           "showlegend": true,
           "type": "scatter",
           "x": [
            19,
            19
           ],
           "xaxis": "x",
           "y": [
            0.4106575675626622,
            0.11211136722507578
           ],
           "yaxis": "y"
          },
          {
           "hovertemplate": "Region=Kalmar<br>Vecka=%{x}<br>Andel vaccinerade=%{y}<extra></extra>",
           "legendgroup": "Kalmar",
           "marker": {
            "color": "#B6E880",
            "symbol": "circle"
           },
           "mode": "markers",
           "name": "Kalmar",
           "orientation": "v",
           "showlegend": true,
           "type": "scatter",
           "x": [
            19,
            19
           ],
           "xaxis": "x",
           "y": [
            0.49225695510056944,
            0.15856314028088328
           ],
           "yaxis": "y"
          },
          {
           "hovertemplate": "Region=Gotland<br>Vecka=%{x}<br>Andel vaccinerade=%{y}<extra></extra>",
           "legendgroup": "Gotland",
           "marker": {
            "color": "#FF97FF",
            "symbol": "circle"
           },
           "mode": "markers",
           "name": "Gotland",
           "orientation": "v",
           "showlegend": true,
           "type": "scatter",
           "x": [
            19,
            19
           ],
           "xaxis": "x",
           "y": [
            0.41124196370642707,
            0.16159094036922714
           ],
           "yaxis": "y"
          },
          {
           "hovertemplate": "Region=Blekinge<br>Vecka=%{x}<br>Andel vaccinerade=%{y}<extra></extra>",
           "legendgroup": "Blekinge",
           "marker": {
            "color": "#FECB52",
            "symbol": "circle"
           },
           "mode": "markers",
           "name": "Blekinge",
           "orientation": "v",
           "showlegend": true,
           "type": "scatter",
           "x": [
            19,
            19
           ],
           "xaxis": "x",
           "y": [
            0.42787042419392585,
            0.12703924869586225
           ],
           "yaxis": "y"
          },
          {
           "hovertemplate": "Region=Skåne<br>Vecka=%{x}<br>Andel vaccinerade=%{y}<extra></extra>",
           "legendgroup": "Skåne",
           "marker": {
            "color": "#636efa",
            "symbol": "circle"
           },
           "mode": "markers",
           "name": "Skåne",
           "orientation": "v",
           "showlegend": true,
           "type": "scatter",
           "x": [
            19,
            19
           ],
           "xaxis": "x",
           "y": [
            0.36629236417640987,
            0.11679363858796783
           ],
           "yaxis": "y"
          },
          {
           "hovertemplate": "Region=Halland<br>Vecka=%{x}<br>Andel vaccinerade=%{y}<extra></extra>",
           "legendgroup": "Halland",
           "marker": {
            "color": "#EF553B",
            "symbol": "circle"
           },
           "mode": "markers",
           "name": "Halland",
           "orientation": "v",
           "showlegend": true,
           "type": "scatter",
           "x": [
            19,
            19
           ],
           "xaxis": "x",
           "y": [
            0.40514428654292345,
            0.11682497099767981
           ],
           "yaxis": "y"
          },
          {
           "hovertemplate": "Region=Västra Götaland<br>Vecka=%{x}<br>Andel vaccinerade=%{y}<extra></extra>",
           "legendgroup": "Västra Götaland",
           "marker": {
            "color": "#00cc96",
            "symbol": "circle"
           },
           "mode": "markers",
           "name": "Västra Götaland",
           "orientation": "v",
           "showlegend": true,
           "type": "scatter",
           "x": [
            19,
            19
           ],
           "xaxis": "x",
           "y": [
            0.38158148937302083,
            0.09845110133638708
           ],
           "yaxis": "y"
          },
          {
           "hovertemplate": "Region=Värmland<br>Vecka=%{x}<br>Andel vaccinerade=%{y}<extra></extra>",
           "legendgroup": "Värmland",
           "marker": {
            "color": "#ab63fa",
            "symbol": "circle"
           },
           "mode": "markers",
           "name": "Värmland",
           "orientation": "v",
           "showlegend": true,
           "type": "scatter",
           "x": [
            19,
            19
           ],
           "xaxis": "x",
           "y": [
            0.4878250765818105,
            0.1442273159395796
           ],
           "yaxis": "y"
          },
          {
           "hovertemplate": "Region=Örebro<br>Vecka=%{x}<br>Andel vaccinerade=%{y}<extra></extra>",
           "legendgroup": "Örebro",
           "marker": {
            "color": "#FFA15A",
            "symbol": "circle"
           },
           "mode": "markers",
           "name": "Örebro",
           "orientation": "v",
           "showlegend": true,
           "type": "scatter",
           "x": [
            19,
            19
           ],
           "xaxis": "x",
           "y": [
            0.4199093260645843,
            0.14242801117331755
           ],
           "yaxis": "y"
          },
          {
           "hovertemplate": "Region=Västmanland<br>Vecka=%{x}<br>Andel vaccinerade=%{y}<extra></extra>",
           "legendgroup": "Västmanland",
           "marker": {
            "color": "#19d3f3",
            "symbol": "circle"
           },
           "mode": "markers",
           "name": "Västmanland",
           "orientation": "v",
           "showlegend": true,
           "type": "scatter",
           "x": [
            19,
            19
           ],
           "xaxis": "x",
           "y": [
            0.45722880487612644,
            0.12354517510443212
           ],
           "yaxis": "y"
          },
          {
           "hovertemplate": "Region=Dalarna<br>Vecka=%{x}<br>Andel vaccinerade=%{y}<extra></extra>",
           "legendgroup": "Dalarna",
           "marker": {
            "color": "#FF6692",
            "symbol": "circle"
           },
           "mode": "markers",
           "name": "Dalarna",
           "orientation": "v",
           "showlegend": true,
           "type": "scatter",
           "x": [
            19,
            19
           ],
           "xaxis": "x",
           "y": [
            0.4659969864389754,
            0.1395195044366315
           ],
           "yaxis": "y"
          },
          {
           "hovertemplate": "Region=Gävleborg<br>Vecka=%{x}<br>Andel vaccinerade=%{y}<extra></extra>",
           "legendgroup": "Gävleborg",
           "marker": {
            "color": "#B6E880",
            "symbol": "circle"
           },
           "mode": "markers",
           "name": "Gävleborg",
           "orientation": "v",
           "showlegend": true,
           "type": "scatter",
           "x": [
            19,
            19
           ],
           "xaxis": "x",
           "y": [
            0.4863184494520708,
            0.12170783780628158
           ],
           "yaxis": "y"
          },
          {
           "hovertemplate": "Region=Västernorrland<br>Vecka=%{x}<br>Andel vaccinerade=%{y}<extra></extra>",
           "legendgroup": "Västernorrland",
           "marker": {
            "color": "#FF97FF",
            "symbol": "circle"
           },
           "mode": "markers",
           "name": "Västernorrland",
           "orientation": "v",
           "showlegend": true,
           "type": "scatter",
           "x": [
            19,
            19
           ],
           "xaxis": "x",
           "y": [
            0.4652581446511605,
            0.11788368913866853
           ],
           "yaxis": "y"
          },
          {
           "hovertemplate": "Region=Jämtland<br>Vecka=%{x}<br>Andel vaccinerade=%{y}<extra></extra>",
           "legendgroup": "Jämtland",
           "marker": {
            "color": "#FECB52",
            "symbol": "circle"
           },
           "mode": "markers",
           "name": "Jämtland",
           "orientation": "v",
           "showlegend": true,
           "type": "scatter",
           "x": [
            19,
            19
           ],
           "xaxis": "x",
           "y": [
            0.45171771314236414,
            0.13313997778858774
           ],
           "yaxis": "y"
          },
          {
           "hovertemplate": "Region=Västerbotten<br>Vecka=%{x}<br>Andel vaccinerade=%{y}<extra></extra>",
           "legendgroup": "Västerbotten",
           "marker": {
            "color": "#636efa",
            "symbol": "circle"
           },
           "mode": "markers",
           "name": "Västerbotten",
           "orientation": "v",
           "showlegend": true,
           "type": "scatter",
           "x": [
            19,
            19
           ],
           "xaxis": "x",
           "y": [
            0.4174073829492175,
            0.12603843359968303
           ],
           "yaxis": "y"
          },
          {
           "hovertemplate": "Region=Norrbotten<br>Vecka=%{x}<br>Andel vaccinerade=%{y}<extra></extra>",
           "legendgroup": "Norrbotten",
           "marker": {
            "color": "#EF553B",
            "symbol": "circle"
           },
           "mode": "markers",
           "name": "Norrbotten",
           "orientation": "v",
           "showlegend": true,
           "type": "scatter",
           "x": [
            19,
            19
           ],
           "xaxis": "x",
           "y": [
            0.4427624817054976,
            0.12076502991062336
           ],
           "yaxis": "y"
          }
         ],
         "name": "19"
        },
        {
         "data": [
          {
           "hovertemplate": "Region=| Sverige |<br>Vecka=%{x}<br>Andel vaccinerade=%{y}<extra></extra>",
           "legendgroup": "| Sverige |",
           "marker": {
            "color": "#636efa",
            "symbol": "circle"
           },
           "mode": "markers",
           "name": "| Sverige |",
           "orientation": "v",
           "showlegend": true,
           "type": "scatter",
           "x": [
            20,
            20
           ],
           "xaxis": "x",
           "y": [
            0.42753383862337013,
            0.13457160963704606
           ],
           "yaxis": "y"
          },
          {
           "hovertemplate": "Region=Stockholm<br>Vecka=%{x}<br>Andel vaccinerade=%{y}<extra></extra>",
           "legendgroup": "Stockholm",
           "marker": {
            "color": "#EF553B",
            "symbol": "circle"
           },
           "mode": "markers",
           "name": "Stockholm",
           "orientation": "v",
           "showlegend": true,
           "type": "scatter",
           "x": [
            20,
            20
           ],
           "xaxis": "x",
           "y": [
            0.38366732162606226,
            0.10007041582234304
           ],
           "yaxis": "y"
          },
          {
           "hovertemplate": "Region=Uppsala<br>Vecka=%{x}<br>Andel vaccinerade=%{y}<extra></extra>",
           "legendgroup": "Uppsala",
           "marker": {
            "color": "#00cc96",
            "symbol": "circle"
           },
           "mode": "markers",
           "name": "Uppsala",
           "orientation": "v",
           "showlegend": true,
           "type": "scatter",
           "x": [
            20,
            20
           ],
           "xaxis": "x",
           "y": [
            0.40791068001289954,
            0.12328462605395894
           ],
           "yaxis": "y"
          },
          {
           "hovertemplate": "Region=Södermanland<br>Vecka=%{x}<br>Andel vaccinerade=%{y}<extra></extra>",
           "legendgroup": "Södermanland",
           "marker": {
            "color": "#ab63fa",
            "symbol": "circle"
           },
           "mode": "markers",
           "name": "Södermanland",
           "orientation": "v",
           "showlegend": true,
           "type": "scatter",
           "x": [
            20,
            20
           ],
           "xaxis": "x",
           "y": [
            0.4647618814346715,
            0.16148218907422376
           ],
           "yaxis": "y"
          },
          {
           "hovertemplate": "Region=Östergötland<br>Vecka=%{x}<br>Andel vaccinerade=%{y}<extra></extra>",
           "legendgroup": "Östergötland",
           "marker": {
            "color": "#FFA15A",
            "symbol": "circle"
           },
           "mode": "markers",
           "name": "Östergötland",
           "orientation": "v",
           "showlegend": true,
           "type": "scatter",
           "x": [
            20,
            20
           ],
           "xaxis": "x",
           "y": [
            0.45544305633999865,
            0.16738259693557664
           ],
           "yaxis": "y"
          },
          {
           "hovertemplate": "Region=Jönköping<br>Vecka=%{x}<br>Andel vaccinerade=%{y}<extra></extra>",
           "legendgroup": "Jönköping",
           "marker": {
            "color": "#19d3f3",
            "symbol": "circle"
           },
           "mode": "markers",
           "name": "Jönköping",
           "orientation": "v",
           "showlegend": true,
           "type": "scatter",
           "x": [
            20,
            20
           ],
           "xaxis": "x",
           "y": [
            0.4284051690887687,
            0.17368366330490312
           ],
           "yaxis": "y"
          },
          {
           "hovertemplate": "Region=Kronoberg<br>Vecka=%{x}<br>Andel vaccinerade=%{y}<extra></extra>",
           "legendgroup": "Kronoberg",
           "marker": {
            "color": "#FF6692",
            "symbol": "circle"
           },
           "mode": "markers",
           "name": "Kronoberg",
           "orientation": "v",
           "showlegend": true,
           "type": "scatter",
           "x": [
            20,
            20
           ],
           "xaxis": "x",
           "y": [
            0.43686589106484924,
            0.140279870047371
           ],
           "yaxis": "y"
          },
          {
           "hovertemplate": "Region=Kalmar<br>Vecka=%{x}<br>Andel vaccinerade=%{y}<extra></extra>",
           "legendgroup": "Kalmar",
           "marker": {
            "color": "#B6E880",
            "symbol": "circle"
           },
           "mode": "markers",
           "name": "Kalmar",
           "orientation": "v",
           "showlegend": true,
           "type": "scatter",
           "x": [
            20,
            20
           ],
           "xaxis": "x",
           "y": [
            0.50986696284605,
            0.1962529410905052
           ],
           "yaxis": "y"
          },
          {
           "hovertemplate": "Region=Gotland<br>Vecka=%{x}<br>Andel vaccinerade=%{y}<extra></extra>",
           "legendgroup": "Gotland",
           "marker": {
            "color": "#FF97FF",
            "symbol": "circle"
           },
           "mode": "markers",
           "name": "Gotland",
           "orientation": "v",
           "showlegend": true,
           "type": "scatter",
           "x": [
            20,
            20
           ],
           "xaxis": "x",
           "y": [
            0.4418339460904783,
            0.19619369679334683
           ],
           "yaxis": "y"
          },
          {
           "hovertemplate": "Region=Blekinge<br>Vecka=%{x}<br>Andel vaccinerade=%{y}<extra></extra>",
           "legendgroup": "Blekinge",
           "marker": {
            "color": "#FECB52",
            "symbol": "circle"
           },
           "mode": "markers",
           "name": "Blekinge",
           "orientation": "v",
           "showlegend": true,
           "type": "scatter",
           "x": [
            20,
            20
           ],
           "xaxis": "x",
           "y": [
            0.46156285151325277,
            0.16909627594120621
           ],
           "yaxis": "y"
          },
          {
           "hovertemplate": "Region=Skåne<br>Vecka=%{x}<br>Andel vaccinerade=%{y}<extra></extra>",
           "legendgroup": "Skåne",
           "marker": {
            "color": "#636efa",
            "symbol": "circle"
           },
           "mode": "markers",
           "name": "Skåne",
           "orientation": "v",
           "showlegend": true,
           "type": "scatter",
           "x": [
            20,
            20
           ],
           "xaxis": "x",
           "y": [
            0.4033246436970517,
            0.13011491259481103
           ],
           "yaxis": "y"
          },
          {
           "hovertemplate": "Region=Halland<br>Vecka=%{x}<br>Andel vaccinerade=%{y}<extra></extra>",
           "legendgroup": "Halland",
           "marker": {
            "color": "#EF553B",
            "symbol": "circle"
           },
           "mode": "markers",
           "name": "Halland",
           "orientation": "v",
           "showlegend": true,
           "type": "scatter",
           "x": [
            20,
            20
           ],
           "xaxis": "x",
           "y": [
            0.4303001740139211,
            0.14858976218097447
           ],
           "yaxis": "y"
          },
          {
           "hovertemplate": "Region=Västra Götaland<br>Vecka=%{x}<br>Andel vaccinerade=%{y}<extra></extra>",
           "legendgroup": "Västra Götaland",
           "marker": {
            "color": "#00cc96",
            "symbol": "circle"
           },
           "mode": "markers",
           "name": "Västra Götaland",
           "orientation": "v",
           "showlegend": true,
           "type": "scatter",
           "x": [
            20,
            20
           ],
           "xaxis": "x",
           "y": [
            0.41207858168816514,
            0.11214535904378187
           ],
           "yaxis": "y"
          },
          {
           "hovertemplate": "Region=Värmland<br>Vecka=%{x}<br>Andel vaccinerade=%{y}<extra></extra>",
           "legendgroup": "Värmland",
           "marker": {
            "color": "#ab63fa",
            "symbol": "circle"
           },
           "mode": "markers",
           "name": "Värmland",
           "orientation": "v",
           "showlegend": true,
           "type": "scatter",
           "x": [
            20,
            20
           ],
           "xaxis": "x",
           "y": [
            0.4955740995035386,
            0.1998732438998627
           ],
           "yaxis": "y"
          },
          {
           "hovertemplate": "Region=Örebro<br>Vecka=%{x}<br>Andel vaccinerade=%{y}<extra></extra>",
           "legendgroup": "Örebro",
           "marker": {
            "color": "#FFA15A",
            "symbol": "circle"
           },
           "mode": "markers",
           "name": "Örebro",
           "orientation": "v",
           "showlegend": true,
           "type": "scatter",
           "x": [
            20,
            20
           ],
           "xaxis": "x",
           "y": [
            0.4491538556289759,
            0.1653468218428027
           ],
           "yaxis": "y"
          },
          {
           "hovertemplate": "Region=Västmanland<br>Vecka=%{x}<br>Andel vaccinerade=%{y}<extra></extra>",
           "legendgroup": "Västmanland",
           "marker": {
            "color": "#19d3f3",
            "symbol": "circle"
           },
           "mode": "markers",
           "name": "Västmanland",
           "orientation": "v",
           "showlegend": true,
           "type": "scatter",
           "x": [
            20,
            20
           ],
           "xaxis": "x",
           "y": [
            0.47796197532161594,
            0.13758768357722723
           ],
           "yaxis": "y"
          },
          {
           "hovertemplate": "Region=Dalarna<br>Vecka=%{x}<br>Andel vaccinerade=%{y}<extra></extra>",
           "legendgroup": "Dalarna",
           "marker": {
            "color": "#FF6692",
            "symbol": "circle"
           },
           "mode": "markers",
           "name": "Dalarna",
           "orientation": "v",
           "showlegend": true,
           "type": "scatter",
           "x": [
            20,
            20
           ],
           "xaxis": "x",
           "y": [
            0.4838314080026787,
            0.18429181315921647
           ],
           "yaxis": "y"
          },
          {
           "hovertemplate": "Region=Gävleborg<br>Vecka=%{x}<br>Andel vaccinerade=%{y}<extra></extra>",
           "legendgroup": "Gävleborg",
           "marker": {
            "color": "#B6E880",
            "symbol": "circle"
           },
           "mode": "markers",
           "name": "Gävleborg",
           "orientation": "v",
           "showlegend": true,
           "type": "scatter",
           "x": [
            20,
            20
           ],
           "xaxis": "x",
           "y": [
            0.5152119160008674,
            0.15094740880356278
           ],
           "yaxis": "y"
          },
          {
           "hovertemplate": "Region=Västernorrland<br>Vecka=%{x}<br>Andel vaccinerade=%{y}<extra></extra>",
           "legendgroup": "Västernorrland",
           "marker": {
            "color": "#FF97FF",
            "symbol": "circle"
           },
           "mode": "markers",
           "name": "Västernorrland",
           "orientation": "v",
           "showlegend": true,
           "type": "scatter",
           "x": [
            20,
            20
           ],
           "xaxis": "x",
           "y": [
            0.47547417573533374,
            0.14934514505784185
           ],
           "yaxis": "y"
          },
          {
           "hovertemplate": "Region=Jämtland<br>Vecka=%{x}<br>Andel vaccinerade=%{y}<extra></extra>",
           "legendgroup": "Jämtland",
           "marker": {
            "color": "#FECB52",
            "symbol": "circle"
           },
           "mode": "markers",
           "name": "Jämtland",
           "orientation": "v",
           "showlegend": true,
           "type": "scatter",
           "x": [
            20,
            20
           ],
           "xaxis": "x",
           "y": [
            0.48303396877552707,
            0.16301524510568777
           ],
           "yaxis": "y"
          },
          {
           "hovertemplate": "Region=Västerbotten<br>Vecka=%{x}<br>Andel vaccinerade=%{y}<extra></extra>",
           "legendgroup": "Västerbotten",
           "marker": {
            "color": "#636efa",
            "symbol": "circle"
           },
           "mode": "markers",
           "name": "Västerbotten",
           "orientation": "v",
           "showlegend": true,
           "type": "scatter",
           "x": [
            20,
            20
           ],
           "xaxis": "x",
           "y": [
            0.4480309934183011,
            0.14381562438090206
           ],
           "yaxis": "y"
          },
          {
           "hovertemplate": "Region=Norrbotten<br>Vecka=%{x}<br>Andel vaccinerade=%{y}<extra></extra>",
           "legendgroup": "Norrbotten",
           "marker": {
            "color": "#EF553B",
            "symbol": "circle"
           },
           "mode": "markers",
           "name": "Norrbotten",
           "orientation": "v",
           "showlegend": true,
           "type": "scatter",
           "x": [
            20,
            20
           ],
           "xaxis": "x",
           "y": [
            0.46940496094804596,
            0.15362645586347684
           ],
           "yaxis": "y"
          }
         ],
         "name": "20"
        },
        {
         "data": [
          {
           "hovertemplate": "Region=| Sverige |<br>Vecka=%{x}<br>Andel vaccinerade=%{y}<extra></extra>",
           "legendgroup": "| Sverige |",
           "marker": {
            "color": "#636efa",
            "symbol": "circle"
           },
           "mode": "markers",
           "name": "| Sverige |",
           "orientation": "v",
           "showlegend": true,
           "type": "scatter",
           "x": [
            21,
            21
           ],
           "xaxis": "x",
           "y": [
            0.45046541607402074,
            0.16810168053679583
           ],
           "yaxis": "y"
          },
          {
           "hovertemplate": "Region=Stockholm<br>Vecka=%{x}<br>Andel vaccinerade=%{y}<extra></extra>",
           "legendgroup": "Stockholm",
           "marker": {
            "color": "#EF553B",
            "symbol": "circle"
           },
           "mode": "markers",
           "name": "Stockholm",
           "orientation": "v",
           "showlegend": true,
           "type": "scatter",
           "x": [
            21,
            21
           ],
           "xaxis": "x",
           "y": [
            0.4174084927426604,
            0.12545393605997338
           ],
           "yaxis": "y"
          },
          {
           "hovertemplate": "Region=Uppsala<br>Vecka=%{x}<br>Andel vaccinerade=%{y}<extra></extra>",
           "legendgroup": "Uppsala",
           "marker": {
            "color": "#00cc96",
            "symbol": "circle"
           },
           "mode": "markers",
           "name": "Uppsala",
           "orientation": "v",
           "showlegend": true,
           "type": "scatter",
           "x": [
            21,
            21
           ],
           "xaxis": "x",
           "y": [
            0.4443581691406458,
            0.15032671553049398
           ],
           "yaxis": "y"
          },
          {
           "hovertemplate": "Region=Södermanland<br>Vecka=%{x}<br>Andel vaccinerade=%{y}<extra></extra>",
           "legendgroup": "Södermanland",
           "marker": {
            "color": "#ab63fa",
            "symbol": "circle"
           },
           "mode": "markers",
           "name": "Södermanland",
           "orientation": "v",
           "showlegend": true,
           "type": "scatter",
           "x": [
            21,
            21
           ],
           "xaxis": "x",
           "y": [
            0.4963586188878275,
            0.2042439235473257
           ],
           "yaxis": "y"
          },
          {
           "hovertemplate": "Region=Östergötland<br>Vecka=%{x}<br>Andel vaccinerade=%{y}<extra></extra>",
           "legendgroup": "Östergötland",
           "marker": {
            "color": "#FFA15A",
            "symbol": "circle"
           },
           "mode": "markers",
           "name": "Östergötland",
           "orientation": "v",
           "showlegend": true,
           "type": "scatter",
           "x": [
            21,
            21
           ],
           "xaxis": "x",
           "y": [
            0.4745011373705237,
            0.198493178367679
           ],
           "yaxis": "y"
          },
          {
           "hovertemplate": "Region=Jönköping<br>Vecka=%{x}<br>Andel vaccinerade=%{y}<extra></extra>",
           "legendgroup": "Jönköping",
           "marker": {
            "color": "#19d3f3",
            "symbol": "circle"
           },
           "mode": "markers",
           "name": "Jönköping",
           "orientation": "v",
           "showlegend": true,
           "type": "scatter",
           "x": [
            21,
            21
           ],
           "xaxis": "x",
           "y": [
            0.4386246172318611,
            0.21696287526370336
           ],
           "yaxis": "y"
          },
          {
           "hovertemplate": "Region=Kronoberg<br>Vecka=%{x}<br>Andel vaccinerade=%{y}<extra></extra>",
           "legendgroup": "Kronoberg",
           "marker": {
            "color": "#FF6692",
            "symbol": "circle"
           },
           "mode": "markers",
           "name": "Kronoberg",
           "orientation": "v",
           "showlegend": true,
           "type": "scatter",
           "x": [
            21,
            21
           ],
           "xaxis": "x",
           "y": [
            0.44791307451706386,
            0.18163723372718418
           ],
           "yaxis": "y"
          },
          {
           "hovertemplate": "Region=Kalmar<br>Vecka=%{x}<br>Andel vaccinerade=%{y}<extra></extra>",
           "legendgroup": "Kalmar",
           "marker": {
            "color": "#B6E880",
            "symbol": "circle"
           },
           "mode": "markers",
           "name": "Kalmar",
           "orientation": "v",
           "showlegend": true,
           "type": "scatter",
           "x": [
            21,
            21
           ],
           "xaxis": "x",
           "y": [
            0.5237455000706349,
            0.2302843419507894
           ],
           "yaxis": "y"
          },
          {
           "hovertemplate": "Region=Gotland<br>Vecka=%{x}<br>Andel vaccinerade=%{y}<extra></extra>",
           "legendgroup": "Gotland",
           "marker": {
            "color": "#FF97FF",
            "symbol": "circle"
           },
           "mode": "markers",
           "name": "Gotland",
           "orientation": "v",
           "showlegend": true,
           "type": "scatter",
           "x": [
            21,
            21
           ],
           "xaxis": "x",
           "y": [
            0.45756247173780545,
            0.22906631539626054
           ],
           "yaxis": "y"
          },
          {
           "hovertemplate": "Region=Blekinge<br>Vecka=%{x}<br>Andel vaccinerade=%{y}<extra></extra>",
           "legendgroup": "Blekinge",
           "marker": {
            "color": "#FECB52",
            "symbol": "circle"
           },
           "mode": "markers",
           "name": "Blekinge",
           "orientation": "v",
           "showlegend": true,
           "type": "scatter",
           "x": [
            21,
            21
           ],
           "xaxis": "x",
           "y": [
            0.5007436038742894,
            0.21121369740984275
           ],
           "yaxis": "y"
          },
          {
           "hovertemplate": "Region=Skåne<br>Vecka=%{x}<br>Andel vaccinerade=%{y}<extra></extra>",
           "legendgroup": "Skåne",
           "marker": {
            "color": "#636efa",
            "symbol": "circle"
           },
           "mode": "markers",
           "name": "Skåne",
           "orientation": "v",
           "showlegend": true,
           "type": "scatter",
           "x": [
            21,
            21
           ],
           "xaxis": "x",
           "y": [
            0.4247437319802957,
            0.15967668570292354
           ],
           "yaxis": "y"
          },
          {
           "hovertemplate": "Region=Halland<br>Vecka=%{x}<br>Andel vaccinerade=%{y}<extra></extra>",
           "legendgroup": "Halland",
           "marker": {
            "color": "#EF553B",
            "symbol": "circle"
           },
           "mode": "markers",
           "name": "Halland",
           "orientation": "v",
           "showlegend": true,
           "type": "scatter",
           "x": [
            21,
            21
           ],
           "xaxis": "x",
           "y": [
            0.4566016531322506,
            0.18645954176334106
           ],
           "yaxis": "y"
          },
          {
           "hovertemplate": "Region=Västra Götaland<br>Vecka=%{x}<br>Andel vaccinerade=%{y}<extra></extra>",
           "legendgroup": "Västra Götaland",
           "marker": {
            "color": "#00cc96",
            "symbol": "circle"
           },
           "mode": "markers",
           "name": "Västra Götaland",
           "orientation": "v",
           "showlegend": true,
           "type": "scatter",
           "x": [
            21,
            21
           ],
           "xaxis": "x",
           "y": [
            0.43036115769815514,
            0.14573632884137788
           ],
           "yaxis": "y"
          },
          {
           "hovertemplate": "Region=Värmland<br>Vecka=%{x}<br>Andel vaccinerade=%{y}<extra></extra>",
           "legendgroup": "Värmland",
           "marker": {
            "color": "#ab63fa",
            "symbol": "circle"
           },
           "mode": "markers",
           "name": "Värmland",
           "orientation": "v",
           "showlegend": true,
           "type": "scatter",
           "x": [
            21,
            21
           ],
           "xaxis": "x",
           "y": [
            0.5125932185486427,
            0.2341185169536284
           ],
           "yaxis": "y"
          },
          {
           "hovertemplate": "Region=Örebro<br>Vecka=%{x}<br>Andel vaccinerade=%{y}<extra></extra>",
           "legendgroup": "Örebro",
           "marker": {
            "color": "#FFA15A",
            "symbol": "circle"
           },
           "mode": "markers",
           "name": "Örebro",
           "orientation": "v",
           "showlegend": true,
           "type": "scatter",
           "x": [
            21,
            21
           ],
           "xaxis": "x",
           "y": [
            0.4777546876676296,
            0.19809195338358412
           ],
           "yaxis": "y"
          },
          {
           "hovertemplate": "Region=Västmanland<br>Vecka=%{x}<br>Andel vaccinerade=%{y}<extra></extra>",
           "legendgroup": "Västmanland",
           "marker": {
            "color": "#19d3f3",
            "symbol": "circle"
           },
           "mode": "markers",
           "name": "Västmanland",
           "orientation": "v",
           "showlegend": true,
           "type": "scatter",
           "x": [
            21,
            21
           ],
           "xaxis": "x",
           "y": [
            0.4876651866642146,
            0.18821865503682492
           ],
           "yaxis": "y"
          },
          {
           "hovertemplate": "Region=Dalarna<br>Vecka=%{x}<br>Andel vaccinerade=%{y}<extra></extra>",
           "legendgroup": "Dalarna",
           "marker": {
            "color": "#FF6692",
            "symbol": "circle"
           },
           "mode": "markers",
           "name": "Dalarna",
           "orientation": "v",
           "showlegend": true,
           "type": "scatter",
           "x": [
            21,
            21
           ],
           "xaxis": "x",
           "y": [
            0.5093964506947932,
            0.22595429432446007
           ],
           "yaxis": "y"
          },
          {
           "hovertemplate": "Region=Gävleborg<br>Vecka=%{x}<br>Andel vaccinerade=%{y}<extra></extra>",
           "legendgroup": "Gävleborg",
           "marker": {
            "color": "#B6E880",
            "symbol": "circle"
           },
           "mode": "markers",
           "name": "Gävleborg",
           "orientation": "v",
           "showlegend": true,
           "type": "scatter",
           "x": [
            21,
            21
           ],
           "xaxis": "x",
           "y": [
            0.5290435841409104,
            0.1916417860657515
           ],
           "yaxis": "y"
          },
          {
           "hovertemplate": "Region=Västernorrland<br>Vecka=%{x}<br>Andel vaccinerade=%{y}<extra></extra>",
           "legendgroup": "Västernorrland",
           "marker": {
            "color": "#FF97FF",
            "symbol": "circle"
           },
           "mode": "markers",
           "name": "Västernorrland",
           "orientation": "v",
           "showlegend": true,
           "type": "scatter",
           "x": [
            21,
            21
           ],
           "xaxis": "x",
           "y": [
            0.4853374230122837,
            0.20045469912930997
           ],
           "yaxis": "y"
          },
          {
           "hovertemplate": "Region=Jämtland<br>Vecka=%{x}<br>Andel vaccinerade=%{y}<extra></extra>",
           "legendgroup": "Jämtland",
           "marker": {
            "color": "#FECB52",
            "symbol": "circle"
           },
           "mode": "markers",
           "name": "Jämtland",
           "orientation": "v",
           "showlegend": true,
           "type": "scatter",
           "x": [
            21,
            21
           ],
           "xaxis": "x",
           "y": [
            0.49281800409350823,
            0.21352326232412142
           ],
           "yaxis": "y"
          },
          {
           "hovertemplate": "Region=Västerbotten<br>Vecka=%{x}<br>Andel vaccinerade=%{y}<extra></extra>",
           "legendgroup": "Västerbotten",
           "marker": {
            "color": "#636efa",
            "symbol": "circle"
           },
           "mode": "markers",
           "name": "Västerbotten",
           "orientation": "v",
           "showlegend": true,
           "type": "scatter",
           "x": [
            21,
            21
           ],
           "xaxis": "x",
           "y": [
            0.4701798410706817,
            0.17378766866979242
           ],
           "yaxis": "y"
          },
          {
           "hovertemplate": "Region=Norrbotten<br>Vecka=%{x}<br>Andel vaccinerade=%{y}<extra></extra>",
           "legendgroup": "Norrbotten",
           "marker": {
            "color": "#EF553B",
            "symbol": "circle"
           },
           "mode": "markers",
           "name": "Norrbotten",
           "orientation": "v",
           "showlegend": true,
           "type": "scatter",
           "x": [
            21,
            21
           ],
           "xaxis": "x",
           "y": [
            0.4736061838970487,
            0.1980116421713739
           ],
           "yaxis": "y"
          }
         ],
         "name": "21"
        },
        {
         "data": [
          {
           "hovertemplate": "Region=| Sverige |<br>Vecka=%{x}<br>Andel vaccinerade=%{y}<extra></extra>",
           "legendgroup": "| Sverige |",
           "marker": {
            "color": "#636efa",
            "symbol": "circle"
           },
           "mode": "markers",
           "name": "| Sverige |",
           "orientation": "v",
           "showlegend": true,
           "type": "scatter",
           "x": [
            22,
            22
           ],
           "xaxis": "x",
           "y": [
            0.47582232950500364,
            0.2109624343367445
           ],
           "yaxis": "y"
          },
          {
           "hovertemplate": "Region=Stockholm<br>Vecka=%{x}<br>Andel vaccinerade=%{y}<extra></extra>",
           "legendgroup": "Stockholm",
           "marker": {
            "color": "#EF553B",
            "symbol": "circle"
           },
           "mode": "markers",
           "name": "Stockholm",
           "orientation": "v",
           "showlegend": true,
           "type": "scatter",
           "x": [
            22,
            22
           ],
           "xaxis": "x",
           "y": [
            0.4479963264875214,
            0.16378648528698803
           ],
           "yaxis": "y"
          },
          {
           "hovertemplate": "Region=Uppsala<br>Vecka=%{x}<br>Andel vaccinerade=%{y}<extra></extra>",
           "legendgroup": "Uppsala",
           "marker": {
            "color": "#00cc96",
            "symbol": "circle"
           },
           "mode": "markers",
           "name": "Uppsala",
           "orientation": "v",
           "showlegend": true,
           "type": "scatter",
           "x": [
            22,
            22
           ],
           "xaxis": "x",
           "y": [
            0.5143977131478344,
            0.18142652735988177
           ],
           "yaxis": "y"
          },
          {
           "hovertemplate": "Region=Södermanland<br>Vecka=%{x}<br>Andel vaccinerade=%{y}<extra></extra>",
           "legendgroup": "Södermanland",
           "marker": {
            "color": "#ab63fa",
            "symbol": "circle"
           },
           "mode": "markers",
           "name": "Södermanland",
           "orientation": "v",
           "showlegend": true,
           "type": "scatter",
           "x": [
            22,
            22
           ],
           "xaxis": "x",
           "y": [
            0.5272409598223398,
            0.2573011324205387
           ],
           "yaxis": "y"
          },
          {
           "hovertemplate": "Region=Östergötland<br>Vecka=%{x}<br>Andel vaccinerade=%{y}<extra></extra>",
           "legendgroup": "Östergötland",
           "marker": {
            "color": "#FFA15A",
            "symbol": "circle"
           },
           "mode": "markers",
           "name": "Östergötland",
           "orientation": "v",
           "showlegend": true,
           "type": "scatter",
           "x": [
            22,
            22
           ],
           "xaxis": "x",
           "y": [
            0.4980128401100581,
            0.24756333262517552
           ],
           "yaxis": "y"
          },
          {
           "hovertemplate": "Region=Jönköping<br>Vecka=%{x}<br>Andel vaccinerade=%{y}<extra></extra>",
           "legendgroup": "Jönköping",
           "marker": {
            "color": "#19d3f3",
            "symbol": "circle"
           },
           "mode": "markers",
           "name": "Jönköping",
           "orientation": "v",
           "showlegend": true,
           "type": "scatter",
           "x": [
            22,
            22
           ],
           "xaxis": "x",
           "y": [
            0.4714294817830874,
            0.2518270575569247
           ],
           "yaxis": "y"
          },
          {
           "hovertemplate": "Region=Kronoberg<br>Vecka=%{x}<br>Andel vaccinerade=%{y}<extra></extra>",
           "legendgroup": "Kronoberg",
           "marker": {
            "color": "#FF6692",
            "symbol": "circle"
           },
           "mode": "markers",
           "name": "Kronoberg",
           "orientation": "v",
           "showlegend": true,
           "type": "scatter",
           "x": [
            22,
            22
           ],
           "xaxis": "x",
           "y": [
            0.45700612858534345,
            0.22635836191928174
           ],
           "yaxis": "y"
          },
          {
           "hovertemplate": "Region=Kalmar<br>Vecka=%{x}<br>Andel vaccinerade=%{y}<extra></extra>",
           "legendgroup": "Kalmar",
           "marker": {
            "color": "#B6E880",
            "symbol": "circle"
           },
           "mode": "markers",
           "name": "Kalmar",
           "orientation": "v",
           "showlegend": true,
           "type": "scatter",
           "x": [
            22,
            22
           ],
           "xaxis": "x",
           "y": [
            0.5428899898188337,
            0.29135185428753757
           ],
           "yaxis": "y"
          },
          {
           "hovertemplate": "Region=Gotland<br>Vecka=%{x}<br>Andel vaccinerade=%{y}<extra></extra>",
           "legendgroup": "Gotland",
           "marker": {
            "color": "#FF97FF",
            "symbol": "circle"
           },
           "mode": "markers",
           "name": "Gotland",
           "orientation": "v",
           "showlegend": true,
           "type": "scatter",
           "x": [
            22,
            22
           ],
           "xaxis": "x",
           "y": [
            0.4903761083695417,
            0.23950612429467394
           ],
           "yaxis": "y"
          },
          {
           "hovertemplate": "Region=Blekinge<br>Vecka=%{x}<br>Andel vaccinerade=%{y}<extra></extra>",
           "legendgroup": "Blekinge",
           "marker": {
            "color": "#FECB52",
            "symbol": "circle"
           },
           "mode": "markers",
           "name": "Blekinge",
           "orientation": "v",
           "showlegend": true,
           "type": "scatter",
           "x": [
            22,
            22
           ],
           "xaxis": "x",
           "y": [
            0.5359534360538415,
            0.241599541003903
           ],
           "yaxis": "y"
          },
          {
           "hovertemplate": "Region=Skåne<br>Vecka=%{x}<br>Andel vaccinerade=%{y}<extra></extra>",
           "legendgroup": "Skåne",
           "marker": {
            "color": "#636efa",
            "symbol": "circle"
           },
           "mode": "markers",
           "name": "Skåne",
           "orientation": "v",
           "showlegend": true,
           "type": "scatter",
           "x": [
            22,
            22
           ],
           "xaxis": "x",
           "y": [
            0.44495307508426424,
            0.19663594060547088
           ],
           "yaxis": "y"
          },
          {
           "hovertemplate": "Region=Halland<br>Vecka=%{x}<br>Andel vaccinerade=%{y}<extra></extra>",
           "legendgroup": "Halland",
           "marker": {
            "color": "#EF553B",
            "symbol": "circle"
           },
           "mode": "markers",
           "name": "Halland",
           "orientation": "v",
           "showlegend": true,
           "type": "scatter",
           "x": [
            22,
            22
           ],
           "xaxis": "x",
           "y": [
            0.4855387180974478,
            0.2275050754060325
           ],
           "yaxis": "y"
          },
          {
           "hovertemplate": "Region=Västra Götaland<br>Vecka=%{x}<br>Andel vaccinerade=%{y}<extra></extra>",
           "legendgroup": "Västra Götaland",
           "marker": {
            "color": "#00cc96",
            "symbol": "circle"
           },
           "mode": "markers",
           "name": "Västra Götaland",
           "orientation": "v",
           "showlegend": true,
           "type": "scatter",
           "x": [
            22,
            22
           ],
           "xaxis": "x",
           "y": [
            0.44570105023841056,
            0.18682610168637323
           ],
           "yaxis": "y"
          },
          {
           "hovertemplate": "Region=Värmland<br>Vecka=%{x}<br>Andel vaccinerade=%{y}<extra></extra>",
           "legendgroup": "Värmland",
           "marker": {
            "color": "#ab63fa",
            "symbol": "circle"
           },
           "mode": "markers",
           "name": "Värmland",
           "orientation": "v",
           "showlegend": true,
           "type": "scatter",
           "x": [
            22,
            22
           ],
           "xaxis": "x",
           "y": [
            0.5363768881377416,
            0.3140466884968839
           ],
           "yaxis": "y"
          },
          {
           "hovertemplate": "Region=Örebro<br>Vecka=%{x}<br>Andel vaccinerade=%{y}<extra></extra>",
           "legendgroup": "Örebro",
           "marker": {
            "color": "#FFA15A",
            "symbol": "circle"
           },
           "mode": "markers",
           "name": "Örebro",
           "orientation": "v",
           "showlegend": true,
           "type": "scatter",
           "x": [
            22,
            22
           ],
           "xaxis": "x",
           "y": [
            0.5018734776752188,
            0.24839969642906812
           ],
           "yaxis": "y"
          },
          {
           "hovertemplate": "Region=Västmanland<br>Vecka=%{x}<br>Andel vaccinerade=%{y}<extra></extra>",
           "legendgroup": "Västmanland",
           "marker": {
            "color": "#19d3f3",
            "symbol": "circle"
           },
           "mode": "markers",
           "name": "Västmanland",
           "orientation": "v",
           "showlegend": true,
           "type": "scatter",
           "x": [
            22,
            22
           ],
           "xaxis": "x",
           "y": [
            0.512347949452224,
            0.24341661631155365
           ],
           "yaxis": "y"
          },
          {
           "hovertemplate": "Region=Dalarna<br>Vecka=%{x}<br>Andel vaccinerade=%{y}<extra></extra>",
           "legendgroup": "Dalarna",
           "marker": {
            "color": "#FF6692",
            "symbol": "circle"
           },
           "mode": "markers",
           "name": "Dalarna",
           "orientation": "v",
           "showlegend": true,
           "type": "scatter",
           "x": [
            22,
            22
           ],
           "xaxis": "x",
           "y": [
            0.5277749874434957,
            0.27497488699146155
           ],
           "yaxis": "y"
          },
          {
           "hovertemplate": "Region=Gävleborg<br>Vecka=%{x}<br>Andel vaccinerade=%{y}<extra></extra>",
           "legendgroup": "Gävleborg",
           "marker": {
            "color": "#B6E880",
            "symbol": "circle"
           },
           "mode": "markers",
           "name": "Gävleborg",
           "orientation": "v",
           "showlegend": true,
           "type": "scatter",
           "x": [
            22,
            22
           ],
           "xaxis": "x",
           "y": [
            0.56712341334045,
            0.23288242456590996
           ],
           "yaxis": "y"
          },
          {
           "hovertemplate": "Region=Västernorrland<br>Vecka=%{x}<br>Andel vaccinerade=%{y}<extra></extra>",
           "legendgroup": "Västernorrland",
           "marker": {
            "color": "#FF97FF",
            "symbol": "circle"
           },
           "mode": "markers",
           "name": "Västernorrland",
           "orientation": "v",
           "showlegend": true,
           "type": "scatter",
           "x": [
            22,
            22
           ],
           "xaxis": "x",
           "y": [
            0.5010510017590193,
            0.2612658078994174
           ],
           "yaxis": "y"
          },
          {
           "hovertemplate": "Region=Jämtland<br>Vecka=%{x}<br>Andel vaccinerade=%{y}<extra></extra>",
           "legendgroup": "Jämtland",
           "marker": {
            "color": "#FECB52",
            "symbol": "circle"
           },
           "mode": "markers",
           "name": "Jämtland",
           "orientation": "v",
           "showlegend": true,
           "type": "scatter",
           "x": [
            22,
            22
           ],
           "xaxis": "x",
           "y": [
            0.5249144126366415,
            0.2324763889016365
           ],
           "yaxis": "y"
          },
          {
           "hovertemplate": "Region=Västerbotten<br>Vecka=%{x}<br>Andel vaccinerade=%{y}<extra></extra>",
           "legendgroup": "Västerbotten",
           "marker": {
            "color": "#636efa",
            "symbol": "circle"
           },
           "mode": "markers",
           "name": "Västerbotten",
           "orientation": "v",
           "showlegend": true,
           "type": "scatter",
           "x": [
            22,
            22
           ],
           "xaxis": "x",
           "y": [
            0.4915978780074402,
            0.21668537718197628
           ],
           "yaxis": "y"
          },
          {
           "hovertemplate": "Region=Norrbotten<br>Vecka=%{x}<br>Andel vaccinerade=%{y}<extra></extra>",
           "legendgroup": "Norrbotten",
           "marker": {
            "color": "#EF553B",
            "symbol": "circle"
           },
           "mode": "markers",
           "name": "Norrbotten",
           "orientation": "v",
           "showlegend": true,
           "type": "scatter",
           "x": [
            22,
            22
           ],
           "xaxis": "x",
           "y": [
            0.47857471024823683,
            0.2572692524475558
           ],
           "yaxis": "y"
          }
         ],
         "name": "22"
        },
        {
         "data": [
          {
           "hovertemplate": "Region=| Sverige |<br>Vecka=%{x}<br>Andel vaccinerade=%{y}<extra></extra>",
           "legendgroup": "| Sverige |",
           "marker": {
            "color": "#636efa",
            "symbol": "circle"
           },
           "mode": "markers",
           "name": "| Sverige |",
           "orientation": "v",
           "showlegend": true,
           "type": "scatter",
           "x": [
            23,
            23
           ],
           "xaxis": "x",
           "y": [
            0.5073567314956617,
            0.2588172775802649
           ],
           "yaxis": "y"
          },
          {
           "hovertemplate": "Region=Stockholm<br>Vecka=%{x}<br>Andel vaccinerade=%{y}<extra></extra>",
           "legendgroup": "Stockholm",
           "marker": {
            "color": "#EF553B",
            "symbol": "circle"
           },
           "mode": "markers",
           "name": "Stockholm",
           "orientation": "v",
           "showlegend": true,
           "type": "scatter",
           "x": [
            23,
            23
           ],
           "xaxis": "x",
           "y": [
            0.48457616747280996,
            0.20991499877515418
           ],
           "yaxis": "y"
          },
          {
           "hovertemplate": "Region=Uppsala<br>Vecka=%{x}<br>Andel vaccinerade=%{y}<extra></extra>",
           "legendgroup": "Uppsala",
           "marker": {
            "color": "#00cc96",
            "symbol": "circle"
           },
           "mode": "markers",
           "name": "Uppsala",
           "orientation": "v",
           "showlegend": true,
           "type": "scatter",
           "x": [
            23,
            23
           ],
           "xaxis": "x",
           "y": [
            0.5532591713604954,
            0.2364781725220811
           ],
           "yaxis": "y"
          },
          {
           "hovertemplate": "Region=Södermanland<br>Vecka=%{x}<br>Andel vaccinerade=%{y}<extra></extra>",
           "legendgroup": "Södermanland",
           "marker": {
            "color": "#ab63fa",
            "symbol": "circle"
           },
           "mode": "markers",
           "name": "Södermanland",
           "orientation": "v",
           "showlegend": true,
           "type": "scatter",
           "x": [
            23,
            23
           ],
           "xaxis": "x",
           "y": [
            0.5626505335521428,
            0.3205517590483422
           ],
           "yaxis": "y"
          },
          {
           "hovertemplate": "Region=Östergötland<br>Vecka=%{x}<br>Andel vaccinerade=%{y}<extra></extra>",
           "legendgroup": "Östergötland",
           "marker": {
            "color": "#FFA15A",
            "symbol": "circle"
           },
           "mode": "markers",
           "name": "Östergötland",
           "orientation": "v",
           "showlegend": true,
           "type": "scatter",
           "x": [
            23,
            23
           ],
           "xaxis": "x",
           "y": [
            0.5260481167320418,
            0.2984159718947712
           ],
           "yaxis": "y"
          },
          {
           "hovertemplate": "Region=Jönköping<br>Vecka=%{x}<br>Andel vaccinerade=%{y}<extra></extra>",
           "legendgroup": "Jönköping",
           "marker": {
            "color": "#19d3f3",
            "symbol": "circle"
           },
           "mode": "markers",
           "name": "Jönköping",
           "orientation": "v",
           "showlegend": true,
           "type": "scatter",
           "x": [
            23,
            23
           ],
           "xaxis": "x",
           "y": [
            0.49796919072837464,
            0.30350788343054164
           ],
           "yaxis": "y"
          },
          {
           "hovertemplate": "Region=Kronoberg<br>Vecka=%{x}<br>Andel vaccinerade=%{y}<extra></extra>",
           "legendgroup": "Kronoberg",
           "marker": {
            "color": "#FF6692",
            "symbol": "circle"
           },
           "mode": "markers",
           "name": "Kronoberg",
           "orientation": "v",
           "showlegend": true,
           "type": "scatter",
           "x": [
            23,
            23
           ],
           "xaxis": "x",
           "y": [
            0.4885686456007889,
            0.2779885172211433
           ],
           "yaxis": "y"
          },
          {
           "hovertemplate": "Region=Kalmar<br>Vecka=%{x}<br>Andel vaccinerade=%{y}<extra></extra>",
           "legendgroup": "Kalmar",
           "marker": {
            "color": "#B6E880",
            "symbol": "circle"
           },
           "mode": "markers",
           "name": "Kalmar",
           "orientation": "v",
           "showlegend": true,
           "type": "scatter",
           "x": [
            23,
            23
           ],
           "xaxis": "x",
           "y": [
            0.560275914478203,
            0.34572610226957196
           ],
           "yaxis": "y"
          },
          {
           "hovertemplate": "Region=Gotland<br>Vecka=%{x}<br>Andel vaccinerade=%{y}<extra></extra>",
           "legendgroup": "Gotland",
           "marker": {
            "color": "#FF97FF",
            "symbol": "circle"
           },
           "mode": "markers",
           "name": "Gotland",
           "orientation": "v",
           "showlegend": true,
           "type": "scatter",
           "x": [
            23,
            23
           ],
           "xaxis": "x",
           "y": [
            0.5333936260149814,
            0.26764052454633036
           ],
           "yaxis": "y"
          },
          {
           "hovertemplate": "Region=Blekinge<br>Vecka=%{x}<br>Andel vaccinerade=%{y}<extra></extra>",
           "legendgroup": "Blekinge",
           "marker": {
            "color": "#FECB52",
            "symbol": "circle"
           },
           "mode": "markers",
           "name": "Blekinge",
           "orientation": "v",
           "showlegend": true,
           "type": "scatter",
           "x": [
            23,
            23
           ],
           "xaxis": "x",
           "y": [
            0.574349063512075,
            0.2745445898099847
           ],
           "yaxis": "y"
          },
          {
           "hovertemplate": "Region=Skåne<br>Vecka=%{x}<br>Andel vaccinerade=%{y}<extra></extra>",
           "legendgroup": "Skåne",
           "marker": {
            "color": "#636efa",
            "symbol": "circle"
           },
           "mode": "markers",
           "name": "Skåne",
           "orientation": "v",
           "showlegend": true,
           "type": "scatter",
           "x": [
            23,
            23
           ],
           "xaxis": "x",
           "y": [
            0.4771278977796117,
            0.23627423119594088
           ],
           "yaxis": "y"
          },
          {
           "hovertemplate": "Region=Halland<br>Vecka=%{x}<br>Andel vaccinerade=%{y}<extra></extra>",
           "legendgroup": "Halland",
           "marker": {
            "color": "#EF553B",
            "symbol": "circle"
           },
           "mode": "markers",
           "name": "Halland",
           "orientation": "v",
           "showlegend": true,
           "type": "scatter",
           "x": [
            23,
            23
           ],
           "xaxis": "x",
           "y": [
            0.5188587587006961,
            0.27650812064965197
           ],
           "yaxis": "y"
          },
          {
           "hovertemplate": "Region=Västra Götaland<br>Vecka=%{x}<br>Andel vaccinerade=%{y}<extra></extra>",
           "legendgroup": "Västra Götaland",
           "marker": {
            "color": "#00cc96",
            "symbol": "circle"
           },
           "mode": "markers",
           "name": "Västra Götaland",
           "orientation": "v",
           "showlegend": true,
           "type": "scatter",
           "x": [
            23,
            23
           ],
           "xaxis": "x",
           "y": [
            0.4726996810926287,
            0.23147103374706363
           ],
           "yaxis": "y"
          },
          {
           "hovertemplate": "Region=Värmland<br>Vecka=%{x}<br>Andel vaccinerade=%{y}<extra></extra>",
           "legendgroup": "Värmland",
           "marker": {
            "color": "#ab63fa",
            "symbol": "circle"
           },
           "mode": "markers",
           "name": "Värmland",
           "orientation": "v",
           "showlegend": true,
           "type": "scatter",
           "x": [
            23,
            23
           ],
           "xaxis": "x",
           "y": [
            0.5567550438364847,
            0.3730685539241576
           ],
           "yaxis": "y"
          },
          {
           "hovertemplate": "Region=Örebro<br>Vecka=%{x}<br>Andel vaccinerade=%{y}<extra></extra>",
           "legendgroup": "Örebro",
           "marker": {
            "color": "#FFA15A",
            "symbol": "circle"
           },
           "mode": "markers",
           "name": "Örebro",
           "orientation": "v",
           "showlegend": true,
           "type": "scatter",
           "x": [
            23,
            23
           ],
           "xaxis": "x",
           "y": [
            0.5504925080760199,
            0.29289826797684276
           ],
           "yaxis": "y"
          },
          {
           "hovertemplate": "Region=Västmanland<br>Vecka=%{x}<br>Andel vaccinerade=%{y}<extra></extra>",
           "legendgroup": "Västmanland",
           "marker": {
            "color": "#19d3f3",
            "symbol": "circle"
           },
           "mode": "markers",
           "name": "Västmanland",
           "orientation": "v",
           "showlegend": true,
           "type": "scatter",
           "x": [
            23,
            23
           ],
           "xaxis": "x",
           "y": [
            0.5306553170620638,
            0.29404758777115136
           ],
           "yaxis": "y"
          },
          {
           "hovertemplate": "Region=Dalarna<br>Vecka=%{x}<br>Andel vaccinerade=%{y}<extra></extra>",
           "legendgroup": "Dalarna",
           "marker": {
            "color": "#FF6692",
            "symbol": "circle"
           },
           "mode": "markers",
           "name": "Dalarna",
           "orientation": "v",
           "showlegend": true,
           "type": "scatter",
           "x": [
            23,
            23
           ],
           "xaxis": "x",
           "y": [
            0.5581449857692952,
            0.32575757575757575
           ],
           "yaxis": "y"
          },
          {
           "hovertemplate": "Region=Gävleborg<br>Vecka=%{x}<br>Andel vaccinerade=%{y}<extra></extra>",
           "legendgroup": "Gävleborg",
           "marker": {
            "color": "#B6E880",
            "symbol": "circle"
           },
           "mode": "markers",
           "name": "Gävleborg",
           "orientation": "v",
           "showlegend": true,
           "type": "scatter",
           "x": [
            23,
            23
           ],
           "xaxis": "x",
           "y": [
            0.5916092605874602,
            0.2815789034743883
           ],
           "yaxis": "y"
          },
          {
           "hovertemplate": "Region=Västernorrland<br>Vecka=%{x}<br>Andel vaccinerade=%{y}<extra></extra>",
           "legendgroup": "Västernorrland",
           "marker": {
            "color": "#FF97FF",
            "symbol": "circle"
           },
           "mode": "markers",
           "name": "Västernorrland",
           "orientation": "v",
           "showlegend": true,
           "type": "scatter",
           "x": [
            23,
            23
           ],
           "xaxis": "x",
           "y": [
            0.537299537951208,
            0.3266239079626245
           ],
           "yaxis": "y"
          },
          {
           "hovertemplate": "Region=Jämtland<br>Vecka=%{x}<br>Andel vaccinerade=%{y}<extra></extra>",
           "legendgroup": "Jämtland",
           "marker": {
            "color": "#FECB52",
            "symbol": "circle"
           },
           "mode": "markers",
           "name": "Jämtland",
           "orientation": "v",
           "showlegend": true,
           "type": "scatter",
           "x": [
            23,
            23
           ],
           "xaxis": "x",
           "y": [
            0.5518801685130286,
            0.27834938000789333
           ],
           "yaxis": "y"
          },
          {
           "hovertemplate": "Region=Västerbotten<br>Vecka=%{x}<br>Andel vaccinerade=%{y}<extra></extra>",
           "legendgroup": "Västerbotten",
           "marker": {
            "color": "#636efa",
            "symbol": "circle"
           },
           "mode": "markers",
           "name": "Västerbotten",
           "orientation": "v",
           "showlegend": true,
           "type": "scatter",
           "x": [
            23,
            23
           ],
           "xaxis": "x",
           "y": [
            0.5205001210680402,
            0.2692112967487728
           ],
           "yaxis": "y"
          },
          {
           "hovertemplate": "Region=Norrbotten<br>Vecka=%{x}<br>Andel vaccinerade=%{y}<extra></extra>",
           "legendgroup": "Norrbotten",
           "marker": {
            "color": "#EF553B",
            "symbol": "circle"
           },
           "mode": "markers",
           "name": "Norrbotten",
           "orientation": "v",
           "showlegend": true,
           "type": "scatter",
           "x": [
            23,
            23
           ],
           "xaxis": "x",
           "y": [
            0.5093284200654576,
            0.3139976033609784
           ],
           "yaxis": "y"
          }
         ],
         "name": "23"
        },
        {
         "data": [
          {
           "hovertemplate": "Region=| Sverige |<br>Vecka=%{x}<br>Andel vaccinerade=%{y}<extra></extra>",
           "legendgroup": "| Sverige |",
           "marker": {
            "color": "#636efa",
            "symbol": "circle"
           },
           "mode": "markers",
           "name": "| Sverige |",
           "orientation": "v",
           "showlegend": true,
           "type": "scatter",
           "x": [
            24,
            24
           ],
           "xaxis": "x",
           "y": [
            0.5428225286504228,
            0.31348462687512507
           ],
           "yaxis": "y"
          },
          {
           "hovertemplate": "Region=Stockholm<br>Vecka=%{x}<br>Andel vaccinerade=%{y}<extra></extra>",
           "legendgroup": "Stockholm",
           "marker": {
            "color": "#EF553B",
            "symbol": "circle"
           },
           "mode": "markers",
           "name": "Stockholm",
           "orientation": "v",
           "showlegend": true,
           "type": "scatter",
           "x": [
            24,
            24
           ],
           "xaxis": "x",
           "y": [
            0.523183410155253,
            0.2681254119120612
           ],
           "yaxis": "y"
          },
          {
           "hovertemplate": "Region=Uppsala<br>Vecka=%{x}<br>Andel vaccinerade=%{y}<extra></extra>",
           "legendgroup": "Uppsala",
           "marker": {
            "color": "#00cc96",
            "symbol": "circle"
           },
           "mode": "markers",
           "name": "Uppsala",
           "orientation": "v",
           "showlegend": true,
           "type": "scatter",
           "x": [
            24,
            24
           ],
           "xaxis": "x",
           "y": [
            0.5918701528847087,
            0.2890626223030705
           ],
           "yaxis": "y"
          },
          {
           "hovertemplate": "Region=Södermanland<br>Vecka=%{x}<br>Andel vaccinerade=%{y}<extra></extra>",
           "legendgroup": "Södermanland",
           "marker": {
            "color": "#ab63fa",
            "symbol": "circle"
           },
           "mode": "markers",
           "name": "Södermanland",
           "orientation": "v",
           "showlegend": true,
           "type": "scatter",
           "x": [
            24,
            24
           ],
           "xaxis": "x",
           "y": [
            0.6060491014932928,
            0.3580677819416889
           ],
           "yaxis": "y"
          },
          {
           "hovertemplate": "Region=Östergötland<br>Vecka=%{x}<br>Andel vaccinerade=%{y}<extra></extra>",
           "legendgroup": "Östergötland",
           "marker": {
            "color": "#FFA15A",
            "symbol": "circle"
           },
           "mode": "markers",
           "name": "Östergötland",
           "orientation": "v",
           "showlegend": true,
           "type": "scatter",
           "x": [
            24,
            24
           ],
           "xaxis": "x",
           "y": [
            0.5666229681484437,
            0.34629953002502734
           ],
           "yaxis": "y"
          },
          {
           "hovertemplate": "Region=Jönköping<br>Vecka=%{x}<br>Andel vaccinerade=%{y}<extra></extra>",
           "legendgroup": "Jönköping",
           "marker": {
            "color": "#19d3f3",
            "symbol": "circle"
           },
           "mode": "markers",
           "name": "Jönköping",
           "orientation": "v",
           "showlegend": true,
           "type": "scatter",
           "x": [
            24,
            24
           ],
           "xaxis": "x",
           "y": [
            0.5283491583293366,
            0.3500940779522198
           ],
           "yaxis": "y"
          },
          {
           "hovertemplate": "Region=Kronoberg<br>Vecka=%{x}<br>Andel vaccinerade=%{y}<extra></extra>",
           "legendgroup": "Kronoberg",
           "marker": {
            "color": "#FF6692",
            "symbol": "circle"
           },
           "mode": "markers",
           "name": "Kronoberg",
           "orientation": "v",
           "showlegend": true,
           "type": "scatter",
           "x": [
            24,
            24
           ],
           "xaxis": "x",
           "y": [
            0.521970343212879,
            0.3391231222510602
           ],
           "yaxis": "y"
          },
          {
           "hovertemplate": "Region=Kalmar<br>Vecka=%{x}<br>Andel vaccinerade=%{y}<extra></extra>",
           "legendgroup": "Kalmar",
           "marker": {
            "color": "#B6E880",
            "symbol": "circle"
           },
           "mode": "markers",
           "name": "Kalmar",
           "orientation": "v",
           "showlegend": true,
           "type": "scatter",
           "x": [
            24,
            24
           ],
           "xaxis": "x",
           "y": [
            0.5858408717806324,
            0.3936457830973154
           ],
           "yaxis": "y"
          },
          {
           "hovertemplate": "Region=Gotland<br>Vecka=%{x}<br>Andel vaccinerade=%{y}<extra></extra>",
           "legendgroup": "Gotland",
           "marker": {
            "color": "#FF97FF",
            "symbol": "circle"
           },
           "mode": "markers",
           "name": "Gotland",
           "orientation": "v",
           "showlegend": true,
           "type": "scatter",
           "x": [
            24,
            24
           ],
           "xaxis": "x",
           "y": [
            0.5559443996618367,
            0.32286731022550774
           ],
           "yaxis": "y"
          },
          {
           "hovertemplate": "Region=Blekinge<br>Vecka=%{x}<br>Andel vaccinerade=%{y}<extra></extra>",
           "legendgroup": "Blekinge",
           "marker": {
            "color": "#FECB52",
            "symbol": "circle"
           },
           "mode": "markers",
           "name": "Blekinge",
           "orientation": "v",
           "showlegend": true,
           "type": "scatter",
           "x": [
            24,
            24
           ],
           "xaxis": "x",
           "y": [
            0.6052331594482988,
            0.32115383163600403
           ],
           "yaxis": "y"
          },
          {
           "hovertemplate": "Region=Skåne<br>Vecka=%{x}<br>Andel vaccinerade=%{y}<extra></extra>",
           "legendgroup": "Skåne",
           "marker": {
            "color": "#636efa",
            "symbol": "circle"
           },
           "mode": "markers",
           "name": "Skåne",
           "orientation": "v",
           "showlegend": true,
           "type": "scatter",
           "x": [
            24,
            24
           ],
           "xaxis": "x",
           "y": [
            0.515051429566876,
            0.29132247583369036
           ],
           "yaxis": "y"
          },
          {
           "hovertemplate": "Region=Halland<br>Vecka=%{x}<br>Andel vaccinerade=%{y}<extra></extra>",
           "legendgroup": "Halland",
           "marker": {
            "color": "#EF553B",
            "symbol": "circle"
           },
           "mode": "markers",
           "name": "Halland",
           "orientation": "v",
           "showlegend": true,
           "type": "scatter",
           "x": [
            24,
            24
           ],
           "xaxis": "x",
           "y": [
            0.5748912412993039,
            0.3187173723897912
           ],
           "yaxis": "y"
          },
          {
           "hovertemplate": "Region=Västra Götaland<br>Vecka=%{x}<br>Andel vaccinerade=%{y}<extra></extra>",
           "legendgroup": "Västra Götaland",
           "marker": {
            "color": "#00cc96",
            "symbol": "circle"
           },
           "mode": "markers",
           "name": "Västra Götaland",
           "orientation": "v",
           "showlegend": true,
           "type": "scatter",
           "x": [
            24,
            24
           ],
           "xaxis": "x",
           "y": [
            0.5021027167324174,
            0.2824563147299367
           ],
           "yaxis": "y"
          },
          {
           "hovertemplate": "Region=Värmland<br>Vecka=%{x}<br>Andel vaccinerade=%{y}<extra></extra>",
           "legendgroup": "Värmland",
           "marker": {
            "color": "#ab63fa",
            "symbol": "circle"
           },
           "mode": "markers",
           "name": "Värmland",
           "orientation": "v",
           "showlegend": true,
           "type": "scatter",
           "x": [
            24,
            24
           ],
           "xaxis": "x",
           "y": [
            0.591439738037393,
            0.43826766663145666
           ],
           "yaxis": "y"
          },
          {
           "hovertemplate": "Region=Örebro<br>Vecka=%{x}<br>Andel vaccinerade=%{y}<extra></extra>",
           "legendgroup": "Örebro",
           "marker": {
            "color": "#FFA15A",
            "symbol": "circle"
           },
           "mode": "markers",
           "name": "Örebro",
           "orientation": "v",
           "showlegend": true,
           "type": "scatter",
           "x": [
            24,
            24
           ],
           "xaxis": "x",
           "y": [
            0.5857885890706518,
            0.34788275168771926
           ],
           "yaxis": "y"
          },
          {
           "hovertemplate": "Region=Västmanland<br>Vecka=%{x}<br>Andel vaccinerade=%{y}<extra></extra>",
           "legendgroup": "Västmanland",
           "marker": {
            "color": "#19d3f3",
            "symbol": "circle"
           },
           "mode": "markers",
           "name": "Västmanland",
           "orientation": "v",
           "showlegend": true,
           "type": "scatter",
           "x": [
            24,
            24
           ],
           "xaxis": "x",
           "y": [
            0.5617616407885173,
            0.35447810209389696
           ],
           "yaxis": "y"
          },
          {
           "hovertemplate": "Region=Dalarna<br>Vecka=%{x}<br>Andel vaccinerade=%{y}<extra></extra>",
           "legendgroup": "Dalarna",
           "marker": {
            "color": "#FF6692",
            "symbol": "circle"
           },
           "mode": "markers",
           "name": "Dalarna",
           "orientation": "v",
           "showlegend": true,
           "type": "scatter",
           "x": [
            24,
            24
           ],
           "xaxis": "x",
           "y": [
            0.6021136782186506,
            0.3888121546961326
           ],
           "yaxis": "y"
          },
          {
           "hovertemplate": "Region=Gävleborg<br>Vecka=%{x}<br>Andel vaccinerade=%{y}<extra></extra>",
           "legendgroup": "Gävleborg",
           "marker": {
            "color": "#B6E880",
            "symbol": "circle"
           },
           "mode": "markers",
           "name": "Gävleborg",
           "orientation": "v",
           "showlegend": true,
           "type": "scatter",
           "x": [
            24,
            24
           ],
           "xaxis": "x",
           "y": [
            0.6202692108818575,
            0.33387403466048404
           ],
           "yaxis": "y"
          },
          {
           "hovertemplate": "Region=Västernorrland<br>Vecka=%{x}<br>Andel vaccinerade=%{y}<extra></extra>",
           "legendgroup": "Västernorrland",
           "marker": {
            "color": "#FF97FF",
            "symbol": "circle"
           },
           "mode": "markers",
           "name": "Västernorrland",
           "orientation": "v",
           "showlegend": true,
           "type": "scatter",
           "x": [
            24,
            24
           ],
           "xaxis": "x",
           "y": [
            0.5575552082159428,
            0.40482431856377793
           ],
           "yaxis": "y"
          },
          {
           "hovertemplate": "Region=Jämtland<br>Vecka=%{x}<br>Andel vaccinerade=%{y}<extra></extra>",
           "legendgroup": "Jämtland",
           "marker": {
            "color": "#FECB52",
            "symbol": "circle"
           },
           "mode": "markers",
           "name": "Jämtland",
           "orientation": "v",
           "showlegend": true,
           "type": "scatter",
           "x": [
            24,
            24
           ],
           "xaxis": "x",
           "y": [
            0.5724578487971878,
            0.3361357649628739
           ],
           "yaxis": "y"
          },
          {
           "hovertemplate": "Region=Västerbotten<br>Vecka=%{x}<br>Andel vaccinerade=%{y}<extra></extra>",
           "legendgroup": "Västerbotten",
           "marker": {
            "color": "#636efa",
            "symbol": "circle"
           },
           "mode": "markers",
           "name": "Västerbotten",
           "orientation": "v",
           "showlegend": true,
           "type": "scatter",
           "x": [
            24,
            24
           ],
           "xaxis": "x",
           "y": [
            0.5518633472011271,
            0.33128178036056266
           ],
           "yaxis": "y"
          },
          {
           "hovertemplate": "Region=Norrbotten<br>Vecka=%{x}<br>Andel vaccinerade=%{y}<extra></extra>",
           "legendgroup": "Norrbotten",
           "marker": {
            "color": "#EF553B",
            "symbol": "circle"
           },
           "mode": "markers",
           "name": "Norrbotten",
           "orientation": "v",
           "showlegend": true,
           "type": "scatter",
           "x": [
            24,
            24
           ],
           "xaxis": "x",
           "y": [
            0.5484940486621923,
            0.37080647376722287
           ],
           "yaxis": "y"
          }
         ],
         "name": "24"
        },
        {
         "data": [
          {
           "hovertemplate": "Region=| Sverige |<br>Vecka=%{x}<br>Andel vaccinerade=%{y}<extra></extra>",
           "legendgroup": "| Sverige |",
           "marker": {
            "color": "#636efa",
            "symbol": "circle"
           },
           "mode": "markers",
           "name": "| Sverige |",
           "orientation": "v",
           "showlegend": true,
           "type": "scatter",
           "x": [
            25,
            25
           ],
           "xaxis": "x",
           "y": [
            0.5766334636656782,
            0.3540841845404851
           ],
           "yaxis": "y"
          },
          {
           "hovertemplate": "Region=Stockholm<br>Vecka=%{x}<br>Andel vaccinerade=%{y}<extra></extra>",
           "legendgroup": "Stockholm",
           "marker": {
            "color": "#EF553B",
            "symbol": "circle"
           },
           "mode": "markers",
           "name": "Stockholm",
           "orientation": "v",
           "showlegend": true,
           "type": "scatter",
           "x": [
            25,
            25
           ],
           "xaxis": "x",
           "y": [
            0.5490440565253533,
            0.30231552233268044
           ],
           "yaxis": "y"
          },
          {
           "hovertemplate": "Region=Uppsala<br>Vecka=%{x}<br>Andel vaccinerade=%{y}<extra></extra>",
           "legendgroup": "Uppsala",
           "marker": {
            "color": "#00cc96",
            "symbol": "circle"
           },
           "mode": "markers",
           "name": "Uppsala",
           "orientation": "v",
           "showlegend": true,
           "type": "scatter",
           "x": [
            25,
            25
           ],
           "xaxis": "x",
           "y": [
            0.645083925345423,
            0.3346431176833411
           ],
           "yaxis": "y"
          },
          {
           "hovertemplate": "Region=Södermanland<br>Vecka=%{x}<br>Andel vaccinerade=%{y}<extra></extra>",
           "legendgroup": "Södermanland",
           "marker": {
            "color": "#ab63fa",
            "symbol": "circle"
           },
           "mode": "markers",
           "name": "Södermanland",
           "orientation": "v",
           "showlegend": true,
           "type": "scatter",
           "x": [
            25,
            25
           ],
           "xaxis": "x",
           "y": [
            0.6399237432744671,
            0.38679876878862846
           ],
           "yaxis": "y"
          },
          {
           "hovertemplate": "Region=Östergötland<br>Vecka=%{x}<br>Andel vaccinerade=%{y}<extra></extra>",
           "legendgroup": "Östergötland",
           "marker": {
            "color": "#FFA15A",
            "symbol": "circle"
           },
           "mode": "markers",
           "name": "Östergötland",
           "orientation": "v",
           "showlegend": true,
           "type": "scatter",
           "x": [
            25,
            25
           ],
           "xaxis": "x",
           "y": [
            0.5968889418567898,
            0.3967842726787537
           ],
           "yaxis": "y"
          },
          {
           "hovertemplate": "Region=Jönköping<br>Vecka=%{x}<br>Andel vaccinerade=%{y}<extra></extra>",
           "legendgroup": "Jönköping",
           "marker": {
            "color": "#19d3f3",
            "symbol": "circle"
           },
           "mode": "markers",
           "name": "Jönköping",
           "orientation": "v",
           "showlegend": true,
           "type": "scatter",
           "x": [
            25,
            25
           ],
           "xaxis": "x",
           "y": [
            0.5896557853748193,
            0.38101402952135954
           ],
           "yaxis": "y"
          },
          {
           "hovertemplate": "Region=Kronoberg<br>Vecka=%{x}<br>Andel vaccinerade=%{y}<extra></extra>",
           "legendgroup": "Kronoberg",
           "marker": {
            "color": "#FF6692",
            "symbol": "circle"
           },
           "mode": "markers",
           "name": "Kronoberg",
           "orientation": "v",
           "showlegend": true,
           "type": "scatter",
           "x": [
            25,
            25
           ],
           "xaxis": "x",
           "y": [
            0.550338493928889,
            0.3869236679553031
           ],
           "yaxis": "y"
          },
          {
           "hovertemplate": "Region=Kalmar<br>Vecka=%{x}<br>Andel vaccinerade=%{y}<extra></extra>",
           "legendgroup": "Kalmar",
           "marker": {
            "color": "#B6E880",
            "symbol": "circle"
           },
           "mode": "markers",
           "name": "Kalmar",
           "orientation": "v",
           "showlegend": true,
           "type": "scatter",
           "x": [
            25,
            25
           ],
           "xaxis": "x",
           "y": [
            0.625781246194241,
            0.44402550650084516
           ],
           "yaxis": "y"
          },
          {
           "hovertemplate": "Region=Gotland<br>Vecka=%{x}<br>Andel vaccinerade=%{y}<extra></extra>",
           "legendgroup": "Gotland",
           "marker": {
            "color": "#FF97FF",
            "symbol": "circle"
           },
           "mode": "markers",
           "name": "Gotland",
           "orientation": "v",
           "showlegend": true,
           "type": "scatter",
           "x": [
            25,
            25
           ],
           "xaxis": "x",
           "y": [
            0.5994534337337554,
            0.36376147690855826
           ],
           "yaxis": "y"
          },
          {
           "hovertemplate": "Region=Blekinge<br>Vecka=%{x}<br>Andel vaccinerade=%{y}<extra></extra>",
           "legendgroup": "Blekinge",
           "marker": {
            "color": "#FECB52",
            "symbol": "circle"
           },
           "mode": "markers",
           "name": "Blekinge",
           "orientation": "v",
           "showlegend": true,
           "type": "scatter",
           "x": [
            25,
            25
           ],
           "xaxis": "x",
           "y": [
            0.6395068811668164,
            0.37803009142175553
           ],
           "yaxis": "y"
          },
          {
           "hovertemplate": "Region=Skåne<br>Vecka=%{x}<br>Andel vaccinerade=%{y}<extra></extra>",
           "legendgroup": "Skåne",
           "marker": {
            "color": "#636efa",
            "symbol": "circle"
           },
           "mode": "markers",
           "name": "Skåne",
           "orientation": "v",
           "showlegend": true,
           "type": "scatter",
           "x": [
            25,
            25
           ],
           "xaxis": "x",
           "y": [
            0.5474022151973909,
            0.33124670619380736
           ],
           "yaxis": "y"
          },
          {
           "hovertemplate": "Region=Halland<br>Vecka=%{x}<br>Andel vaccinerade=%{y}<extra></extra>",
           "legendgroup": "Halland",
           "marker": {
            "color": "#EF553B",
            "symbol": "circle"
           },
           "mode": "markers",
           "name": "Halland",
           "orientation": "v",
           "showlegend": true,
           "type": "scatter",
           "x": [
            25,
            25
           ],
           "xaxis": "x",
           "y": [
            0.617745794663573,
            0.3669663573085847
           ],
           "yaxis": "y"
          },
          {
           "hovertemplate": "Region=Västra Götaland<br>Vecka=%{x}<br>Andel vaccinerade=%{y}<extra></extra>",
           "legendgroup": "Västra Götaland",
           "marker": {
            "color": "#00cc96",
            "symbol": "circle"
           },
           "mode": "markers",
           "name": "Västra Götaland",
           "orientation": "v",
           "showlegend": true,
           "type": "scatter",
           "x": [
            25,
            25
           ],
           "xaxis": "x",
           "y": [
            0.533870258737754,
            0.32573560087020553
           ],
           "yaxis": "y"
          },
          {
           "hovertemplate": "Region=Värmland<br>Vecka=%{x}<br>Andel vaccinerade=%{y}<extra></extra>",
           "legendgroup": "Värmland",
           "marker": {
            "color": "#ab63fa",
            "symbol": "circle"
           },
           "mode": "markers",
           "name": "Värmland",
           "orientation": "v",
           "showlegend": true,
           "type": "scatter",
           "x": [
            25,
            25
           ],
           "xaxis": "x",
           "y": [
            0.6397845146297666,
            0.46608218020492237
           ],
           "yaxis": "y"
          },
          {
           "hovertemplate": "Region=Örebro<br>Vecka=%{x}<br>Andel vaccinerade=%{y}<extra></extra>",
           "legendgroup": "Örebro",
           "marker": {
            "color": "#FFA15A",
            "symbol": "circle"
           },
           "mode": "markers",
           "name": "Örebro",
           "orientation": "v",
           "showlegend": true,
           "type": "scatter",
           "x": [
            25,
            25
           ],
           "xaxis": "x",
           "y": [
            0.6198091953383584,
            0.38662777991902125
           ],
           "yaxis": "y"
          },
          {
           "hovertemplate": "Region=Västmanland<br>Vecka=%{x}<br>Andel vaccinerade=%{y}<extra></extra>",
           "legendgroup": "Västmanland",
           "marker": {
            "color": "#19d3f3",
            "symbol": "circle"
           },
           "mode": "markers",
           "name": "Västmanland",
           "orientation": "v",
           "showlegend": true,
           "type": "scatter",
           "x": [
            25,
            25
           ],
           "xaxis": "x",
           "y": [
            0.5872807363231134,
            0.4111385509987827
           ],
           "yaxis": "y"
          },
          {
           "hovertemplate": "Region=Dalarna<br>Vecka=%{x}<br>Andel vaccinerade=%{y}<extra></extra>",
           "legendgroup": "Dalarna",
           "marker": {
            "color": "#FF6692",
            "symbol": "circle"
           },
           "mode": "markers",
           "name": "Dalarna",
           "orientation": "v",
           "showlegend": true,
           "type": "scatter",
           "x": [
            25,
            25
           ],
           "xaxis": "x",
           "y": [
            0.6412397455215135,
            0.4221789720408505
           ],
           "yaxis": "y"
          },
          {
           "hovertemplate": "Region=Gävleborg<br>Vecka=%{x}<br>Andel vaccinerade=%{y}<extra></extra>",
           "legendgroup": "Gävleborg",
           "marker": {
            "color": "#B6E880",
            "symbol": "circle"
           },
           "mode": "markers",
           "name": "Gävleborg",
           "orientation": "v",
           "showlegend": true,
           "type": "scatter",
           "x": [
            25,
            25
           ],
           "xaxis": "x",
           "y": [
            0.655855420079062,
            0.3836129968475306
           ],
           "yaxis": "y"
          },
          {
           "hovertemplate": "Region=Västernorrland<br>Vecka=%{x}<br>Andel vaccinerade=%{y}<extra></extra>",
           "legendgroup": "Västernorrland",
           "marker": {
            "color": "#FF97FF",
            "symbol": "circle"
           },
           "mode": "markers",
           "name": "Västernorrland",
           "orientation": "v",
           "showlegend": true,
           "type": "scatter",
           "x": [
            25,
            25
           ],
           "xaxis": "x",
           "y": [
            0.589408646143142,
            0.4376724108363426
           ],
           "yaxis": "y"
          },
          {
           "hovertemplate": "Region=Jämtland<br>Vecka=%{x}<br>Andel vaccinerade=%{y}<extra></extra>",
           "legendgroup": "Jämtland",
           "marker": {
            "color": "#FECB52",
            "symbol": "circle"
           },
           "mode": "markers",
           "name": "Jämtland",
           "orientation": "v",
           "showlegend": true,
           "type": "scatter",
           "x": [
            25,
            25
           ],
           "xaxis": "x",
           "y": [
            0.6097124448156545,
            0.38700173469294097
           ],
           "yaxis": "y"
          },
          {
           "hovertemplate": "Region=Västerbotten<br>Vecka=%{x}<br>Andel vaccinerade=%{y}<extra></extra>",
           "legendgroup": "Västerbotten",
           "marker": {
            "color": "#636efa",
            "symbol": "circle"
           },
           "mode": "markers",
           "name": "Västerbotten",
           "orientation": "v",
           "showlegend": true,
           "type": "scatter",
           "x": [
            25,
            25
           ],
           "xaxis": "x",
           "y": [
            0.5804221972748684,
            0.3853529683682229
           ],
           "yaxis": "y"
          },
          {
           "hovertemplate": "Region=Norrbotten<br>Vecka=%{x}<br>Andel vaccinerade=%{y}<extra></extra>",
           "legendgroup": "Norrbotten",
           "marker": {
            "color": "#EF553B",
            "symbol": "circle"
           },
           "mode": "markers",
           "name": "Norrbotten",
           "orientation": "v",
           "showlegend": true,
           "type": "scatter",
           "x": [
            25,
            25
           ],
           "xaxis": "x",
           "y": [
            0.5897152925462632,
            0.40722970316725793
           ],
           "yaxis": "y"
          }
         ],
         "name": "25"
        },
        {
         "data": [
          {
           "hovertemplate": "Region=| Sverige |<br>Vecka=%{x}<br>Andel vaccinerade=%{y}<extra></extra>",
           "legendgroup": "| Sverige |",
           "marker": {
            "color": "#636efa",
            "symbol": "circle"
           },
           "mode": "markers",
           "name": "| Sverige |",
           "orientation": "v",
           "showlegend": true,
           "type": "scatter",
           "x": [
            26,
            26
           ],
           "xaxis": "x",
           "y": [
            0.624740955830108,
            0.3916288912821722
           ],
           "yaxis": "y"
          },
          {
           "hovertemplate": "Region=Stockholm<br>Vecka=%{x}<br>Andel vaccinerade=%{y}<extra></extra>",
           "legendgroup": "Stockholm",
           "marker": {
            "color": "#EF553B",
            "symbol": "circle"
           },
           "mode": "markers",
           "name": "Stockholm",
           "orientation": "v",
           "showlegend": true,
           "type": "scatter",
           "x": [
            26,
            26
           ],
           "xaxis": "x",
           "y": [
            0.5830496713415803,
            0.34409198950834996
           ],
           "yaxis": "y"
          },
          {
           "hovertemplate": "Region=Uppsala<br>Vecka=%{x}<br>Andel vaccinerade=%{y}<extra></extra>",
           "legendgroup": "Uppsala",
           "marker": {
            "color": "#00cc96",
            "symbol": "circle"
           },
           "mode": "markers",
           "name": "Uppsala",
           "orientation": "v",
           "showlegend": true,
           "type": "scatter",
           "x": [
            26,
            26
           ],
           "xaxis": "x",
           "y": [
            0.7074714065205344,
            0.3664348713645657
           ],
           "yaxis": "y"
          },
          {
           "hovertemplate": "Region=Södermanland<br>Vecka=%{x}<br>Andel vaccinerade=%{y}<extra></extra>",
           "legendgroup": "Södermanland",
           "marker": {
            "color": "#ab63fa",
            "symbol": "circle"
           },
           "mode": "markers",
           "name": "Södermanland",
           "orientation": "v",
           "showlegend": true,
           "type": "scatter",
           "x": [
            26,
            26
           ],
           "xaxis": "x",
           "y": [
            0.6755660061560569,
            0.40821025301883557
           ],
           "yaxis": "y"
          },
          {
           "hovertemplate": "Region=Östergötland<br>Vecka=%{x}<br>Andel vaccinerade=%{y}<extra></extra>",
           "legendgroup": "Östergötland",
           "marker": {
            "color": "#FFA15A",
            "symbol": "circle"
           },
           "mode": "markers",
           "name": "Östergötland",
           "orientation": "v",
           "showlegend": true,
           "type": "scatter",
           "x": [
            26,
            26
           ],
           "xaxis": "x",
           "y": [
            0.6608019109897455,
            0.41503401748286173
           ],
           "yaxis": "y"
          },
          {
           "hovertemplate": "Region=Jönköping<br>Vecka=%{x}<br>Andel vaccinerade=%{y}<extra></extra>",
           "legendgroup": "Jönköping",
           "marker": {
            "color": "#19d3f3",
            "symbol": "circle"
           },
           "mode": "markers",
           "name": "Jönköping",
           "orientation": "v",
           "showlegend": true,
           "type": "scatter",
           "x": [
            26,
            26
           ],
           "xaxis": "x",
           "y": [
            0.6520356724812767,
            0.3979178754817093
           ],
           "yaxis": "y"
          },
          {
           "hovertemplate": "Region=Kronoberg<br>Vecka=%{x}<br>Andel vaccinerade=%{y}<extra></extra>",
           "legendgroup": "Kronoberg",
           "marker": {
            "color": "#FF6692",
            "symbol": "circle"
           },
           "mode": "markers",
           "name": "Kronoberg",
           "orientation": "v",
           "showlegend": true,
           "type": "scatter",
           "x": [
            26,
            26
           ],
           "xaxis": "x",
           "y": [
            0.5807575730076048,
            0.41348893769170736
           ],
           "yaxis": "y"
          },
          {
           "hovertemplate": "Region=Kalmar<br>Vecka=%{x}<br>Andel vaccinerade=%{y}<extra></extra>",
           "legendgroup": "Kalmar",
           "marker": {
            "color": "#B6E880",
            "symbol": "circle"
           },
           "mode": "markers",
           "name": "Kalmar",
           "orientation": "v",
           "showlegend": true,
           "type": "scatter",
           "x": [
            26,
            26
           ],
           "xaxis": "x",
           "y": [
            0.6863518786443947,
            0.47892401147695113
           ],
           "yaxis": "y"
          },
          {
           "hovertemplate": "Region=Gotland<br>Vecka=%{x}<br>Andel vaccinerade=%{y}<extra></extra>",
           "legendgroup": "Gotland",
           "marker": {
            "color": "#FF97FF",
            "symbol": "circle"
           },
           "mode": "markers",
           "name": "Gotland",
           "orientation": "v",
           "showlegend": true,
           "type": "scatter",
           "x": [
            26,
            26
           ],
           "xaxis": "x",
           "y": [
            0.662505160922478,
            0.405913925643395
           ],
           "yaxis": "y"
          },
          {
           "hovertemplate": "Region=Blekinge<br>Vecka=%{x}<br>Andel vaccinerade=%{y}<extra></extra>",
           "legendgroup": "Blekinge",
           "marker": {
            "color": "#FECB52",
            "symbol": "circle"
           },
           "mode": "markers",
           "name": "Blekinge",
           "orientation": "v",
           "showlegend": true,
           "type": "scatter",
           "x": [
            26,
            26
           ],
           "xaxis": "x",
           "y": [
            0.6806730936185954,
            0.43147142975774366
           ],
           "yaxis": "y"
          },
          {
           "hovertemplate": "Region=Skåne<br>Vecka=%{x}<br>Andel vaccinerade=%{y}<extra></extra>",
           "legendgroup": "Skåne",
           "marker": {
            "color": "#636efa",
            "symbol": "circle"
           },
           "mode": "markers",
           "name": "Skåne",
           "orientation": "v",
           "showlegend": true,
           "type": "scatter",
           "x": [
            26,
            26
           ],
           "xaxis": "x",
           "y": [
            0.5956380548001369,
            0.38344523109652184
           ],
           "yaxis": "y"
          },
          {
           "hovertemplate": "Region=Halland<br>Vecka=%{x}<br>Andel vaccinerade=%{y}<extra></extra>",
           "legendgroup": "Halland",
           "marker": {
            "color": "#EF553B",
            "symbol": "circle"
           },
           "mode": "markers",
           "name": "Halland",
           "orientation": "v",
           "showlegend": true,
           "type": "scatter",
           "x": [
            26,
            26
           ],
           "xaxis": "x",
           "y": [
            0.6759316995359629,
            0.4011963457076566
           ],
           "yaxis": "y"
          },
          {
           "hovertemplate": "Region=Västra Götaland<br>Vecka=%{x}<br>Andel vaccinerade=%{y}<extra></extra>",
           "legendgroup": "Västra Götaland",
           "marker": {
            "color": "#00cc96",
            "symbol": "circle"
           },
           "mode": "markers",
           "name": "Västra Götaland",
           "orientation": "v",
           "showlegend": true,
           "type": "scatter",
           "x": [
            26,
            26
           ],
           "xaxis": "x",
           "y": [
            0.5812842811424668,
            0.37053592677729963
           ],
           "yaxis": "y"
          },
          {
           "hovertemplate": "Region=Värmland<br>Vecka=%{x}<br>Andel vaccinerade=%{y}<extra></extra>",
           "legendgroup": "Värmland",
           "marker": {
            "color": "#ab63fa",
            "symbol": "circle"
           },
           "mode": "markers",
           "name": "Värmland",
           "orientation": "v",
           "showlegend": true,
           "type": "scatter",
           "x": [
            26,
            26
           ],
           "xaxis": "x",
           "y": [
            0.7291855920566177,
            0.4752128446181472
           ],
           "yaxis": "y"
          },
          {
           "hovertemplate": "Region=Örebro<br>Vecka=%{x}<br>Andel vaccinerade=%{y}<extra></extra>",
           "legendgroup": "Örebro",
           "marker": {
            "color": "#FFA15A",
            "symbol": "circle"
           },
           "mode": "markers",
           "name": "Örebro",
           "orientation": "v",
           "showlegend": true,
           "type": "scatter",
           "x": [
            26,
            26
           ],
           "xaxis": "x",
           "y": [
            0.6796015432846851,
            0.4191702659424407
           ],
           "yaxis": "y"
          },
          {
           "hovertemplate": "Region=Västmanland<br>Vecka=%{x}<br>Andel vaccinerade=%{y}<extra></extra>",
           "legendgroup": "Västmanland",
           "marker": {
            "color": "#19d3f3",
            "symbol": "circle"
           },
           "mode": "markers",
           "name": "Västmanland",
           "orientation": "v",
           "showlegend": true,
           "type": "scatter",
           "x": [
            26,
            26
           ],
           "xaxis": "x",
           "y": [
            0.6377715892073668,
            0.4424506738827733
           ],
           "yaxis": "y"
          },
          {
           "hovertemplate": "Region=Dalarna<br>Vecka=%{x}<br>Andel vaccinerade=%{y}<extra></extra>",
           "legendgroup": "Dalarna",
           "marker": {
            "color": "#FF6692",
            "symbol": "circle"
           },
           "mode": "markers",
           "name": "Dalarna",
           "orientation": "v",
           "showlegend": true,
           "type": "scatter",
           "x": [
            26,
            26
           ],
           "xaxis": "x",
           "y": [
            0.6931399631675875,
            0.45246107483676545
           ],
           "yaxis": "y"
          },
          {
           "hovertemplate": "Region=Gävleborg<br>Vecka=%{x}<br>Andel vaccinerade=%{y}<extra></extra>",
           "legendgroup": "Gävleborg",
           "marker": {
            "color": "#B6E880",
            "symbol": "circle"
           },
           "mode": "markers",
           "name": "Gävleborg",
           "orientation": "v",
           "showlegend": true,
           "type": "scatter",
           "x": [
            26,
            26
           ],
           "xaxis": "x",
           "y": [
            0.6901572898770704,
            0.43095007756075593
           ],
           "yaxis": "y"
          },
          {
           "hovertemplate": "Region=Västernorrland<br>Vecka=%{x}<br>Andel vaccinerade=%{y}<extra></extra>",
           "legendgroup": "Västernorrland",
           "marker": {
            "color": "#FF97FF",
            "symbol": "circle"
           },
           "mode": "markers",
           "name": "Västernorrland",
           "orientation": "v",
           "showlegend": true,
           "type": "scatter",
           "x": [
            26,
            26
           ],
           "xaxis": "x",
           "y": [
            0.6648651826881146,
            0.45255792759112357
           ],
           "yaxis": "y"
          },
          {
           "hovertemplate": "Region=Jämtland<br>Vecka=%{x}<br>Andel vaccinerade=%{y}<extra></extra>",
           "legendgroup": "Jämtland",
           "marker": {
            "color": "#FECB52",
            "symbol": "circle"
           },
           "mode": "markers",
           "name": "Jämtland",
           "orientation": "v",
           "showlegend": true,
           "type": "scatter",
           "x": [
            26,
            26
           ],
           "xaxis": "x",
           "y": [
            0.647389241232458,
            0.4287353262415904
           ],
           "yaxis": "y"
          },
          {
           "hovertemplate": "Region=Västerbotten<br>Vecka=%{x}<br>Andel vaccinerade=%{y}<extra></extra>",
           "legendgroup": "Västerbotten",
           "marker": {
            "color": "#636efa",
            "symbol": "circle"
           },
           "mode": "markers",
           "name": "Västerbotten",
           "orientation": "v",
           "showlegend": true,
           "type": "scatter",
           "x": [
            26,
            26
           ],
           "xaxis": "x",
           "y": [
            0.6216777829139977,
            0.4227960113583834
           ],
           "yaxis": "y"
          },
          {
           "hovertemplate": "Region=Norrbotten<br>Vecka=%{x}<br>Andel vaccinerade=%{y}<extra></extra>",
           "legendgroup": "Norrbotten",
           "marker": {
            "color": "#EF553B",
            "symbol": "circle"
           },
           "mode": "markers",
           "name": "Norrbotten",
           "orientation": "v",
           "showlegend": true,
           "type": "scatter",
           "x": [
            26,
            26
           ],
           "xaxis": "x",
           "y": [
            0.6401915416641011,
            0.435444680740211
           ],
           "yaxis": "y"
          }
         ],
         "name": "26"
        },
        {
         "data": [
          {
           "hovertemplate": "Region=| Sverige |<br>Vecka=%{x}<br>Andel vaccinerade=%{y}<extra></extra>",
           "legendgroup": "| Sverige |",
           "marker": {
            "color": "#636efa",
            "symbol": "circle"
           },
           "mode": "markers",
           "name": "| Sverige |",
           "orientation": "v",
           "showlegend": true,
           "type": "scatter",
           "x": [
            27,
            27
           ],
           "xaxis": "x",
           "y": [
            0.6699892302250999,
            0.4161869986022356
           ],
           "yaxis": "y"
          },
          {
           "hovertemplate": "Region=Stockholm<br>Vecka=%{x}<br>Andel vaccinerade=%{y}<extra></extra>",
           "legendgroup": "Stockholm",
           "marker": {
            "color": "#EF553B",
            "symbol": "circle"
           },
           "mode": "markers",
           "name": "Stockholm",
           "orientation": "v",
           "showlegend": true,
           "type": "scatter",
           "x": [
            27,
            27
           ],
           "xaxis": "x",
           "y": [
            0.6141863795095082,
            0.3785342439216386
           ],
           "yaxis": "y"
          },
          {
           "hovertemplate": "Region=Uppsala<br>Vecka=%{x}<br>Andel vaccinerade=%{y}<extra></extra>",
           "legendgroup": "Uppsala",
           "marker": {
            "color": "#00cc96",
            "symbol": "circle"
           },
           "mode": "markers",
           "name": "Uppsala",
           "orientation": "v",
           "showlegend": true,
           "type": "scatter",
           "x": [
            27,
            27
           ],
           "xaxis": "x",
           "y": [
            0.7282609716616937,
            0.40916932537234924
           ],
           "yaxis": "y"
          },
          {
           "hovertemplate": "Region=Södermanland<br>Vecka=%{x}<br>Andel vaccinerade=%{y}<extra></extra>",
           "legendgroup": "Södermanland",
           "marker": {
            "color": "#ab63fa",
            "symbol": "circle"
           },
           "mode": "markers",
           "name": "Södermanland",
           "orientation": "v",
           "showlegend": true,
           "type": "scatter",
           "x": [
            27,
            27
           ],
           "xaxis": "x",
           "y": [
            0.7054849323568554,
            0.4305075889321609
           ],
           "yaxis": "y"
          },
          {
           "hovertemplate": "Region=Östergötland<br>Vecka=%{x}<br>Andel vaccinerade=%{y}<extra></extra>",
           "legendgroup": "Östergötland",
           "marker": {
            "color": "#FFA15A",
            "symbol": "circle"
           },
           "mode": "markers",
           "name": "Östergötland",
           "orientation": "v",
           "showlegend": true,
           "type": "scatter",
           "x": [
            27,
            27
           ],
           "xaxis": "x",
           "y": [
            0.7160926270409195,
            0.4187155744627932
           ],
           "yaxis": "y"
          },
          {
           "hovertemplate": "Region=Jönköping<br>Vecka=%{x}<br>Andel vaccinerade=%{y}<extra></extra>",
           "legendgroup": "Jönköping",
           "marker": {
            "color": "#19d3f3",
            "symbol": "circle"
           },
           "mode": "markers",
           "name": "Jönköping",
           "orientation": "v",
           "showlegend": true,
           "type": "scatter",
           "x": [
            27,
            27
           ],
           "xaxis": "x",
           "y": [
            0.6963244196849311,
            0.4084089925777359
           ],
           "yaxis": "y"
          },
          {
           "hovertemplate": "Region=Kronoberg<br>Vecka=%{x}<br>Andel vaccinerade=%{y}<extra></extra>",
           "legendgroup": "Kronoberg",
           "marker": {
            "color": "#FF6692",
            "symbol": "circle"
           },
           "mode": "markers",
           "name": "Kronoberg",
           "orientation": "v",
           "showlegend": true,
           "type": "scatter",
           "x": [
            27,
            27
           ],
           "xaxis": "x",
           "y": [
            0.6340938103103012,
            0.4251169150165466
           ],
           "yaxis": "y"
          },
          {
           "hovertemplate": "Region=Kalmar<br>Vecka=%{x}<br>Andel vaccinerade=%{y}<extra></extra>",
           "legendgroup": "Kalmar",
           "marker": {
            "color": "#B6E880",
            "symbol": "circle"
           },
           "mode": "markers",
           "name": "Kalmar",
           "orientation": "v",
           "showlegend": true,
           "type": "scatter",
           "x": [
            27,
            27
           ],
           "xaxis": "x",
           "y": [
            0.7281336314612653,
            0.4966850317369849
           ],
           "yaxis": "y"
          },
          {
           "hovertemplate": "Region=Gotland<br>Vecka=%{x}<br>Andel vaccinerade=%{y}<extra></extra>",
           "legendgroup": "Gotland",
           "marker": {
            "color": "#FF97FF",
            "symbol": "circle"
           },
           "mode": "markers",
           "name": "Gotland",
           "orientation": "v",
           "showlegend": true,
           "type": "scatter",
           "x": [
            27,
            27
           ],
           "xaxis": "x",
           "y": [
            0.7257338340247331,
            0.42284175137133084
           ],
           "yaxis": "y"
          },
          {
           "hovertemplate": "Region=Blekinge<br>Vecka=%{x}<br>Andel vaccinerade=%{y}<extra></extra>",
           "legendgroup": "Blekinge",
           "marker": {
            "color": "#FECB52",
            "symbol": "circle"
           },
           "mode": "markers",
           "name": "Blekinge",
           "orientation": "v",
           "showlegend": true,
           "type": "scatter",
           "x": [
            27,
            27
           ],
           "xaxis": "x",
           "y": [
            0.7158225315748549,
            0.47780889757894657
           ],
           "yaxis": "y"
          },
          {
           "hovertemplate": "Region=Skåne<br>Vecka=%{x}<br>Andel vaccinerade=%{y}<extra></extra>",
           "legendgroup": "Skåne",
           "marker": {
            "color": "#636efa",
            "symbol": "circle"
           },
           "mode": "markers",
           "name": "Skåne",
           "orientation": "v",
           "showlegend": true,
           "type": "scatter",
           "x": [
            27,
            27
           ],
           "xaxis": "x",
           "y": [
            0.6482984824076656,
            0.4110344597014085
           ],
           "yaxis": "y"
          },
          {
           "hovertemplate": "Region=Halland<br>Vecka=%{x}<br>Andel vaccinerade=%{y}<extra></extra>",
           "legendgroup": "Halland",
           "marker": {
            "color": "#EF553B",
            "symbol": "circle"
           },
           "mode": "markers",
           "name": "Halland",
           "orientation": "v",
           "showlegend": true,
           "type": "scatter",
           "x": [
            27,
            27
           ],
           "xaxis": "x",
           "y": [
            0.7308584686774942,
            0.4068300464037123
           ],
           "yaxis": "y"
          },
          {
           "hovertemplate": "Region=Västra Götaland<br>Vecka=%{x}<br>Andel vaccinerade=%{y}<extra></extra>",
           "legendgroup": "Västra Götaland",
           "marker": {
            "color": "#00cc96",
            "symbol": "circle"
           },
           "mode": "markers",
           "name": "Västra Götaland",
           "orientation": "v",
           "showlegend": true,
           "type": "scatter",
           "x": [
            27,
            27
           ],
           "xaxis": "x",
           "y": [
            0.6353060418807415,
            0.39805393706409226
           ],
           "yaxis": "y"
          },
          {
           "hovertemplate": "Region=Värmland<br>Vecka=%{x}<br>Andel vaccinerade=%{y}<extra></extra>",
           "legendgroup": "Värmland",
           "marker": {
            "color": "#ab63fa",
            "symbol": "circle"
           },
           "mode": "markers",
           "name": "Värmland",
           "orientation": "v",
           "showlegend": true,
           "type": "scatter",
           "x": [
            27,
            27
           ],
           "xaxis": "x",
           "y": [
            0.789128551811556,
            0.47668744058307805
           ],
           "yaxis": "y"
          },
          {
           "hovertemplate": "Region=Örebro<br>Vecka=%{x}<br>Andel vaccinerade=%{y}<extra></extra>",
           "legendgroup": "Örebro",
           "marker": {
            "color": "#FFA15A",
            "symbol": "circle"
           },
           "mode": "markers",
           "name": "Örebro",
           "orientation": "v",
           "showlegend": true,
           "type": "scatter",
           "x": [
            27,
            27
           ],
           "xaxis": "x",
           "y": [
            0.7361078550965348,
            0.44333276380671593
           ],
           "yaxis": "y"
          },
          {
           "hovertemplate": "Region=Västmanland<br>Vecka=%{x}<br>Andel vaccinerade=%{y}<extra></extra>",
           "legendgroup": "Västmanland",
           "marker": {
            "color": "#19d3f3",
            "symbol": "circle"
           },
           "mode": "markers",
           "name": "Västmanland",
           "orientation": "v",
           "showlegend": true,
           "type": "scatter",
           "x": [
            27,
            27
           ],
           "xaxis": "x",
           "y": [
            0.6936394924204609,
            0.4535550709788158
           ],
           "yaxis": "y"
          },
          {
           "hovertemplate": "Region=Dalarna<br>Vecka=%{x}<br>Andel vaccinerade=%{y}<extra></extra>",
           "legendgroup": "Dalarna",
           "marker": {
            "color": "#FF6692",
            "symbol": "circle"
           },
           "mode": "markers",
           "name": "Dalarna",
           "orientation": "v",
           "showlegend": true,
           "type": "scatter",
           "x": [
            27,
            27
           ],
           "xaxis": "x",
           "y": [
            0.731885149840951,
            0.4866273229532898
           ],
           "yaxis": "y"
          },
          {
           "hovertemplate": "Region=Gävleborg<br>Vecka=%{x}<br>Andel vaccinerade=%{y}<extra></extra>",
           "legendgroup": "Gävleborg",
           "marker": {
            "color": "#B6E880",
            "symbol": "circle"
           },
           "mode": "markers",
           "name": "Gävleborg",
           "orientation": "v",
           "showlegend": true,
           "type": "scatter",
           "x": [
            27,
            27
           ],
           "xaxis": "x",
           "y": [
            0.7270194986072424,
            0.4582631394592431
           ],
           "yaxis": "y"
          },
          {
           "hovertemplate": "Region=Västernorrland<br>Vecka=%{x}<br>Andel vaccinerade=%{y}<extra></extra>",
           "legendgroup": "Västernorrland",
           "marker": {
            "color": "#FF97FF",
            "symbol": "circle"
           },
           "mode": "markers",
           "name": "Västernorrland",
           "orientation": "v",
           "showlegend": true,
           "type": "scatter",
           "x": [
            27,
            27
           ],
           "xaxis": "x",
           "y": [
            0.7229520165024426,
            0.462381976667271
           ],
           "yaxis": "y"
          },
          {
           "hovertemplate": "Region=Jämtland<br>Vecka=%{x}<br>Andel vaccinerade=%{y}<extra></extra>",
           "legendgroup": "Jämtland",
           "marker": {
            "color": "#FECB52",
            "symbol": "circle"
           },
           "mode": "markers",
           "name": "Jämtland",
           "orientation": "v",
           "showlegend": true,
           "type": "scatter",
           "x": [
            27,
            27
           ],
           "xaxis": "x",
           "y": [
            0.7061944141051646,
            0.44048351123879104
           ],
           "yaxis": "y"
          },
          {
           "hovertemplate": "Region=Västerbotten<br>Vecka=%{x}<br>Andel vaccinerade=%{y}<extra></extra>",
           "legendgroup": "Västerbotten",
           "marker": {
            "color": "#636efa",
            "symbol": "circle"
           },
           "mode": "markers",
           "name": "Västerbotten",
           "orientation": "v",
           "showlegend": true,
           "type": "scatter",
           "x": [
            27,
            27
           ],
           "xaxis": "x",
           "y": [
            0.6716458649761166,
            0.44816747011820646
           ],
           "yaxis": "y"
          },
          {
           "hovertemplate": "Region=Norrbotten<br>Vecka=%{x}<br>Andel vaccinerade=%{y}<extra></extra>",
           "legendgroup": "Norrbotten",
           "marker": {
            "color": "#EF553B",
            "symbol": "circle"
           },
           "mode": "markers",
           "name": "Norrbotten",
           "orientation": "v",
           "showlegend": true,
           "type": "scatter",
           "x": [
            27,
            27
           ],
           "xaxis": "x",
           "y": [
            0.6917903272406917,
            0.44197149609954106
           ],
           "yaxis": "y"
          }
         ],
         "name": "27"
        },
        {
         "data": [
          {
           "hovertemplate": "Region=| Sverige |<br>Vecka=%{x}<br>Andel vaccinerade=%{y}<extra></extra>",
           "legendgroup": "| Sverige |",
           "marker": {
            "color": "#636efa",
            "symbol": "circle"
           },
           "mode": "markers",
           "name": "| Sverige |",
           "orientation": "v",
           "showlegend": true,
           "type": "scatter",
           "x": [
            28,
            28
           ],
           "xaxis": "x",
           "y": [
            0.7109726784426664,
            0.43486440374561974
           ],
           "yaxis": "y"
          },
          {
           "hovertemplate": "Region=Stockholm<br>Vecka=%{x}<br>Andel vaccinerade=%{y}<extra></extra>",
           "legendgroup": "Stockholm",
           "marker": {
            "color": "#EF553B",
            "symbol": "circle"
           },
           "mode": "markers",
           "name": "Stockholm",
           "orientation": "v",
           "showlegend": true,
           "type": "scatter",
           "x": [
            28,
            28
           ],
           "xaxis": "x",
           "y": [
            0.6582480297406914,
            0.3981768759359308
           ],
           "yaxis": "y"
          },
          {
           "hovertemplate": "Region=Uppsala<br>Vecka=%{x}<br>Andel vaccinerade=%{y}<extra></extra>",
           "legendgroup": "Uppsala",
           "marker": {
            "color": "#00cc96",
            "symbol": "circle"
           },
           "mode": "markers",
           "name": "Uppsala",
           "orientation": "v",
           "showlegend": true,
           "type": "scatter",
           "x": [
            28,
            28
           ],
           "xaxis": "x",
           "y": [
            0.7610671559311314,
            0.46946219524031674
           ],
           "yaxis": "y"
          },
          {
           "hovertemplate": "Region=Södermanland<br>Vecka=%{x}<br>Andel vaccinerade=%{y}<extra></extra>",
           "legendgroup": "Södermanland",
           "marker": {
            "color": "#ab63fa",
            "symbol": "circle"
           },
           "mode": "markers",
           "name": "Södermanland",
           "orientation": "v",
           "showlegend": true,
           "type": "scatter",
           "x": [
            28,
            28
           ],
           "xaxis": "x",
           "y": [
            0.7356855348992904,
            0.4552502020721581
           ],
           "yaxis": "y"
          },
          {
           "hovertemplate": "Region=Östergötland<br>Vecka=%{x}<br>Andel vaccinerade=%{y}<extra></extra>",
           "legendgroup": "Östergötland",
           "marker": {
            "color": "#FFA15A",
            "symbol": "circle"
           },
           "mode": "markers",
           "name": "Östergötland",
           "orientation": "v",
           "showlegend": true,
           "type": "scatter",
           "x": [
            28,
            28
           ],
           "xaxis": "x",
           "y": [
            0.755475700687604,
            0.438455041479048
           ],
           "yaxis": "y"
          },
          {
           "hovertemplate": "Region=Jönköping<br>Vecka=%{x}<br>Andel vaccinerade=%{y}<extra></extra>",
           "legendgroup": "Jönköping",
           "marker": {
            "color": "#19d3f3",
            "symbol": "circle"
           },
           "mode": "markers",
           "name": "Jönköping",
           "orientation": "v",
           "showlegend": true,
           "type": "scatter",
           "x": [
            28,
            28
           ],
           "xaxis": "x",
           "y": [
            0.7125809556710055,
            0.43888622437172364
           ],
           "yaxis": "y"
          },
          {
           "hovertemplate": "Region=Kronoberg<br>Vecka=%{x}<br>Andel vaccinerade=%{y}<extra></extra>",
           "legendgroup": "Kronoberg",
           "marker": {
            "color": "#FF6692",
            "symbol": "circle"
           },
           "mode": "markers",
           "name": "Kronoberg",
           "orientation": "v",
           "showlegend": true,
           "type": "scatter",
           "x": [
            28,
            28
           ],
           "xaxis": "x",
           "y": [
            0.6834431396748765,
            0.4289828242312044
           ],
           "yaxis": "y"
          },
          {
           "hovertemplate": "Region=Kalmar<br>Vecka=%{x}<br>Andel vaccinerade=%{y}<extra></extra>",
           "legendgroup": "Kalmar",
           "marker": {
            "color": "#B6E880",
            "symbol": "circle"
           },
           "mode": "markers",
           "name": "Kalmar",
           "orientation": "v",
           "showlegend": true,
           "type": "scatter",
           "x": [
            28,
            28
           ],
           "xaxis": "x",
           "y": [
            0.7713183392520496,
            0.49877972145498123
           ],
           "yaxis": "y"
          },
          {
           "hovertemplate": "Region=Gotland<br>Vecka=%{x}<br>Andel vaccinerade=%{y}<extra></extra>",
           "legendgroup": "Gotland",
           "marker": {
            "color": "#FF97FF",
            "symbol": "circle"
           },
           "mode": "markers",
           "name": "Gotland",
           "orientation": "v",
           "showlegend": true,
           "type": "scatter",
           "x": [
            28,
            28
           ],
           "xaxis": "x",
           "y": [
            0.7517448833140004,
            0.4544167666083401
           ],
           "yaxis": "y"
          },
          {
           "hovertemplate": "Region=Blekinge<br>Vecka=%{x}<br>Andel vaccinerade=%{y}<extra></extra>",
           "legendgroup": "Blekinge",
           "marker": {
            "color": "#FECB52",
            "symbol": "circle"
           },
           "mode": "markers",
           "name": "Blekinge",
           "orientation": "v",
           "showlegend": true,
           "type": "scatter",
           "x": [
            28,
            28
           ],
           "xaxis": "x",
           "y": [
            0.7475596959150858,
            0.4858639771105894
           ],
           "yaxis": "y"
          },
          {
           "hovertemplate": "Region=Skåne<br>Vecka=%{x}<br>Andel vaccinerade=%{y}<extra></extra>",
           "legendgroup": "Skåne",
           "marker": {
            "color": "#636efa",
            "symbol": "circle"
           },
           "mode": "markers",
           "name": "Skåne",
           "orientation": "v",
           "showlegend": true,
           "type": "scatter",
           "x": [
            28,
            28
           ],
           "xaxis": "x",
           "y": [
            0.6917938805370036,
            0.4318711106692486
           ],
           "yaxis": "y"
          },
          {
           "hovertemplate": "Region=Halland<br>Vecka=%{x}<br>Andel vaccinerade=%{y}<extra></extra>",
           "legendgroup": "Halland",
           "marker": {
            "color": "#EF553B",
            "symbol": "circle"
           },
           "mode": "markers",
           "name": "Halland",
           "orientation": "v",
           "showlegend": true,
           "type": "scatter",
           "x": [
            28,
            28
           ],
           "xaxis": "x",
           "y": [
            0.7585629350348028,
            0.4292488399071926
           ],
           "yaxis": "y"
          },
          {
           "hovertemplate": "Region=Västra Götaland<br>Vecka=%{x}<br>Andel vaccinerade=%{y}<extra></extra>",
           "legendgroup": "Västra Götaland",
           "marker": {
            "color": "#00cc96",
            "symbol": "circle"
           },
           "mode": "markers",
           "name": "Västra Götaland",
           "orientation": "v",
           "showlegend": true,
           "type": "scatter",
           "x": [
            28,
            28
           ],
           "xaxis": "x",
           "y": [
            0.6835383318820575,
            0.40987996875323734
           ],
           "yaxis": "y"
          },
          {
           "hovertemplate": "Region=Värmland<br>Vecka=%{x}<br>Andel vaccinerade=%{y}<extra></extra>",
           "legendgroup": "Värmland",
           "marker": {
            "color": "#ab63fa",
            "symbol": "circle"
           },
           "mode": "markers",
           "name": "Värmland",
           "orientation": "v",
           "showlegend": true,
           "type": "scatter",
           "x": [
            28,
            28
           ],
           "xaxis": "x",
           "y": [
            0.8198415548748283,
            0.4940995035386078
           ],
           "yaxis": "y"
          },
          {
           "hovertemplate": "Region=Örebro<br>Vecka=%{x}<br>Andel vaccinerade=%{y}<extra></extra>",
           "legendgroup": "Örebro",
           "marker": {
            "color": "#FFA15A",
            "symbol": "circle"
           },
           "mode": "markers",
           "name": "Örebro",
           "orientation": "v",
           "showlegend": true,
           "type": "scatter",
           "x": [
            28,
            28
           ],
           "xaxis": "x",
           "y": [
            0.760627962697331,
            0.47154419857671326
           ],
           "yaxis": "y"
          },
          {
           "hovertemplate": "Region=Västmanland<br>Vecka=%{x}<br>Andel vaccinerade=%{y}<extra></extra>",
           "legendgroup": "Västmanland",
           "marker": {
            "color": "#19d3f3",
            "symbol": "circle"
           },
           "mode": "markers",
           "name": "Västmanland",
           "orientation": "v",
           "showlegend": true,
           "type": "scatter",
           "x": [
            28,
            28
           ],
           "xaxis": "x",
           "y": [
            0.7366340015237895,
            0.4642478697597842
           ],
           "yaxis": "y"
          },
          {
           "hovertemplate": "Region=Dalarna<br>Vecka=%{x}<br>Andel vaccinerade=%{y}<extra></extra>",
           "legendgroup": "Dalarna",
           "marker": {
            "color": "#FF6692",
            "symbol": "circle"
           },
           "mode": "markers",
           "name": "Dalarna",
           "orientation": "v",
           "showlegend": true,
           "type": "scatter",
           "x": [
            28,
            28
           ],
           "xaxis": "x",
           "y": [
            0.7645153189352084,
            0.5092415871421396
           ],
           "yaxis": "y"
          },
          {
           "hovertemplate": "Region=Gävleborg<br>Vecka=%{x}<br>Andel vaccinerade=%{y}<extra></extra>",
           "legendgroup": "Gävleborg",
           "marker": {
            "color": "#B6E880",
            "symbol": "circle"
           },
           "mode": "markers",
           "name": "Gävleborg",
           "orientation": "v",
           "showlegend": true,
           "type": "scatter",
           "x": [
            28,
            28
           ],
           "xaxis": "x",
           "y": [
            0.7570263372975498,
            0.47949226894400615
           ],
           "yaxis": "y"
          },
          {
           "hovertemplate": "Region=Västernorrland<br>Vecka=%{x}<br>Andel vaccinerade=%{y}<extra></extra>",
           "legendgroup": "Västernorrland",
           "marker": {
            "color": "#FF97FF",
            "symbol": "circle"
           },
           "mode": "markers",
           "name": "Västernorrland",
           "orientation": "v",
           "showlegend": true,
           "type": "scatter",
           "x": [
            28,
            28
           ],
           "xaxis": "x",
           "y": [
            0.7750464253690755,
            0.4646799711893224
           ],
           "yaxis": "y"
          },
          {
           "hovertemplate": "Region=Jämtland<br>Vecka=%{x}<br>Andel vaccinerade=%{y}<extra></extra>",
           "legendgroup": "Jämtland",
           "marker": {
            "color": "#FECB52",
            "symbol": "circle"
           },
           "mode": "markers",
           "name": "Jämtland",
           "orientation": "v",
           "showlegend": true,
           "type": "scatter",
           "x": [
            28,
            28
           ],
           "xaxis": "x",
           "y": [
            0.7397685240424771,
            0.45560929942268685
           ],
           "yaxis": "y"
          },
          {
           "hovertemplate": "Region=Västerbotten<br>Vecka=%{x}<br>Andel vaccinerade=%{y}<extra></extra>",
           "legendgroup": "Västerbotten",
           "marker": {
            "color": "#636efa",
            "symbol": "circle"
           },
           "mode": "markers",
           "name": "Västerbotten",
           "orientation": "v",
           "showlegend": true,
           "type": "scatter",
           "x": [
            28,
            28
           ],
           "xaxis": "x",
           "y": [
            0.7297805366616038,
            0.45493407294899735
           ],
           "yaxis": "y"
          },
          {
           "hovertemplate": "Region=Norrbotten<br>Vecka=%{x}<br>Andel vaccinerade=%{y}<extra></extra>",
           "legendgroup": "Norrbotten",
           "marker": {
            "color": "#EF553B",
            "symbol": "circle"
           },
           "mode": "markers",
           "name": "Norrbotten",
           "orientation": "v",
           "showlegend": true,
           "type": "scatter",
           "x": [
            28,
            28
           ],
           "xaxis": "x",
           "y": [
            0.7480592434009539,
            0.44607325379270496
           ],
           "yaxis": "y"
          }
         ],
         "name": "28"
        },
        {
         "data": [
          {
           "hovertemplate": "Region=| Sverige |<br>Vecka=%{x}<br>Andel vaccinerade=%{y}<extra></extra>",
           "legendgroup": "| Sverige |",
           "marker": {
            "color": "#636efa",
            "symbol": "circle"
           },
           "mode": "markers",
           "name": "| Sverige |",
           "orientation": "v",
           "showlegend": true,
           "type": "scatter",
           "x": [
            29,
            29
           ],
           "xaxis": "x",
           "y": [
            0.7389312435513353,
            0.4588210942414427
           ],
           "yaxis": "y"
          },
          {
           "hovertemplate": "Region=Stockholm<br>Vecka=%{x}<br>Andel vaccinerade=%{y}<extra></extra>",
           "legendgroup": "Stockholm",
           "marker": {
            "color": "#EF553B",
            "symbol": "circle"
           },
           "mode": "markers",
           "name": "Stockholm",
           "orientation": "v",
           "showlegend": true,
           "type": "scatter",
           "x": [
            29,
            29
           ],
           "xaxis": "x",
           "y": [
            0.694756122435383,
            0.4228613628280306
           ],
           "yaxis": "y"
          },
          {
           "hovertemplate": "Region=Uppsala<br>Vecka=%{x}<br>Andel vaccinerade=%{y}<extra></extra>",
           "legendgroup": "Uppsala",
           "marker": {
            "color": "#00cc96",
            "symbol": "circle"
           },
           "mode": "markers",
           "name": "Uppsala",
           "orientation": "v",
           "showlegend": true,
           "type": "scatter",
           "x": [
            29,
            29
           ],
           "xaxis": "x",
           "y": [
            0.7943617697430422,
            0.5036710489650617
           ],
           "yaxis": "y"
          },
          {
           "hovertemplate": "Region=Södermanland<br>Vecka=%{x}<br>Andel vaccinerade=%{y}<extra></extra>",
           "legendgroup": "Södermanland",
           "marker": {
            "color": "#ab63fa",
            "symbol": "circle"
           },
           "mode": "markers",
           "name": "Södermanland",
           "orientation": "v",
           "showlegend": true,
           "type": "scatter",
           "x": [
            29,
            29
           ],
           "xaxis": "x",
           "y": [
            0.7587911594451384,
            0.4877981074615655
           ],
           "yaxis": "y"
          },
          {
           "hovertemplate": "Region=Östergötland<br>Vecka=%{x}<br>Andel vaccinerade=%{y}<extra></extra>",
           "legendgroup": "Östergötland",
           "marker": {
            "color": "#FFA15A",
            "symbol": "circle"
           },
           "mode": "markers",
           "name": "Östergötland",
           "orientation": "v",
           "showlegend": true,
           "type": "scatter",
           "x": [
            29,
            29
           ],
           "xaxis": "x",
           "y": [
            0.7813113700780874,
            0.4603656166931794
           ],
           "yaxis": "y"
          },
          {
           "hovertemplate": "Region=Jönköping<br>Vecka=%{x}<br>Andel vaccinerade=%{y}<extra></extra>",
           "legendgroup": "Jönköping",
           "marker": {
            "color": "#19d3f3",
            "symbol": "circle"
           },
           "mode": "markers",
           "name": "Jönköping",
           "orientation": "v",
           "showlegend": true,
           "type": "scatter",
           "x": [
            29,
            29
           ],
           "xaxis": "x",
           "y": [
            0.7337610721868009,
            0.46430236419067805
           ],
           "yaxis": "y"
          },
          {
           "hovertemplate": "Region=Kronoberg<br>Vecka=%{x}<br>Andel vaccinerade=%{y}<extra></extra>",
           "legendgroup": "Kronoberg",
           "marker": {
            "color": "#FF6692",
            "symbol": "circle"
           },
           "mode": "markers",
           "name": "Kronoberg",
           "orientation": "v",
           "showlegend": true,
           "type": "scatter",
           "x": [
            29,
            29
           ],
           "xaxis": "x",
           "y": [
            0.7169113865848715,
            0.4377007822567472
           ],
           "yaxis": "y"
          },
          {
           "hovertemplate": "Region=Kalmar<br>Vecka=%{x}<br>Andel vaccinerade=%{y}<extra></extra>",
           "legendgroup": "Kalmar",
           "marker": {
            "color": "#B6E880",
            "symbol": "circle"
           },
           "mode": "markers",
           "name": "Kalmar",
           "orientation": "v",
           "showlegend": true,
           "type": "scatter",
           "x": [
            29,
            29
           ],
           "xaxis": "x",
           "y": [
            0.7857083704775405,
            0.5175247587453295
           ],
           "yaxis": "y"
          },
          {
           "hovertemplate": "Region=Gotland<br>Vecka=%{x}<br>Andel vaccinerade=%{y}<extra></extra>",
           "legendgroup": "Gotland",
           "marker": {
            "color": "#FF97FF",
            "symbol": "circle"
           },
           "mode": "markers",
           "name": "Gotland",
           "orientation": "v",
           "showlegend": true,
           "type": "scatter",
           "x": [
            29,
            29
           ],
           "xaxis": "x",
           "y": [
            0.7655270039124707,
            0.4948194168649116
           ],
           "yaxis": "y"
          },
          {
           "hovertemplate": "Region=Blekinge<br>Vecka=%{x}<br>Andel vaccinerade=%{y}<extra></extra>",
           "legendgroup": "Blekinge",
           "marker": {
            "color": "#FECB52",
            "symbol": "circle"
           },
           "mode": "markers",
           "name": "Blekinge",
           "orientation": "v",
           "showlegend": true,
           "type": "scatter",
           "x": [
            29,
            29
           ],
           "xaxis": "x",
           "y": [
            0.7739066758264572,
            0.5198885726580252
           ],
           "yaxis": "y"
          },
          {
           "hovertemplate": "Region=Skåne<br>Vecka=%{x}<br>Andel vaccinerade=%{y}<extra></extra>",
           "legendgroup": "Skåne",
           "marker": {
            "color": "#636efa",
            "symbol": "circle"
           },
           "mode": "markers",
           "name": "Skåne",
           "orientation": "v",
           "showlegend": true,
           "type": "scatter",
           "x": [
            29,
            29
           ],
           "xaxis": "x",
           "y": [
            0.7151010511145932,
            0.46100353421555285
           ],
           "yaxis": "y"
          },
          {
           "hovertemplate": "Region=Halland<br>Vecka=%{x}<br>Andel vaccinerade=%{y}<extra></extra>",
           "legendgroup": "Halland",
           "marker": {
            "color": "#EF553B",
            "symbol": "circle"
           },
           "mode": "markers",
           "name": "Halland",
           "orientation": "v",
           "showlegend": true,
           "type": "scatter",
           "x": [
            29,
            29
           ],
           "xaxis": "x",
           "y": [
            0.780709831786543,
            0.4573919663573086
           ],
           "yaxis": "y"
          },
          {
           "hovertemplate": "Region=Västra Götaland<br>Vecka=%{x}<br>Andel vaccinerade=%{y}<extra></extra>",
           "legendgroup": "Västra Götaland",
           "marker": {
            "color": "#00cc96",
            "symbol": "circle"
           },
           "mode": "markers",
           "name": "Västra Götaland",
           "orientation": "v",
           "showlegend": true,
           "type": "scatter",
           "x": [
            29,
            29
           ],
           "xaxis": "x",
           "y": [
            0.7146206010241994,
            0.4255047500118995
           ],
           "yaxis": "y"
          },
          {
           "hovertemplate": "Region=Värmland<br>Vecka=%{x}<br>Andel vaccinerade=%{y}<extra></extra>",
           "legendgroup": "Värmland",
           "marker": {
            "color": "#ab63fa",
            "symbol": "circle"
           },
           "mode": "markers",
           "name": "Värmland",
           "orientation": "v",
           "showlegend": true,
           "type": "scatter",
           "x": [
            29,
            29
           ],
           "xaxis": "x",
           "y": [
            0.8319932396746593,
            0.5203718178937361
           ],
           "yaxis": "y"
          },
          {
           "hovertemplate": "Region=Örebro<br>Vecka=%{x}<br>Andel vaccinerade=%{y}<extra></extra>",
           "legendgroup": "Örebro",
           "marker": {
            "color": "#FFA15A",
            "symbol": "circle"
           },
           "mode": "markers",
           "name": "Örebro",
           "orientation": "v",
           "showlegend": true,
           "type": "scatter",
           "x": [
            29,
            29
           ],
           "xaxis": "x",
           "y": [
            0.772993312697927,
            0.5239022374449182
           ],
           "yaxis": "y"
          },
          {
           "hovertemplate": "Region=Västmanland<br>Vecka=%{x}<br>Andel vaccinerade=%{y}<extra></extra>",
           "legendgroup": "Västmanland",
           "marker": {
            "color": "#19d3f3",
            "symbol": "circle"
           },
           "mode": "markers",
           "name": "Västmanland",
           "orientation": "v",
           "showlegend": true,
           "type": "scatter",
           "x": [
            29,
            29
           ],
           "xaxis": "x",
           "y": [
            0.7540393558048498,
            0.4880548914518912
           ],
           "yaxis": "y"
          },
          {
           "hovertemplate": "Region=Dalarna<br>Vecka=%{x}<br>Andel vaccinerade=%{y}<extra></extra>",
           "legendgroup": "Dalarna",
           "marker": {
            "color": "#FF6692",
            "symbol": "circle"
           },
           "mode": "markers",
           "name": "Dalarna",
           "orientation": "v",
           "showlegend": true,
           "type": "scatter",
           "x": [
            29,
            29
           ],
           "xaxis": "x",
           "y": [
            0.7896199564707852,
            0.5128787878787879
           ],
           "yaxis": "y"
          },
          {
           "hovertemplate": "Region=Gävleborg<br>Vecka=%{x}<br>Andel vaccinerade=%{y}<extra></extra>",
           "legendgroup": "Gävleborg",
           "marker": {
            "color": "#B6E880",
            "symbol": "circle"
           },
           "mode": "markers",
           "name": "Gävleborg",
           "orientation": "v",
           "showlegend": true,
           "type": "scatter",
           "x": [
            29,
            29
           ],
           "xaxis": "x",
           "y": [
            0.7712499791503344,
            0.5160375627574934
           ],
           "yaxis": "y"
          },
          {
           "hovertemplate": "Region=Västernorrland<br>Vecka=%{x}<br>Andel vaccinerade=%{y}<extra></extra>",
           "legendgroup": "Västernorrland",
           "marker": {
            "color": "#FF97FF",
            "symbol": "circle"
           },
           "mode": "markers",
           "name": "Västernorrland",
           "orientation": "v",
           "showlegend": true,
           "type": "scatter",
           "x": [
            29,
            29
           ],
           "xaxis": "x",
           "y": [
            0.7967426295133053,
            0.47906571088387045
           ],
           "yaxis": "y"
          },
          {
           "hovertemplate": "Region=Jämtland<br>Vecka=%{x}<br>Andel vaccinerade=%{y}<extra></extra>",
           "legendgroup": "Jämtland",
           "marker": {
            "color": "#FECB52",
            "symbol": "circle"
           },
           "mode": "markers",
           "name": "Jämtland",
           "orientation": "v",
           "showlegend": true,
           "type": "scatter",
           "x": [
            29,
            29
           ],
           "xaxis": "x",
           "y": [
            0.7632373592282911,
            0.4821069635530917
           ],
           "yaxis": "y"
          },
          {
           "hovertemplate": "Region=Västerbotten<br>Vecka=%{x}<br>Andel vaccinerade=%{y}<extra></extra>",
           "legendgroup": "Västerbotten",
           "marker": {
            "color": "#636efa",
            "symbol": "circle"
           },
           "mode": "markers",
           "name": "Västerbotten",
           "orientation": "v",
           "showlegend": true,
           "type": "scatter",
           "x": [
            29,
            29
           ],
           "xaxis": "x",
           "y": [
            0.7698474542692993,
            0.4768187721499483
           ],
           "yaxis": "y"
          },
          {
           "hovertemplate": "Region=Norrbotten<br>Vecka=%{x}<br>Andel vaccinerade=%{y}<extra></extra>",
           "legendgroup": "Norrbotten",
           "marker": {
            "color": "#EF553B",
            "symbol": "circle"
           },
           "mode": "markers",
           "name": "Norrbotten",
           "orientation": "v",
           "showlegend": true,
           "type": "scatter",
           "x": [
            29,
            29
           ],
           "xaxis": "x",
           "y": [
            0.7947131848301275,
            0.4518469750721123
           ],
           "yaxis": "y"
          }
         ],
         "name": "29"
        },
        {
         "data": [
          {
           "hovertemplate": "Region=| Sverige |<br>Vecka=%{x}<br>Andel vaccinerade=%{y}<extra></extra>",
           "legendgroup": "| Sverige |",
           "marker": {
            "color": "#636efa",
            "symbol": "circle"
           },
           "mode": "markers",
           "name": "| Sverige |",
           "orientation": "v",
           "showlegend": true,
           "type": "scatter",
           "x": [
            30,
            30
           ],
           "xaxis": "x",
           "y": [
            0.7552706510345903,
            0.48913404757971585
           ],
           "yaxis": "y"
          },
          {
           "hovertemplate": "Region=Stockholm<br>Vecka=%{x}<br>Andel vaccinerade=%{y}<extra></extra>",
           "legendgroup": "Stockholm",
           "marker": {
            "color": "#EF553B",
            "symbol": "circle"
           },
           "mode": "markers",
           "name": "Stockholm",
           "orientation": "v",
           "showlegend": true,
           "type": "scatter",
           "x": [
            30,
            30
           ],
           "xaxis": "x",
           "y": [
            0.7159577423067895,
            0.45932743152394395
           ],
           "yaxis": "y"
          },
          {
           "hovertemplate": "Region=Uppsala<br>Vecka=%{x}<br>Andel vaccinerade=%{y}<extra></extra>",
           "legendgroup": "Uppsala",
           "marker": {
            "color": "#00cc96",
            "symbol": "circle"
           },
           "mode": "markers",
           "name": "Uppsala",
           "orientation": "v",
           "showlegend": true,
           "type": "scatter",
           "x": [
            30,
            30
           ],
           "xaxis": "x",
           "y": [
            0.8116133516598777,
            0.544429868092714
           ],
           "yaxis": "y"
          },
          {
           "hovertemplate": "Region=Södermanland<br>Vecka=%{x}<br>Andel vaccinerade=%{y}<extra></extra>",
           "legendgroup": "Södermanland",
           "marker": {
            "color": "#ab63fa",
            "symbol": "circle"
           },
           "mode": "markers",
           "name": "Södermanland",
           "orientation": "v",
           "showlegend": true,
           "type": "scatter",
           "x": [
            30,
            30
           ],
           "xaxis": "x",
           "y": [
            0.7702582441358251,
            0.5168270997134249
           ],
           "yaxis": "y"
          },
          {
           "hovertemplate": "Region=Östergötland<br>Vecka=%{x}<br>Andel vaccinerade=%{y}<extra></extra>",
           "legendgroup": "Östergötland",
           "marker": {
            "color": "#FFA15A",
            "symbol": "circle"
           },
           "mode": "markers",
           "name": "Östergötland",
           "orientation": "v",
           "showlegend": true,
           "type": "scatter",
           "x": [
            30,
            30
           ],
           "xaxis": "x",
           "y": [
            0.7932861458425091,
            0.48875065418236274
           ],
           "yaxis": "y"
          },
          {
           "hovertemplate": "Region=Jönköping<br>Vecka=%{x}<br>Andel vaccinerade=%{y}<extra></extra>",
           "legendgroup": "Jönköping",
           "marker": {
            "color": "#19d3f3",
            "symbol": "circle"
           },
           "mode": "markers",
           "name": "Jönköping",
           "orientation": "v",
           "showlegend": true,
           "type": "scatter",
           "x": [
            30,
            30
           ],
           "xaxis": "x",
           "y": [
            0.748706218535872,
            0.46756909950126946
           ],
           "yaxis": "y"
          },
          {
           "hovertemplate": "Region=Kronoberg<br>Vecka=%{x}<br>Andel vaccinerade=%{y}<extra></extra>",
           "legendgroup": "Kronoberg",
           "marker": {
            "color": "#FF6692",
            "symbol": "circle"
           },
           "mode": "markers",
           "name": "Kronoberg",
           "orientation": "v",
           "showlegend": true,
           "type": "scatter",
           "x": [
            30,
            30
           ],
           "xaxis": "x",
           "y": [
            0.738842405212625,
            0.46649242850487926
           ],
           "yaxis": "y"
          },
          {
           "hovertemplate": "Region=Kalmar<br>Vecka=%{x}<br>Andel vaccinerade=%{y}<extra></extra>",
           "legendgroup": "Kalmar",
           "marker": {
            "color": "#B6E880",
            "symbol": "circle"
           },
           "mode": "markers",
           "name": "Kalmar",
           "orientation": "v",
           "showlegend": true,
           "type": "scatter",
           "x": [
            30,
            30
           ],
           "xaxis": "x",
           "y": [
            0.8007170658755559,
            0.5345258450611601
           ],
           "yaxis": "y"
          },
          {
           "hovertemplate": "Region=Gotland<br>Vecka=%{x}<br>Andel vaccinerade=%{y}<extra></extra>",
           "legendgroup": "Gotland",
           "marker": {
            "color": "#FF97FF",
            "symbol": "circle"
           },
           "mode": "markers",
           "name": "Gotland",
           "orientation": "v",
           "showlegend": true,
           "type": "scatter",
           "x": [
            30,
            30
           ],
           "xaxis": "x",
           "y": [
            0.8113756561744293,
            0.4982403711932053
           ],
           "yaxis": "y"
          },
          {
           "hovertemplate": "Region=Blekinge<br>Vecka=%{x}<br>Andel vaccinerade=%{y}<extra></extra>",
           "legendgroup": "Blekinge",
           "marker": {
            "color": "#FECB52",
            "symbol": "circle"
           },
           "mode": "markers",
           "name": "Blekinge",
           "orientation": "v",
           "showlegend": true,
           "type": "scatter",
           "x": [
            30,
            30
           ],
           "xaxis": "x",
           "y": [
            0.7888542460913613,
            0.554788884443203
           ],
           "yaxis": "y"
          },
          {
           "hovertemplate": "Region=Skåne<br>Vecka=%{x}<br>Andel vaccinerade=%{y}<extra></extra>",
           "legendgroup": "Skåne",
           "marker": {
            "color": "#636efa",
            "symbol": "circle"
           },
           "mode": "markers",
           "name": "Skåne",
           "orientation": "v",
           "showlegend": true,
           "type": "scatter",
           "x": [
            30,
            30
           ],
           "xaxis": "x",
           "y": [
            0.7294217945931869,
            0.4938945260570313
           ],
           "yaxis": "y"
          },
          {
           "hovertemplate": "Region=Halland<br>Vecka=%{x}<br>Andel vaccinerade=%{y}<extra></extra>",
           "legendgroup": "Halland",
           "marker": {
            "color": "#EF553B",
            "symbol": "circle"
           },
           "mode": "markers",
           "name": "Halland",
           "orientation": "v",
           "showlegend": true,
           "type": "scatter",
           "x": [
            30,
            30
           ],
           "xaxis": "x",
           "y": [
            0.7925029002320185,
            0.4888051044083527
           ],
           "yaxis": "y"
          },
          {
           "hovertemplate": "Region=Västra Götaland<br>Vecka=%{x}<br>Andel vaccinerade=%{y}<extra></extra>",
           "legendgroup": "Västra Götaland",
           "marker": {
            "color": "#00cc96",
            "symbol": "circle"
           },
           "mode": "markers",
           "name": "Västra Götaland",
           "orientation": "v",
           "showlegend": true,
           "type": "scatter",
           "x": [
            30,
            30
           ],
           "xaxis": "x",
           "y": [
            0.7322984009833211,
            0.4497055916585703
           ],
           "yaxis": "y"
          },
          {
           "hovertemplate": "Region=Värmland<br>Vecka=%{x}<br>Andel vaccinerade=%{y}<extra></extra>",
           "legendgroup": "Värmland",
           "marker": {
            "color": "#ab63fa",
            "symbol": "circle"
           },
           "mode": "markers",
           "name": "Värmland",
           "orientation": "v",
           "showlegend": true,
           "type": "scatter",
           "x": [
            30,
            30
           ],
           "xaxis": "x",
           "y": [
            0.8378071194676244,
            0.558909897538819
           ],
           "yaxis": "y"
          },
          {
           "hovertemplate": "Region=Örebro<br>Vecka=%{x}<br>Andel vaccinerade=%{y}<extra></extra>",
           "legendgroup": "Örebro",
           "marker": {
            "color": "#FFA15A",
            "symbol": "circle"
           },
           "mode": "markers",
           "name": "Örebro",
           "orientation": "v",
           "showlegend": true,
           "type": "scatter",
           "x": [
            30,
            30
           ],
           "xaxis": "x",
           "y": [
            0.7816792558538728,
            0.5698868761200139
           ],
           "yaxis": "y"
          },
          {
           "hovertemplate": "Region=Västmanland<br>Vecka=%{x}<br>Andel vaccinerade=%{y}<extra></extra>",
           "legendgroup": "Västmanland",
           "marker": {
            "color": "#19d3f3",
            "symbol": "circle"
           },
           "mode": "markers",
           "name": "Västmanland",
           "orientation": "v",
           "showlegend": true,
           "type": "scatter",
           "x": [
            30,
            30
           ],
           "xaxis": "x",
           "y": [
            0.7655159428666509,
            0.5122253456987976
           ],
           "yaxis": "y"
          },
          {
           "hovertemplate": "Region=Dalarna<br>Vecka=%{x}<br>Andel vaccinerade=%{y}<extra></extra>",
           "legendgroup": "Dalarna",
           "marker": {
            "color": "#FF6692",
            "symbol": "circle"
           },
           "mode": "markers",
           "name": "Dalarna",
           "orientation": "v",
           "showlegend": true,
           "type": "scatter",
           "x": [
            30,
            30
           ],
           "xaxis": "x",
           "y": [
            0.8036706847480328,
            0.5414322785869747
           ],
           "yaxis": "y"
          },
          {
           "hovertemplate": "Region=Gävleborg<br>Vecka=%{x}<br>Andel vaccinerade=%{y}<extra></extra>",
           "legendgroup": "Gävleborg",
           "marker": {
            "color": "#B6E880",
            "symbol": "circle"
           },
           "mode": "markers",
           "name": "Gävleborg",
           "orientation": "v",
           "showlegend": true,
           "type": "scatter",
           "x": [
            30,
            30
           ],
           "xaxis": "x",
           "y": [
            0.7800902373525929,
            0.5494595766683903
           ],
           "yaxis": "y"
          },
          {
           "hovertemplate": "Region=Västernorrland<br>Vecka=%{x}<br>Andel vaccinerade=%{y}<extra></extra>",
           "legendgroup": "Västernorrland",
           "marker": {
            "color": "#FF97FF",
            "symbol": "circle"
           },
           "mode": "markers",
           "name": "Västernorrland",
           "orientation": "v",
           "showlegend": true,
           "type": "scatter",
           "x": [
            30,
            30
           ],
           "xaxis": "x",
           "y": [
            0.806297190958935,
            0.5141383010519817
           ],
           "yaxis": "y"
          },
          {
           "hovertemplate": "Region=Jämtland<br>Vecka=%{x}<br>Andel vaccinerade=%{y}<extra></extra>",
           "legendgroup": "Jämtland",
           "marker": {
            "color": "#FECB52",
            "symbol": "circle"
           },
           "mode": "markers",
           "name": "Jämtland",
           "orientation": "v",
           "showlegend": true,
           "type": "scatter",
           "x": [
            30,
            30
           ],
           "xaxis": "x",
           "y": [
            0.7700384569493268,
            0.5077785834258809
           ],
           "yaxis": "y"
          },
          {
           "hovertemplate": "Region=Västerbotten<br>Vecka=%{x}<br>Andel vaccinerade=%{y}<extra></extra>",
           "legendgroup": "Västerbotten",
           "marker": {
            "color": "#636efa",
            "symbol": "circle"
           },
           "mode": "markers",
           "name": "Västerbotten",
           "orientation": "v",
           "showlegend": true,
           "type": "scatter",
           "x": [
            30,
            30
           ],
           "xaxis": "x",
           "y": [
            0.7990182482555196,
            0.4996191859825222
           ],
           "yaxis": "y"
          },
          {
           "hovertemplate": "Region=Norrbotten<br>Vecka=%{x}<br>Andel vaccinerade=%{y}<extra></extra>",
           "legendgroup": "Norrbotten",
           "marker": {
            "color": "#EF553B",
            "symbol": "circle"
           },
           "mode": "markers",
           "name": "Norrbotten",
           "orientation": "v",
           "showlegend": true,
           "type": "scatter",
           "x": [
            30,
            30
           ],
           "xaxis": "x",
           "y": [
            0.8137347308991185,
            0.4795551534843626
           ],
           "yaxis": "y"
          }
         ],
         "name": "30"
        },
        {
         "data": [
          {
           "hovertemplate": "Region=| Sverige |<br>Vecka=%{x}<br>Andel vaccinerade=%{y}<extra></extra>",
           "legendgroup": "| Sverige |",
           "marker": {
            "color": "#636efa",
            "symbol": "circle"
           },
           "mode": "markers",
           "name": "| Sverige |",
           "orientation": "v",
           "showlegend": true,
           "type": "scatter",
           "x": [
            31,
            31
           ],
           "xaxis": "x",
           "y": [
            0.7679649129420756,
            0.5236674554823353
           ],
           "yaxis": "y"
          },
          {
           "hovertemplate": "Region=Stockholm<br>Vecka=%{x}<br>Andel vaccinerade=%{y}<extra></extra>",
           "legendgroup": "Stockholm",
           "marker": {
            "color": "#EF553B",
            "symbol": "circle"
           },
           "mode": "markers",
           "name": "Stockholm",
           "orientation": "v",
           "showlegend": true,
           "type": "scatter",
           "x": [
            31,
            31
           ],
           "xaxis": "x",
           "y": [
            0.7289211209542933,
            0.5009414400701904
           ],
           "yaxis": "y"
          },
          {
           "hovertemplate": "Region=Uppsala<br>Vecka=%{x}<br>Andel vaccinerade=%{y}<extra></extra>",
           "legendgroup": "Uppsala",
           "marker": {
            "color": "#00cc96",
            "symbol": "circle"
           },
           "mode": "markers",
           "name": "Uppsala",
           "orientation": "v",
           "showlegend": true,
           "type": "scatter",
           "x": [
            31,
            31
           ],
           "xaxis": "x",
           "y": [
            0.830029650177995,
            0.5792868302488173
           ],
           "yaxis": "y"
          },
          {
           "hovertemplate": "Region=Södermanland<br>Vecka=%{x}<br>Andel vaccinerade=%{y}<extra></extra>",
           "legendgroup": "Södermanland",
           "marker": {
            "color": "#ab63fa",
            "symbol": "circle"
           },
           "mode": "markers",
           "name": "Södermanland",
           "orientation": "v",
           "showlegend": true,
           "type": "scatter",
           "x": [
            31,
            31
           ],
           "xaxis": "x",
           "y": [
            0.7810190968395098,
            0.5553106196063062
           ],
           "yaxis": "y"
          },
          {
           "hovertemplate": "Region=Östergötland<br>Vecka=%{x}<br>Andel vaccinerade=%{y}<extra></extra>",
           "legendgroup": "Östergötland",
           "marker": {
            "color": "#FFA15A",
            "symbol": "circle"
           },
           "mode": "markers",
           "name": "Östergötland",
           "orientation": "v",
           "showlegend": true,
           "type": "scatter",
           "x": [
            31,
            31
           ],
           "xaxis": "x",
           "y": [
            0.8022270699366285,
            0.5250117882366353
           ],
           "yaxis": "y"
          },
          {
           "hovertemplate": "Region=Jönköping<br>Vecka=%{x}<br>Andel vaccinerade=%{y}<extra></extra>",
           "legendgroup": "Jönköping",
           "marker": {
            "color": "#19d3f3",
            "symbol": "circle"
           },
           "mode": "markers",
           "name": "Jönköping",
           "orientation": "v",
           "showlegend": true,
           "type": "scatter",
           "x": [
            31,
            31
           ],
           "xaxis": "x",
           "y": [
            0.7574868274097204,
            0.496741649533635
           ],
           "yaxis": "y"
          },
          {
           "hovertemplate": "Region=Kronoberg<br>Vecka=%{x}<br>Andel vaccinerade=%{y}<extra></extra>",
           "legendgroup": "Kronoberg",
           "marker": {
            "color": "#FF6692",
            "symbol": "circle"
           },
           "mode": "markers",
           "name": "Kronoberg",
           "orientation": "v",
           "showlegend": true,
           "type": "scatter",
           "x": [
            31,
            31
           ],
           "xaxis": "x",
           "y": [
            0.7524547616022651,
            0.4993617317337302
           ],
           "yaxis": "y"
          },
          {
           "hovertemplate": "Region=Kalmar<br>Vecka=%{x}<br>Andel vaccinerade=%{y}<extra></extra>",
           "legendgroup": "Kalmar",
           "marker": {
            "color": "#B6E880",
            "symbol": "circle"
           },
           "mode": "markers",
           "name": "Kalmar",
           "orientation": "v",
           "showlegend": true,
           "type": "scatter",
           "x": [
            31,
            31
           ],
           "xaxis": "x",
           "y": [
            0.8120235189812988,
            0.5587901461898568
           ],
           "yaxis": "y"
          },
          {
           "hovertemplate": "Region=Gotland<br>Vecka=%{x}<br>Andel vaccinerade=%{y}<extra></extra>",
           "legendgroup": "Gotland",
           "marker": {
            "color": "#FF97FF",
            "symbol": "circle"
           },
           "mode": "markers",
           "name": "Gotland",
           "orientation": "v",
           "showlegend": true,
           "type": "scatter",
           "x": [
            31,
            31
           ],
           "xaxis": "x",
           "y": [
            0.8258655604270295,
            0.5197098087018068
           ],
           "yaxis": "y"
          },
          {
           "hovertemplate": "Region=Blekinge<br>Vecka=%{x}<br>Andel vaccinerade=%{y}<extra></extra>",
           "legendgroup": "Blekinge",
           "marker": {
            "color": "#FECB52",
            "symbol": "circle"
           },
           "mode": "markers",
           "name": "Blekinge",
           "orientation": "v",
           "showlegend": true,
           "type": "scatter",
           "x": [
            31,
            31
           ],
           "xaxis": "x",
           "y": [
            0.7978529853619502,
            0.583589379675834
           ],
           "yaxis": "y"
          },
          {
           "hovertemplate": "Region=Skåne<br>Vecka=%{x}<br>Andel vaccinerade=%{y}<extra></extra>",
           "legendgroup": "Skåne",
           "marker": {
            "color": "#636efa",
            "symbol": "circle"
           },
           "mode": "markers",
           "name": "Skåne",
           "orientation": "v",
           "showlegend": true,
           "type": "scatter",
           "x": [
            31,
            31
           ],
           "xaxis": "x",
           "y": [
            0.7453798731835126,
            0.5262611483517112
           ],
           "yaxis": "y"
          },
          {
           "hovertemplate": "Region=Halland<br>Vecka=%{x}<br>Andel vaccinerade=%{y}<extra></extra>",
           "legendgroup": "Halland",
           "marker": {
            "color": "#EF553B",
            "symbol": "circle"
           },
           "mode": "markers",
           "name": "Halland",
           "orientation": "v",
           "showlegend": true,
           "type": "scatter",
           "x": [
            31,
            31
           ],
           "xaxis": "x",
           "y": [
            0.7985498839907192,
            0.5422346287703016
           ],
           "yaxis": "y"
          },
          {
           "hovertemplate": "Region=Västra Götaland<br>Vecka=%{x}<br>Andel vaccinerade=%{y}<extra></extra>",
           "legendgroup": "Västra Götaland",
           "marker": {
            "color": "#00cc96",
            "symbol": "circle"
           },
           "mode": "markers",
           "name": "Västra Götaland",
           "orientation": "v",
           "showlegend": true,
           "type": "scatter",
           "x": [
            31,
            31
           ],
           "xaxis": "x",
           "y": [
            0.7450511959726395,
            0.47526787939197607
           ],
           "yaxis": "y"
          },
          {
           "hovertemplate": "Region=Värmland<br>Vecka=%{x}<br>Andel vaccinerade=%{y}<extra></extra>",
           "legendgroup": "Värmland",
           "marker": {
            "color": "#ab63fa",
            "symbol": "circle"
           },
           "mode": "markers",
           "name": "Värmland",
           "orientation": "v",
           "showlegend": true,
           "type": "scatter",
           "x": [
            31,
            31
           ],
           "xaxis": "x",
           "y": [
            0.841368965881483,
            0.6106813140382381
           ],
           "yaxis": "y"
          },
          {
           "hovertemplate": "Region=Örebro<br>Vecka=%{x}<br>Andel vaccinerade=%{y}<extra></extra>",
           "legendgroup": "Örebro",
           "marker": {
            "color": "#FFA15A",
            "symbol": "circle"
           },
           "mode": "markers",
           "name": "Örebro",
           "orientation": "v",
           "showlegend": true,
           "type": "scatter",
           "x": [
            31,
            31
           ],
           "xaxis": "x",
           "y": [
            0.7964842989458459,
            0.6076941721533272
           ],
           "yaxis": "y"
          },
          {
           "hovertemplate": "Region=Västmanland<br>Vecka=%{x}<br>Andel vaccinerade=%{y}<extra></extra>",
           "legendgroup": "Västmanland",
           "marker": {
            "color": "#19d3f3",
            "symbol": "circle"
           },
           "mode": "markers",
           "name": "Västmanland",
           "orientation": "v",
           "showlegend": true,
           "type": "scatter",
           "x": [
            31,
            31
           ],
           "xaxis": "x",
           "y": [
            0.7800751385860284,
            0.544553328254035
           ],
           "yaxis": "y"
          },
          {
           "hovertemplate": "Region=Dalarna<br>Vecka=%{x}<br>Andel vaccinerade=%{y}<extra></extra>",
           "legendgroup": "Dalarna",
           "marker": {
            "color": "#FF6692",
            "symbol": "circle"
           },
           "mode": "markers",
           "name": "Dalarna",
           "orientation": "v",
           "showlegend": true,
           "type": "scatter",
           "x": [
            31,
            31
           ],
           "xaxis": "x",
           "y": [
            0.8109450862213293,
            0.5824543780344885
           ],
           "yaxis": "y"
          },
          {
           "hovertemplate": "Region=Gävleborg<br>Vecka=%{x}<br>Andel vaccinerade=%{y}<extra></extra>",
           "legendgroup": "Gävleborg",
           "marker": {
            "color": "#B6E880",
            "symbol": "circle"
           },
           "mode": "markers",
           "name": "Gävleborg",
           "orientation": "v",
           "showlegend": true,
           "type": "scatter",
           "x": [
            31,
            31
           ],
           "xaxis": "x",
           "y": [
            0.7930170300068387,
            0.5814763231197771
           ],
           "yaxis": "y"
          },
          {
           "hovertemplate": "Region=Västernorrland<br>Vecka=%{x}<br>Andel vaccinerade=%{y}<extra></extra>",
           "legendgroup": "Västernorrland",
           "marker": {
            "color": "#FF97FF",
            "symbol": "circle"
           },
           "mode": "markers",
           "name": "Västernorrland",
           "orientation": "v",
           "showlegend": true,
           "type": "scatter",
           "x": [
            31,
            31
           ],
           "xaxis": "x",
           "y": [
            0.8225693440671074,
            0.5342028800878039
           ],
           "yaxis": "y"
          },
          {
           "hovertemplate": "Region=Jämtland<br>Vecka=%{x}<br>Andel vaccinerade=%{y}<extra></extra>",
           "legendgroup": "Jämtland",
           "marker": {
            "color": "#FECB52",
            "symbol": "circle"
           },
           "mode": "markers",
           "name": "Jämtland",
           "orientation": "v",
           "showlegend": true,
           "type": "scatter",
           "x": [
            31,
            31
           ],
           "xaxis": "x",
           "y": [
            0.7888539094839059,
            0.5254559305388562
           ],
           "yaxis": "y"
          },
          {
           "hovertemplate": "Region=Västerbotten<br>Vecka=%{x}<br>Andel vaccinerade=%{y}<extra></extra>",
           "legendgroup": "Västerbotten",
           "marker": {
            "color": "#636efa",
            "symbol": "circle"
           },
           "mode": "markers",
           "name": "Västerbotten",
           "orientation": "v",
           "showlegend": true,
           "type": "scatter",
           "x": [
            31,
            31
           ],
           "xaxis": "x",
           "y": [
            0.8157344427568294,
            0.5287591626494089
           ],
           "yaxis": "y"
          },
          {
           "hovertemplate": "Region=Norrbotten<br>Vecka=%{x}<br>Andel vaccinerade=%{y}<extra></extra>",
           "legendgroup": "Norrbotten",
           "marker": {
            "color": "#EF553B",
            "symbol": "circle"
           },
           "mode": "markers",
           "name": "Norrbotten",
           "orientation": "v",
           "showlegend": true,
           "type": "scatter",
           "x": [
            31,
            31
           ],
           "xaxis": "x",
           "y": [
            0.8237807217388421,
            0.5168640973054388
           ],
           "yaxis": "y"
          }
         ],
         "name": "31"
        },
        {
         "data": [
          {
           "hovertemplate": "Region=| Sverige |<br>Vecka=%{x}<br>Andel vaccinerade=%{y}<extra></extra>",
           "legendgroup": "| Sverige |",
           "marker": {
            "color": "#636efa",
            "symbol": "circle"
           },
           "mode": "markers",
           "name": "| Sverige |",
           "orientation": "v",
           "showlegend": true,
           "type": "scatter",
           "x": [
            32,
            32
           ],
           "xaxis": "x",
           "y": [
            0.7837354505890478,
            0.5630185200556764
           ],
           "yaxis": "y"
          },
          {
           "hovertemplate": "Region=Stockholm<br>Vecka=%{x}<br>Andel vaccinerade=%{y}<extra></extra>",
           "legendgroup": "Stockholm",
           "marker": {
            "color": "#EF553B",
            "symbol": "circle"
           },
           "mode": "markers",
           "name": "Stockholm",
           "orientation": "v",
           "showlegend": true,
           "type": "scatter",
           "x": [
            32,
            32
           ],
           "xaxis": "x",
           "y": [
            0.7480953391285453,
            0.5415791593765279
           ],
           "yaxis": "y"
          },
          {
           "hovertemplate": "Region=Uppsala<br>Vecka=%{x}<br>Andel vaccinerade=%{y}<extra></extra>",
           "legendgroup": "Uppsala",
           "marker": {
            "color": "#00cc96",
            "symbol": "circle"
           },
           "mode": "markers",
           "name": "Uppsala",
           "orientation": "v",
           "showlegend": true,
           "type": "scatter",
           "x": [
            32,
            32
           ],
           "xaxis": "x",
           "y": [
            0.8471121603301283,
            0.6138025179169107
           ],
           "yaxis": "y"
          },
          {
           "hovertemplate": "Region=Södermanland<br>Vecka=%{x}<br>Andel vaccinerade=%{y}<extra></extra>",
           "legendgroup": "Södermanland",
           "marker": {
            "color": "#ab63fa",
            "symbol": "circle"
           },
           "mode": "markers",
           "name": "Södermanland",
           "orientation": "v",
           "showlegend": true,
           "type": "scatter",
           "x": [
            32,
            32
           ],
           "xaxis": "x",
           "y": [
            0.7962867710093811,
            0.6047835990888383
           ],
           "yaxis": "y"
          },
          {
           "hovertemplate": "Region=Östergötland<br>Vecka=%{x}<br>Andel vaccinerade=%{y}<extra></extra>",
           "legendgroup": "Östergötland",
           "marker": {
            "color": "#FFA15A",
            "symbol": "circle"
           },
           "mode": "markers",
           "name": "Östergötland",
           "orientation": "v",
           "showlegend": true,
           "type": "scatter",
           "x": [
            32,
            32
           ],
           "xaxis": "x",
           "y": [
            0.8234225784889294,
            0.5551067677432393
           ],
           "yaxis": "y"
          },
          {
           "hovertemplate": "Region=Jönköping<br>Vecka=%{x}<br>Andel vaccinerade=%{y}<extra></extra>",
           "legendgroup": "Jönköping",
           "marker": {
            "color": "#19d3f3",
            "symbol": "circle"
           },
           "mode": "markers",
           "name": "Jönköping",
           "orientation": "v",
           "showlegend": true,
           "type": "scatter",
           "x": [
            32,
            32
           ],
           "xaxis": "x",
           "y": [
            0.7733945538759781,
            0.5568878141381889
           ],
           "yaxis": "y"
          },
          {
           "hovertemplate": "Region=Kronoberg<br>Vecka=%{x}<br>Andel vaccinerade=%{y}<extra></extra>",
           "legendgroup": "Kronoberg",
           "marker": {
            "color": "#FF6692",
            "symbol": "circle"
           },
           "mode": "markers",
           "name": "Kronoberg",
           "orientation": "v",
           "showlegend": true,
           "type": "scatter",
           "x": [
            32,
            32
           ],
           "xaxis": "x",
           "y": [
            0.7729942949101887,
            0.5282562268968063
           ],
           "yaxis": "y"
          },
          {
           "hovertemplate": "Region=Kalmar<br>Vecka=%{x}<br>Andel vaccinerade=%{y}<extra></extra>",
           "legendgroup": "Kalmar",
           "marker": {
            "color": "#B6E880",
            "symbol": "circle"
           },
           "mode": "markers",
           "name": "Kalmar",
           "orientation": "v",
           "showlegend": true,
           "type": "scatter",
           "x": [
            32,
            32
           ],
           "xaxis": "x",
           "y": [
            0.82295000511494,
            0.6031683399827553
           ],
           "yaxis": "y"
          },
          {
           "hovertemplate": "Region=Gotland<br>Vecka=%{x}<br>Andel vaccinerade=%{y}<extra></extra>",
           "legendgroup": "Gotland",
           "marker": {
            "color": "#FF97FF",
            "symbol": "circle"
           },
           "mode": "markers",
           "name": "Gotland",
           "orientation": "v",
           "showlegend": true,
           "type": "scatter",
           "x": [
            32,
            32
           ],
           "xaxis": "x",
           "y": [
            0.8440909895208698,
            0.5639659477419735
           ],
           "yaxis": "y"
          },
          {
           "hovertemplate": "Region=Blekinge<br>Vecka=%{x}<br>Andel vaccinerade=%{y}<extra></extra>",
           "legendgroup": "Blekinge",
           "marker": {
            "color": "#FECB52",
            "symbol": "circle"
           },
           "mode": "markers",
           "name": "Blekinge",
           "orientation": "v",
           "showlegend": true,
           "type": "scatter",
           "x": [
            32,
            32
           ],
           "xaxis": "x",
           "y": [
            0.813834806700739,
            0.620580841442516
           ],
           "yaxis": "y"
          },
          {
           "hovertemplate": "Region=Skåne<br>Vecka=%{x}<br>Andel vaccinerade=%{y}<extra></extra>",
           "legendgroup": "Skåne",
           "marker": {
            "color": "#636efa",
            "symbol": "circle"
           },
           "mode": "markers",
           "name": "Skåne",
           "orientation": "v",
           "showlegend": true,
           "type": "scatter",
           "x": [
            32,
            32
           ],
           "xaxis": "x",
           "y": [
            0.758829600133028,
            0.5721056516655332
           ],
           "yaxis": "y"
          },
          {
           "hovertemplate": "Region=Halland<br>Vecka=%{x}<br>Andel vaccinerade=%{y}<extra></extra>",
           "legendgroup": "Halland",
           "marker": {
            "color": "#EF553B",
            "symbol": "circle"
           },
           "mode": "markers",
           "name": "Halland",
           "orientation": "v",
           "showlegend": true,
           "type": "scatter",
           "x": [
            32,
            32
           ],
           "xaxis": "x",
           "y": [
            0.8160636600928074,
            0.5840305974477958
           ],
           "yaxis": "y"
          },
          {
           "hovertemplate": "Region=Västra Götaland<br>Vecka=%{x}<br>Andel vaccinerade=%{y}<extra></extra>",
           "legendgroup": "Västra Götaland",
           "marker": {
            "color": "#00cc96",
            "symbol": "circle"
           },
           "mode": "markers",
           "name": "Västra Götaland",
           "orientation": "v",
           "showlegend": true,
           "type": "scatter",
           "x": [
            32,
            32
           ],
           "xaxis": "x",
           "y": [
            0.7591339382960435,
            0.5063599481460535
           ],
           "yaxis": "y"
          },
          {
           "hovertemplate": "Region=Värmland<br>Vecka=%{x}<br>Andel vaccinerade=%{y}<extra></extra>",
           "legendgroup": "Värmland",
           "marker": {
            "color": "#ab63fa",
            "symbol": "circle"
           },
           "mode": "markers",
           "name": "Värmland",
           "orientation": "v",
           "showlegend": true,
           "type": "scatter",
           "x": [
            32,
            32
           ],
           "xaxis": "x",
           "y": [
            0.8548642653427696,
            0.6648019435935354
           ],
           "yaxis": "y"
          },
          {
           "hovertemplate": "Region=Örebro<br>Vecka=%{x}<br>Andel vaccinerade=%{y}<extra></extra>",
           "legendgroup": "Örebro",
           "marker": {
            "color": "#FFA15A",
            "symbol": "circle"
           },
           "mode": "markers",
           "name": "Örebro",
           "orientation": "v",
           "showlegend": true,
           "type": "scatter",
           "x": [
            32,
            32
           ],
           "xaxis": "x",
           "y": [
            0.808126482590366,
            0.6489702826308951
           ],
           "yaxis": "y"
          },
          {
           "hovertemplate": "Region=Västmanland<br>Vecka=%{x}<br>Andel vaccinerade=%{y}<extra></extra>",
           "legendgroup": "Västmanland",
           "marker": {
            "color": "#19d3f3",
            "symbol": "circle"
           },
           "mode": "markers",
           "name": "Västmanland",
           "orientation": "v",
           "showlegend": true,
           "type": "scatter",
           "x": [
            32,
            32
           ],
           "xaxis": "x",
           "y": [
            0.7924274667437319,
            0.5768419024599567
           ],
           "yaxis": "y"
          },
          {
           "hovertemplate": "Region=Dalarna<br>Vecka=%{x}<br>Andel vaccinerade=%{y}<extra></extra>",
           "legendgroup": "Dalarna",
           "marker": {
            "color": "#FF6692",
            "symbol": "circle"
           },
           "mode": "markers",
           "name": "Dalarna",
           "orientation": "v",
           "showlegend": true,
           "type": "scatter",
           "x": [
            32,
            32
           ],
           "xaxis": "x",
           "y": [
            0.8176251464925498,
            0.6208856521011217
           ],
           "yaxis": "y"
          },
          {
           "hovertemplate": "Region=Gävleborg<br>Vecka=%{x}<br>Andel vaccinerade=%{y}<extra></extra>",
           "legendgroup": "Gävleborg",
           "marker": {
            "color": "#B6E880",
            "symbol": "circle"
           },
           "mode": "markers",
           "name": "Gävleborg",
           "orientation": "v",
           "showlegend": true,
           "type": "scatter",
           "x": [
            32,
            32
           ],
           "xaxis": "x",
           "y": [
            0.8091171417610461,
            0.6153445198739013
           ],
           "yaxis": "y"
          },
          {
           "hovertemplate": "Region=Västernorrland<br>Vecka=%{x}<br>Andel vaccinerade=%{y}<extra></extra>",
           "legendgroup": "Västernorrland",
           "marker": {
            "color": "#FF97FF",
            "symbol": "circle"
           },
           "mode": "markers",
           "name": "Västernorrland",
           "orientation": "v",
           "showlegend": true,
           "type": "scatter",
           "x": [
            32,
            32
           ],
           "xaxis": "x",
           "y": [
            0.8361025228941992,
            0.5663307054206211
           ],
           "yaxis": "y"
          },
          {
           "hovertemplate": "Region=Jämtland<br>Vecka=%{x}<br>Andel vaccinerade=%{y}<extra></extra>",
           "legendgroup": "Jämtland",
           "marker": {
            "color": "#FECB52",
            "symbol": "circle"
           },
           "mode": "markers",
           "name": "Jämtland",
           "orientation": "v",
           "showlegend": true,
           "type": "scatter",
           "x": [
            32,
            32
           ],
           "xaxis": "x",
           "y": [
            0.8090185676392573,
            0.5635732838930548
           ],
           "yaxis": "y"
          },
          {
           "hovertemplate": "Region=Västerbotten<br>Vecka=%{x}<br>Andel vaccinerade=%{y}<extra></extra>",
           "legendgroup": "Västerbotten",
           "marker": {
            "color": "#636efa",
            "symbol": "circle"
           },
           "mode": "markers",
           "name": "Västerbotten",
           "orientation": "v",
           "showlegend": true,
           "type": "scatter",
           "x": [
            32,
            32
           ],
           "xaxis": "x",
           "y": [
            0.8339650883796694,
            0.559858240331066
           ],
           "yaxis": "y"
          },
          {
           "hovertemplate": "Region=Norrbotten<br>Vecka=%{x}<br>Andel vaccinerade=%{y}<extra></extra>",
           "legendgroup": "Norrbotten",
           "marker": {
            "color": "#EF553B",
            "symbol": "circle"
           },
           "mode": "markers",
           "name": "Norrbotten",
           "orientation": "v",
           "showlegend": true,
           "type": "scatter",
           "x": [
            32,
            32
           ],
           "xaxis": "x",
           "y": [
            0.8368011973722227,
            0.561334539546912
           ],
           "yaxis": "y"
          }
         ],
         "name": "32"
        },
        {
         "data": [
          {
           "hovertemplate": "Region=| Sverige |<br>Vecka=%{x}<br>Andel vaccinerade=%{y}<extra></extra>",
           "legendgroup": "| Sverige |",
           "marker": {
            "color": "#636efa",
            "symbol": "circle"
           },
           "mode": "markers",
           "name": "| Sverige |",
           "orientation": "v",
           "showlegend": true,
           "type": "scatter",
           "x": [
            33,
            33
           ],
           "xaxis": "x",
           "y": [
            0.7965724275264628,
            0.6113399091517564
           ],
           "yaxis": "y"
          },
          {
           "hovertemplate": "Region=Stockholm<br>Vecka=%{x}<br>Andel vaccinerade=%{y}<extra></extra>",
           "legendgroup": "Stockholm",
           "marker": {
            "color": "#EF553B",
            "symbol": "circle"
           },
           "mode": "markers",
           "name": "Stockholm",
           "orientation": "v",
           "showlegend": true,
           "type": "scatter",
           "x": [
            33,
            33
           ],
           "xaxis": "x",
           "y": [
            0.7644083379713479,
            0.5839265379502333
           ],
           "yaxis": "y"
          },
          {
           "hovertemplate": "Region=Uppsala<br>Vecka=%{x}<br>Andel vaccinerade=%{y}<extra></extra>",
           "legendgroup": "Uppsala",
           "marker": {
            "color": "#00cc96",
            "symbol": "circle"
           },
           "mode": "markers",
           "name": "Uppsala",
           "orientation": "v",
           "showlegend": true,
           "type": "scatter",
           "x": [
            33,
            33
           ],
           "xaxis": "x",
           "y": [
            0.8547329135761496,
            0.6617374941685896
           ],
           "yaxis": "y"
          },
          {
           "hovertemplate": "Region=Södermanland<br>Vecka=%{x}<br>Andel vaccinerade=%{y}<extra></extra>",
           "legendgroup": "Södermanland",
           "marker": {
            "color": "#ab63fa",
            "symbol": "circle"
           },
           "mode": "markers",
           "name": "Södermanland",
           "orientation": "v",
           "showlegend": true,
           "type": "scatter",
           "x": [
            33,
            33
           ],
           "xaxis": "x",
           "y": [
            0.8110727378123954,
            0.6511295629526213
           ],
           "yaxis": "y"
          },
          {
           "hovertemplate": "Region=Östergötland<br>Vecka=%{x}<br>Andel vaccinerade=%{y}<extra></extra>",
           "legendgroup": "Östergötland",
           "marker": {
            "color": "#FFA15A",
            "symbol": "circle"
           },
           "mode": "markers",
           "name": "Östergötland",
           "orientation": "v",
           "showlegend": true,
           "type": "scatter",
           "x": [
            33,
            33
           ],
           "xaxis": "x",
           "y": [
            0.8304851571851245,
            0.6206493634352217
           ],
           "yaxis": "y"
          },
          {
           "hovertemplate": "Region=Jönköping<br>Vecka=%{x}<br>Andel vaccinerade=%{y}<extra></extra>",
           "legendgroup": "Jönköping",
           "marker": {
            "color": "#19d3f3",
            "symbol": "circle"
           },
           "mode": "markers",
           "name": "Jönköping",
           "orientation": "v",
           "showlegend": true,
           "type": "scatter",
           "x": [
            33,
            33
           ],
           "xaxis": "x",
           "y": [
            0.784237834429512,
            0.617882524978451
           ],
           "yaxis": "y"
          },
          {
           "hovertemplate": "Region=Kronoberg<br>Vecka=%{x}<br>Andel vaccinerade=%{y}<extra></extra>",
           "legendgroup": "Kronoberg",
           "marker": {
            "color": "#FF6692",
            "symbol": "circle"
           },
           "mode": "markers",
           "name": "Kronoberg",
           "orientation": "v",
           "showlegend": true,
           "type": "scatter",
           "x": [
            33,
            33
           ],
           "xaxis": "x",
           "y": [
            0.7857112607461991,
            0.5613554277002377
           ],
           "yaxis": "y"
          },
          {
           "hovertemplate": "Region=Kalmar<br>Vecka=%{x}<br>Andel vaccinerade=%{y}<extra></extra>",
           "legendgroup": "Kalmar",
           "marker": {
            "color": "#B6E880",
            "symbol": "circle"
           },
           "mode": "markers",
           "name": "Kalmar",
           "orientation": "v",
           "showlegend": true,
           "type": "scatter",
           "x": [
            33,
            33
           ],
           "xaxis": "x",
           "y": [
            0.8287323230108973,
            0.6622970464874977
           ],
           "yaxis": "y"
          },
          {
           "hovertemplate": "Region=Gotland<br>Vecka=%{x}<br>Andel vaccinerade=%{y}<extra></extra>",
           "legendgroup": "Gotland",
           "marker": {
            "color": "#FF97FF",
            "symbol": "circle"
           },
           "mode": "markers",
           "name": "Gotland",
           "orientation": "v",
           "showlegend": true,
           "type": "scatter",
           "x": [
            33,
            33
           ],
           "xaxis": "x",
           "y": [
            0.8589347856005348,
            0.6276861372707075
           ],
           "yaxis": "y"
          },
          {
           "hovertemplate": "Region=Blekinge<br>Vecka=%{x}<br>Andel vaccinerade=%{y}<extra></extra>",
           "legendgroup": "Blekinge",
           "marker": {
            "color": "#FECB52",
            "symbol": "circle"
           },
           "mode": "markers",
           "name": "Blekinge",
           "orientation": "v",
           "showlegend": true,
           "type": "scatter",
           "x": [
            33,
            33
           ],
           "xaxis": "x",
           "y": [
            0.8263817065897647,
            0.6608260419890838
           ],
           "yaxis": "y"
          },
          {
           "hovertemplate": "Region=Skåne<br>Vecka=%{x}<br>Andel vaccinerade=%{y}<extra></extra>",
           "legendgroup": "Skåne",
           "marker": {
            "color": "#636efa",
            "symbol": "circle"
           },
           "mode": "markers",
           "name": "Skåne",
           "orientation": "v",
           "showlegend": true,
           "type": "scatter",
           "x": [
            33,
            33
           ],
           "xaxis": "x",
           "y": [
            0.7687838233754442,
            0.6211227667004222
           ],
           "yaxis": "y"
          },
          {
           "hovertemplate": "Region=Halland<br>Vecka=%{x}<br>Andel vaccinerade=%{y}<extra></extra>",
           "legendgroup": "Halland",
           "marker": {
            "color": "#EF553B",
            "symbol": "circle"
           },
           "mode": "markers",
           "name": "Halland",
           "orientation": "v",
           "showlegend": true,
           "type": "scatter",
           "x": [
            33,
            33
           ],
           "xaxis": "x",
           "y": [
            0.8279691125290023,
            0.6433838457076566
           ],
           "yaxis": "y"
          },
          {
           "hovertemplate": "Region=Västra Götaland<br>Vecka=%{x}<br>Andel vaccinerade=%{y}<extra></extra>",
           "legendgroup": "Västra Götaland",
           "marker": {
            "color": "#00cc96",
            "symbol": "circle"
           },
           "mode": "markers",
           "name": "Västra Götaland",
           "orientation": "v",
           "showlegend": true,
           "type": "scatter",
           "x": [
            33,
            33
           ],
           "xaxis": "x",
           "y": [
            0.7743338363800794,
            0.5519554425644745
           ],
           "yaxis": "y"
          },
          {
           "hovertemplate": "Region=Värmland<br>Vecka=%{x}<br>Andel vaccinerade=%{y}<extra></extra>",
           "legendgroup": "Värmland",
           "marker": {
            "color": "#ab63fa",
            "symbol": "circle"
           },
           "mode": "markers",
           "name": "Värmland",
           "orientation": "v",
           "showlegend": true,
           "type": "scatter",
           "x": [
            33,
            33
           ],
           "xaxis": "x",
           "y": [
            0.8703327347628604,
            0.7191211577057146
           ],
           "yaxis": "y"
          },
          {
           "hovertemplate": "Region=Örebro<br>Vecka=%{x}<br>Andel vaccinerade=%{y}<extra></extra>",
           "legendgroup": "Örebro",
           "marker": {
            "color": "#FFA15A",
            "symbol": "circle"
           },
           "mode": "markers",
           "name": "Örebro",
           "orientation": "v",
           "showlegend": true,
           "type": "scatter",
           "x": [
            33,
            33
           ],
           "xaxis": "x",
           "y": [
            0.8184574305343086,
            0.6966952886903934
           ],
           "yaxis": "y"
          },
          {
           "hovertemplate": "Region=Västmanland<br>Vecka=%{x}<br>Andel vaccinerade=%{y}<extra></extra>",
           "legendgroup": "Västmanland",
           "marker": {
            "color": "#19d3f3",
            "symbol": "circle"
           },
           "mode": "markers",
           "name": "Västmanland",
           "orientation": "v",
           "showlegend": true,
           "type": "scatter",
           "x": [
            33,
            33
           ],
           "xaxis": "x",
           "y": [
            0.8028925728397657,
            0.6183520304057308
           ],
           "yaxis": "y"
          },
          {
           "hovertemplate": "Region=Dalarna<br>Vecka=%{x}<br>Andel vaccinerade=%{y}<extra></extra>",
           "legendgroup": "Dalarna",
           "marker": {
            "color": "#FF6692",
            "symbol": "circle"
           },
           "mode": "markers",
           "name": "Dalarna",
           "orientation": "v",
           "showlegend": true,
           "type": "scatter",
           "x": [
            33,
            33
           ],
           "xaxis": "x",
           "y": [
            0.8234848484848485,
            0.6768876611418048
           ],
           "yaxis": "y"
          },
          {
           "hovertemplate": "Region=Gävleborg<br>Vecka=%{x}<br>Andel vaccinerade=%{y}<extra></extra>",
           "legendgroup": "Gävleborg",
           "marker": {
            "color": "#B6E880",
            "symbol": "circle"
           },
           "mode": "markers",
           "name": "Gävleborg",
           "orientation": "v",
           "showlegend": true,
           "type": "scatter",
           "x": [
            33,
            33
           ],
           "xaxis": "x",
           "y": [
            0.8190582623054726,
            0.6530990942905276
           ],
           "yaxis": "y"
          },
          {
           "hovertemplate": "Region=Västernorrland<br>Vecka=%{x}<br>Andel vaccinerade=%{y}<extra></extra>",
           "legendgroup": "Västernorrland",
           "marker": {
            "color": "#FF97FF",
            "symbol": "circle"
           },
           "mode": "markers",
           "name": "Västernorrland",
           "orientation": "v",
           "showlegend": true,
           "type": "scatter",
           "x": [
            33,
            33
           ],
           "xaxis": "x",
           "y": [
            0.8458236766932398,
            0.640621095491717
           ],
           "yaxis": "y"
          },
          {
           "hovertemplate": "Region=Jämtland<br>Vecka=%{x}<br>Andel vaccinerade=%{y}<extra></extra>",
           "legendgroup": "Jämtland",
           "marker": {
            "color": "#FECB52",
            "symbol": "circle"
           },
           "mode": "markers",
           "name": "Jämtland",
           "orientation": "v",
           "showlegend": true,
           "type": "scatter",
           "x": [
            33,
            33
           ],
           "xaxis": "x",
           "y": [
            0.8247960129597166,
            0.6128973043422393
           ],
           "yaxis": "y"
          },
          {
           "hovertemplate": "Region=Västerbotten<br>Vecka=%{x}<br>Andel vaccinerade=%{y}<extra></extra>",
           "legendgroup": "Västerbotten",
           "marker": {
            "color": "#636efa",
            "symbol": "circle"
           },
           "mode": "markers",
           "name": "Västerbotten",
           "orientation": "v",
           "showlegend": true,
           "type": "scatter",
           "x": [
            33,
            33
           ],
           "xaxis": "x",
           "y": [
            0.8547315591362346,
            0.5984415241365647
           ],
           "yaxis": "y"
          },
          {
           "hovertemplate": "Region=Norrbotten<br>Vecka=%{x}<br>Andel vaccinerade=%{y}<extra></extra>",
           "legendgroup": "Norrbotten",
           "marker": {
            "color": "#EF553B",
            "symbol": "circle"
           },
           "mode": "markers",
           "name": "Norrbotten",
           "orientation": "v",
           "showlegend": true,
           "type": "scatter",
           "x": [
            33,
            33
           ],
           "xaxis": "x",
           "y": [
            0.8506647594598563,
            0.6109392835659715
           ],
           "yaxis": "y"
          }
         ],
         "name": "33"
        },
        {
         "data": [
          {
           "hovertemplate": "Region=| Sverige |<br>Vecka=%{x}<br>Andel vaccinerade=%{y}<extra></extra>",
           "legendgroup": "| Sverige |",
           "marker": {
            "color": "#636efa",
            "symbol": "circle"
           },
           "mode": "markers",
           "name": "| Sverige |",
           "orientation": "v",
           "showlegend": true,
           "type": "scatter",
           "x": [
            34,
            34
           ],
           "xaxis": "x",
           "y": [
            0.8070016298079833,
            0.656549314481993
           ],
           "yaxis": "y"
          },
          {
           "hovertemplate": "Region=Stockholm<br>Vecka=%{x}<br>Andel vaccinerade=%{y}<extra></extra>",
           "legendgroup": "Stockholm",
           "marker": {
            "color": "#EF553B",
            "symbol": "circle"
           },
           "mode": "markers",
           "name": "Stockholm",
           "orientation": "v",
           "showlegend": true,
           "type": "scatter",
           "x": [
            34,
            34
           ],
           "xaxis": "x",
           "y": [
            0.7749737862495426,
            0.6253171018200492
           ],
           "yaxis": "y"
          },
          {
           "hovertemplate": "Region=Uppsala<br>Vecka=%{x}<br>Andel vaccinerade=%{y}<extra></extra>",
           "legendgroup": "Uppsala",
           "marker": {
            "color": "#00cc96",
            "symbol": "circle"
           },
           "mode": "markers",
           "name": "Uppsala",
           "orientation": "v",
           "showlegend": true,
           "type": "scatter",
           "x": [
            34,
            34
           ],
           "xaxis": "x",
           "y": [
            0.8628608821162775,
            0.7077124903331653
           ],
           "yaxis": "y"
          },
          {
           "hovertemplate": "Region=Södermanland<br>Vecka=%{x}<br>Andel vaccinerade=%{y}<extra></extra>",
           "legendgroup": "Södermanland",
           "marker": {
            "color": "#ab63fa",
            "symbol": "circle"
           },
           "mode": "markers",
           "name": "Södermanland",
           "orientation": "v",
           "showlegend": true,
           "type": "scatter",
           "x": [
            34,
            34
           ],
           "xaxis": "x",
           "y": [
            0.8210987826683322,
            0.687502551416138
           ],
           "yaxis": "y"
          },
          {
           "hovertemplate": "Region=Östergötland<br>Vecka=%{x}<br>Andel vaccinerade=%{y}<extra></extra>",
           "legendgroup": "Östergötland",
           "marker": {
            "color": "#FFA15A",
            "symbol": "circle"
           },
           "mode": "markers",
           "name": "Östergötland",
           "orientation": "v",
           "showlegend": true,
           "type": "scatter",
           "x": [
            34,
            34
           ],
           "xaxis": "x",
           "y": [
            0.8399882894880019,
            0.6715408650233952
           ],
           "yaxis": "y"
          },
          {
           "hovertemplate": "Region=Jönköping<br>Vecka=%{x}<br>Andel vaccinerade=%{y}<extra></extra>",
           "legendgroup": "Jönköping",
           "marker": {
            "color": "#19d3f3",
            "symbol": "circle"
           },
           "mode": "markers",
           "name": "Jönköping",
           "orientation": "v",
           "showlegend": true,
           "type": "scatter",
           "x": [
            34,
            34
           ],
           "xaxis": "x",
           "y": [
            0.8000147573258384,
            0.6588609356815369
           ],
           "yaxis": "y"
          },
          {
           "hovertemplate": "Region=Kronoberg<br>Vecka=%{x}<br>Andel vaccinerade=%{y}<extra></extra>",
           "legendgroup": "Kronoberg",
           "marker": {
            "color": "#FF6692",
            "symbol": "circle"
           },
           "mode": "markers",
           "name": "Kronoberg",
           "orientation": "v",
           "showlegend": true,
           "type": "scatter",
           "x": [
            34,
            34
           ],
           "xaxis": "x",
           "y": [
            0.7929953838986998,
            0.6113218505544766
           ],
           "yaxis": "y"
          },
          {
           "hovertemplate": "Region=Kalmar<br>Vecka=%{x}<br>Andel vaccinerade=%{y}<extra></extra>",
           "legendgroup": "Kalmar",
           "marker": {
            "color": "#B6E880",
            "symbol": "circle"
           },
           "mode": "markers",
           "name": "Kalmar",
           "orientation": "v",
           "showlegend": true,
           "type": "scatter",
           "x": [
            34,
            34
           ],
           "xaxis": "x",
           "y": [
            0.8323030382743654,
            0.6989687306667446
           ],
           "yaxis": "y"
          },
          {
           "hovertemplate": "Region=Gotland<br>Vecka=%{x}<br>Andel vaccinerade=%{y}<extra></extra>",
           "legendgroup": "Gotland",
           "marker": {
            "color": "#FF97FF",
            "symbol": "circle"
           },
           "mode": "markers",
           "name": "Gotland",
           "orientation": "v",
           "showlegend": true,
           "type": "scatter",
           "x": [
            34,
            34
           ],
           "xaxis": "x",
           "y": [
            0.8707901618072076,
            0.688968405324106
           ],
           "yaxis": "y"
          },
          {
           "hovertemplate": "Region=Blekinge<br>Vecka=%{x}<br>Andel vaccinerade=%{y}<extra></extra>",
           "legendgroup": "Blekinge",
           "marker": {
            "color": "#FECB52",
            "symbol": "circle"
           },
           "mode": "markers",
           "name": "Blekinge",
           "orientation": "v",
           "showlegend": true,
           "type": "scatter",
           "x": [
            34,
            34
           ],
           "xaxis": "x",
           "y": [
            0.834708560126224,
            0.6946090606433495
           ],
           "yaxis": "y"
          },
          {
           "hovertemplate": "Region=Skåne<br>Vecka=%{x}<br>Andel vaccinerade=%{y}<extra></extra>",
           "legendgroup": "Skåne",
           "marker": {
            "color": "#636efa",
            "symbol": "circle"
           },
           "mode": "markers",
           "name": "Skåne",
           "orientation": "v",
           "showlegend": true,
           "type": "scatter",
           "x": [
            34,
            34
           ],
           "xaxis": "x",
           "y": [
            0.7774878299634965,
            0.6657108946571494
           ],
           "yaxis": "y"
          },
          {
           "hovertemplate": "Region=Halland<br>Vecka=%{x}<br>Andel vaccinerade=%{y}<extra></extra>",
           "legendgroup": "Halland",
           "marker": {
            "color": "#EF553B",
            "symbol": "circle"
           },
           "mode": "markers",
           "name": "Halland",
           "orientation": "v",
           "showlegend": true,
           "type": "scatter",
           "x": [
            34,
            34
           ],
           "xaxis": "x",
           "y": [
            0.8377392691415313,
            0.698742024361949
           ],
           "yaxis": "y"
          },
          {
           "hovertemplate": "Region=Västra Götaland<br>Vecka=%{x}<br>Andel vaccinerade=%{y}<extra></extra>",
           "legendgroup": "Västra Götaland",
           "marker": {
            "color": "#00cc96",
            "symbol": "circle"
           },
           "mode": "markers",
           "name": "Västra Götaland",
           "orientation": "v",
           "showlegend": true,
           "type": "scatter",
           "x": [
            34,
            34
           ],
           "xaxis": "x",
           "y": [
            0.7896184311101281,
            0.6019173640723827
           ],
           "yaxis": "y"
          },
          {
           "hovertemplate": "Region=Värmland<br>Vecka=%{x}<br>Andel vaccinerade=%{y}<extra></extra>",
           "legendgroup": "Värmland",
           "marker": {
            "color": "#ab63fa",
            "symbol": "circle"
           },
           "mode": "markers",
           "name": "Värmland",
           "orientation": "v",
           "showlegend": true,
           "type": "scatter",
           "x": [
            34,
            34
           ],
           "xaxis": "x",
           "y": [
            0.8758550755255097,
            0.770402450617936
           ],
           "yaxis": "y"
          },
          {
           "hovertemplate": "Region=Örebro<br>Vecka=%{x}<br>Andel vaccinerade=%{y}<extra></extra>",
           "legendgroup": "Örebro",
           "marker": {
            "color": "#FFA15A",
            "symbol": "circle"
           },
           "mode": "markers",
           "name": "Örebro",
           "orientation": "v",
           "showlegend": true,
           "type": "scatter",
           "x": [
            34,
            34
           ],
           "xaxis": "x",
           "y": [
            0.8260188897409714,
            0.7332350568798153
           ],
           "yaxis": "y"
          },
          {
           "hovertemplate": "Region=Västmanland<br>Vecka=%{x}<br>Andel vaccinerade=%{y}<extra></extra>",
           "legendgroup": "Västmanland",
           "marker": {
            "color": "#19d3f3",
            "symbol": "circle"
           },
           "mode": "markers",
           "name": "Västmanland",
           "orientation": "v",
           "showlegend": true,
           "type": "scatter",
           "x": [
            34,
            34
           ],
           "xaxis": "x",
           "y": [
            0.8114441846412527,
            0.6652611022077433
           ],
           "yaxis": "y"
          },
          {
           "hovertemplate": "Region=Dalarna<br>Vecka=%{x}<br>Andel vaccinerade=%{y}<extra></extra>",
           "legendgroup": "Dalarna",
           "marker": {
            "color": "#FF6692",
            "symbol": "circle"
           },
           "mode": "markers",
           "name": "Dalarna",
           "orientation": "v",
           "showlegend": true,
           "type": "scatter",
           "x": [
            34,
            34
           ],
           "xaxis": "x",
           "y": [
            0.832002343880797,
            0.7203666499246609
           ],
           "yaxis": "y"
          },
          {
           "hovertemplate": "Region=Gävleborg<br>Vecka=%{x}<br>Andel vaccinerade=%{y}<extra></extra>",
           "legendgroup": "Gävleborg",
           "marker": {
            "color": "#B6E880",
            "symbol": "circle"
           },
           "mode": "markers",
           "name": "Gävleborg",
           "orientation": "v",
           "showlegend": true,
           "type": "scatter",
           "x": [
            34,
            34
           ],
           "xaxis": "x",
           "y": [
            0.8262055276633363,
            0.6891356562640735
           ],
           "yaxis": "y"
          },
          {
           "hovertemplate": "Region=Västernorrland<br>Vecka=%{x}<br>Andel vaccinerade=%{y}<extra></extra>",
           "legendgroup": "Västernorrland",
           "marker": {
            "color": "#FF97FF",
            "symbol": "circle"
           },
           "mode": "markers",
           "name": "Västernorrland",
           "orientation": "v",
           "showlegend": true,
           "type": "scatter",
           "x": [
            34,
            34
           ],
           "xaxis": "x",
           "y": [
            0.8541238957131868,
            0.697223297450647
           ],
           "yaxis": "y"
          },
          {
           "hovertemplate": "Region=Jämtland<br>Vecka=%{x}<br>Andel vaccinerade=%{y}<extra></extra>",
           "legendgroup": "Jämtland",
           "marker": {
            "color": "#FECB52",
            "symbol": "circle"
           },
           "mode": "markers",
           "name": "Jämtland",
           "orientation": "v",
           "showlegend": true,
           "type": "scatter",
           "x": [
            34,
            34
           ],
           "xaxis": "x",
           "y": [
            0.8335887951685589,
            0.6657274237515259
           ],
           "yaxis": "y"
          },
          {
           "hovertemplate": "Region=Västerbotten<br>Vecka=%{x}<br>Andel vaccinerade=%{y}<extra></extra>",
           "legendgroup": "Västerbotten",
           "marker": {
            "color": "#636efa",
            "symbol": "circle"
           },
           "mode": "markers",
           "name": "Västerbotten",
           "orientation": "v",
           "showlegend": true,
           "type": "scatter",
           "x": [
            34,
            34
           ],
           "xaxis": "x",
           "y": [
            0.86856413304277,
            0.6462611987937221
           ],
           "yaxis": "y"
          },
          {
           "hovertemplate": "Region=Norrbotten<br>Vecka=%{x}<br>Andel vaccinerade=%{y}<extra></extra>",
           "legendgroup": "Norrbotten",
           "marker": {
            "color": "#EF553B",
            "symbol": "circle"
           },
           "mode": "markers",
           "name": "Norrbotten",
           "orientation": "v",
           "showlegend": true,
           "type": "scatter",
           "x": [
            34,
            34
           ],
           "xaxis": "x",
           "y": [
            0.8614070070904518,
            0.6582373809377206
           ],
           "yaxis": "y"
          }
         ],
         "name": "34"
        },
        {
         "data": [
          {
           "hovertemplate": "Region=| Sverige |<br>Vecka=%{x}<br>Andel vaccinerade=%{y}<extra></extra>",
           "legendgroup": "| Sverige |",
           "marker": {
            "color": "#636efa",
            "symbol": "circle"
           },
           "mode": "markers",
           "name": "| Sverige |",
           "orientation": "v",
           "showlegend": true,
           "type": "scatter",
           "x": [
            35,
            35
           ],
           "xaxis": "x",
           "y": [
            0.8157918922174884,
            0.6914191973608373
           ],
           "yaxis": "y"
          },
          {
           "hovertemplate": "Region=Stockholm<br>Vecka=%{x}<br>Andel vaccinerade=%{y}<extra></extra>",
           "legendgroup": "Stockholm",
           "marker": {
            "color": "#EF553B",
            "symbol": "circle"
           },
           "mode": "markers",
           "name": "Stockholm",
           "orientation": "v",
           "showlegend": true,
           "type": "scatter",
           "x": [
            35,
            35
           ],
           "xaxis": "x",
           "y": [
            0.7834698088318046,
            0.6545145561906988
           ],
           "yaxis": "y"
          },
          {
           "hovertemplate": "Region=Uppsala<br>Vecka=%{x}<br>Andel vaccinerade=%{y}<extra></extra>",
           "legendgroup": "Uppsala",
           "marker": {
            "color": "#00cc96",
            "symbol": "circle"
           },
           "mode": "markers",
           "name": "Uppsala",
           "orientation": "v",
           "showlegend": true,
           "type": "scatter",
           "x": [
            35,
            35
           ],
           "xaxis": "x",
           "y": [
            0.8714303158197946,
            0.7441004912474052
           ],
           "yaxis": "y"
          },
          {
           "hovertemplate": "Region=Södermanland<br>Vecka=%{x}<br>Andel vaccinerade=%{y}<extra></extra>",
           "legendgroup": "Södermanland",
           "marker": {
            "color": "#ab63fa",
            "symbol": "circle"
           },
           "mode": "markers",
           "name": "Södermanland",
           "orientation": "v",
           "showlegend": true,
           "type": "scatter",
           "x": [
            35,
            35
           ],
           "xaxis": "x",
           "y": [
            0.8302226467778676,
            0.7107796311264605
           ],
           "yaxis": "y"
          },
          {
           "hovertemplate": "Region=Östergötland<br>Vecka=%{x}<br>Andel vaccinerade=%{y}<extra></extra>",
           "legendgroup": "Östergötland",
           "marker": {
            "color": "#FFA15A",
            "symbol": "circle"
           },
           "mode": "markers",
           "name": "Östergötland",
           "orientation": "v",
           "showlegend": true,
           "type": "scatter",
           "x": [
            35,
            35
           ],
           "xaxis": "x",
           "y": [
            0.8453435169880149,
            0.7132738135334138
           ],
           "yaxis": "y"
          },
          {
           "hovertemplate": "Region=Jönköping<br>Vecka=%{x}<br>Andel vaccinerade=%{y}<extra></extra>",
           "legendgroup": "Jönköping",
           "marker": {
            "color": "#19d3f3",
            "symbol": "circle"
           },
           "mode": "markers",
           "name": "Jönköping",
           "orientation": "v",
           "showlegend": true,
           "type": "scatter",
           "x": [
            35,
            35
           ],
           "xaxis": "x",
           "y": [
            0.8152718198801303,
            0.677113064593486
           ],
           "yaxis": "y"
          },
          {
           "hovertemplate": "Region=Kronoberg<br>Vecka=%{x}<br>Andel vaccinerade=%{y}<extra></extra>",
           "legendgroup": "Kronoberg",
           "marker": {
            "color": "#FF6692",
            "symbol": "circle"
           },
           "mode": "markers",
           "name": "Kronoberg",
           "orientation": "v",
           "showlegend": true,
           "type": "scatter",
           "x": [
            35,
            35
           ],
           "xaxis": "x",
           "y": [
            0.8004912548172617,
            0.6586626011095583
           ],
           "yaxis": "y"
          },
          {
           "hovertemplate": "Region=Kalmar<br>Vecka=%{x}<br>Andel vaccinerade=%{y}<extra></extra>",
           "legendgroup": "Kalmar",
           "marker": {
            "color": "#B6E880",
            "symbol": "circle"
           },
           "mode": "markers",
           "name": "Kalmar",
           "orientation": "v",
           "showlegend": true,
           "type": "scatter",
           "x": [
            35,
            35
           ],
           "xaxis": "x",
           "y": [
            0.8398341785162777,
            0.742372650172203
           ],
           "yaxis": "y"
          },
          {
           "hovertemplate": "Region=Gotland<br>Vecka=%{x}<br>Andel vaccinerade=%{y}<extra></extra>",
           "legendgroup": "Gotland",
           "marker": {
            "color": "#FF97FF",
            "symbol": "circle"
           },
           "mode": "markers",
           "name": "Gotland",
           "orientation": "v",
           "showlegend": true,
           "type": "scatter",
           "x": [
            35,
            35
           ],
           "xaxis": "x",
           "y": [
            0.8798537247114798,
            0.7148614906710182
           ],
           "yaxis": "y"
          },
          {
           "hovertemplate": "Region=Blekinge<br>Vecka=%{x}<br>Andel vaccinerade=%{y}<extra></extra>",
           "legendgroup": "Blekinge",
           "marker": {
            "color": "#FECB52",
            "symbol": "circle"
           },
           "mode": "markers",
           "name": "Blekinge",
           "orientation": "v",
           "showlegend": true,
           "type": "scatter",
           "x": [
            35,
            35
           ],
           "xaxis": "x",
           "y": [
            0.8420162611446215,
            0.7238096676052935
           ],
           "yaxis": "y"
          },
          {
           "hovertemplate": "Region=Skåne<br>Vecka=%{x}<br>Andel vaccinerade=%{y}<extra></extra>",
           "legendgroup": "Skåne",
           "marker": {
            "color": "#636efa",
            "symbol": "circle"
           },
           "mode": "markers",
           "name": "Skåne",
           "orientation": "v",
           "showlegend": true,
           "type": "scatter",
           "x": [
            35,
            35
           ],
           "xaxis": "x",
           "y": [
            0.7852205211494251,
            0.6915800855707753
           ],
           "yaxis": "y"
          },
          {
           "hovertemplate": "Region=Halland<br>Vecka=%{x}<br>Andel vaccinerade=%{y}<extra></extra>",
           "legendgroup": "Halland",
           "marker": {
            "color": "#EF553B",
            "symbol": "circle"
           },
           "mode": "markers",
           "name": "Halland",
           "orientation": "v",
           "showlegend": true,
           "type": "scatter",
           "x": [
            35,
            35
           ],
           "xaxis": "x",
           "y": [
            0.8429560614849188,
            0.7270156612529002
           ],
           "yaxis": "y"
          },
          {
           "hovertemplate": "Region=Västra Götaland<br>Vecka=%{x}<br>Andel vaccinerade=%{y}<extra></extra>",
           "legendgroup": "Västra Götaland",
           "marker": {
            "color": "#00cc96",
            "symbol": "circle"
           },
           "mode": "markers",
           "name": "Västra Götaland",
           "orientation": "v",
           "showlegend": true,
           "type": "scatter",
           "x": [
            35,
            35
           ],
           "xaxis": "x",
           "y": [
            0.8014871611084201,
            0.6504191434019213
           ],
           "yaxis": "y"
          },
          {
           "hovertemplate": "Region=Värmland<br>Vecka=%{x}<br>Andel vaccinerade=%{y}<extra></extra>",
           "legendgroup": "Värmland",
           "marker": {
            "color": "#ab63fa",
            "symbol": "circle"
           },
           "mode": "markers",
           "name": "Värmland",
           "orientation": "v",
           "showlegend": true,
           "type": "scatter",
           "x": [
            35,
            35
           ],
           "xaxis": "x",
           "y": [
            0.8827294813562903,
            0.8024168163092849
           ],
           "yaxis": "y"
          },
          {
           "hovertemplate": "Region=Örebro<br>Vecka=%{x}<br>Andel vaccinerade=%{y}<extra></extra>",
           "legendgroup": "Örebro",
           "marker": {
            "color": "#FFA15A",
            "symbol": "circle"
           },
           "mode": "markers",
           "name": "Örebro",
           "orientation": "v",
           "showlegend": true,
           "type": "scatter",
           "x": [
            35,
            35
           ],
           "xaxis": "x",
           "y": [
            0.8347684079611875,
            0.7570200777999849
           ],
           "yaxis": "y"
          },
          {
           "hovertemplate": "Region=Västmanland<br>Vecka=%{x}<br>Andel vaccinerade=%{y}<extra></extra>",
           "legendgroup": "Västmanland",
           "marker": {
            "color": "#19d3f3",
            "symbol": "circle"
           },
           "mode": "markers",
           "name": "Västmanland",
           "orientation": "v",
           "showlegend": true,
           "type": "scatter",
           "x": [
            35,
            35
           ],
           "xaxis": "x",
           "y": [
            0.8178064437029836,
            0.7043848356671834
           ],
           "yaxis": "y"
          },
          {
           "hovertemplate": "Region=Dalarna<br>Vecka=%{x}<br>Andel vaccinerade=%{y}<extra></extra>",
           "legendgroup": "Dalarna",
           "marker": {
            "color": "#FF6692",
            "symbol": "circle"
           },
           "mode": "markers",
           "name": "Dalarna",
           "orientation": "v",
           "showlegend": true,
           "type": "scatter",
           "x": [
            35,
            35
           ],
           "xaxis": "x",
           "y": [
            0.8399715385903231,
            0.7579440817009878
           ],
           "yaxis": "y"
          },
          {
           "hovertemplate": "Region=Gävleborg<br>Vecka=%{x}<br>Andel vaccinerade=%{y}<extra></extra>",
           "legendgroup": "Gävleborg",
           "marker": {
            "color": "#B6E880",
            "symbol": "circle"
           },
           "mode": "markers",
           "name": "Gävleborg",
           "orientation": "v",
           "showlegend": true,
           "type": "scatter",
           "x": [
            35,
            35
           ],
           "xaxis": "x",
           "y": [
            0.8323853685386886,
            0.7111403933080913
           ],
           "yaxis": "y"
          },
          {
           "hovertemplate": "Region=Västernorrland<br>Vecka=%{x}<br>Andel vaccinerade=%{y}<extra></extra>",
           "legendgroup": "Västernorrland",
           "marker": {
            "color": "#FF97FF",
            "symbol": "circle"
           },
           "mode": "markers",
           "name": "Västernorrland",
           "orientation": "v",
           "showlegend": true,
           "type": "scatter",
           "x": [
            35,
            35
           ],
           "xaxis": "x",
           "y": [
            0.8641096373676448,
            0.7472598007751444
           ],
           "yaxis": "y"
          },
          {
           "hovertemplate": "Region=Jämtland<br>Vecka=%{x}<br>Andel vaccinerade=%{y}<extra></extra>",
           "legendgroup": "Jämtland",
           "marker": {
            "color": "#FECB52",
            "symbol": "circle"
           },
           "mode": "markers",
           "name": "Jämtland",
           "orientation": "v",
           "showlegend": true,
           "type": "scatter",
           "x": [
            35,
            35
           ],
           "xaxis": "x",
           "y": [
            0.8436757133809991,
            0.6980349324938276
           ],
           "yaxis": "y"
          },
          {
           "hovertemplate": "Region=Västerbotten<br>Vecka=%{x}<br>Andel vaccinerade=%{y}<extra></extra>",
           "legendgroup": "Västerbotten",
           "marker": {
            "color": "#636efa",
            "symbol": "circle"
           },
           "mode": "markers",
           "name": "Västerbotten",
           "orientation": "v",
           "showlegend": true,
           "type": "scatter",
           "x": [
            35,
            35
           ],
           "xaxis": "x",
           "y": [
            0.8778489511105241,
            0.6996456008276651
           ],
           "yaxis": "y"
          },
          {
           "hovertemplate": "Region=Norrbotten<br>Vecka=%{x}<br>Andel vaccinerade=%{y}<extra></extra>",
           "legendgroup": "Norrbotten",
           "marker": {
            "color": "#EF553B",
            "symbol": "circle"
           },
           "mode": "markers",
           "name": "Norrbotten",
           "orientation": "v",
           "showlegend": true,
           "type": "scatter",
           "x": [
            35,
            35
           ],
           "xaxis": "x",
           "y": [
            0.8690042580602381,
            0.7102008724523869
           ],
           "yaxis": "y"
          }
         ],
         "name": "35"
        },
        {
         "data": [
          {
           "hovertemplate": "Region=| Sverige |<br>Vecka=%{x}<br>Andel vaccinerade=%{y}<extra></extra>",
           "legendgroup": "| Sverige |",
           "marker": {
            "color": "#636efa",
            "symbol": "circle"
           },
           "mode": "markers",
           "name": "| Sverige |",
           "orientation": "v",
           "showlegend": true,
           "type": "scatter",
           "x": [
            36,
            36
           ],
           "xaxis": "x",
           "y": [
            0.8234695861861218,
            0.7169970322532455
           ],
           "yaxis": "y"
          },
          {
           "hovertemplate": "Region=Stockholm<br>Vecka=%{x}<br>Andel vaccinerade=%{y}<extra></extra>",
           "legendgroup": "Stockholm",
           "marker": {
            "color": "#EF553B",
            "symbol": "circle"
           },
           "mode": "markers",
           "name": "Stockholm",
           "orientation": "v",
           "showlegend": true,
           "type": "scatter",
           "x": [
            36,
            36
           ],
           "xaxis": "x",
           "y": [
            0.7912744853853857,
            0.6767221895938329
           ],
           "yaxis": "y"
          },
          {
           "hovertemplate": "Region=Uppsala<br>Vecka=%{x}<br>Andel vaccinerade=%{y}<extra></extra>",
           "legendgroup": "Uppsala",
           "marker": {
            "color": "#00cc96",
            "symbol": "circle"
           },
           "mode": "markers",
           "name": "Uppsala",
           "orientation": "v",
           "showlegend": true,
           "type": "scatter",
           "x": [
            36,
            36
           ],
           "xaxis": "x",
           "y": [
            0.8760703964732882,
            0.7634153748853286
           ],
           "yaxis": "y"
          },
          {
           "hovertemplate": "Region=Södermanland<br>Vecka=%{x}<br>Andel vaccinerade=%{y}<extra></extra>",
           "legendgroup": "Södermanland",
           "marker": {
            "color": "#ab63fa",
            "symbol": "circle"
           },
           "mode": "markers",
           "name": "Södermanland",
           "orientation": "v",
           "showlegend": true,
           "type": "scatter",
           "x": [
            36,
            36
           ],
           "xaxis": "x",
           "y": [
            0.8369053159265518,
            0.7289865366873229
           ],
           "yaxis": "y"
          },
          {
           "hovertemplate": "Region=Östergötland<br>Vecka=%{x}<br>Andel vaccinerade=%{y}<extra></extra>",
           "legendgroup": "Östergötland",
           "marker": {
            "color": "#FFA15A",
            "symbol": "circle"
           },
           "mode": "markers",
           "name": "Östergötland",
           "orientation": "v",
           "showlegend": true,
           "type": "scatter",
           "x": [
            36,
            36
           ],
           "xaxis": "x",
           "y": [
            0.8517376638046728,
            0.7481669939737497
           ],
           "yaxis": "y"
          },
          {
           "hovertemplate": "Region=Jönköping<br>Vecka=%{x}<br>Andel vaccinerade=%{y}<extra></extra>",
           "legendgroup": "Jönköping",
           "marker": {
            "color": "#19d3f3",
            "symbol": "circle"
           },
           "mode": "markers",
           "name": "Jönköping",
           "orientation": "v",
           "showlegend": true,
           "type": "scatter",
           "x": [
            36,
            36
           ],
           "xaxis": "x",
           "y": [
            0.8256690267208215,
            0.6985950355014304
           ],
           "yaxis": "y"
          },
          {
           "hovertemplate": "Region=Kronoberg<br>Vecka=%{x}<br>Andel vaccinerade=%{y}<extra></extra>",
           "legendgroup": "Kronoberg",
           "marker": {
            "color": "#FF6692",
            "symbol": "circle"
           },
           "mode": "markers",
           "name": "Kronoberg",
           "orientation": "v",
           "showlegend": true,
           "type": "scatter",
           "x": [
            36,
            36
           ],
           "xaxis": "x",
           "y": [
            0.8099412551197585,
            0.6940668275949688
           ],
           "yaxis": "y"
          },
          {
           "hovertemplate": "Region=Kalmar<br>Vecka=%{x}<br>Andel vaccinerade=%{y}<extra></extra>",
           "legendgroup": "Kalmar",
           "marker": {
            "color": "#B6E880",
            "symbol": "circle"
           },
           "mode": "markers",
           "name": "Kalmar",
           "orientation": "v",
           "showlegend": true,
           "type": "scatter",
           "x": [
            36,
            36
           ],
           "xaxis": "x",
           "y": [
            0.8460500484701458,
            0.7636654147242073
           ],
           "yaxis": "y"
          },
          {
           "hovertemplate": "Region=Gotland<br>Vecka=%{x}<br>Andel vaccinerade=%{y}<extra></extra>",
           "legendgroup": "Gotland",
           "marker": {
            "color": "#FF97FF",
            "symbol": "circle"
           },
           "mode": "markers",
           "name": "Gotland",
           "orientation": "v",
           "showlegend": true,
           "type": "scatter",
           "x": [
            36,
            36
           ],
           "xaxis": "x",
           "y": [
            0.8878752727916167,
            0.7298232506930381
           ],
           "yaxis": "y"
          },
          {
           "hovertemplate": "Region=Blekinge<br>Vecka=%{x}<br>Andel vaccinerade=%{y}<extra></extra>",
           "legendgroup": "Blekinge",
           "marker": {
            "color": "#FECB52",
            "symbol": "circle"
           },
           "mode": "markers",
           "name": "Blekinge",
           "orientation": "v",
           "showlegend": true,
           "type": "scatter",
           "x": [
            36,
            36
           ],
           "xaxis": "x",
           "y": [
            0.8467119120056167,
            0.7598725681888527
           ],
           "yaxis": "y"
          },
          {
           "hovertemplate": "Region=Skåne<br>Vecka=%{x}<br>Andel vaccinerade=%{y}<extra></extra>",
           "legendgroup": "Skåne",
           "marker": {
            "color": "#636efa",
            "symbol": "circle"
           },
           "mode": "markers",
           "name": "Skåne",
           "orientation": "v",
           "showlegend": true,
           "type": "scatter",
           "x": [
            36,
            36
           ],
           "xaxis": "x",
           "y": [
            0.7927772494001863,
            0.7104890625838574
           ],
           "yaxis": "y"
          },
          {
           "hovertemplate": "Region=Halland<br>Vecka=%{x}<br>Andel vaccinerade=%{y}<extra></extra>",
           "legendgroup": "Halland",
           "marker": {
            "color": "#EF553B",
            "symbol": "circle"
           },
           "mode": "markers",
           "name": "Halland",
           "orientation": "v",
           "showlegend": true,
           "type": "scatter",
           "x": [
            36,
            36
           ],
           "xaxis": "x",
           "y": [
            0.8482852378190255,
            0.7633736948955916
           ],
           "yaxis": "y"
          },
          {
           "hovertemplate": "Region=Västra Götaland<br>Vecka=%{x}<br>Andel vaccinerade=%{y}<extra></extra>",
           "legendgroup": "Västra Götaland",
           "marker": {
            "color": "#00cc96",
            "symbol": "circle"
           },
           "mode": "markers",
           "name": "Västra Götaland",
           "orientation": "v",
           "showlegend": true,
           "type": "scatter",
           "x": [
            36,
            36
           ],
           "xaxis": "x",
           "y": [
            0.8119671461010144,
            0.6807244433120448
           ],
           "yaxis": "y"
          },
          {
           "hovertemplate": "Region=Värmland<br>Vecka=%{x}<br>Andel vaccinerade=%{y}<extra></extra>",
           "legendgroup": "Värmland",
           "marker": {
            "color": "#ab63fa",
            "symbol": "circle"
           },
           "mode": "markers",
           "name": "Värmland",
           "orientation": "v",
           "showlegend": true,
           "type": "scatter",
           "x": [
            36,
            36
           ],
           "xaxis": "x",
           "y": [
            0.8865490651737615,
            0.8206358931023555
           ],
           "yaxis": "y"
          },
          {
           "hovertemplate": "Region=Örebro<br>Vecka=%{x}<br>Andel vaccinerade=%{y}<extra></extra>",
           "legendgroup": "Örebro",
           "marker": {
            "color": "#FFA15A",
            "symbol": "circle"
           },
           "mode": "markers",
           "name": "Örebro",
           "orientation": "v",
           "showlegend": true,
           "type": "scatter",
           "x": [
            36,
            36
           ],
           "xaxis": "x",
           "y": [
            0.8417219306157643,
            0.7740581950244565
           ],
           "yaxis": "y"
          },
          {
           "hovertemplate": "Region=Västmanland<br>Vecka=%{x}<br>Andel vaccinerade=%{y}<extra></extra>",
           "legendgroup": "Västmanland",
           "marker": {
            "color": "#19d3f3",
            "symbol": "circle"
           },
           "mode": "markers",
           "name": "Västmanland",
           "orientation": "v",
           "showlegend": true,
           "type": "scatter",
           "x": [
            36,
            36
           ],
           "xaxis": "x",
           "y": [
            0.8240855073606039,
            0.7319969524209863
           ],
           "yaxis": "y"
          },
          {
           "hovertemplate": "Region=Dalarna<br>Vecka=%{x}<br>Andel vaccinerade=%{y}<extra></extra>",
           "legendgroup": "Dalarna",
           "marker": {
            "color": "#FF6692",
            "symbol": "circle"
           },
           "mode": "markers",
           "name": "Dalarna",
           "orientation": "v",
           "showlegend": true,
           "type": "scatter",
           "x": [
            36,
            36
           ],
           "xaxis": "x",
           "y": [
            0.8490373346726938,
            0.7845806127574083
           ],
           "yaxis": "y"
          },
          {
           "hovertemplate": "Region=Gävleborg<br>Vecka=%{x}<br>Andel vaccinerade=%{y}<extra></extra>",
           "legendgroup": "Gävleborg",
           "marker": {
            "color": "#B6E880",
            "symbol": "circle"
           },
           "mode": "markers",
           "name": "Gävleborg",
           "orientation": "v",
           "showlegend": true,
           "type": "scatter",
           "x": [
            36,
            36
           ],
           "xaxis": "x",
           "y": [
            0.838519340149784,
            0.7271612763331277
           ],
           "yaxis": "y"
          },
          {
           "hovertemplate": "Region=Västernorrland<br>Vecka=%{x}<br>Andel vaccinerade=%{y}<extra></extra>",
           "legendgroup": "Västernorrland",
           "marker": {
            "color": "#FF97FF",
            "symbol": "circle"
           },
           "mode": "markers",
           "name": "Västernorrland",
           "orientation": "v",
           "showlegend": true,
           "type": "scatter",
           "x": [
            36,
            36
           ],
           "xaxis": "x",
           "y": [
            0.867661974315379,
            0.7807301644854501
           ],
           "yaxis": "y"
          },
          {
           "hovertemplate": "Region=Jämtland<br>Vecka=%{x}<br>Andel vaccinerade=%{y}<extra></extra>",
           "legendgroup": "Jämtland",
           "marker": {
            "color": "#FECB52",
            "symbol": "circle"
           },
           "mode": "markers",
           "name": "Jämtland",
           "orientation": "v",
           "showlegend": true,
           "type": "scatter",
           "x": [
            36,
            36
           ],
           "xaxis": "x",
           "y": [
            0.8514864207502317,
            0.7287913136857177
           ],
           "yaxis": "y"
          },
          {
           "hovertemplate": "Region=Västerbotten<br>Vecka=%{x}<br>Andel vaccinerade=%{y}<extra></extra>",
           "legendgroup": "Västerbotten",
           "marker": {
            "color": "#636efa",
            "symbol": "circle"
           },
           "mode": "markers",
           "name": "Västerbotten",
           "orientation": "v",
           "showlegend": true,
           "type": "scatter",
           "x": [
            36,
            36
           ],
           "xaxis": "x",
           "y": [
            0.8879878491712342,
            0.7378326619560193
           ],
           "yaxis": "y"
          },
          {
           "hovertemplate": "Region=Norrbotten<br>Vecka=%{x}<br>Andel vaccinerade=%{y}<extra></extra>",
           "legendgroup": "Norrbotten",
           "marker": {
            "color": "#EF553B",
            "symbol": "circle"
           },
           "mode": "markers",
           "name": "Norrbotten",
           "orientation": "v",
           "showlegend": true,
           "type": "scatter",
           "x": [
            36,
            36
           ],
           "xaxis": "x",
           "y": [
            0.8744985293351458,
            0.7580057689848386
           ],
           "yaxis": "y"
          }
         ],
         "name": "36"
        },
        {
         "data": [
          {
           "hovertemplate": "Region=| Sverige |<br>Vecka=%{x}<br>Andel vaccinerade=%{y}<extra></extra>",
           "legendgroup": "| Sverige |",
           "marker": {
            "color": "#636efa",
            "symbol": "circle"
           },
           "mode": "markers",
           "name": "| Sverige |",
           "orientation": "v",
           "showlegend": true,
           "type": "scatter",
           "x": [
            37,
            37
           ],
           "xaxis": "x",
           "y": [
            0.8300488778489298,
            0.7382957577576859
           ],
           "yaxis": "y"
          },
          {
           "hovertemplate": "Region=Stockholm<br>Vecka=%{x}<br>Andel vaccinerade=%{y}<extra></extra>",
           "legendgroup": "Stockholm",
           "marker": {
            "color": "#EF553B",
            "symbol": "circle"
           },
           "mode": "markers",
           "name": "Stockholm",
           "orientation": "v",
           "showlegend": true,
           "type": "scatter",
           "x": [
            37,
            37
           ],
           "xaxis": "x",
           "y": [
            0.7978307416825794,
            0.6948422203840994
           ],
           "yaxis": "y"
          },
          {
           "hovertemplate": "Region=Uppsala<br>Vecka=%{x}<br>Andel vaccinerade=%{y}<extra></extra>",
           "legendgroup": "Uppsala",
           "marker": {
            "color": "#00cc96",
            "symbol": "circle"
           },
           "mode": "markers",
           "name": "Uppsala",
           "orientation": "v",
           "showlegend": true,
           "type": "scatter",
           "x": [
            37,
            37
           ],
           "xaxis": "x",
           "y": [
            0.8802157856670977,
            0.7892269976298644
           ],
           "yaxis": "y"
          },
          {
           "hovertemplate": "Region=Södermanland<br>Vecka=%{x}<br>Andel vaccinerade=%{y}<extra></extra>",
           "legendgroup": "Södermanland",
           "marker": {
            "color": "#ab63fa",
            "symbol": "circle"
           },
           "mode": "markers",
           "name": "Södermanland",
           "orientation": "v",
           "showlegend": true,
           "type": "scatter",
           "x": [
            37,
            37
           ],
           "xaxis": "x",
           "y": [
            0.8425061846327185,
            0.7518431430181007
           ],
           "yaxis": "y"
          },
          {
           "hovertemplate": "Region=Östergötland<br>Vecka=%{x}<br>Andel vaccinerade=%{y}<extra></extra>",
           "legendgroup": "Östergötland",
           "marker": {
            "color": "#FFA15A",
            "symbol": "circle"
           },
           "mode": "markers",
           "name": "Östergötland",
           "orientation": "v",
           "showlegend": true,
           "type": "scatter",
           "x": [
            37,
            37
           ],
           "xaxis": "x",
           "y": [
            0.8574322888869313,
            0.7786687324148008
           ],
           "yaxis": "y"
          },
          {
           "hovertemplate": "Region=Jönköping<br>Vecka=%{x}<br>Andel vaccinerade=%{y}<extra></extra>",
           "legendgroup": "Jönköping",
           "marker": {
            "color": "#19d3f3",
            "symbol": "circle"
           },
           "mode": "markers",
           "name": "Jönköping",
           "orientation": "v",
           "showlegend": true,
           "type": "scatter",
           "x": [
            37,
            37
           ],
           "xaxis": "x",
           "y": [
            0.8338425728726812,
            0.7156665783463075
           ],
           "yaxis": "y"
          },
          {
           "hovertemplate": "Region=Kronoberg<br>Vecka=%{x}<br>Andel vaccinerade=%{y}<extra></extra>",
           "legendgroup": "Kronoberg",
           "marker": {
            "color": "#FF6692",
            "symbol": "circle"
           },
           "mode": "markers",
           "name": "Kronoberg",
           "orientation": "v",
           "showlegend": true,
           "type": "scatter",
           "x": [
            37,
            37
           ],
           "xaxis": "x",
           "y": [
            0.8164570363782662,
            0.7283699656968619
           ],
           "yaxis": "y"
          },
          {
           "hovertemplate": "Region=Kalmar<br>Vecka=%{x}<br>Andel vaccinerade=%{y}<extra></extra>",
           "legendgroup": "Kalmar",
           "marker": {
            "color": "#B6E880",
            "symbol": "circle"
           },
           "mode": "markers",
           "name": "Kalmar",
           "orientation": "v",
           "showlegend": true,
           "type": "scatter",
           "x": [
            37,
            37
           ],
           "xaxis": "x",
           "y": [
            0.8519785075092191,
            0.790769725400792
           ],
           "yaxis": "y"
          },
          {
           "hovertemplate": "Region=Gotland<br>Vecka=%{x}<br>Andel vaccinerade=%{y}<extra></extra>",
           "legendgroup": "Gotland",
           "marker": {
            "color": "#FF97FF",
            "symbol": "circle"
           },
           "mode": "markers",
           "name": "Gotland",
           "orientation": "v",
           "showlegend": true,
           "type": "scatter",
           "x": [
            37,
            37
           ],
           "xaxis": "x",
           "y": [
            0.8976662800070778,
            0.7876255824469653
           ],
           "yaxis": "y"
          },
          {
           "hovertemplate": "Region=Blekinge<br>Vecka=%{x}<br>Andel vaccinerade=%{y}<extra></extra>",
           "legendgroup": "Blekinge",
           "marker": {
            "color": "#FECB52",
            "symbol": "circle"
           },
           "mode": "markers",
           "name": "Blekinge",
           "orientation": "v",
           "showlegend": true,
           "type": "scatter",
           "x": [
            37,
            37
           ],
           "xaxis": "x",
           "y": [
            0.8527588836127824,
            0.7908925511274847
           ],
           "yaxis": "y"
          },
          {
           "hovertemplate": "Region=Skåne<br>Vecka=%{x}<br>Andel vaccinerade=%{y}<extra></extra>",
           "legendgroup": "Skåne",
           "marker": {
            "color": "#636efa",
            "symbol": "circle"
           },
           "mode": "markers",
           "name": "Skåne",
           "orientation": "v",
           "showlegend": true,
           "type": "scatter",
           "x": [
            37,
            37
           ],
           "xaxis": "x",
           "y": [
            0.7994004942798849,
            0.726350361559841
           ],
           "yaxis": "y"
          },
          {
           "hovertemplate": "Region=Halland<br>Vecka=%{x}<br>Andel vaccinerade=%{y}<extra></extra>",
           "legendgroup": "Halland",
           "marker": {
            "color": "#EF553B",
            "symbol": "circle"
           },
           "mode": "markers",
           "name": "Halland",
           "orientation": "v",
           "showlegend": true,
           "type": "scatter",
           "x": [
            37,
            37
           ],
           "xaxis": "x",
           "y": [
            0.8540929524361949,
            0.7881416763341067
           ],
           "yaxis": "y"
          },
          {
           "hovertemplate": "Region=Västra Götaland<br>Vecka=%{x}<br>Andel vaccinerade=%{y}<extra></extra>",
           "legendgroup": "Västra Götaland",
           "marker": {
            "color": "#00cc96",
            "symbol": "circle"
           },
           "mode": "markers",
           "name": "Västra Götaland",
           "orientation": "v",
           "showlegend": true,
           "type": "scatter",
           "x": [
            37,
            37
           ],
           "xaxis": "x",
           "y": [
            0.8206524021648742,
            0.7027861696676811
           ],
           "yaxis": "y"
          },
          {
           "hovertemplate": "Region=Värmland<br>Vecka=%{x}<br>Andel vaccinerade=%{y}<extra></extra>",
           "legendgroup": "Värmland",
           "marker": {
            "color": "#ab63fa",
            "symbol": "circle"
           },
           "mode": "markers",
           "name": "Värmland",
           "orientation": "v",
           "showlegend": true,
           "type": "scatter",
           "x": [
            37,
            37
           ],
           "xaxis": "x",
           "y": [
            0.8899123270307383,
            0.840616879687335
           ],
           "yaxis": "y"
          },
          {
           "hovertemplate": "Region=Örebro<br>Vecka=%{x}<br>Andel vaccinerade=%{y}<extra></extra>",
           "legendgroup": "Örebro",
           "marker": {
            "color": "#FFA15A",
            "symbol": "circle"
           },
           "mode": "markers",
           "name": "Örebro",
           "orientation": "v",
           "showlegend": true,
           "type": "scatter",
           "x": [
            37,
            37
           ],
           "xaxis": "x",
           "y": [
            0.8469946875086919,
            0.7844725852402541
           ],
           "yaxis": "y"
          },
          {
           "hovertemplate": "Region=Västmanland<br>Vecka=%{x}<br>Andel vaccinerade=%{y}<extra></extra>",
           "legendgroup": "Västmanland",
           "marker": {
            "color": "#19d3f3",
            "symbol": "circle"
           },
           "mode": "markers",
           "name": "Västmanland",
           "orientation": "v",
           "showlegend": true,
           "type": "scatter",
           "x": [
            37,
            37
           ],
           "xaxis": "x",
           "y": [
            0.8295369956825964,
            0.7497920114897232
           ],
           "yaxis": "y"
          },
          {
           "hovertemplate": "Region=Dalarna<br>Vecka=%{x}<br>Andel vaccinerade=%{y}<extra></extra>",
           "legendgroup": "Dalarna",
           "marker": {
            "color": "#FF6692",
            "symbol": "circle"
           },
           "mode": "markers",
           "name": "Dalarna",
           "orientation": "v",
           "showlegend": true,
           "type": "scatter",
           "x": [
            37,
            37
           ],
           "xaxis": "x",
           "y": [
            0.855763435459568,
            0.7951197053406999
           ],
           "yaxis": "y"
          },
          {
           "hovertemplate": "Region=Gävleborg<br>Vecka=%{x}<br>Andel vaccinerade=%{y}<extra></extra>",
           "legendgroup": "Gävleborg",
           "marker": {
            "color": "#B6E880",
            "symbol": "circle"
           },
           "mode": "markers",
           "name": "Gävleborg",
           "orientation": "v",
           "showlegend": true,
           "type": "scatter",
           "x": [
            37,
            37
           ],
           "xaxis": "x",
           "y": [
            0.8441695995196237,
            0.7427067869831367
           ],
           "yaxis": "y"
          },
          {
           "hovertemplate": "Region=Västernorrland<br>Vecka=%{x}<br>Andel vaccinerade=%{y}<extra></extra>",
           "legendgroup": "Västernorrland",
           "marker": {
            "color": "#FF97FF",
            "symbol": "circle"
           },
           "mode": "markers",
           "name": "Västernorrland",
           "orientation": "v",
           "showlegend": true,
           "type": "scatter",
           "x": [
            37,
            37
           ],
           "xaxis": "x",
           "y": [
            0.8719688766285627,
            0.8010642311517902
           ],
           "yaxis": "y"
          },
          {
           "hovertemplate": "Region=Jämtland<br>Vecka=%{x}<br>Andel vaccinerade=%{y}<extra></extra>",
           "legendgroup": "Jämtland",
           "marker": {
            "color": "#FECB52",
            "symbol": "circle"
           },
           "mode": "markers",
           "name": "Jämtland",
           "orientation": "v",
           "showlegend": true,
           "type": "scatter",
           "x": [
            37,
            37
           ],
           "xaxis": "x",
           "y": [
            0.859251236771819,
            0.7600983910493515
           ],
           "yaxis": "y"
          },
          {
           "hovertemplate": "Region=Västerbotten<br>Vecka=%{x}<br>Andel vaccinerade=%{y}<extra></extra>",
           "legendgroup": "Västerbotten",
           "marker": {
            "color": "#636efa",
            "symbol": "circle"
           },
           "mode": "markers",
           "name": "Västerbotten",
           "orientation": "v",
           "showlegend": true,
           "type": "scatter",
           "x": [
            37,
            37
           ],
           "xaxis": "x",
           "y": [
            0.8950714301437408,
            0.7780008364700962
           ],
           "yaxis": "y"
          },
          {
           "hovertemplate": "Region=Norrbotten<br>Vecka=%{x}<br>Andel vaccinerade=%{y}<extra></extra>",
           "legendgroup": "Norrbotten",
           "marker": {
            "color": "#EF553B",
            "symbol": "circle"
           },
           "mode": "markers",
           "name": "Norrbotten",
           "orientation": "v",
           "showlegend": true,
           "type": "scatter",
           "x": [
            37,
            37
           ],
           "xaxis": "x",
           "y": [
            0.8805517006190529,
            0.7904693339143367
           ],
           "yaxis": "y"
          }
         ],
         "name": "37"
        },
        {
         "data": [
          {
           "hovertemplate": "Region=| Sverige |<br>Vecka=%{x}<br>Andel vaccinerade=%{y}<extra></extra>",
           "legendgroup": "| Sverige |",
           "marker": {
            "color": "#636efa",
            "symbol": "circle"
           },
           "mode": "markers",
           "name": "| Sverige |",
           "orientation": "v",
           "showlegend": true,
           "type": "scatter",
           "x": [
            38,
            38
           ],
           "xaxis": "x",
           "y": [
            0.8351824042085363,
            0.7546069500463444
           ],
           "yaxis": "y"
          },
          {
           "hovertemplate": "Region=Stockholm<br>Vecka=%{x}<br>Andel vaccinerade=%{y}<extra></extra>",
           "legendgroup": "Stockholm",
           "marker": {
            "color": "#EF553B",
            "symbol": "circle"
           },
           "mode": "markers",
           "name": "Stockholm",
           "orientation": "v",
           "showlegend": true,
           "type": "scatter",
           "x": [
            38,
            38
           ],
           "xaxis": "x",
           "y": [
            0.8028551719755277,
            0.7105858452922359
           ],
           "yaxis": "y"
          },
          {
           "hovertemplate": "Region=Uppsala<br>Vecka=%{x}<br>Andel vaccinerade=%{y}<extra></extra>",
           "legendgroup": "Uppsala",
           "marker": {
            "color": "#00cc96",
            "symbol": "circle"
           },
           "mode": "markers",
           "name": "Uppsala",
           "orientation": "v",
           "showlegend": true,
           "type": "scatter",
           "x": [
            38,
            38
           ],
           "xaxis": "x",
           "y": [
            0.8846147825079604,
            0.8189836282174513
           ],
           "yaxis": "y"
          },
          {
           "hovertemplate": "Region=Södermanland<br>Vecka=%{x}<br>Andel vaccinerade=%{y}<extra></extra>",
           "legendgroup": "Södermanland",
           "marker": {
            "color": "#ab63fa",
            "symbol": "circle"
           },
           "mode": "markers",
           "name": "Södermanland",
           "orientation": "v",
           "showlegend": true,
           "type": "scatter",
           "x": [
            38,
            38
           ],
           "xaxis": "x",
           "y": [
            0.8478376237947111,
            0.767841542769899
           ],
           "yaxis": "y"
          },
          {
           "hovertemplate": "Region=Östergötland<br>Vecka=%{x}<br>Andel vaccinerade=%{y}<extra></extra>",
           "legendgroup": "Östergötland",
           "marker": {
            "color": "#FFA15A",
            "symbol": "circle"
           },
           "mode": "markers",
           "name": "Östergötland",
           "orientation": "v",
           "showlegend": true,
           "type": "scatter",
           "x": [
            38,
            38
           ],
           "xaxis": "x",
           "y": [
            0.8658135955935312,
            0.800237319225448
           ],
           "yaxis": "y"
          },
          {
           "hovertemplate": "Region=Jönköping<br>Vecka=%{x}<br>Andel vaccinerade=%{y}<extra></extra>",
           "legendgroup": "Jönköping",
           "marker": {
            "color": "#19d3f3",
            "symbol": "circle"
           },
           "mode": "markers",
           "name": "Jönköping",
           "orientation": "v",
           "showlegend": true,
           "type": "scatter",
           "x": [
            38,
            38
           ],
           "xaxis": "x",
           "y": [
            0.8390378223553363,
            0.7270297192418759
           ],
           "yaxis": "y"
          },
          {
           "hovertemplate": "Region=Kronoberg<br>Vecka=%{x}<br>Andel vaccinerade=%{y}<extra></extra>",
           "legendgroup": "Kronoberg",
           "marker": {
            "color": "#FF6692",
            "symbol": "circle"
           },
           "mode": "markers",
           "name": "Kronoberg",
           "orientation": "v",
           "showlegend": true,
           "type": "scatter",
           "x": [
            38,
            38
           ],
           "xaxis": "x",
           "y": [
            0.8217083809765807,
            0.7497322903243371
           ],
           "yaxis": "y"
          },
          {
           "hovertemplate": "Region=Kalmar<br>Vecka=%{x}<br>Andel vaccinerade=%{y}<extra></extra>",
           "legendgroup": "Kalmar",
           "marker": {
            "color": "#B6E880",
            "symbol": "circle"
           },
           "mode": "markers",
           "name": "Kalmar",
           "orientation": "v",
           "showlegend": true,
           "type": "scatter",
           "x": [
            38,
            38
           ],
           "xaxis": "x",
           "y": [
            0.8583015476347056,
            0.7980670398137187
           ],
           "yaxis": "y"
          },
          {
           "hovertemplate": "Region=Gotland<br>Vecka=%{x}<br>Andel vaccinerade=%{y}<extra></extra>",
           "legendgroup": "Gotland",
           "marker": {
            "color": "#FF97FF",
            "symbol": "circle"
           },
           "mode": "markers",
           "name": "Gotland",
           "orientation": "v",
           "showlegend": true,
           "type": "scatter",
           "x": [
            38,
            38
           ],
           "xaxis": "x",
           "y": [
            0.9011068949924307,
            0.8191809370269154
           ],
           "yaxis": "y"
          },
          {
           "hovertemplate": "Region=Blekinge<br>Vecka=%{x}<br>Andel vaccinerade=%{y}<extra></extra>",
           "legendgroup": "Blekinge",
           "marker": {
            "color": "#FECB52",
            "symbol": "circle"
           },
           "mode": "markers",
           "name": "Blekinge",
           "orientation": "v",
           "showlegend": true,
           "type": "scatter",
           "x": [
            38,
            38
           ],
           "xaxis": "x",
           "y": [
            0.8572733518039,
            0.8058099242807425
           ],
           "yaxis": "y"
          },
          {
           "hovertemplate": "Region=Skåne<br>Vecka=%{x}<br>Andel vaccinerade=%{y}<extra></extra>",
           "legendgroup": "Skåne",
           "marker": {
            "color": "#636efa",
            "symbol": "circle"
           },
           "mode": "markers",
           "name": "Skåne",
           "orientation": "v",
           "showlegend": true,
           "type": "scatter",
           "x": [
            38,
            38
           ],
           "xaxis": "x",
           "y": [
            0.8027041983876516,
            0.7394780763380001
           ],
           "yaxis": "y"
          },
          {
           "hovertemplate": "Region=Halland<br>Vecka=%{x}<br>Andel vaccinerade=%{y}<extra></extra>",
           "legendgroup": "Halland",
           "marker": {
            "color": "#EF553B",
            "symbol": "circle"
           },
           "mode": "markers",
           "name": "Halland",
           "orientation": "v",
           "showlegend": true,
           "type": "scatter",
           "x": [
            38,
            38
           ],
           "xaxis": "x",
           "y": [
            0.8586716937354988,
            0.8039443155452436
           ],
           "yaxis": "y"
          },
          {
           "hovertemplate": "Region=Västra Götaland<br>Vecka=%{x}<br>Andel vaccinerade=%{y}<extra></extra>",
           "legendgroup": "Västra Götaland",
           "marker": {
            "color": "#00cc96",
            "symbol": "circle"
           },
           "mode": "markers",
           "name": "Västra Götaland",
           "orientation": "v",
           "showlegend": true,
           "type": "scatter",
           "x": [
            38,
            38
           ],
           "xaxis": "x",
           "y": [
            0.8271082465134381,
            0.7184438496235549
           ],
           "yaxis": "y"
          },
          {
           "hovertemplate": "Region=Värmland<br>Vecka=%{x}<br>Andel vaccinerade=%{y}<extra></extra>",
           "legendgroup": "Värmland",
           "marker": {
            "color": "#ab63fa",
            "symbol": "circle"
           },
           "mode": "markers",
           "name": "Värmland",
           "orientation": "v",
           "showlegend": true,
           "type": "scatter",
           "x": [
            38,
            38
           ],
           "xaxis": "x",
           "y": [
            0.8933178409210943,
            0.8501320376043097
           ],
           "yaxis": "y"
          },
          {
           "hovertemplate": "Region=Örebro<br>Vecka=%{x}<br>Andel vaccinerade=%{y}<extra></extra>",
           "legendgroup": "Örebro",
           "marker": {
            "color": "#FFA15A",
            "symbol": "circle"
           },
           "mode": "markers",
           "name": "Örebro",
           "orientation": "v",
           "showlegend": true,
           "type": "scatter",
           "x": [
            38,
            38
           ],
           "xaxis": "x",
           "y": [
            0.8523508866734745,
            0.7942591716963814
           ],
           "yaxis": "y"
          },
          {
           "hovertemplate": "Region=Västmanland<br>Vecka=%{x}<br>Andel vaccinerade=%{y}<extra></extra>",
           "legendgroup": "Västmanland",
           "marker": {
            "color": "#19d3f3",
            "symbol": "circle"
           },
           "mode": "markers",
           "name": "Västmanland",
           "orientation": "v",
           "showlegend": true,
           "type": "scatter",
           "x": [
            38,
            38
           ],
           "xaxis": "x",
           "y": [
            0.8345593708675967,
            0.7633309688323744
           ],
           "yaxis": "y"
          },
          {
           "hovertemplate": "Region=Dalarna<br>Vecka=%{x}<br>Andel vaccinerade=%{y}<extra></extra>",
           "legendgroup": "Dalarna",
           "marker": {
            "color": "#FF6692",
            "symbol": "circle"
           },
           "mode": "markers",
           "name": "Dalarna",
           "orientation": "v",
           "showlegend": true,
           "type": "scatter",
           "x": [
            38,
            38
           ],
           "xaxis": "x",
           "y": [
            0.8618868240415202,
            0.8033358446341872
           ],
           "yaxis": "y"
          },
          {
           "hovertemplate": "Region=Gävleborg<br>Vecka=%{x}<br>Andel vaccinerade=%{y}<extra></extra>",
           "legendgroup": "Gävleborg",
           "marker": {
            "color": "#B6E880",
            "symbol": "circle"
           },
           "mode": "markers",
           "name": "Gävleborg",
           "orientation": "v",
           "showlegend": true,
           "type": "scatter",
           "x": [
            38,
            38
           ],
           "xaxis": "x",
           "y": [
            0.8489650226010375,
            0.7545202074958718
           ],
           "yaxis": "y"
          },
          {
           "hovertemplate": "Region=Västernorrland<br>Vecka=%{x}<br>Andel vaccinerade=%{y}<extra></extra>",
           "legendgroup": "Västernorrland",
           "marker": {
            "color": "#FF97FF",
            "symbol": "circle"
           },
           "mode": "markers",
           "name": "Västernorrland",
           "orientation": "v",
           "showlegend": true,
           "type": "scatter",
           "x": [
            38,
            38
           ],
           "xaxis": "x",
           "y": [
            0.8750214365160639,
            0.83399071982596
           ],
           "yaxis": "y"
          },
          {
           "hovertemplate": "Region=Jämtland<br>Vecka=%{x}<br>Andel vaccinerade=%{y}<extra></extra>",
           "legendgroup": "Jämtland",
           "marker": {
            "color": "#FECB52",
            "symbol": "circle"
           },
           "mode": "markers",
           "name": "Jämtland",
           "orientation": "v",
           "showlegend": true,
           "type": "scatter",
           "x": [
            38,
            38
           ],
           "xaxis": "x",
           "y": [
            0.8660615127623837,
            0.7781061558653731
           ],
           "yaxis": "y"
          },
          {
           "hovertemplate": "Region=Västerbotten<br>Vecka=%{x}<br>Andel vaccinerade=%{y}<extra></extra>",
           "legendgroup": "Västerbotten",
           "marker": {
            "color": "#636efa",
            "symbol": "circle"
           },
           "mode": "markers",
           "name": "Västerbotten",
           "orientation": "v",
           "showlegend": true,
           "type": "scatter",
           "x": [
            38,
            38
           ],
           "xaxis": "x",
           "y": [
            0.9001430804111911,
            0.8101080807413766
           ],
           "yaxis": "y"
          },
          {
           "hovertemplate": "Region=Norrbotten<br>Vecka=%{x}<br>Andel vaccinerade=%{y}<extra></extra>",
           "legendgroup": "Norrbotten",
           "marker": {
            "color": "#EF553B",
            "symbol": "circle"
           },
           "mode": "markers",
           "name": "Norrbotten",
           "orientation": "v",
           "showlegend": true,
           "type": "scatter",
           "x": [
            38,
            38
           ],
           "xaxis": "x",
           "y": [
            0.8849944820465213,
            0.8123943181656712
           ],
           "yaxis": "y"
          }
         ],
         "name": "38"
        },
        {
         "data": [
          {
           "hovertemplate": "Region=| Sverige |<br>Vecka=%{x}<br>Andel vaccinerade=%{y}<extra></extra>",
           "legendgroup": "| Sverige |",
           "marker": {
            "color": "#636efa",
            "symbol": "circle"
           },
           "mode": "markers",
           "name": "| Sverige |",
           "orientation": "v",
           "showlegend": true,
           "type": "scatter",
           "x": [
            39,
            39
           ],
           "xaxis": "x",
           "y": [
            0.839083359743614,
            0.7686636195037005
           ],
           "yaxis": "y"
          },
          {
           "hovertemplate": "Region=Stockholm<br>Vecka=%{x}<br>Andel vaccinerade=%{y}<extra></extra>",
           "legendgroup": "Stockholm",
           "marker": {
            "color": "#EF553B",
            "symbol": "circle"
           },
           "mode": "markers",
           "name": "Stockholm",
           "orientation": "v",
           "showlegend": true,
           "type": "scatter",
           "x": [
            39,
            39
           ],
           "xaxis": "x",
           "y": [
            0.8067234298142847,
            0.72449168898551
           ],
           "yaxis": "y"
          },
          {
           "hovertemplate": "Region=Uppsala<br>Vecka=%{x}<br>Andel vaccinerade=%{y}<extra></extra>",
           "legendgroup": "Uppsala",
           "marker": {
            "color": "#00cc96",
            "symbol": "circle"
           },
           "mode": "markers",
           "name": "Uppsala",
           "orientation": "v",
           "showlegend": true,
           "type": "scatter",
           "x": [
            39,
            39
           ],
           "xaxis": "x",
           "y": [
            0.8862554048172929,
            0.8280101818773854
           ],
           "yaxis": "y"
          },
          {
           "hovertemplate": "Region=Södermanland<br>Vecka=%{x}<br>Andel vaccinerade=%{y}<extra></extra>",
           "legendgroup": "Södermanland",
           "marker": {
            "color": "#ab63fa",
            "symbol": "circle"
           },
           "mode": "markers",
           "name": "Södermanland",
           "orientation": "v",
           "showlegend": true,
           "type": "scatter",
           "x": [
            39,
            39
           ],
           "xaxis": "x",
           "y": [
            0.85126264481838,
            0.7768143630440639
           ],
           "yaxis": "y"
          },
          {
           "hovertemplate": "Region=Östergötland<br>Vecka=%{x}<br>Andel vaccinerade=%{y}<extra></extra>",
           "legendgroup": "Östergötland",
           "marker": {
            "color": "#FFA15A",
            "symbol": "circle"
           },
           "mode": "markers",
           "name": "Östergötland",
           "orientation": "v",
           "showlegend": true,
           "type": "scatter",
           "x": [
            39,
            39
           ],
           "xaxis": "x",
           "y": [
            0.8688837187611729,
            0.8104062925866241
           ],
           "yaxis": "y"
          },
          {
           "hovertemplate": "Region=Jönköping<br>Vecka=%{x}<br>Andel vaccinerade=%{y}<extra></extra>",
           "legendgroup": "Jönköping",
           "marker": {
            "color": "#19d3f3",
            "symbol": "circle"
           },
           "mode": "markers",
           "name": "Jönköping",
           "orientation": "v",
           "showlegend": true,
           "type": "scatter",
           "x": [
            39,
            39
           ],
           "xaxis": "x",
           "y": [
            0.8428814349487015,
            0.7564907079156283
           ],
           "yaxis": "y"
          },
          {
           "hovertemplate": "Region=Kronoberg<br>Vecka=%{x}<br>Andel vaccinerade=%{y}<extra></extra>",
           "legendgroup": "Kronoberg",
           "marker": {
            "color": "#FF6692",
            "symbol": "circle"
           },
           "mode": "markers",
           "name": "Kronoberg",
           "orientation": "v",
           "showlegend": true,
           "type": "scatter",
           "x": [
            39,
            39
           ],
           "xaxis": "x",
           "y": [
            0.8272440725750343,
            0.7617051140110472
           ],
           "yaxis": "y"
          },
          {
           "hovertemplate": "Region=Kalmar<br>Vecka=%{x}<br>Andel vaccinerade=%{y}<extra></extra>",
           "legendgroup": "Kalmar",
           "marker": {
            "color": "#B6E880",
            "symbol": "circle"
           },
           "mode": "markers",
           "name": "Kalmar",
           "orientation": "v",
           "showlegend": true,
           "type": "scatter",
           "x": [
            39,
            39
           ],
           "xaxis": "x",
           "y": [
            0.8622035161559034,
            0.8092906796050292
           ],
           "yaxis": "y"
          },
          {
           "hovertemplate": "Region=Gotland<br>Vecka=%{x}<br>Andel vaccinerade=%{y}<extra></extra>",
           "legendgroup": "Gotland",
           "marker": {
            "color": "#FF97FF",
            "symbol": "circle"
           },
           "mode": "markers",
           "name": "Gotland",
           "orientation": "v",
           "showlegend": true,
           "type": "scatter",
           "x": [
            39,
            39
           ],
           "xaxis": "x",
           "y": [
            0.9040363328942453,
            0.8343786249336452
           ],
           "yaxis": "y"
          },
          {
           "hovertemplate": "Region=Blekinge<br>Vecka=%{x}<br>Andel vaccinerade=%{y}<extra></extra>",
           "legendgroup": "Blekinge",
           "marker": {
            "color": "#FECB52",
            "symbol": "circle"
           },
           "mode": "markers",
           "name": "Blekinge",
           "orientation": "v",
           "showlegend": true,
           "type": "scatter",
           "x": [
            39,
            39
           ],
           "xaxis": "x",
           "y": [
            0.8603157108022618,
            0.8158127175135699
           ],
           "yaxis": "y"
          },
          {
           "hovertemplate": "Region=Skåne<br>Vecka=%{x}<br>Andel vaccinerade=%{y}<extra></extra>",
           "legendgroup": "Skåne",
           "marker": {
            "color": "#636efa",
            "symbol": "circle"
           },
           "mode": "markers",
           "name": "Skåne",
           "orientation": "v",
           "showlegend": true,
           "type": "scatter",
           "x": [
            39,
            39
           ],
           "xaxis": "x",
           "y": [
            0.8050752989390315,
            0.7510810722829343
           ],
           "yaxis": "y"
          },
          {
           "hovertemplate": "Region=Halland<br>Vecka=%{x}<br>Andel vaccinerade=%{y}<extra></extra>",
           "legendgroup": "Halland",
           "marker": {
            "color": "#EF553B",
            "symbol": "circle"
           },
           "mode": "markers",
           "name": "Halland",
           "orientation": "v",
           "showlegend": true,
           "type": "scatter",
           "x": [
            39,
            39
           ],
           "xaxis": "x",
           "y": [
            0.8628661542923434,
            0.8106656032482599
           ],
           "yaxis": "y"
          },
          {
           "hovertemplate": "Region=Västra Götaland<br>Vecka=%{x}<br>Andel vaccinerade=%{y}<extra></extra>",
           "legendgroup": "Västra Götaland",
           "marker": {
            "color": "#00cc96",
            "symbol": "circle"
           },
           "mode": "markers",
           "name": "Västra Götaland",
           "orientation": "v",
           "showlegend": true,
           "type": "scatter",
           "x": [
            39,
            39
           ],
           "xaxis": "x",
           "y": [
            0.8338097811326671,
            0.7399763969346814
           ],
           "yaxis": "y"
          },
          {
           "hovertemplate": "Region=Värmland<br>Vecka=%{x}<br>Andel vaccinerade=%{y}<extra></extra>",
           "legendgroup": "Värmland",
           "marker": {
            "color": "#ab63fa",
            "symbol": "circle"
           },
           "mode": "markers",
           "name": "Värmland",
           "orientation": "v",
           "showlegend": true,
           "type": "scatter",
           "x": [
            39,
            39
           ],
           "xaxis": "x",
           "y": [
            0.8960853491074258,
            0.8613161508397592
           ],
           "yaxis": "y"
          },
          {
           "hovertemplate": "Region=Örebro<br>Vecka=%{x}<br>Andel vaccinerade=%{y}<extra></extra>",
           "legendgroup": "Örebro",
           "marker": {
            "color": "#FFA15A",
            "symbol": "circle"
           },
           "mode": "markers",
           "name": "Örebro",
           "orientation": "v",
           "showlegend": true,
           "type": "scatter",
           "x": [
            39,
            39
           ],
           "xaxis": "x",
           "y": [
            0.855783940144077,
            0.8023570455078257
           ],
           "yaxis": "y"
          },
          {
           "hovertemplate": "Region=Västmanland<br>Vecka=%{x}<br>Andel vaccinerade=%{y}<extra></extra>",
           "legendgroup": "Västmanland",
           "marker": {
            "color": "#19d3f3",
            "symbol": "circle"
           },
           "mode": "markers",
           "name": "Västmanland",
           "orientation": "v",
           "showlegend": true,
           "type": "scatter",
           "x": [
            39,
            39
           ],
           "xaxis": "x",
           "y": [
            0.8393321598402648,
            0.7756351312298032
           ],
           "yaxis": "y"
          },
          {
           "hovertemplate": "Region=Dalarna<br>Vecka=%{x}<br>Andel vaccinerade=%{y}<extra></extra>",
           "legendgroup": "Dalarna",
           "marker": {
            "color": "#FF6692",
            "symbol": "circle"
           },
           "mode": "markers",
           "name": "Dalarna",
           "orientation": "v",
           "showlegend": true,
           "type": "scatter",
           "x": [
            39,
            39
           ],
           "xaxis": "x",
           "y": [
            0.8653147497070149,
            0.8149924660974385
           ],
           "yaxis": "y"
          },
          {
           "hovertemplate": "Region=Gävleborg<br>Vecka=%{x}<br>Andel vaccinerade=%{y}<extra></extra>",
           "legendgroup": "Gävleborg",
           "marker": {
            "color": "#B6E880",
            "symbol": "circle"
           },
           "mode": "markers",
           "name": "Gävleborg",
           "orientation": "v",
           "showlegend": true,
           "type": "scatter",
           "x": [
            39,
            39
           ],
           "xaxis": "x",
           "y": [
            0.851892315647257,
            0.7646739946291261
           ],
           "yaxis": "y"
          },
          {
           "hovertemplate": "Region=Västernorrland<br>Vecka=%{x}<br>Andel vaccinerade=%{y}<extra></extra>",
           "legendgroup": "Västernorrland",
           "marker": {
            "color": "#FF97FF",
            "symbol": "circle"
           },
           "mode": "markers",
           "name": "Västernorrland",
           "orientation": "v",
           "showlegend": true,
           "type": "scatter",
           "x": [
            39,
            39
           ],
           "xaxis": "x",
           "y": [
            0.8766628611746721,
            0.8383417201150467
           ],
           "yaxis": "y"
          },
          {
           "hovertemplate": "Region=Jämtland<br>Vecka=%{x}<br>Andel vaccinerade=%{y}<extra></extra>",
           "legendgroup": "Jämtland",
           "marker": {
            "color": "#FECB52",
            "symbol": "circle"
           },
           "mode": "markers",
           "name": "Jämtland",
           "orientation": "v",
           "showlegend": true,
           "type": "scatter",
           "x": [
            39,
            39
           ],
           "xaxis": "x",
           "y": [
            0.8703844777105725,
            0.7955815810487091
           ],
           "yaxis": "y"
          },
          {
           "hovertemplate": "Region=Västerbotten<br>Vecka=%{x}<br>Andel vaccinerade=%{y}<extra></extra>",
           "legendgroup": "Västerbotten",
           "marker": {
            "color": "#636efa",
            "symbol": "circle"
           },
           "mode": "markers",
           "name": "Västerbotten",
           "orientation": "v",
           "showlegend": true,
           "type": "scatter",
           "x": [
            39,
            39
           ],
           "xaxis": "x",
           "y": [
            0.9032512271896806,
            0.8310506504655616
           ],
           "yaxis": "y"
          },
          {
           "hovertemplate": "Region=Norrbotten<br>Vecka=%{x}<br>Andel vaccinerade=%{y}<extra></extra>",
           "legendgroup": "Norrbotten",
           "marker": {
            "color": "#EF553B",
            "symbol": "circle"
           },
           "mode": "markers",
           "name": "Norrbotten",
           "orientation": "v",
           "showlegend": true,
           "type": "scatter",
           "x": [
            39,
            39
           ],
           "xaxis": "x",
           "y": [
            0.8885089210861606,
            0.8251448166760607
           ],
           "yaxis": "y"
          }
         ],
         "name": "39"
        },
        {
         "data": [
          {
           "hovertemplate": "Region=| Sverige |<br>Vecka=%{x}<br>Andel vaccinerade=%{y}<extra></extra>",
           "legendgroup": "| Sverige |",
           "marker": {
            "color": "#636efa",
            "symbol": "circle"
           },
           "mode": "markers",
           "name": "| Sverige |",
           "orientation": "v",
           "showlegend": true,
           "type": "scatter",
           "x": [
            40,
            40
           ],
           "xaxis": "x",
           "y": [
            0.8415956828176606,
            0.7813074218723017
           ],
           "yaxis": "y"
          },
          {
           "hovertemplate": "Region=Stockholm<br>Vecka=%{x}<br>Andel vaccinerade=%{y}<extra></extra>",
           "legendgroup": "Stockholm",
           "marker": {
            "color": "#EF553B",
            "symbol": "circle"
           },
           "mode": "markers",
           "name": "Stockholm",
           "orientation": "v",
           "showlegend": true,
           "type": "scatter",
           "x": [
            40,
            40
           ],
           "xaxis": "x",
           "y": [
            0.8095185382208269,
            0.7354327908137589
           ],
           "yaxis": "y"
          },
          {
           "hovertemplate": "Region=Uppsala<br>Vecka=%{x}<br>Andel vaccinerade=%{y}<extra></extra>",
           "legendgroup": "Uppsala",
           "marker": {
            "color": "#00cc96",
            "symbol": "circle"
           },
           "mode": "markers",
           "name": "Uppsala",
           "orientation": "v",
           "showlegend": true,
           "type": "scatter",
           "x": [
            40,
            40
           ],
           "xaxis": "x",
           "y": [
            0.8880557060155108,
            0.838320428565614
           ],
           "yaxis": "y"
          },
          {
           "hovertemplate": "Region=Södermanland<br>Vecka=%{x}<br>Andel vaccinerade=%{y}<extra></extra>",
           "legendgroup": "Södermanland",
           "marker": {
            "color": "#ab63fa",
            "symbol": "circle"
           },
           "mode": "markers",
           "name": "Södermanland",
           "orientation": "v",
           "showlegend": true,
           "type": "scatter",
           "x": [
            40,
            40
           ],
           "xaxis": "x",
           "y": [
            0.8538263077538557,
            0.7896408422530842
           ],
           "yaxis": "y"
          },
          {
           "hovertemplate": "Region=Östergötland<br>Vecka=%{x}<br>Andel vaccinerade=%{y}<extra></extra>",
           "legendgroup": "Östergötland",
           "marker": {
            "color": "#FFA15A",
            "symbol": "circle"
           },
           "mode": "markers",
           "name": "Östergötland",
           "orientation": "v",
           "showlegend": true,
           "type": "scatter",
           "x": [
            40,
            40
           ],
           "xaxis": "x",
           "y": [
            0.8707698366228127,
            0.8202099601531694
           ],
           "yaxis": "y"
          },
          {
           "hovertemplate": "Region=Jönköping<br>Vecka=%{x}<br>Andel vaccinerade=%{y}<extra></extra>",
           "legendgroup": "Jönköping",
           "marker": {
            "color": "#19d3f3",
            "symbol": "circle"
           },
           "mode": "markers",
           "name": "Jönköping",
           "orientation": "v",
           "showlegend": true,
           "type": "scatter",
           "x": [
            40,
            40
           ],
           "xaxis": "x",
           "y": [
            0.8460676757547199,
            0.7812494759472358
           ],
           "yaxis": "y"
          },
          {
           "hovertemplate": "Region=Kronoberg<br>Vecka=%{x}<br>Andel vaccinerade=%{y}<extra></extra>",
           "legendgroup": "Kronoberg",
           "marker": {
            "color": "#FF6692",
            "symbol": "circle"
           },
           "mode": "markers",
           "name": "Kronoberg",
           "orientation": "v",
           "showlegend": true,
           "type": "scatter",
           "x": [
            40,
            40
           ],
           "xaxis": "x",
           "y": [
            0.8328100138543538,
            0.7742587315703819
           ],
           "yaxis": "y"
          },
          {
           "hovertemplate": "Region=Kalmar<br>Vecka=%{x}<br>Andel vaccinerade=%{y}<extra></extra>",
           "legendgroup": "Kalmar",
           "marker": {
            "color": "#B6E880",
            "symbol": "circle"
           },
           "mode": "markers",
           "name": "Kalmar",
           "orientation": "v",
           "showlegend": true,
           "type": "scatter",
           "x": [
            40,
            40
           ],
           "xaxis": "x",
           "y": [
            0.8655598910761346,
            0.8189116381935007
           ],
           "yaxis": "y"
          },
          {
           "hovertemplate": "Region=Gotland<br>Vecka=%{x}<br>Andel vaccinerade=%{y}<extra></extra>",
           "legendgroup": "Gotland",
           "marker": {
            "color": "#FF97FF",
            "symbol": "circle"
           },
           "mode": "markers",
           "name": "Gotland",
           "orientation": "v",
           "showlegend": true,
           "type": "scatter",
           "x": [
            40,
            40
           ],
           "xaxis": "x",
           "y": [
            0.9057468100583922,
            0.8488881898433046
           ],
           "yaxis": "y"
          },
          {
           "hovertemplate": "Region=Blekinge<br>Vecka=%{x}<br>Andel vaccinerade=%{y}<extra></extra>",
           "legendgroup": "Blekinge",
           "marker": {
            "color": "#FECB52",
            "symbol": "circle"
           },
           "mode": "markers",
           "name": "Blekinge",
           "orientation": "v",
           "showlegend": true,
           "type": "scatter",
           "x": [
            40,
            40
           ],
           "xaxis": "x",
           "y": [
            0.8635468017484128,
            0.8218823369544703
           ],
           "yaxis": "y"
          },
          {
           "hovertemplate": "Region=Skåne<br>Vecka=%{x}<br>Andel vaccinerade=%{y}<extra></extra>",
           "legendgroup": "Skåne",
           "marker": {
            "color": "#636efa",
            "symbol": "circle"
           },
           "mode": "markers",
           "name": "Skåne",
           "orientation": "v",
           "showlegend": true,
           "type": "scatter",
           "x": [
            40,
            40
           ],
           "xaxis": "x",
           "y": [
            0.8064363722425508,
            0.7594560281822237
           ],
           "yaxis": "y"
          },
          {
           "hovertemplate": "Region=Halland<br>Vecka=%{x}<br>Andel vaccinerade=%{y}<extra></extra>",
           "legendgroup": "Halland",
           "marker": {
            "color": "#EF553B",
            "symbol": "circle"
           },
           "mode": "markers",
           "name": "Halland",
           "orientation": "v",
           "showlegend": true,
           "type": "scatter",
           "x": [
            40,
            40
           ],
           "xaxis": "x",
           "y": [
            0.8660527842227378,
            0.8196091937354988
           ],
           "yaxis": "y"
          },
          {
           "hovertemplate": "Region=Västra Götaland<br>Vecka=%{x}<br>Andel vaccinerade=%{y}<extra></extra>",
           "legendgroup": "Västra Götaland",
           "marker": {
            "color": "#00cc96",
            "symbol": "circle"
           },
           "mode": "markers",
           "name": "Västra Götaland",
           "orientation": "v",
           "showlegend": true,
           "type": "scatter",
           "x": [
            40,
            40
           ],
           "xaxis": "x",
           "y": [
            0.8367342653230933,
            0.7588315502706093
           ],
           "yaxis": "y"
          },
          {
           "hovertemplate": "Region=Värmland<br>Vecka=%{x}<br>Andel vaccinerade=%{y}<extra></extra>",
           "legendgroup": "Värmland",
           "marker": {
            "color": "#ab63fa",
            "symbol": "circle"
           },
           "mode": "markers",
           "name": "Värmland",
           "orientation": "v",
           "showlegend": true,
           "type": "scatter",
           "x": [
            40,
            40
           ],
           "xaxis": "x",
           "y": [
            0.8966980035914228,
            0.8656174078377522
           ],
           "yaxis": "y"
          },
          {
           "hovertemplate": "Region=Örebro<br>Vecka=%{x}<br>Andel vaccinerade=%{y}<extra></extra>",
           "legendgroup": "Örebro",
           "marker": {
            "color": "#FFA15A",
            "symbol": "circle"
           },
           "mode": "markers",
           "name": "Örebro",
           "orientation": "v",
           "showlegend": true,
           "type": "scatter",
           "x": [
            40,
            40
           ],
           "xaxis": "x",
           "y": [
            0.858875277644226,
            0.8143250513567316
           ],
           "yaxis": "y"
          },
          {
           "hovertemplate": "Region=Västmanland<br>Vecka=%{x}<br>Andel vaccinerade=%{y}<extra></extra>",
           "legendgroup": "Västmanland",
           "marker": {
            "color": "#19d3f3",
            "symbol": "circle"
           },
           "mode": "markers",
           "name": "Västmanland",
           "orientation": "v",
           "showlegend": true,
           "type": "scatter",
           "x": [
            40,
            40
           ],
           "xaxis": "x",
           "y": [
            0.8426118102444193,
            0.785228874935414
           ],
           "yaxis": "y"
          },
          {
           "hovertemplate": "Region=Dalarna<br>Vecka=%{x}<br>Andel vaccinerade=%{y}<extra></extra>",
           "legendgroup": "Dalarna",
           "marker": {
            "color": "#FF6692",
            "symbol": "circle"
           },
           "mode": "markers",
           "name": "Dalarna",
           "orientation": "v",
           "showlegend": true,
           "type": "scatter",
           "x": [
            40,
            40
           ],
           "xaxis": "x",
           "y": [
            0.8672526368658965,
            0.8245772643562699
           ],
           "yaxis": "y"
          },
          {
           "hovertemplate": "Region=Gävleborg<br>Vecka=%{x}<br>Andel vaccinerade=%{y}<extra></extra>",
           "legendgroup": "Gävleborg",
           "marker": {
            "color": "#B6E880",
            "symbol": "circle"
           },
           "mode": "markers",
           "name": "Gävleborg",
           "orientation": "v",
           "showlegend": true,
           "type": "scatter",
           "x": [
            40,
            40
           ],
           "xaxis": "x",
           "y": [
            0.8550781445465615,
            0.7863367971577736
           ],
           "yaxis": "y"
          },
          {
           "hovertemplate": "Region=Västernorrland<br>Vecka=%{x}<br>Andel vaccinerade=%{y}<extra></extra>",
           "legendgroup": "Västernorrland",
           "marker": {
            "color": "#FF97FF",
            "symbol": "circle"
           },
           "mode": "markers",
           "name": "Västernorrland",
           "orientation": "v",
           "showlegend": true,
           "type": "scatter",
           "x": [
            40,
            40
           ],
           "xaxis": "x",
           "y": [
            0.8782111901063742,
            0.8445448353920555
           ],
           "yaxis": "y"
          },
          {
           "hovertemplate": "Region=Jämtland<br>Vecka=%{x}<br>Andel vaccinerade=%{y}<extra></extra>",
           "legendgroup": "Jämtland",
           "marker": {
            "color": "#FECB52",
            "symbol": "circle"
           },
           "mode": "markers",
           "name": "Jämtland",
           "orientation": "v",
           "showlegend": true,
           "type": "scatter",
           "x": [
            40,
            40
           ],
           "xaxis": "x",
           "y": [
            0.8729911062568263,
            0.8140482593411839
           ],
           "yaxis": "y"
          },
          {
           "hovertemplate": "Region=Västerbotten<br>Vecka=%{x}<br>Andel vaccinerade=%{y}<extra></extra>",
           "legendgroup": "Västerbotten",
           "marker": {
            "color": "#636efa",
            "symbol": "circle"
           },
           "mode": "markers",
           "name": "Västerbotten",
           "orientation": "v",
           "showlegend": true,
           "type": "scatter",
           "x": [
            40,
            40
           ],
           "xaxis": "x",
           "y": [
            0.9059103216007396,
            0.8519535979220322
           ],
           "yaxis": "y"
          },
          {
           "hovertemplate": "Region=Norrbotten<br>Vecka=%{x}<br>Andel vaccinerade=%{y}<extra></extra>",
           "legendgroup": "Norrbotten",
           "marker": {
            "color": "#EF553B",
            "symbol": "circle"
           },
           "mode": "markers",
           "name": "Norrbotten",
           "orientation": "v",
           "showlegend": true,
           "type": "scatter",
           "x": [
            40,
            40
           ],
           "xaxis": "x",
           "y": [
            0.8898966982271502,
            0.8384068507879069
           ],
           "yaxis": "y"
          }
         ],
         "name": "40"
        },
        {
         "data": [
          {
           "hovertemplate": "Region=| Sverige |<br>Vecka=%{x}<br>Andel vaccinerade=%{y}<extra></extra>",
           "legendgroup": "| Sverige |",
           "marker": {
            "color": "#636efa",
            "symbol": "circle"
           },
           "mode": "markers",
           "name": "| Sverige |",
           "orientation": "v",
           "showlegend": true,
           "type": "scatter",
           "x": [
            41,
            41
           ],
           "xaxis": "x",
           "y": [
            0.8444209486931857,
            0.7951119107107337
           ],
           "yaxis": "y"
          },
          {
           "hovertemplate": "Region=Stockholm<br>Vecka=%{x}<br>Andel vaccinerade=%{y}<extra></extra>",
           "legendgroup": "Stockholm",
           "marker": {
            "color": "#EF553B",
            "symbol": "circle"
           },
           "mode": "markers",
           "name": "Stockholm",
           "orientation": "v",
           "showlegend": true,
           "type": "scatter",
           "x": [
            41,
            41
           ],
           "xaxis": "x",
           "y": [
            0.8122393358978223,
            0.7477683719185391
           ],
           "yaxis": "y"
          },
          {
           "hovertemplate": "Region=Uppsala<br>Vecka=%{x}<br>Andel vaccinerade=%{y}<extra></extra>",
           "legendgroup": "Uppsala",
           "marker": {
            "color": "#00cc96",
            "symbol": "circle"
           },
           "mode": "markers",
           "name": "Uppsala",
           "orientation": "v",
           "showlegend": true,
           "type": "scatter",
           "x": [
            41,
            41
           ],
           "xaxis": "x",
           "y": [
            0.8896243162769145,
            0.8489406401557965
           ],
           "yaxis": "y"
          },
          {
           "hovertemplate": "Region=Södermanland<br>Vecka=%{x}<br>Andel vaccinerade=%{y}<extra></extra>",
           "legendgroup": "Södermanland",
           "marker": {
            "color": "#ab63fa",
            "symbol": "circle"
           },
           "mode": "markers",
           "name": "Södermanland",
           "orientation": "v",
           "showlegend": true,
           "type": "scatter",
           "x": [
            41,
            41
           ],
           "xaxis": "x",
           "y": [
            0.8560593071578448,
            0.8093500216360089
           ],
           "yaxis": "y"
          },
          {
           "hovertemplate": "Region=Östergötland<br>Vecka=%{x}<br>Andel vaccinerade=%{y}<extra></extra>",
           "legendgroup": "Östergötland",
           "marker": {
            "color": "#FFA15A",
            "symbol": "circle"
           },
           "mode": "markers",
           "name": "Östergötland",
           "orientation": "v",
           "showlegend": true,
           "type": "scatter",
           "x": [
            41,
            41
           ],
           "xaxis": "x",
           "y": [
            0.8723087844384914,
            0.8358818378249537
           ],
           "yaxis": "y"
          },
          {
           "hovertemplate": "Region=Jönköping<br>Vecka=%{x}<br>Andel vaccinerade=%{y}<extra></extra>",
           "legendgroup": "Jönköping",
           "marker": {
            "color": "#19d3f3",
            "symbol": "circle"
           },
           "mode": "markers",
           "name": "Jönköping",
           "orientation": "v",
           "showlegend": true,
           "type": "scatter",
           "x": [
            41,
            41
           ],
           "xaxis": "x",
           "y": [
            0.8482611510043366,
            0.8006184661101367
           ],
           "yaxis": "y"
          },
          {
           "hovertemplate": "Region=Kronoberg<br>Vecka=%{x}<br>Andel vaccinerade=%{y}<extra></extra>",
           "legendgroup": "Kronoberg",
           "marker": {
            "color": "#FF6692",
            "symbol": "circle"
           },
           "mode": "markers",
           "name": "Kronoberg",
           "orientation": "v",
           "showlegend": true,
           "type": "scatter",
           "x": [
            41,
            41
           ],
           "xaxis": "x",
           "y": [
            0.8364278756859115,
            0.7921181431535897
           ],
           "yaxis": "y"
          },
          {
           "hovertemplate": "Region=Kalmar<br>Vecka=%{x}<br>Andel vaccinerade=%{y}<extra></extra>",
           "legendgroup": "Kalmar",
           "marker": {
            "color": "#B6E880",
            "symbol": "circle"
           },
           "mode": "markers",
           "name": "Kalmar",
           "orientation": "v",
           "showlegend": true,
           "type": "scatter",
           "x": [
            41,
            41
           ],
           "xaxis": "x",
           "y": [
            0.8672502569648433,
            0.831396963187046
           ],
           "yaxis": "y"
          },
          {
           "hovertemplate": "Region=Gotland<br>Vecka=%{x}<br>Andel vaccinerade=%{y}<extra></extra>",
           "legendgroup": "Gotland",
           "marker": {
            "color": "#FF97FF",
            "symbol": "circle"
           },
           "mode": "markers",
           "name": "Gotland",
           "orientation": "v",
           "showlegend": true,
           "type": "scatter",
           "x": [
            41,
            41
           ],
           "xaxis": "x",
           "y": [
            0.9072016986807699,
            0.8721270864872304
           ],
           "yaxis": "y"
          },
          {
           "hovertemplate": "Region=Blekinge<br>Vecka=%{x}<br>Andel vaccinerade=%{y}<extra></extra>",
           "legendgroup": "Blekinge",
           "marker": {
            "color": "#FECB52",
            "symbol": "circle"
           },
           "mode": "markers",
           "name": "Blekinge",
           "orientation": "v",
           "showlegend": true,
           "type": "scatter",
           "x": [
            41,
            41
           ],
           "xaxis": "x",
           "y": [
            0.8659852185138491,
            0.8341725613945026
           ],
           "yaxis": "y"
          },
          {
           "hovertemplate": "Region=Skåne<br>Vecka=%{x}<br>Andel vaccinerade=%{y}<extra></extra>",
           "legendgroup": "Skåne",
           "marker": {
            "color": "#636efa",
            "symbol": "circle"
           },
           "mode": "markers",
           "name": "Skåne",
           "orientation": "v",
           "showlegend": true,
           "type": "scatter",
           "x": [
            41,
            41
           ],
           "xaxis": "x",
           "y": [
            0.8133015661581044,
            0.770395643861577
           ],
           "yaxis": "y"
          },
          {
           "hovertemplate": "Region=Halland<br>Vecka=%{x}<br>Andel vaccinerade=%{y}<extra></extra>",
           "legendgroup": "Halland",
           "marker": {
            "color": "#EF553B",
            "symbol": "circle"
           },
           "mode": "markers",
           "name": "Halland",
           "orientation": "v",
           "showlegend": true,
           "type": "scatter",
           "x": [
            41,
            41
           ],
           "xaxis": "x",
           "y": [
            0.8678944315545244,
            0.8361151392111369
           ],
           "yaxis": "y"
          },
          {
           "hovertemplate": "Region=Västra Götaland<br>Vecka=%{x}<br>Andel vaccinerade=%{y}<extra></extra>",
           "legendgroup": "Västra Götaland",
           "marker": {
            "color": "#00cc96",
            "symbol": "circle"
           },
           "mode": "markers",
           "name": "Västra Götaland",
           "orientation": "v",
           "showlegend": true,
           "type": "scatter",
           "x": [
            41,
            41
           ],
           "xaxis": "x",
           "y": [
            0.8387837841621472,
            0.7762678597927523
           ],
           "yaxis": "y"
          },
          {
           "hovertemplate": "Region=Värmland<br>Vecka=%{x}<br>Andel vaccinerade=%{y}<extra></extra>",
           "legendgroup": "Värmland",
           "marker": {
            "color": "#ab63fa",
            "symbol": "circle"
           },
           "mode": "markers",
           "name": "Värmland",
           "orientation": "v",
           "showlegend": true,
           "type": "scatter",
           "x": [
            41,
            41
           ],
           "xaxis": "x",
           "y": [
            0.897259955635365,
            0.872196049434879
           ],
           "yaxis": "y"
          },
          {
           "hovertemplate": "Region=Örebro<br>Vecka=%{x}<br>Andel vaccinerade=%{y}<extra></extra>",
           "legendgroup": "Örebro",
           "marker": {
            "color": "#FFA15A",
            "symbol": "circle"
           },
           "mode": "markers",
           "name": "Örebro",
           "orientation": "v",
           "showlegend": true,
           "type": "scatter",
           "x": [
            41,
            41
           ],
           "xaxis": "x",
           "y": [
            0.8611441127503765,
            0.8261818008431643
           ],
           "yaxis": "y"
          },
          {
           "hovertemplate": "Region=Västmanland<br>Vecka=%{x}<br>Andel vaccinerade=%{y}<extra></extra>",
           "legendgroup": "Västmanland",
           "marker": {
            "color": "#19d3f3",
            "symbol": "circle"
           },
           "mode": "markers",
           "name": "Västmanland",
           "orientation": "v",
           "showlegend": true,
           "type": "scatter",
           "x": [
            41,
            41
           ],
           "xaxis": "x",
           "y": [
            0.8450901575458232,
            0.8003748171890462
           ],
           "yaxis": "y"
          },
          {
           "hovertemplate": "Region=Dalarna<br>Vecka=%{x}<br>Andel vaccinerade=%{y}<extra></extra>",
           "legendgroup": "Dalarna",
           "marker": {
            "color": "#FF6692",
            "symbol": "circle"
           },
           "mode": "markers",
           "name": "Dalarna",
           "orientation": "v",
           "showlegend": true,
           "type": "scatter",
           "x": [
            41,
            41
           ],
           "xaxis": "x",
           "y": [
            0.8688933534237402,
            0.8316089067470283
           ],
           "yaxis": "y"
          },
          {
           "hovertemplate": "Region=Gävleborg<br>Vecka=%{x}<br>Andel vaccinerade=%{y}<extra></extra>",
           "legendgroup": "Gävleborg",
           "marker": {
            "color": "#B6E880",
            "symbol": "circle"
           },
           "mode": "markers",
           "name": "Gävleborg",
           "orientation": "v",
           "showlegend": true,
           "type": "scatter",
           "x": [
            41,
            41
           ],
           "xaxis": "x",
           "y": [
            0.8571839607692693,
            0.8083540440011342
           ],
           "yaxis": "y"
          },
          {
           "hovertemplate": "Region=Västernorrland<br>Vecka=%{x}<br>Andel vaccinerade=%{y}<extra></extra>",
           "legendgroup": "Västernorrland",
           "marker": {
            "color": "#FF97FF",
            "symbol": "circle"
           },
           "mode": "markers",
           "name": "Västernorrland",
           "orientation": "v",
           "showlegend": true,
           "type": "scatter",
           "x": [
            41,
            41
           ],
           "xaxis": "x",
           "y": [
            0.8800045077930922,
            0.8541826930143906
           ],
           "yaxis": "y"
          },
          {
           "hovertemplate": "Region=Jämtland<br>Vecka=%{x}<br>Andel vaccinerade=%{y}<extra></extra>",
           "legendgroup": "Jämtland",
           "marker": {
            "color": "#FECB52",
            "symbol": "circle"
           },
           "mode": "markers",
           "name": "Jämtland",
           "orientation": "v",
           "showlegend": true,
           "type": "scatter",
           "x": [
            41,
            41
           ],
           "xaxis": "x",
           "y": [
            0.8752122474828595,
            0.8297706350444687
           ],
           "yaxis": "y"
          },
          {
           "hovertemplate": "Region=Västerbotten<br>Vecka=%{x}<br>Andel vaccinerade=%{y}<extra></extra>",
           "legendgroup": "Västerbotten",
           "marker": {
            "color": "#636efa",
            "symbol": "circle"
           },
           "mode": "markers",
           "name": "Västerbotten",
           "orientation": "v",
           "showlegend": true,
           "type": "scatter",
           "x": [
            41,
            41
           ],
           "xaxis": "x",
           "y": [
            0.9078914349864624,
            0.8644081974069427
           ],
           "yaxis": "y"
          },
          {
           "hovertemplate": "Region=Norrbotten<br>Vecka=%{x}<br>Andel vaccinerade=%{y}<extra></extra>",
           "legendgroup": "Norrbotten",
           "marker": {
            "color": "#EF553B",
            "symbol": "circle"
           },
           "mode": "markers",
           "name": "Norrbotten",
           "orientation": "v",
           "showlegend": true,
           "type": "scatter",
           "x": [
            41,
            41
           ],
           "xaxis": "x",
           "y": [
            0.8933116720109506,
            0.848381795016317
           ],
           "yaxis": "y"
          }
         ],
         "name": "41"
        }
       ],
       "layout": {
        "legend": {
         "title": {
          "text": "Region"
         },
         "tracegroupgap": 0
        },
        "sliders": [
         {
          "active": 0,
          "currentvalue": {
           "prefix": "Vecka="
          },
          "len": 0.9,
          "pad": {
           "b": 10,
           "t": 60
          },
          "steps": [
           {
            "args": [
             [
              "52"
             ],
             {
              "frame": {
               "duration": 0,
               "redraw": false
              },
              "fromcurrent": true,
              "mode": "immediate",
              "transition": {
               "duration": 0,
               "easing": "linear"
              }
             }
            ],
            "label": "52",
            "method": "animate"
           },
           {
            "args": [
             [
              "53"
             ],
             {
              "frame": {
               "duration": 0,
               "redraw": false
              },
              "fromcurrent": true,
              "mode": "immediate",
              "transition": {
               "duration": 0,
               "easing": "linear"
              }
             }
            ],
            "label": "53",
            "method": "animate"
           },
           {
            "args": [
             [
              "1"
             ],
             {
              "frame": {
               "duration": 0,
               "redraw": false
              },
              "fromcurrent": true,
              "mode": "immediate",
              "transition": {
               "duration": 0,
               "easing": "linear"
              }
             }
            ],
            "label": "1",
            "method": "animate"
           },
           {
            "args": [
             [
              "2"
             ],
             {
              "frame": {
               "duration": 0,
               "redraw": false
              },
              "fromcurrent": true,
              "mode": "immediate",
              "transition": {
               "duration": 0,
               "easing": "linear"
              }
             }
            ],
            "label": "2",
            "method": "animate"
           },
           {
            "args": [
             [
              "3"
             ],
             {
              "frame": {
               "duration": 0,
               "redraw": false
              },
              "fromcurrent": true,
              "mode": "immediate",
              "transition": {
               "duration": 0,
               "easing": "linear"
              }
             }
            ],
            "label": "3",
            "method": "animate"
           },
           {
            "args": [
             [
              "4"
             ],
             {
              "frame": {
               "duration": 0,
               "redraw": false
              },
              "fromcurrent": true,
              "mode": "immediate",
              "transition": {
               "duration": 0,
               "easing": "linear"
              }
             }
            ],
            "label": "4",
            "method": "animate"
           },
           {
            "args": [
             [
              "5"
             ],
             {
              "frame": {
               "duration": 0,
               "redraw": false
              },
              "fromcurrent": true,
              "mode": "immediate",
              "transition": {
               "duration": 0,
               "easing": "linear"
              }
             }
            ],
            "label": "5",
            "method": "animate"
           },
           {
            "args": [
             [
              "6"
             ],
             {
              "frame": {
               "duration": 0,
               "redraw": false
              },
              "fromcurrent": true,
              "mode": "immediate",
              "transition": {
               "duration": 0,
               "easing": "linear"
              }
             }
            ],
            "label": "6",
            "method": "animate"
           },
           {
            "args": [
             [
              "7"
             ],
             {
              "frame": {
               "duration": 0,
               "redraw": false
              },
              "fromcurrent": true,
              "mode": "immediate",
              "transition": {
               "duration": 0,
               "easing": "linear"
              }
             }
            ],
            "label": "7",
            "method": "animate"
           },
           {
            "args": [
             [
              "8"
             ],
             {
              "frame": {
               "duration": 0,
               "redraw": false
              },
              "fromcurrent": true,
              "mode": "immediate",
              "transition": {
               "duration": 0,
               "easing": "linear"
              }
             }
            ],
            "label": "8",
            "method": "animate"
           },
           {
            "args": [
             [
              "9"
             ],
             {
              "frame": {
               "duration": 0,
               "redraw": false
              },
              "fromcurrent": true,
              "mode": "immediate",
              "transition": {
               "duration": 0,
               "easing": "linear"
              }
             }
            ],
            "label": "9",
            "method": "animate"
           },
           {
            "args": [
             [
              "10"
             ],
             {
              "frame": {
               "duration": 0,
               "redraw": false
              },
              "fromcurrent": true,
              "mode": "immediate",
              "transition": {
               "duration": 0,
               "easing": "linear"
              }
             }
            ],
            "label": "10",
            "method": "animate"
           },
           {
            "args": [
             [
              "11"
             ],
             {
              "frame": {
               "duration": 0,
               "redraw": false
              },
              "fromcurrent": true,
              "mode": "immediate",
              "transition": {
               "duration": 0,
               "easing": "linear"
              }
             }
            ],
            "label": "11",
            "method": "animate"
           },
           {
            "args": [
             [
              "12"
             ],
             {
              "frame": {
               "duration": 0,
               "redraw": false
              },
              "fromcurrent": true,
              "mode": "immediate",
              "transition": {
               "duration": 0,
               "easing": "linear"
              }
             }
            ],
            "label": "12",
            "method": "animate"
           },
           {
            "args": [
             [
              "13"
             ],
             {
              "frame": {
               "duration": 0,
               "redraw": false
              },
              "fromcurrent": true,
              "mode": "immediate",
              "transition": {
               "duration": 0,
               "easing": "linear"
              }
             }
            ],
            "label": "13",
            "method": "animate"
           },
           {
            "args": [
             [
              "14"
             ],
             {
              "frame": {
               "duration": 0,
               "redraw": false
              },
              "fromcurrent": true,
              "mode": "immediate",
              "transition": {
               "duration": 0,
               "easing": "linear"
              }
             }
            ],
            "label": "14",
            "method": "animate"
           },
           {
            "args": [
             [
              "15"
             ],
             {
              "frame": {
               "duration": 0,
               "redraw": false
              },
              "fromcurrent": true,
              "mode": "immediate",
              "transition": {
               "duration": 0,
               "easing": "linear"
              }
             }
            ],
            "label": "15",
            "method": "animate"
           },
           {
            "args": [
             [
              "16"
             ],
             {
              "frame": {
               "duration": 0,
               "redraw": false
              },
              "fromcurrent": true,
              "mode": "immediate",
              "transition": {
               "duration": 0,
               "easing": "linear"
              }
             }
            ],
            "label": "16",
            "method": "animate"
           },
           {
            "args": [
             [
              "17"
             ],
             {
              "frame": {
               "duration": 0,
               "redraw": false
              },
              "fromcurrent": true,
              "mode": "immediate",
              "transition": {
               "duration": 0,
               "easing": "linear"
              }
             }
            ],
            "label": "17",
            "method": "animate"
           },
           {
            "args": [
             [
              "18"
             ],
             {
              "frame": {
               "duration": 0,
               "redraw": false
              },
              "fromcurrent": true,
              "mode": "immediate",
              "transition": {
               "duration": 0,
               "easing": "linear"
              }
             }
            ],
            "label": "18",
            "method": "animate"
           },
           {
            "args": [
             [
              "19"
             ],
             {
              "frame": {
               "duration": 0,
               "redraw": false
              },
              "fromcurrent": true,
              "mode": "immediate",
              "transition": {
               "duration": 0,
               "easing": "linear"
              }
             }
            ],
            "label": "19",
            "method": "animate"
           },
           {
            "args": [
             [
              "20"
             ],
             {
              "frame": {
               "duration": 0,
               "redraw": false
              },
              "fromcurrent": true,
              "mode": "immediate",
              "transition": {
               "duration": 0,
               "easing": "linear"
              }
             }
            ],
            "label": "20",
            "method": "animate"
           },
           {
            "args": [
             [
              "21"
             ],
             {
              "frame": {
               "duration": 0,
               "redraw": false
              },
              "fromcurrent": true,
              "mode": "immediate",
              "transition": {
               "duration": 0,
               "easing": "linear"
              }
             }
            ],
            "label": "21",
            "method": "animate"
           },
           {
            "args": [
             [
              "22"
             ],
             {
              "frame": {
               "duration": 0,
               "redraw": false
              },
              "fromcurrent": true,
              "mode": "immediate",
              "transition": {
               "duration": 0,
               "easing": "linear"
              }
             }
            ],
            "label": "22",
            "method": "animate"
           },
           {
            "args": [
             [
              "23"
             ],
             {
              "frame": {
               "duration": 0,
               "redraw": false
              },
              "fromcurrent": true,
              "mode": "immediate",
              "transition": {
               "duration": 0,
               "easing": "linear"
              }
             }
            ],
            "label": "23",
            "method": "animate"
           },
           {
            "args": [
             [
              "24"
             ],
             {
              "frame": {
               "duration": 0,
               "redraw": false
              },
              "fromcurrent": true,
              "mode": "immediate",
              "transition": {
               "duration": 0,
               "easing": "linear"
              }
             }
            ],
            "label": "24",
            "method": "animate"
           },
           {
            "args": [
             [
              "25"
             ],
             {
              "frame": {
               "duration": 0,
               "redraw": false
              },
              "fromcurrent": true,
              "mode": "immediate",
              "transition": {
               "duration": 0,
               "easing": "linear"
              }
             }
            ],
            "label": "25",
            "method": "animate"
           },
           {
            "args": [
             [
              "26"
             ],
             {
              "frame": {
               "duration": 0,
               "redraw": false
              },
              "fromcurrent": true,
              "mode": "immediate",
              "transition": {
               "duration": 0,
               "easing": "linear"
              }
             }
            ],
            "label": "26",
            "method": "animate"
           },
           {
            "args": [
             [
              "27"
             ],
             {
              "frame": {
               "duration": 0,
               "redraw": false
              },
              "fromcurrent": true,
              "mode": "immediate",
              "transition": {
               "duration": 0,
               "easing": "linear"
              }
             }
            ],
            "label": "27",
            "method": "animate"
           },
           {
            "args": [
             [
              "28"
             ],
             {
              "frame": {
               "duration": 0,
               "redraw": false
              },
              "fromcurrent": true,
              "mode": "immediate",
              "transition": {
               "duration": 0,
               "easing": "linear"
              }
             }
            ],
            "label": "28",
            "method": "animate"
           },
           {
            "args": [
             [
              "29"
             ],
             {
              "frame": {
               "duration": 0,
               "redraw": false
              },
              "fromcurrent": true,
              "mode": "immediate",
              "transition": {
               "duration": 0,
               "easing": "linear"
              }
             }
            ],
            "label": "29",
            "method": "animate"
           },
           {
            "args": [
             [
              "30"
             ],
             {
              "frame": {
               "duration": 0,
               "redraw": false
              },
              "fromcurrent": true,
              "mode": "immediate",
              "transition": {
               "duration": 0,
               "easing": "linear"
              }
             }
            ],
            "label": "30",
            "method": "animate"
           },
           {
            "args": [
             [
              "31"
             ],
             {
              "frame": {
               "duration": 0,
               "redraw": false
              },
              "fromcurrent": true,
              "mode": "immediate",
              "transition": {
               "duration": 0,
               "easing": "linear"
              }
             }
            ],
            "label": "31",
            "method": "animate"
           },
           {
            "args": [
             [
              "32"
             ],
             {
              "frame": {
               "duration": 0,
               "redraw": false
              },
              "fromcurrent": true,
              "mode": "immediate",
              "transition": {
               "duration": 0,
               "easing": "linear"
              }
             }
            ],
            "label": "32",
            "method": "animate"
           },
           {
            "args": [
             [
              "33"
             ],
             {
              "frame": {
               "duration": 0,
               "redraw": false
              },
              "fromcurrent": true,
              "mode": "immediate",
              "transition": {
               "duration": 0,
               "easing": "linear"
              }
             }
            ],
            "label": "33",
            "method": "animate"
           },
           {
            "args": [
             [
              "34"
             ],
             {
              "frame": {
               "duration": 0,
               "redraw": false
              },
              "fromcurrent": true,
              "mode": "immediate",
              "transition": {
               "duration": 0,
               "easing": "linear"
              }
             }
            ],
            "label": "34",
            "method": "animate"
           },
           {
            "args": [
             [
              "35"
             ],
             {
              "frame": {
               "duration": 0,
               "redraw": false
              },
              "fromcurrent": true,
              "mode": "immediate",
              "transition": {
               "duration": 0,
               "easing": "linear"
              }
             }
            ],
            "label": "35",
            "method": "animate"
           },
           {
            "args": [
             [
              "36"
             ],
             {
              "frame": {
               "duration": 0,
               "redraw": false
              },
              "fromcurrent": true,
              "mode": "immediate",
              "transition": {
               "duration": 0,
               "easing": "linear"
              }
             }
            ],
            "label": "36",
            "method": "animate"
           },
           {
            "args": [
             [
              "37"
             ],
             {
              "frame": {
               "duration": 0,
               "redraw": false
              },
              "fromcurrent": true,
              "mode": "immediate",
              "transition": {
               "duration": 0,
               "easing": "linear"
              }
             }
            ],
            "label": "37",
            "method": "animate"
           },
           {
            "args": [
             [
              "38"
             ],
             {
              "frame": {
               "duration": 0,
               "redraw": false
              },
              "fromcurrent": true,
              "mode": "immediate",
              "transition": {
               "duration": 0,
               "easing": "linear"
              }
             }
            ],
            "label": "38",
            "method": "animate"
           },
           {
            "args": [
             [
              "39"
             ],
             {
              "frame": {
               "duration": 0,
               "redraw": false
              },
              "fromcurrent": true,
              "mode": "immediate",
              "transition": {
               "duration": 0,
               "easing": "linear"
              }
             }
            ],
            "label": "39",
            "method": "animate"
           },
           {
            "args": [
             [
              "40"
             ],
             {
              "frame": {
               "duration": 0,
               "redraw": false
              },
              "fromcurrent": true,
              "mode": "immediate",
              "transition": {
               "duration": 0,
               "easing": "linear"
              }
             }
            ],
            "label": "40",
            "method": "animate"
           },
           {
            "args": [
             [
              "41"
             ],
             {
              "frame": {
               "duration": 0,
               "redraw": false
              },
              "fromcurrent": true,
              "mode": "immediate",
              "transition": {
               "duration": 0,
               "easing": "linear"
              }
             }
            ],
            "label": "41",
            "method": "animate"
           }
          ],
          "x": 0.1,
          "xanchor": "left",
          "y": 0,
          "yanchor": "top"
         }
        ],
        "template": {
         "data": {
          "bar": [
           {
            "error_x": {
             "color": "#2a3f5f"
            },
            "error_y": {
             "color": "#2a3f5f"
            },
            "marker": {
             "line": {
              "color": "#E5ECF6",
              "width": 0.5
             },
             "pattern": {
              "fillmode": "overlay",
              "size": 10,
              "solidity": 0.2
             }
            },
            "type": "bar"
           }
          ],
          "barpolar": [
           {
            "marker": {
             "line": {
              "color": "#E5ECF6",
              "width": 0.5
             },
             "pattern": {
              "fillmode": "overlay",
              "size": 10,
              "solidity": 0.2
             }
            },
            "type": "barpolar"
           }
          ],
          "carpet": [
           {
            "aaxis": {
             "endlinecolor": "#2a3f5f",
             "gridcolor": "white",
             "linecolor": "white",
             "minorgridcolor": "white",
             "startlinecolor": "#2a3f5f"
            },
            "baxis": {
             "endlinecolor": "#2a3f5f",
             "gridcolor": "white",
             "linecolor": "white",
             "minorgridcolor": "white",
             "startlinecolor": "#2a3f5f"
            },
            "type": "carpet"
           }
          ],
          "choropleth": [
           {
            "colorbar": {
             "outlinewidth": 0,
             "ticks": ""
            },
            "type": "choropleth"
           }
          ],
          "contour": [
           {
            "colorbar": {
             "outlinewidth": 0,
             "ticks": ""
            },
            "colorscale": [
             [
              0,
              "#0d0887"
             ],
             [
              0.1111111111111111,
              "#46039f"
             ],
             [
              0.2222222222222222,
              "#7201a8"
             ],
             [
              0.3333333333333333,
              "#9c179e"
             ],
             [
              0.4444444444444444,
              "#bd3786"
             ],
             [
              0.5555555555555556,
              "#d8576b"
             ],
             [
              0.6666666666666666,
              "#ed7953"
             ],
             [
              0.7777777777777778,
              "#fb9f3a"
             ],
             [
              0.8888888888888888,
              "#fdca26"
             ],
             [
              1,
              "#f0f921"
             ]
            ],
            "type": "contour"
           }
          ],
          "contourcarpet": [
           {
            "colorbar": {
             "outlinewidth": 0,
             "ticks": ""
            },
            "type": "contourcarpet"
           }
          ],
          "heatmap": [
           {
            "colorbar": {
             "outlinewidth": 0,
             "ticks": ""
            },
            "colorscale": [
             [
              0,
              "#0d0887"
             ],
             [
              0.1111111111111111,
              "#46039f"
             ],
             [
              0.2222222222222222,
              "#7201a8"
             ],
             [
              0.3333333333333333,
              "#9c179e"
             ],
             [
              0.4444444444444444,
              "#bd3786"
             ],
             [
              0.5555555555555556,
              "#d8576b"
             ],
             [
              0.6666666666666666,
              "#ed7953"
             ],
             [
              0.7777777777777778,
              "#fb9f3a"
             ],
             [
              0.8888888888888888,
              "#fdca26"
             ],
             [
              1,
              "#f0f921"
             ]
            ],
            "type": "heatmap"
           }
          ],
          "heatmapgl": [
           {
            "colorbar": {
             "outlinewidth": 0,
             "ticks": ""
            },
            "colorscale": [
             [
              0,
              "#0d0887"
             ],
             [
              0.1111111111111111,
              "#46039f"
             ],
             [
              0.2222222222222222,
              "#7201a8"
             ],
             [
              0.3333333333333333,
              "#9c179e"
             ],
             [
              0.4444444444444444,
              "#bd3786"
             ],
             [
              0.5555555555555556,
              "#d8576b"
             ],
             [
              0.6666666666666666,
              "#ed7953"
             ],
             [
              0.7777777777777778,
              "#fb9f3a"
             ],
             [
              0.8888888888888888,
              "#fdca26"
             ],
             [
              1,
              "#f0f921"
             ]
            ],
            "type": "heatmapgl"
           }
          ],
          "histogram": [
           {
            "marker": {
             "pattern": {
              "fillmode": "overlay",
              "size": 10,
              "solidity": 0.2
             }
            },
            "type": "histogram"
           }
          ],
          "histogram2d": [
           {
            "colorbar": {
             "outlinewidth": 0,
             "ticks": ""
            },
            "colorscale": [
             [
              0,
              "#0d0887"
             ],
             [
              0.1111111111111111,
              "#46039f"
             ],
             [
              0.2222222222222222,
              "#7201a8"
             ],
             [
              0.3333333333333333,
              "#9c179e"
             ],
             [
              0.4444444444444444,
              "#bd3786"
             ],
             [
              0.5555555555555556,
              "#d8576b"
             ],
             [
              0.6666666666666666,
              "#ed7953"
             ],
             [
              0.7777777777777778,
              "#fb9f3a"
             ],
             [
              0.8888888888888888,
              "#fdca26"
             ],
             [
              1,
              "#f0f921"
             ]
            ],
            "type": "histogram2d"
           }
          ],
          "histogram2dcontour": [
           {
            "colorbar": {
             "outlinewidth": 0,
             "ticks": ""
            },
            "colorscale": [
             [
              0,
              "#0d0887"
             ],
             [
              0.1111111111111111,
              "#46039f"
             ],
             [
              0.2222222222222222,
              "#7201a8"
             ],
             [
              0.3333333333333333,
              "#9c179e"
             ],
             [
              0.4444444444444444,
              "#bd3786"
             ],
             [
              0.5555555555555556,
              "#d8576b"
             ],
             [
              0.6666666666666666,
              "#ed7953"
             ],
             [
              0.7777777777777778,
              "#fb9f3a"
             ],
             [
              0.8888888888888888,
              "#fdca26"
             ],
             [
              1,
              "#f0f921"
             ]
            ],
            "type": "histogram2dcontour"
           }
          ],
          "mesh3d": [
           {
            "colorbar": {
             "outlinewidth": 0,
             "ticks": ""
            },
            "type": "mesh3d"
           }
          ],
          "parcoords": [
           {
            "line": {
             "colorbar": {
              "outlinewidth": 0,
              "ticks": ""
             }
            },
            "type": "parcoords"
           }
          ],
          "pie": [
           {
            "automargin": true,
            "type": "pie"
           }
          ],
          "scatter": [
           {
            "marker": {
             "colorbar": {
              "outlinewidth": 0,
              "ticks": ""
             }
            },
            "type": "scatter"
           }
          ],
          "scatter3d": [
           {
            "line": {
             "colorbar": {
              "outlinewidth": 0,
              "ticks": ""
             }
            },
            "marker": {
             "colorbar": {
              "outlinewidth": 0,
              "ticks": ""
             }
            },
            "type": "scatter3d"
           }
          ],
          "scattercarpet": [
           {
            "marker": {
             "colorbar": {
              "outlinewidth": 0,
              "ticks": ""
             }
            },
            "type": "scattercarpet"
           }
          ],
          "scattergeo": [
           {
            "marker": {
             "colorbar": {
              "outlinewidth": 0,
              "ticks": ""
             }
            },
            "type": "scattergeo"
           }
          ],
          "scattergl": [
           {
            "marker": {
             "colorbar": {
              "outlinewidth": 0,
              "ticks": ""
             }
            },
            "type": "scattergl"
           }
          ],
          "scattermapbox": [
           {
            "marker": {
             "colorbar": {
              "outlinewidth": 0,
              "ticks": ""
             }
            },
            "type": "scattermapbox"
           }
          ],
          "scatterpolar": [
           {
            "marker": {
             "colorbar": {
              "outlinewidth": 0,
              "ticks": ""
             }
            },
            "type": "scatterpolar"
           }
          ],
          "scatterpolargl": [
           {
            "marker": {
             "colorbar": {
              "outlinewidth": 0,
              "ticks": ""
             }
            },
            "type": "scatterpolargl"
           }
          ],
          "scatterternary": [
           {
            "marker": {
             "colorbar": {
              "outlinewidth": 0,
              "ticks": ""
             }
            },
            "type": "scatterternary"
           }
          ],
          "surface": [
           {
            "colorbar": {
             "outlinewidth": 0,
             "ticks": ""
            },
            "colorscale": [
             [
              0,
              "#0d0887"
             ],
             [
              0.1111111111111111,
              "#46039f"
             ],
             [
              0.2222222222222222,
              "#7201a8"
             ],
             [
              0.3333333333333333,
              "#9c179e"
             ],
             [
              0.4444444444444444,
              "#bd3786"
             ],
             [
              0.5555555555555556,
              "#d8576b"
             ],
             [
              0.6666666666666666,
              "#ed7953"
             ],
             [
              0.7777777777777778,
              "#fb9f3a"
             ],
             [
              0.8888888888888888,
              "#fdca26"
             ],
             [
              1,
              "#f0f921"
             ]
            ],
            "type": "surface"
           }
          ],
          "table": [
           {
            "cells": {
             "fill": {
              "color": "#EBF0F8"
             },
             "line": {
              "color": "white"
             }
            },
            "header": {
             "fill": {
              "color": "#C8D4E3"
             },
             "line": {
              "color": "white"
             }
            },
            "type": "table"
           }
          ]
         },
         "layout": {
          "annotationdefaults": {
           "arrowcolor": "#2a3f5f",
           "arrowhead": 0,
           "arrowwidth": 1
          },
          "autotypenumbers": "strict",
          "coloraxis": {
           "colorbar": {
            "outlinewidth": 0,
            "ticks": ""
           }
          },
          "colorscale": {
           "diverging": [
            [
             0,
             "#8e0152"
            ],
            [
             0.1,
             "#c51b7d"
            ],
            [
             0.2,
             "#de77ae"
            ],
            [
             0.3,
             "#f1b6da"
            ],
            [
             0.4,
             "#fde0ef"
            ],
            [
             0.5,
             "#f7f7f7"
            ],
            [
             0.6,
             "#e6f5d0"
            ],
            [
             0.7,
             "#b8e186"
            ],
            [
             0.8,
             "#7fbc41"
            ],
            [
             0.9,
             "#4d9221"
            ],
            [
             1,
             "#276419"
            ]
           ],
           "sequential": [
            [
             0,
             "#0d0887"
            ],
            [
             0.1111111111111111,
             "#46039f"
            ],
            [
             0.2222222222222222,
             "#7201a8"
            ],
            [
             0.3333333333333333,
             "#9c179e"
            ],
            [
             0.4444444444444444,
             "#bd3786"
            ],
            [
             0.5555555555555556,
             "#d8576b"
            ],
            [
             0.6666666666666666,
             "#ed7953"
            ],
            [
             0.7777777777777778,
             "#fb9f3a"
            ],
            [
             0.8888888888888888,
             "#fdca26"
            ],
            [
             1,
             "#f0f921"
            ]
           ],
           "sequentialminus": [
            [
             0,
             "#0d0887"
            ],
            [
             0.1111111111111111,
             "#46039f"
            ],
            [
             0.2222222222222222,
             "#7201a8"
            ],
            [
             0.3333333333333333,
             "#9c179e"
            ],
            [
             0.4444444444444444,
             "#bd3786"
            ],
            [
             0.5555555555555556,
             "#d8576b"
            ],
            [
             0.6666666666666666,
             "#ed7953"
            ],
            [
             0.7777777777777778,
             "#fb9f3a"
            ],
            [
             0.8888888888888888,
             "#fdca26"
            ],
            [
             1,
             "#f0f921"
            ]
           ]
          },
          "colorway": [
           "#636efa",
           "#EF553B",
           "#00cc96",
           "#ab63fa",
           "#FFA15A",
           "#19d3f3",
           "#FF6692",
           "#B6E880",
           "#FF97FF",
           "#FECB52"
          ],
          "font": {
           "color": "#2a3f5f"
          },
          "geo": {
           "bgcolor": "white",
           "lakecolor": "white",
           "landcolor": "#E5ECF6",
           "showlakes": true,
           "showland": true,
           "subunitcolor": "white"
          },
          "hoverlabel": {
           "align": "left"
          },
          "hovermode": "closest",
          "mapbox": {
           "style": "light"
          },
          "paper_bgcolor": "white",
          "plot_bgcolor": "#E5ECF6",
          "polar": {
           "angularaxis": {
            "gridcolor": "white",
            "linecolor": "white",
            "ticks": ""
           },
           "bgcolor": "#E5ECF6",
           "radialaxis": {
            "gridcolor": "white",
            "linecolor": "white",
            "ticks": ""
           }
          },
          "scene": {
           "xaxis": {
            "backgroundcolor": "#E5ECF6",
            "gridcolor": "white",
            "gridwidth": 2,
            "linecolor": "white",
            "showbackground": true,
            "ticks": "",
            "zerolinecolor": "white"
           },
           "yaxis": {
            "backgroundcolor": "#E5ECF6",
            "gridcolor": "white",
            "gridwidth": 2,
            "linecolor": "white",
            "showbackground": true,
            "ticks": "",
            "zerolinecolor": "white"
           },
           "zaxis": {
            "backgroundcolor": "#E5ECF6",
            "gridcolor": "white",
            "gridwidth": 2,
            "linecolor": "white",
            "showbackground": true,
            "ticks": "",
            "zerolinecolor": "white"
           }
          },
          "shapedefaults": {
           "line": {
            "color": "#2a3f5f"
           }
          },
          "ternary": {
           "aaxis": {
            "gridcolor": "white",
            "linecolor": "white",
            "ticks": ""
           },
           "baxis": {
            "gridcolor": "white",
            "linecolor": "white",
            "ticks": ""
           },
           "bgcolor": "#E5ECF6",
           "caxis": {
            "gridcolor": "white",
            "linecolor": "white",
            "ticks": ""
           }
          },
          "title": {
           "x": 0.05
          },
          "xaxis": {
           "automargin": true,
           "gridcolor": "white",
           "linecolor": "white",
           "ticks": "",
           "title": {
            "standoff": 15
           },
           "zerolinecolor": "white",
           "zerolinewidth": 2
          },
          "yaxis": {
           "automargin": true,
           "gridcolor": "white",
           "linecolor": "white",
           "ticks": "",
           "title": {
            "standoff": 15
           },
           "zerolinecolor": "white",
           "zerolinewidth": 2
          }
         }
        },
        "title": {
         "text": "Gapminder"
        },
        "updatemenus": [
         {
          "buttons": [
           {
            "args": [
             null,
             {
              "frame": {
               "duration": 500,
               "redraw": false
              },
              "fromcurrent": true,
              "mode": "immediate",
              "transition": {
               "duration": 500,
               "easing": "linear"
              }
             }
            ],
            "label": "&#9654;",
            "method": "animate"
           },
           {
            "args": [
             [
              null
             ],
             {
              "frame": {
               "duration": 0,
               "redraw": false
              },
              "fromcurrent": true,
              "mode": "immediate",
              "transition": {
               "duration": 0,
               "easing": "linear"
              }
             }
            ],
            "label": "&#9724;",
            "method": "animate"
           }
          ],
          "direction": "left",
          "pad": {
           "r": 10,
           "t": 70
          },
          "showactive": false,
          "type": "buttons",
          "x": 0.1,
          "xanchor": "right",
          "y": 0,
          "yanchor": "top"
         }
        ],
        "xaxis": {
         "anchor": "y",
         "categoryarray": [
          52,
          53,
          1,
          2,
          3,
          4,
          5,
          6,
          7,
          8,
          9,
          10,
          11,
          12,
          13,
          14,
          15,
          16,
          17,
          18,
          19,
          20,
          21,
          22,
          23,
          24,
          25,
          26,
          27,
          28,
          29,
          30,
          31,
          32,
          33,
          34,
          35,
          36,
          37,
          38,
          39,
          40,
          41
         ],
         "categoryorder": "array",
         "domain": [
          0,
          1
         ],
         "range": [
          100,
          100000
         ],
         "title": {
          "text": "Vecka"
         }
        },
        "yaxis": {
         "anchor": "x",
         "domain": [
          0,
          1
         ],
         "range": [
          25,
          90
         ],
         "title": {
          "text": "Andel vaccinerade"
         }
        }
       }
      }
     },
     "metadata": {},
     "output_type": "display_data"
    }
   ],
   "source": [
    "fig = px.scatter(vaccin_kommun, x = \"Vecka\", y = \"Andel vaccinerade\", \n",
    "    color = \"Region\", size_max = 70,\n",
    "    log_x = False, animation_frame = \"Vecka\", title=\"Gapminder\",\n",
    "    range_x = [100, 100000], range_y = [25,90])\n",
    "fig.show()"
   ]
  }
 ],
 "metadata": {
  "interpreter": {
   "hash": "b5a6c0b83a5f9320ddb316d9b8aa3c715c2d6a6be85ef1b450fc66453222da78"
  },
  "kernelspec": {
   "display_name": "Python 3.9.6 64-bit ('Databehandling_Fredrik_Hegardt-XTtkVxax': pipenv)",
   "name": "python3"
  },
  "language_info": {
   "codemirror_mode": {
    "name": "ipython",
    "version": 3
   },
   "file_extension": ".py",
   "mimetype": "text/x-python",
   "name": "python",
   "nbconvert_exporter": "python",
   "pygments_lexer": "ipython3",
   "version": "3.9.6"
  },
  "orig_nbformat": 4
 },
 "nbformat": 4,
 "nbformat_minor": 2
}
