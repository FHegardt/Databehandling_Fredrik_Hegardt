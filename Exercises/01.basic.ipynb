{
 "cells": [
  {
   "cell_type": "code",
   "execution_count": 61,
   "metadata": {},
   "outputs": [
    {
     "data": {
      "text/html": [
       "<div>\n",
       "<style scoped>\n",
       "    .dataframe tbody tr th:only-of-type {\n",
       "        vertical-align: middle;\n",
       "    }\n",
       "\n",
       "    .dataframe tbody tr th {\n",
       "        vertical-align: top;\n",
       "    }\n",
       "\n",
       "    .dataframe thead th {\n",
       "        text-align: right;\n",
       "    }\n",
       "</style>\n",
       "<table border=\"1\" class=\"dataframe\">\n",
       "  <thead>\n",
       "    <tr style=\"text-align: right;\">\n",
       "      <th></th>\n",
       "      <th>Kommuna</th>\n",
       "      <th>Poppulari</th>\n",
       "    </tr>\n",
       "  </thead>\n",
       "  <tbody>\n",
       "    <tr>\n",
       "      <th>2</th>\n",
       "      <td>Stockholm</td>\n",
       "      <td>975551</td>\n",
       "    </tr>\n",
       "    <tr>\n",
       "      <th>1</th>\n",
       "      <td>Göteborg</td>\n",
       "      <td>583056</td>\n",
       "    </tr>\n",
       "    <tr>\n",
       "      <th>0</th>\n",
       "      <td>Malmö</td>\n",
       "      <td>347949</td>\n",
       "    </tr>\n",
       "  </tbody>\n",
       "</table>\n",
       "</div>"
      ],
      "text/plain": [
       "     Kommuna  Poppulari\n",
       "2  Stockholm     975551\n",
       "1   Göteborg     583056\n",
       "0      Malmö     347949"
      ]
     },
     "execution_count": 61,
     "metadata": {},
     "output_type": "execute_result"
    }
   ],
   "source": [
    "import pandas as pd\n",
    "\n",
    "Kommun_data = pd.DataFrame({\"Kommuna\": [\"Malmö\",\"Göteborg\",\"Stockholm\",\"Uppsala\"],\"Poppulari\":[347949,583056,975551,233839]})\n",
    "Kommun_data\n",
    "\n",
    "#Kommun_data.sort_values(\"Poppulari\", ascending=False)\n",
    "Kommun_data.sort_values(\"Poppulari\", ascending=False).head(3)\n"
   ]
  },
  {
   "cell_type": "code",
   "execution_count": 62,
   "metadata": {},
   "outputs": [
    {
     "data": {
      "text/plain": [
       "0        Malmö\n",
       "1     Göteborg\n",
       "2    Stockholm\n",
       "3      Uppsala\n",
       "Name: Kommuna, dtype: object"
      ]
     },
     "execution_count": 62,
     "metadata": {},
     "output_type": "execute_result"
    }
   ],
   "source": [
    "Kommun_data[\"Kommuna\"]"
   ]
  },
  {
   "cell_type": "code",
   "execution_count": 70,
   "metadata": {},
   "outputs": [
    {
     "name": "stdout",
     "output_type": "stream",
     "text": [
      "{'Percente': ['0.03', '0.06', '0.09', '0.02']}\n"
     ]
    },
    {
     "data": {
      "text/html": [
       "<div>\n",
       "<style scoped>\n",
       "    .dataframe tbody tr th:only-of-type {\n",
       "        vertical-align: middle;\n",
       "    }\n",
       "\n",
       "    .dataframe tbody tr th {\n",
       "        vertical-align: top;\n",
       "    }\n",
       "\n",
       "    .dataframe thead th {\n",
       "        text-align: right;\n",
       "    }\n",
       "</style>\n",
       "<table border=\"1\" class=\"dataframe\">\n",
       "  <thead>\n",
       "    <tr style=\"text-align: right;\">\n",
       "      <th></th>\n",
       "      <th>Kommuna</th>\n",
       "      <th>Poppulari</th>\n",
       "      <th>Percente</th>\n",
       "      <th>Pece</th>\n",
       "    </tr>\n",
       "  </thead>\n",
       "  <tbody>\n",
       "    <tr>\n",
       "      <th>0</th>\n",
       "      <td>Malmö</td>\n",
       "      <td>347949</td>\n",
       "      <td>0.03</td>\n",
       "      <td>3.352338</td>\n",
       "    </tr>\n",
       "    <tr>\n",
       "      <th>1</th>\n",
       "      <td>Göteborg</td>\n",
       "      <td>583056</td>\n",
       "      <td>0.06</td>\n",
       "      <td>5.617491</td>\n",
       "    </tr>\n",
       "    <tr>\n",
       "      <th>2</th>\n",
       "      <td>Stockholm</td>\n",
       "      <td>975551</td>\n",
       "      <td>0.09</td>\n",
       "      <td>9.399010</td>\n",
       "    </tr>\n",
       "    <tr>\n",
       "      <th>3</th>\n",
       "      <td>Uppsala</td>\n",
       "      <td>233839</td>\n",
       "      <td>0.02</td>\n",
       "      <td>2.252937</td>\n",
       "    </tr>\n",
       "  </tbody>\n",
       "</table>\n",
       "</div>"
      ],
      "text/plain": [
       "     Kommuna  Poppulari Percente      Pece\n",
       "0      Malmö     347949     0.03  3.352338\n",
       "1   Göteborg     583056     0.06  5.617491\n",
       "2  Stockholm     975551     0.09  9.399010\n",
       "3    Uppsala     233839     0.02  2.252937"
      ]
     },
     "execution_count": 70,
     "metadata": {},
     "output_type": "execute_result"
    }
   ],
   "source": [
    "SE_pop = 10379295\n",
    "percentage_list = []\n",
    "\n",
    "for i in range(len(Kommun_data[\"Poppulari\"])):\n",
    "    x = Kommun_data[\"Poppulari\"][i]/SE_pop\n",
    "    y = \"{:.2f}\".format(x)\n",
    "    percentage_list.append(y)\n",
    "\n",
    "luista = {\"Percente\":percentage_list}\n",
    "print(luista)\n",
    "#Kommun_data = pd.DataFrame({\"Kommuna\": [\"Malmö\",\"Göteborg\",\"Stockholm\",\"Uppsala\"],\"Poppulari\":[347949,583056,975551,233839],\"Percente\": percentage_list})\n",
    "#Kommun_data\n",
    "\n",
    "Kommun_data[\"Pece\"] = Kommun_data[\"Poppulari\"]/SE_pop*100\n",
    "\n",
    "Kommun_data\n",
    "\n"
   ]
  }
 ],
 "metadata": {
  "interpreter": {
   "hash": "b5a6c0b83a5f9320ddb316d9b8aa3c715c2d6a6be85ef1b450fc66453222da78"
  },
  "kernelspec": {
   "display_name": "Python 3.9.6 64-bit ('Databehandling_Fredrik_Hegardt-XTtkVxax': pipenv)",
   "name": "python3"
  },
  "language_info": {
   "codemirror_mode": {
    "name": "ipython",
    "version": 3
   },
   "file_extension": ".py",
   "mimetype": "text/x-python",
   "name": "python",
   "nbconvert_exporter": "python",
   "pygments_lexer": "ipython3",
   "version": "3.9.6"
  },
  "orig_nbformat": 4
 },
 "nbformat": 4,
 "nbformat_minor": 2
}
