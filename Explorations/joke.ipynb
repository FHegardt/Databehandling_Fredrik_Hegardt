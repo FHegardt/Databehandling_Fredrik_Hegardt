{
 "cells": [
  {
   "cell_type": "code",
   "execution_count": 111,
   "metadata": {},
   "outputs": [
    {
     "name": "stdout",
     "output_type": "stream",
     "text": [
      "Student1 -\"What are you doing?\"\n",
      "Student2 -\"Im removing all bad code from our project\"\n",
      "Student1 -\"Whats left of it?\"\n",
      "Project: \"Hello world\"\n"
     ]
    }
   ],
   "source": [
    "import random as rnd\n",
    "def AI21_joke():\n",
    "    joke_list = [\n",
    "        \"I know a neural network joke... but it's deep\",\n",
    "        'A machine learning algorithm walks into a bar.\\nThe bartender asks \"What will you have?\"\\nThe algorithm says: \"I dunno, what is everyone else having?\"',\n",
    "        \"Data science is 80% preparing data, 20% complaining about preparing data.\",\n",
    "        'Why should you take a machine learning engineer with you into the jungle?\\nAnswer: They can take care of Python problems',\n",
    "        'Debugging = \"Being the detective in a crime movie where you are also the murderer\"',\n",
    "        'Student1 -\"What are you doing?\"\\nStudent2 -\"Im removing all bad code from our project\"\\nStudent1 -\"Whats left of it?\"\\nProject: \"Hello world\"',\n",
    "        \"I have a joke about deep learning but I can't explain it.\",\n",
    "        \"I have a statistics joke, but it's not significant\"\n",
    "\n",
    "    ]\n",
    "    random_joke_number = rnd.randint(0,(len(joke_list))-1)\n",
    "    print(joke_list[random_joke_number])\n",
    "\n",
    "AI21_joke()"
   ]
  }
 ],
 "metadata": {
  "interpreter": {
   "hash": "1cc07393bc12f2accab5fe13fd9b0dc04a3eb469cafcd2093f492c32e6f134e1"
  },
  "kernelspec": {
   "display_name": "Python 3.9.6 ('Deep_Learning_FH-stdKRyvh')",
   "language": "python",
   "name": "python3"
  },
  "language_info": {
   "codemirror_mode": {
    "name": "ipython",
    "version": 3
   },
   "file_extension": ".py",
   "mimetype": "text/x-python",
   "name": "python",
   "nbconvert_exporter": "python",
   "pygments_lexer": "ipython3",
   "version": "3.9.6"
  },
  "orig_nbformat": 4
 },
 "nbformat": 4,
 "nbformat_minor": 2
}
