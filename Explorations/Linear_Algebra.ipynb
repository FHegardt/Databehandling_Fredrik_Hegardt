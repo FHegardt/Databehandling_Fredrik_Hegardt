{
 "cells": [
  {
   "cell_type": "code",
   "execution_count": null,
   "metadata": {},
   "outputs": [],
   "source": [
    "# Pelle har spindlar och kaniner hemma. Han har 6 djur totalt och de har 32 ben.Hur många av varje?\n",
    "\n",
    "# Kanin = x\n",
    "# Spindel = y\n",
    "\n",
    "# 8x + 4y = 32\n",
    "# x + y = 6\n",
    "\n",
    "#Skriv om i matrisform\n",
    "\n",
    "# 8 4 \n",
    "\n",
    "\n",
    "# katt = 4\n",
    "# myror = 6\n",
    "# människor = 2\n",
    "\n",
    "#4x + 6y + 2z = 28\n",
    "# x + y + z = 8\n",
    "\n",
    "# 2 myror , 2 katt , 4 människor\n",
    "# 1 myra , 4 katt , 3 människa\n",
    "# 0 myra, 6 katt , 2 människa\n",
    "# 3 myra, 0 katt, 5 människa\n"
   ]
  }
 ],
 "metadata": {
  "language_info": {
   "name": "python"
  },
  "orig_nbformat": 4
 },
 "nbformat": 4,
 "nbformat_minor": 2
}
